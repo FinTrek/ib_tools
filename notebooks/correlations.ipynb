{
 "cells": [
  {
   "cell_type": "code",
   "execution_count": 1,
   "metadata": {},
   "outputs": [],
   "source": [
    "import pandas as pd"
   ]
  },
  {
   "cell_type": "code",
   "execution_count": 3,
   "metadata": {},
   "outputs": [],
   "source": [
    "gc = pd.read_pickle('gc_return.pickle')\n",
    "nq = pd.read_pickle('nq_return.pickle')"
   ]
  },
  {
   "cell_type": "code",
   "execution_count": 4,
   "metadata": {},
   "outputs": [
    {
     "data": {
      "text/html": [
       "<div>\n",
       "<style scoped>\n",
       "    .dataframe tbody tr th:only-of-type {\n",
       "        vertical-align: middle;\n",
       "    }\n",
       "\n",
       "    .dataframe tbody tr th {\n",
       "        vertical-align: top;\n",
       "    }\n",
       "\n",
       "    .dataframe thead th {\n",
       "        text-align: right;\n",
       "    }\n",
       "</style>\n",
       "<table border=\"1\" class=\"dataframe\">\n",
       "  <thead>\n",
       "    <tr style=\"text-align: right;\">\n",
       "      <th></th>\n",
       "      <th>gc</th>\n",
       "      <th>nq</th>\n",
       "    </tr>\n",
       "  </thead>\n",
       "  <tbody>\n",
       "    <tr>\n",
       "      <th>gc</th>\n",
       "      <td>1.000000</td>\n",
       "      <td>0.203768</td>\n",
       "    </tr>\n",
       "    <tr>\n",
       "      <th>nq</th>\n",
       "      <td>0.203768</td>\n",
       "      <td>1.000000</td>\n",
       "    </tr>\n",
       "  </tbody>\n",
       "</table>\n",
       "</div>"
      ],
      "text/plain": [
       "          gc        nq\n",
       "gc  1.000000  0.203768\n",
       "nq  0.203768  1.000000"
      ]
     },
     "execution_count": 4,
     "metadata": {},
     "output_type": "execute_result"
    }
   ],
   "source": [
    "returns = pd.DataFrame({'gc': gc['return'],\n",
    "                      'nq': nq['return']})\n",
    "returns.corr()"
   ]
  },
  {
   "cell_type": "code",
   "execution_count": 5,
   "metadata": {},
   "outputs": [],
   "source": [
    "nq_cont = pd.read_pickle('minute_NQ_cont_non_active_included.pickle')\n",
    "gc_cont = pd.read_pickle('minute_GC_cont_non_active_included.pickle')\n",
    "es_cont = pd.read_pickle('minute_ES_cont_non_active_included.pickle')\n",
    "nk_cont = pd.read_pickle('minute_NKD_cont_non_active_included.pickle')"
   ]
  },
  {
   "cell_type": "code",
   "execution_count": 12,
   "metadata": {},
   "outputs": [],
   "source": [
    "dfs = {'nq': nq_cont,\n",
    "      'gc': gc_cont,\n",
    "      'es': es_cont,\n",
    "      'nk': nk_cont}"
   ]
  },
  {
   "cell_type": "code",
   "execution_count": 14,
   "metadata": {},
   "outputs": [
    {
     "data": {
      "text/html": [
       "<div>\n",
       "<style scoped>\n",
       "    .dataframe tbody tr th:only-of-type {\n",
       "        vertical-align: middle;\n",
       "    }\n",
       "\n",
       "    .dataframe tbody tr th {\n",
       "        vertical-align: top;\n",
       "    }\n",
       "\n",
       "    .dataframe thead th {\n",
       "        text-align: right;\n",
       "    }\n",
       "</style>\n",
       "<table border=\"1\" class=\"dataframe\">\n",
       "  <thead>\n",
       "    <tr style=\"text-align: right;\">\n",
       "      <th></th>\n",
       "      <th>nq</th>\n",
       "      <th>gc</th>\n",
       "      <th>es</th>\n",
       "      <th>nk</th>\n",
       "    </tr>\n",
       "    <tr>\n",
       "      <th>date</th>\n",
       "      <th></th>\n",
       "      <th></th>\n",
       "      <th></th>\n",
       "      <th></th>\n",
       "    </tr>\n",
       "  </thead>\n",
       "  <tbody>\n",
       "    <tr>\n",
       "      <th>2019-09-04 18:27:00</th>\n",
       "      <td>-0.000032</td>\n",
       "      <td>0.000000</td>\n",
       "      <td>0.000000</td>\n",
       "      <td>0.0</td>\n",
       "    </tr>\n",
       "    <tr>\n",
       "      <th>2019-09-04 18:28:00</th>\n",
       "      <td>0.000000</td>\n",
       "      <td>0.000064</td>\n",
       "      <td>0.000000</td>\n",
       "      <td>0.0</td>\n",
       "    </tr>\n",
       "    <tr>\n",
       "      <th>2019-09-04 18:29:00</th>\n",
       "      <td>0.000000</td>\n",
       "      <td>0.000064</td>\n",
       "      <td>-0.000085</td>\n",
       "      <td>0.0</td>\n",
       "    </tr>\n",
       "    <tr>\n",
       "      <th>2019-09-04 18:30:00</th>\n",
       "      <td>0.000325</td>\n",
       "      <td>-0.000064</td>\n",
       "      <td>0.000256</td>\n",
       "      <td>0.0</td>\n",
       "    </tr>\n",
       "    <tr>\n",
       "      <th>2019-09-04 18:31:00</th>\n",
       "      <td>-0.000032</td>\n",
       "      <td>-0.000064</td>\n",
       "      <td>0.000000</td>\n",
       "      <td>0.0</td>\n",
       "    </tr>\n",
       "  </tbody>\n",
       "</table>\n",
       "</div>"
      ],
      "text/plain": [
       "                           nq        gc        es   nk\n",
       "date                                                  \n",
       "2019-09-04 18:27:00 -0.000032  0.000000  0.000000  0.0\n",
       "2019-09-04 18:28:00  0.000000  0.000064  0.000000  0.0\n",
       "2019-09-04 18:29:00  0.000000  0.000064 -0.000085  0.0\n",
       "2019-09-04 18:30:00  0.000325 -0.000064  0.000256  0.0\n",
       "2019-09-04 18:31:00 -0.000032 -0.000064  0.000000  0.0"
      ]
     },
     "execution_count": 14,
     "metadata": {},
     "output_type": "execute_result"
    }
   ],
   "source": [
    "min_returns = pd.DataFrame()\n",
    "for name, df in dfs.items():\n",
    "    min_returns[name] = df.close.pct_change()\n",
    "min_returns.tail()"
   ]
  },
  {
   "cell_type": "code",
   "execution_count": 15,
   "metadata": {},
   "outputs": [
    {
     "data": {
      "text/html": [
       "<div>\n",
       "<style scoped>\n",
       "    .dataframe tbody tr th:only-of-type {\n",
       "        vertical-align: middle;\n",
       "    }\n",
       "\n",
       "    .dataframe tbody tr th {\n",
       "        vertical-align: top;\n",
       "    }\n",
       "\n",
       "    .dataframe thead th {\n",
       "        text-align: right;\n",
       "    }\n",
       "</style>\n",
       "<table border=\"1\" class=\"dataframe\">\n",
       "  <thead>\n",
       "    <tr style=\"text-align: right;\">\n",
       "      <th></th>\n",
       "      <th>nq</th>\n",
       "      <th>gc</th>\n",
       "      <th>es</th>\n",
       "      <th>nk</th>\n",
       "    </tr>\n",
       "  </thead>\n",
       "  <tbody>\n",
       "    <tr>\n",
       "      <th>nq</th>\n",
       "      <td>1.000000</td>\n",
       "      <td>-0.185432</td>\n",
       "      <td>0.849473</td>\n",
       "      <td>0.546828</td>\n",
       "    </tr>\n",
       "    <tr>\n",
       "      <th>gc</th>\n",
       "      <td>-0.185432</td>\n",
       "      <td>1.000000</td>\n",
       "      <td>-0.191624</td>\n",
       "      <td>-0.195640</td>\n",
       "    </tr>\n",
       "    <tr>\n",
       "      <th>es</th>\n",
       "      <td>0.849473</td>\n",
       "      <td>-0.191624</td>\n",
       "      <td>1.000000</td>\n",
       "      <td>0.572864</td>\n",
       "    </tr>\n",
       "    <tr>\n",
       "      <th>nk</th>\n",
       "      <td>0.546828</td>\n",
       "      <td>-0.195640</td>\n",
       "      <td>0.572864</td>\n",
       "      <td>1.000000</td>\n",
       "    </tr>\n",
       "  </tbody>\n",
       "</table>\n",
       "</div>"
      ],
      "text/plain": [
       "          nq        gc        es        nk\n",
       "nq  1.000000 -0.185432  0.849473  0.546828\n",
       "gc -0.185432  1.000000 -0.191624 -0.195640\n",
       "es  0.849473 -0.191624  1.000000  0.572864\n",
       "nk  0.546828 -0.195640  0.572864  1.000000"
      ]
     },
     "execution_count": 15,
     "metadata": {},
     "output_type": "execute_result"
    }
   ],
   "source": [
    "min_returns.corr()"
   ]
  },
  {
   "cell_type": "code",
   "execution_count": null,
   "metadata": {},
   "outputs": [],
   "source": []
  }
 ],
 "metadata": {
  "kernelspec": {
   "display_name": "ib_insync",
   "language": "python",
   "name": "ib_insync"
  },
  "language_info": {
   "codemirror_mode": {
    "name": "ipython",
    "version": 3
   },
   "file_extension": ".py",
   "mimetype": "text/x-python",
   "name": "python",
   "nbconvert_exporter": "python",
   "pygments_lexer": "ipython3",
   "version": "3.6.8"
  }
 },
 "nbformat": 4,
 "nbformat_minor": 2
}
