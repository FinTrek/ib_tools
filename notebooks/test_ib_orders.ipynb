{
 "cells": [
  {
   "cell_type": "code",
   "execution_count": 2,
   "metadata": {},
   "outputs": [
    {
     "data": {
      "text/plain": [
       "<IB connected to 127.0.0.1:4002 clientId=21>"
      ]
     },
     "execution_count": 2,
     "metadata": {},
     "output_type": "execute_result"
    }
   ],
   "source": [
    "from ib_insync import *\n",
    "util.startLoop()\n",
    "\n",
    "ib = IB()\n",
    "ib.connect('127.0.0.1', 4002, clientId=21)"
   ]
  },
  {
   "cell_type": "code",
   "execution_count": 20,
   "metadata": {},
   "outputs": [
    {
     "data": {
      "text/plain": [
       "[Order(orderId=4, clientId=21, permId=662265983, action='SELL', totalQuantity=1.0, orderType='TRAIL', lmtPrice=0.0, auxPrice=50.0, tif='GTC', ocaType=3, outsideRth=True, trailStopPrice=10632.25, openClose='', eTradeOnly=False, firmQuoteOnly=False, volatilityType=0, deltaNeutralOrderType='None', referencePriceType=0, account='DU1542749', clearingIntent='IB', orderComboLegs=[], adjustedOrderType='None', conditions=[], softDollarTier=SoftDollarTier(), cashQty=0.0, dontUseAutoPriceForHedge=True),\n",
       " Order(orderId=8, clientId=21, permId=662265985, action='SELL', totalQuantity=1.0, orderType='STP', lmtPrice=0.0, auxPrice=10630.0, tif='DAY', ocaGroup='662265983', ocaType=3, parentId=4, trailStopPrice=10630.0, volatilityType=0, deltaNeutralOrderType='None', referencePriceType=0, account='DU1542749', clearingIntent='IB', orderComboLegs=[], adjustedOrderType='STP', triggerPrice=10659.0, adjustedStopPrice=10630.0, conditions=[], softDollarTier=SoftDollarTier(), cashQty=0.0, dontUseAutoPriceForHedge=True)]"
      ]
     },
     "execution_count": 20,
     "metadata": {},
     "output_type": "execute_result"
    }
   ],
   "source": [
    "ib.openOrders()"
   ]
  },
  {
   "cell_type": "code",
   "execution_count": 4,
   "metadata": {},
   "outputs": [
    {
     "data": {
      "text/plain": [
       "[ContFuture(conId=371749745, symbol='NQ', lastTradeDateOrContractMonth='20200918', multiplier='20', exchange='GLOBEX', currency='USD', localSymbol='NQU0', tradingClass='NQ')]"
      ]
     },
     "execution_count": 4,
     "metadata": {},
     "output_type": "execute_result"
    }
   ],
   "source": [
    "nq = ContFuture('NQ', 'GLOBEX')\n",
    "ib.qualifyContracts(nq)"
   ]
  },
  {
   "cell_type": "code",
   "execution_count": 81,
   "metadata": {},
   "outputs": [],
   "source": [
    "order = Order(orderType='TRAIL', action='SELL', totalQuantity=1, auxPrice=50, outsideRth=True, tif='GTC')"
   ]
  },
  {
   "cell_type": "code",
   "execution_count": 82,
   "metadata": {},
   "outputs": [
    {
     "data": {
      "text/plain": [
       "Trade(contract=ContFuture(conId=371749745, symbol='NQ', lastTradeDateOrContractMonth='20200918', multiplier='20', exchange='GLOBEX', currency='USD', localSymbol='NQU0', tradingClass='NQ'), order=Order(orderId=41, clientId=21, action='SELL', totalQuantity=1, orderType='TRAIL', auxPrice=50, tif='GTC', outsideRth=True, conditions=[], softDollarTier=SoftDollarTier()), orderStatus=OrderStatus(status='PendingSubmit'), fills=[], log=[TradeLogEntry(time=datetime.datetime(2020, 7, 9, 18, 0, 37, 935549, tzinfo=datetime.timezone.utc), status='PendingSubmit', message='')])"
      ]
     },
     "execution_count": 82,
     "metadata": {},
     "output_type": "execute_result"
    }
   ],
   "source": [
    "trade = ib.placeOrder(nq, order)\n",
    "trade"
   ]
  },
  {
   "cell_type": "code",
   "execution_count": 83,
   "metadata": {},
   "outputs": [
    {
     "data": {
      "text/plain": [
       "Order(orderId=41, clientId=21, permId=662266020, action='SELL', totalQuantity=1.0, orderType='TRAIL', lmtPrice=0.0, auxPrice=50.0, tif='GTC', ocaType=3, outsideRth=True, trailStopPrice=10629.5, openClose='', eTradeOnly=False, firmQuoteOnly=False, volatilityType=0, deltaNeutralOrderType='None', referencePriceType=0, account='DU1542749', clearingIntent='IB', orderComboLegs=[], adjustedOrderType='None', conditions=[], softDollarTier=SoftDollarTier(), cashQty=0.0, dontUseAutoPriceForHedge=True)"
      ]
     },
     "execution_count": 83,
     "metadata": {},
     "output_type": "execute_result"
    }
   ],
   "source": [
    "order"
   ]
  },
  {
   "cell_type": "code",
   "execution_count": 84,
   "metadata": {},
   "outputs": [
    {
     "data": {
      "text/plain": [
       "Trade(contract=ContFuture(conId=371749745, symbol='NQ', lastTradeDateOrContractMonth='20200918', multiplier='20', exchange='GLOBEX', currency='USD', localSymbol='NQU0', tradingClass='NQ'), order=Order(orderId=41, clientId=21, permId=662266020, action='SELL', totalQuantity=1.0, orderType='TRAIL', lmtPrice=0.0, auxPrice=50.0, tif='GTC', ocaType=3, outsideRth=True, trailStopPrice=10629.5, openClose='', eTradeOnly=False, firmQuoteOnly=False, volatilityType=0, deltaNeutralOrderType='None', referencePriceType=0, account='DU1542749', clearingIntent='IB', orderComboLegs=[], adjustedOrderType='STP', triggerPrice=10681, adjustedStopPrice=10670, conditions=[], softDollarTier=SoftDollarTier(), cashQty=0.0, dontUseAutoPriceForHedge=True), orderStatus=OrderStatus(status='PreSubmitted', remaining=1.0, permId=662266020, clientId=21, whyHeld='trigger'), fills=[], log=[TradeLogEntry(time=datetime.datetime(2020, 7, 9, 18, 0, 37, 935549, tzinfo=datetime.timezone.utc), status='PendingSubmit', message=''), TradeLogEntry(time=datetime.datetime(2020, 7, 9, 18, 0, 38, 55130, tzinfo=datetime.timezone.utc), status='PreSubmitted', message=''), TradeLogEntry(time=datetime.datetime(2020, 7, 9, 18, 0, 38, 791032, tzinfo=datetime.timezone.utc), status='PreSubmitted', message='Modify')])"
      ]
     },
     "execution_count": 84,
     "metadata": {},
     "output_type": "execute_result"
    }
   ],
   "source": [
    "order.adjustedOrderType = 'STP'\n",
    "order.adjustedStopPrice = 10670\n",
    "order.triggerPrice = 10681\n",
    "ib.placeOrder(nq, order)"
   ]
  },
  {
   "cell_type": "code",
   "execution_count": null,
   "metadata": {},
   "outputs": [],
   "source": [
    "\n",
    "modified = StopOrder(order.action, 1, 10555, parentId=order.orderId, \n",
    "                 adjustedStopPrice=10655, triggerPrice=10692, adjustedOrderType='STP', tif='GTC',outsideRth=True,\n",
    "                    )#transmit=False)\n",
    "trade1 = ib.placeOrder(nq, modified)\n",
    "trade1"
   ]
  },
  {
   "cell_type": "code",
   "execution_count": 18,
   "metadata": {},
   "outputs": [
    {
     "data": {
      "text/plain": [
       "Trade(contract=ContFuture(conId=371749745, symbol='NQ', lastTradeDateOrContractMonth='20200918', multiplier='20', exchange='GLOBEX', currency='USD', localSymbol='NQU0', tradingClass='NQ'), order=Order(orderId=8, clientId=21, permId=662265985, action='SELL', totalQuantity=1.0, orderType='STP', lmtPrice=0.0, auxPrice=10630.0, tif='DAY', ocaGroup='662265983', ocaType=3, parentId=4, trailStopPrice=10630.0, volatilityType=0, deltaNeutralOrderType='None', referencePriceType=0, account='DU1542749', clearingIntent='IB', orderComboLegs=[], adjustedOrderType='STP', triggerPrice=10659.0, adjustedStopPrice=10630.0, conditions=[], softDollarTier=SoftDollarTier(), cashQty=0.0, dontUseAutoPriceForHedge=True), orderStatus=OrderStatus(status='PreSubmitted', remaining=1.0, permId=662265985, parentId=4, clientId=21, whyHeld='child,trigger'), fills=[], log=[TradeLogEntry(time=datetime.datetime(2020, 7, 9, 16, 43, 48, 958639, tzinfo=datetime.timezone.utc), status='PendingSubmit', message=''), TradeLogEntry(time=datetime.datetime(2020, 7, 9, 16, 43, 49, 83318, tzinfo=datetime.timezone.utc), status='PreSubmitted', message='')])"
      ]
     },
     "execution_count": 18,
     "metadata": {},
     "output_type": "execute_result"
    }
   ],
   "source": [
    "trade1"
   ]
  },
  {
   "cell_type": "code",
   "execution_count": 19,
   "metadata": {},
   "outputs": [
    {
     "data": {
      "text/plain": [
       "Order(orderId=4, clientId=21, permId=662265983, action='SELL', totalQuantity=1.0, orderType='TRAIL', lmtPrice=0.0, auxPrice=50.0, tif='GTC', ocaType=3, outsideRth=True, trailStopPrice=10632.25, openClose='', eTradeOnly=False, firmQuoteOnly=False, volatilityType=0, deltaNeutralOrderType='None', referencePriceType=0, account='DU1542749', clearingIntent='IB', orderComboLegs=[], adjustedOrderType='None', conditions=[], softDollarTier=SoftDollarTier(), cashQty=0.0, dontUseAutoPriceForHedge=True)"
      ]
     },
     "execution_count": 19,
     "metadata": {},
     "output_type": "execute_result"
    }
   ],
   "source": [
    "order"
   ]
  },
  {
   "cell_type": "code",
   "execution_count": null,
   "metadata": {},
   "outputs": [],
   "source": []
  }
 ],
 "metadata": {
  "kernelspec": {
   "display_name": "Python 3",
   "language": "python",
   "name": "python3"
  },
  "language_info": {
   "codemirror_mode": {
    "name": "ipython",
    "version": 3
   },
   "file_extension": ".py",
   "mimetype": "text/x-python",
   "name": "python",
   "nbconvert_exporter": "python",
   "pygments_lexer": "ipython3",
   "version": "3.7.3"
  }
 },
 "nbformat": 4,
 "nbformat_minor": 2
}
