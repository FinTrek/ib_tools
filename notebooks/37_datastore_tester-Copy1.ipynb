{
 "cells": [
  {
   "cell_type": "code",
   "execution_count": 1,
   "metadata": {},
   "outputs": [
    {
     "name": "stderr",
     "output_type": "stream",
     "text": [
      "/home/tomek/.virtualenvs/ib/lib/python3.7/site-packages/arctic/store/_pandas_ndarray_store.py:6: FutureWarning: The Panel class is removed from pandas. Accessing it from the top-level namespace will also be removed in the next version\n",
      "  from pandas import DataFrame, Series, Panel\n"
     ]
    }
   ],
   "source": [
    "from arctic import Arctic, CHUNK_STORE\n",
    "from arctic.exceptions import NoDataFoundException\n",
    "from arctic.date import DateRange\n",
    "import pandas as pd\n",
    "from ib_insync import IB, ContFuture, util, Future, Forex, Contract\n",
    "from typing import Union\n",
    "import pickle\n",
    "from datetime import datetime, timedelta\n",
    "import sys\n",
    "sys.path.append('/home/tomek/ib_tools')\n",
    "from datastore import ArcticStore"
   ]
  },
  {
   "cell_type": "code",
   "execution_count": 2,
   "metadata": {},
   "outputs": [
    {
     "data": {
      "text/plain": [
       "<IB connected to 127.0.0.1:4002 clientId=7>"
      ]
     },
     "execution_count": 2,
     "metadata": {},
     "output_type": "execute_result"
    }
   ],
   "source": [
    "util.startLoop()\n",
    "ib = IB()\n",
    "ib.connect(port=4002, clientId=7)"
   ]
  },
  {
   "cell_type": "code",
   "execution_count": 3,
   "metadata": {},
   "outputs": [
    {
     "data": {
      "text/plain": [
       "True"
      ]
     },
     "execution_count": 3,
     "metadata": {},
     "output_type": "execute_result"
    }
   ],
   "source": [
    "ib.isConnected()"
   ]
  },
  {
   "cell_type": "code",
   "execution_count": 4,
   "metadata": {},
   "outputs": [],
   "source": [
    "e = ContFuture('MNQ', exchange='Globex')\n",
    "\n"
   ]
  },
  {
   "cell_type": "code",
   "execution_count": 5,
   "metadata": {},
   "outputs": [
    {
     "data": {
      "text/plain": [
       "ContFuture(symbol='MNQ', exchange='Globex', includeExpired=True)"
      ]
     },
     "execution_count": 5,
     "metadata": {},
     "output_type": "execute_result"
    }
   ],
   "source": [
    "e.update(includeExpired= True)"
   ]
  },
  {
   "cell_type": "code",
   "execution_count": 6,
   "metadata": {},
   "outputs": [],
   "source": [
    "details = ib.reqContractDetails(e,)[0]"
   ]
  },
  {
   "cell_type": "code",
   "execution_count": 7,
   "metadata": {},
   "outputs": [
    {
     "data": {
      "text/plain": [
       "{'contract': Contract(secType='CONTFUT', conId=371749824, symbol='MNQ', lastTradeDateOrContractMonth='20200918', multiplier='2', exchange='GLOBEX', currency='USD', localSymbol='MNQU0', tradingClass='MNQ'),\n",
       " 'marketName': 'MNQ',\n",
       " 'minTick': 0.25,\n",
       " 'orderTypes': 'ACTIVETIM,AD,ADJUST,ALERT,ALGO,ALLOC,AVGCOST,BASKET,BENCHPX,COND,CONDORDER,DAY,DEACT,DEACTDIS,DEACTEOD,GAT,GTC,GTD,GTT,HID,ICE,IOC,LIT,LMT,LTH,MIT,MKT,MTL,NGCOMB,NONALGO,OCA,PEGBENCH,SCALE,SCALERST,SNAPMID,SNAPMKT,SNAPREL,STP,STPLMT,TRAIL,TRAILLIT,TRAILLMT,TRAILMIT,WHATIF',\n",
       " 'validExchanges': 'GLOBEX',\n",
       " 'priceMagnifier': 1,\n",
       " 'underConId': 362687422,\n",
       " 'longName': 'Micro E-Mini Nasdaq-100 Index',\n",
       " 'contractMonth': '202009',\n",
       " 'timeZoneId': 'CST (Central Standard Time)',\n",
       " 'tradingHours': '20200620:CLOSED;20200621:1700-20200622:1515;20200622:1530-20200622:1600;20200622:1700-20200623:1515;20200623:1530-20200623:1600;20200623:1700-20200624:1515;20200624:1530-20200624:1600;20200624:1700-20200625:1515;20200625:1530-20200625:1600;20200625:1700-20200626:1515;20200626:1530-20200626:1600;20200627:CLOSED;20200628:1700-20200629:1515;20200629:1530-20200629:1600;20200629:1700-20200630:1515;20200630:1530-20200630:1600;20200630:1700-20200701:1515;20200701:1530-20200701:1600;20200701:1700-20200702:1515;20200702:1530-20200702:1600;20200702:1700-20200703:1200;20200704:CLOSED;20200705:1700-20200706:1515;20200706:1530-20200706:1600;20200706:1700-20200707:1515;20200707:1530-20200707:1600;20200707:1700-20200708:1515;20200708:1530-20200708:1600;20200708:1700-20200709:1515;20200709:1530-20200709:1600;20200709:1700-20200710:1515;20200710:1530-20200710:1600;20200711:CLOSED;20200712:1700-20200713:1515;20200713:1530-20200713:1600;20200713:1700-20200714:1515;20200714:1530-20200714:1600;20200714:1700-20200715:1515;20200715:1530-20200715:1600;20200715:1700-20200716:1515;20200716:1530-20200716:1600;20200716:1700-20200717:1515;20200717:1530-20200717:1600;20200718:CLOSED;20200719:1700-20200720:1515;20200720:1530-20200720:1600;20200720:1700-20200721:1515;20200721:1530-20200721:1600;20200721:1700-20200722:1515;20200722:1530-20200722:1600;20200722:1700-20200723:1515;20200723:1530-20200723:1600;20200723:1700-20200724:1515;20200724:1530-20200724:1600',\n",
       " 'liquidHours': '20200620:CLOSED;20200621:CLOSED;20200622:0830-20200622:1515;20200622:1530-20200622:1600;20200623:0830-20200623:1515;20200623:1530-20200623:1600;20200624:0830-20200624:1515;20200624:1530-20200624:1600;20200625:0830-20200625:1515;20200625:1530-20200625:1600;20200626:0830-20200626:1515;20200626:1530-20200626:1600;20200627:CLOSED;20200628:CLOSED;20200629:0830-20200629:1515;20200629:1530-20200629:1600;20200630:0830-20200630:1515;20200630:1530-20200630:1600;20200701:0830-20200701:1515;20200701:1530-20200701:1600;20200702:0830-20200702:1515;20200702:1530-20200702:1600;20200703:0830-20200703:1515;20200703:1530-20200703:1600;20200704:CLOSED;20200705:CLOSED;20200706:0830-20200706:1515;20200706:1530-20200706:1600;20200707:0830-20200707:1515;20200707:1530-20200707:1600;20200708:0830-20200708:1515;20200708:1530-20200708:1600;20200709:0830-20200709:1515;20200709:1530-20200709:1600;20200710:0830-20200710:1515;20200710:1530-20200710:1600;20200711:CLOSED;20200712:CLOSED;20200713:0830-20200713:1515;20200713:1530-20200713:1600;20200714:0830-20200714:1515;20200714:1530-20200714:1600;20200715:0830-20200715:1515;20200715:1530-20200715:1600;20200716:0830-20200716:1515;20200716:1530-20200716:1600;20200717:0830-20200717:1515;20200717:1530-20200717:1600;20200718:CLOSED;20200719:CLOSED;20200720:0830-20200720:1515;20200720:1530-20200720:1600;20200721:0830-20200721:1515;20200721:1530-20200721:1600;20200722:0830-20200722:1515;20200722:1530-20200722:1600;20200723:0830-20200723:1515;20200723:1530-20200723:1600;20200724:0830-20200724:1515;20200724:1530-20200724:1600',\n",
       " 'mdSizeMultiplier': 1,\n",
       " 'aggGroup': 2147483647,\n",
       " 'underSymbol': 'MNQ',\n",
       " 'underSecType': 'IND',\n",
       " 'marketRuleIds': '67',\n",
       " 'realExpirationDate': '20200918',\n",
       " 'lastTradeTime': '08:30'}"
      ]
     },
     "execution_count": 7,
     "metadata": {},
     "output_type": "execute_result"
    }
   ],
   "source": [
    "details.nonDefaults()"
   ]
  },
  {
   "cell_type": "code",
   "execution_count": 8,
   "metadata": {},
   "outputs": [],
   "source": [
    "from utilities import update_details"
   ]
  },
  {
   "cell_type": "code",
   "execution_count": 9,
   "metadata": {},
   "outputs": [
    {
     "name": "stderr",
     "output_type": "stream",
     "text": [
      "Library created, but couldn't enable sharding: no such command: 'enablesharding'. This is OK if you're not 'admin'\n"
     ]
    }
   ],
   "source": [
    "store = ArcticStore('TRADES_30_secs')"
   ]
  },
  {
   "cell_type": "code",
   "execution_count": 10,
   "metadata": {},
   "outputs": [],
   "source": [
    "update_details(ib, store)"
   ]
  },
  {
   "cell_type": "code",
   "execution_count": 11,
   "metadata": {},
   "outputs": [],
   "source": [
    "update_details(ib, store, ['MGCQ0_CONTFUT', 'ESM0_CONTFUT'])"
   ]
  },
  {
   "cell_type": "code",
   "execution_count": 12,
   "metadata": {},
   "outputs": [
    {
     "data": {
      "text/plain": [
       "'Micro E-Mini Nasdaq-100 Index'"
      ]
     },
     "execution_count": 12,
     "metadata": {},
     "output_type": "execute_result"
    }
   ],
   "source": [
    "details.longName"
   ]
  },
  {
   "cell_type": "code",
   "execution_count": 13,
   "metadata": {},
   "outputs": [
    {
     "data": {
      "text/plain": [
       "['TRADES_30_secs']"
      ]
     },
     "execution_count": 13,
     "metadata": {},
     "output_type": "execute_result"
    }
   ],
   "source": [
    "Arctic('localhost').list_libraries()"
   ]
  },
  {
   "cell_type": "code",
   "execution_count": 14,
   "metadata": {},
   "outputs": [
    {
     "name": "stderr",
     "output_type": "stream",
     "text": [
      "Library created, but couldn't enable sharding: no such command: 'enablesharding'. This is OK if you're not 'admin'\n"
     ]
    }
   ],
   "source": [
    "store = ArcticStore('TRADES_30_secs')"
   ]
  },
  {
   "cell_type": "code",
   "execution_count": 15,
   "metadata": {},
   "outputs": [
    {
     "data": {
      "text/plain": [
       "['6EM0_CONTFUT',\n",
       " '6EU0_CONTFUT',\n",
       " '6JM0_CONTFUT',\n",
       " '6JU0_CONTFUT',\n",
       " 'BZZ0_CONTFUT',\n",
       " 'CLN0_CONTFUT',\n",
       " 'ESM0_CONTFUT',\n",
       " 'ESU0_CONTFUT',\n",
       " 'FCEM0_CONTFUT',\n",
       " 'FDAX_JUN_20_CONTFUT',\n",
       " 'GCQ0_CONTFUT',\n",
       " 'GEM0_CONTFUT',\n",
       " 'GEU0_CONTFUT',\n",
       " 'M2KM0_CONTFUT',\n",
       " 'M6EM0_CONTFUT',\n",
       " 'M6EU0_CONTFUT',\n",
       " 'MESM0_CONTFUT',\n",
       " 'MGCQ0_CONTFUT',\n",
       " 'MJYM0_CONTFUT',\n",
       " 'MJYU0_CONTFUT',\n",
       " 'MNQM0_CONTFUT',\n",
       " 'NKDM0_CONTFUT',\n",
       " 'NKDU0_CONTFUT',\n",
       " 'NQM0_CONTFUT',\n",
       " 'NQU0_CONTFUT',\n",
       " 'RTYM0_CONTFUT',\n",
       " 'YM_JUN_20_CONTFUT',\n",
       " 'YM_SEP_20_CONTFUT',\n",
       " 'ZB_JUN_20_CONTFUT',\n",
       " 'ZB_SEP_20_CONTFUT',\n",
       " 'ZF_JUN_20_CONTFUT',\n",
       " 'ZF_SEP_20_CONTFUT',\n",
       " 'ZN_JUN_20_CONTFUT',\n",
       " 'ZN_SEP_20_CONTFUT',\n",
       " 'ZS_JUL_20_CONTFUT']"
      ]
     },
     "execution_count": 15,
     "metadata": {},
     "output_type": "execute_result"
    }
   ],
   "source": [
    "store.keys()"
   ]
  },
  {
   "cell_type": "code",
   "execution_count": 16,
   "metadata": {},
   "outputs": [
    {
     "ename": "AttributeError",
     "evalue": "'NoneType' object has no attribute 'get'",
     "output_type": "error",
     "traceback": [
      "\u001b[0;31m---------------------------------------------------------------------------\u001b[0m",
      "\u001b[0;31mAttributeError\u001b[0m                            Traceback (most recent call last)",
      "\u001b[0;32m<ipython-input-16-78dc0b759315>\u001b[0m in \u001b[0;36m<module>\u001b[0;34m\u001b[0m\n\u001b[0;32m----> 1\u001b[0;31m \u001b[0mstore\u001b[0m\u001b[0;34m.\u001b[0m\u001b[0mreview\u001b[0m\u001b[0;34m(\u001b[0m\u001b[0;34m)\u001b[0m\u001b[0;34m\u001b[0m\u001b[0;34m\u001b[0m\u001b[0m\n\u001b[0m",
      "\u001b[0;32m~/ib_tools/datastore.py\u001b[0m in \u001b[0;36mreview\u001b[0;34m(self, *field)\u001b[0m\n\u001b[1;32m    142\u001b[0m             \u001b[0mmeta\u001b[0m \u001b[0;34m=\u001b[0m \u001b[0mself\u001b[0m\u001b[0;34m.\u001b[0m\u001b[0mread_metadata\u001b[0m\u001b[0;34m(\u001b[0m\u001b[0mkey\u001b[0m\u001b[0;34m)\u001b[0m\u001b[0;34m\u001b[0m\u001b[0;34m\u001b[0m\u001b[0m\n\u001b[1;32m    143\u001b[0m             \u001b[0;32mfor\u001b[0m \u001b[0mf\u001b[0m \u001b[0;32min\u001b[0m \u001b[0mfields\u001b[0m\u001b[0;34m:\u001b[0m\u001b[0;34m\u001b[0m\u001b[0;34m\u001b[0m\u001b[0m\n\u001b[0;32m--> 144\u001b[0;31m                 \u001b[0mdetails\u001b[0m\u001b[0;34m[\u001b[0m\u001b[0mf\u001b[0m\u001b[0;34m]\u001b[0m\u001b[0;34m.\u001b[0m\u001b[0mappend\u001b[0m\u001b[0;34m(\u001b[0m\u001b[0mmeta\u001b[0m\u001b[0;34m.\u001b[0m\u001b[0mget\u001b[0m\u001b[0;34m(\u001b[0m\u001b[0mf\u001b[0m\u001b[0;34m)\u001b[0m\u001b[0;34m)\u001b[0m\u001b[0;34m\u001b[0m\u001b[0;34m\u001b[0m\u001b[0m\n\u001b[0m\u001b[1;32m    145\u001b[0m         \u001b[0;32mfor\u001b[0m \u001b[0mk\u001b[0m\u001b[0;34m,\u001b[0m \u001b[0mv\u001b[0m \u001b[0;32min\u001b[0m \u001b[0mdetails\u001b[0m\u001b[0;34m.\u001b[0m\u001b[0mitems\u001b[0m\u001b[0;34m(\u001b[0m\u001b[0;34m)\u001b[0m\u001b[0;34m:\u001b[0m\u001b[0;34m\u001b[0m\u001b[0;34m\u001b[0m\u001b[0m\n\u001b[1;32m    146\u001b[0m             \u001b[0mdf\u001b[0m\u001b[0;34m[\u001b[0m\u001b[0mk\u001b[0m\u001b[0;34m]\u001b[0m \u001b[0;34m=\u001b[0m \u001b[0mv\u001b[0m\u001b[0;34m\u001b[0m\u001b[0;34m\u001b[0m\u001b[0m\n",
      "\u001b[0;31mAttributeError\u001b[0m: 'NoneType' object has no attribute 'get'"
     ]
    }
   ],
   "source": [
    "store.review()"
   ]
  },
  {
   "cell_type": "code",
   "execution_count": null,
   "metadata": {},
   "outputs": [],
   "source": [
    "df=store.date_range()"
   ]
  },
  {
   "cell_type": "code",
   "execution_count": null,
   "metadata": {},
   "outputs": [],
   "source": [
    "df.to_dict('index').keys()"
   ]
  },
  {
   "cell_type": "code",
   "execution_count": null,
   "metadata": {},
   "outputs": [],
   "source": [
    "out = []\n",
    "for n, k in enumerate(df.to_dict('index').keys()):\n",
    "    out.append(n)"
   ]
  },
  {
   "cell_type": "code",
   "execution_count": null,
   "metadata": {},
   "outputs": [],
   "source": [
    "df['out'] = out\n",
    "df"
   ]
  },
  {
   "cell_type": "code",
   "execution_count": null,
   "metadata": {},
   "outputs": [],
   "source": [
    "store.read_object('NQU0_CONTFUT')"
   ]
  },
  {
   "cell_type": "code",
   "execution_count": 20,
   "metadata": {},
   "outputs": [
    {
     "data": {
      "text/plain": [
       "[{'symbol': 'NQU0_CONTFUT',\n",
       "  'version': 184,\n",
       "  'deleted': False,\n",
       "  'date': datetime.datetime(2020, 6, 20, 17, 24, 1, tzinfo=tzfile('/usr/share/zoneinfo/Europe/Warsaw')),\n",
       "  'snapshots': []},\n",
       " {'symbol': 'NQU0_CONTFUT',\n",
       "  'version': 183,\n",
       "  'deleted': False,\n",
       "  'date': datetime.datetime(2020, 6, 18, 6, 30, 8, tzinfo=tzfile('/usr/share/zoneinfo/Europe/Warsaw')),\n",
       "  'snapshots': []}]"
      ]
     },
     "execution_count": 20,
     "metadata": {},
     "output_type": "execute_result"
    }
   ],
   "source": [
    "store.store.list_versions('NQU0_CONTFUT')"
   ]
  },
  {
   "cell_type": "code",
   "execution_count": 19,
   "metadata": {},
   "outputs": [
    {
     "data": {
      "text/plain": [
       "NoneType"
      ]
     },
     "execution_count": 19,
     "metadata": {},
     "output_type": "execute_result"
    }
   ],
   "source": [
    "type(store.read_metadata('NQU0_CONTFUT'))"
   ]
  },
  {
   "cell_type": "code",
   "execution_count": 18,
   "metadata": {},
   "outputs": [
    {
     "data": {
      "text/plain": [
       "VersionedItem(symbol=YM_JUN_20_CONTFUT,library=arctic.TRADES_30_secs,data=<class 'pandas.core.frame.DataFrame'>,version=2,metadata=None,host=localhost)"
      ]
     },
     "execution_count": 18,
     "metadata": {},
     "output_type": "execute_result"
    }
   ],
   "source": [
    "store.read_object('YM_JUN_20_CONTFUT')"
   ]
  },
  {
   "cell_type": "code",
   "execution_count": null,
   "metadata": {},
   "outputs": [],
   "source": [
    "for key in store.keys():\n",
    "    print(f'{key}: {store.read_object(key).metadata[\"tradingClass\"]}')"
   ]
  },
  {
   "cell_type": "code",
   "execution_count": null,
   "metadata": {},
   "outputs": [],
   "source": [
    "store.latest_contfutures"
   ]
  },
  {
   "cell_type": "code",
   "execution_count": null,
   "metadata": {},
   "outputs": [],
   "source": [
    "store.contfuture('NQ')"
   ]
  },
  {
   "cell_type": "code",
   "execution_count": null,
   "metadata": {},
   "outputs": [],
   "source": [
    "def hist(days_at_a_time):\n",
    "    dt = ''\n",
    "    barsList = []\n",
    "    i = 10/days_at_a_time\n",
    "    #i=1\n",
    "    while i>0:\n",
    "        bars = ib.reqHistoricalData(\n",
    "            nq,\n",
    "            endDateTime=dt,\n",
    "            durationStr=str(days_at_a_time) + ' D',\n",
    "            barSizeSetting='1 min',\n",
    "            whatToShow='TRADES',\n",
    "            useRTH=False,\n",
    "            formatDate=1)\n",
    "        #lib.append('edek', bars)\n",
    "        if not bars:\n",
    "            break\n",
    "            dt -= timedelta(days=1)\n",
    "            print(f'new dt: {dt}')\n",
    "            continue\n",
    "        barsList.append(bars)\n",
    "        dt = bars[0].date\n",
    "        print(dt)\n",
    "        i -= 1\n",
    "    allBars = [b for bars in reversed(barsList) for b in bars]\n",
    "    df = util.df(allBars)\n",
    "    return df"
   ]
  },
  {
   "cell_type": "code",
   "execution_count": null,
   "metadata": {},
   "outputs": [],
   "source": [
    "bars = ib.reqHistoricalData(\n",
    "            mes,\n",
    "            endDateTime= '20190506 00:00:00',\n",
    "            durationStr='1 D',\n",
    "            barSizeSetting='30 secs',\n",
    "            whatToShow='TRADES',\n",
    "            useRTH=False,\n",
    "            formatDate=1)"
   ]
  },
  {
   "cell_type": "code",
   "execution_count": null,
   "metadata": {},
   "outputs": [],
   "source": [
    "nq"
   ]
  },
  {
   "cell_type": "code",
   "execution_count": null,
   "metadata": {},
   "outputs": [
    {
     "name": "stderr",
     "output_type": "stream",
     "text": [
      "Peer closed connection\n"
     ]
    }
   ],
   "source": [
    "nq.loc['20190101':]"
   ]
  },
  {
   "cell_type": "code",
   "execution_count": null,
   "metadata": {},
   "outputs": [],
   "source": []
  }
 ],
 "metadata": {
  "kernelspec": {
   "display_name": "Python 3",
   "language": "python",
   "name": "python3"
  },
  "language_info": {
   "codemirror_mode": {
    "name": "ipython",
    "version": 3
   },
   "file_extension": ".py",
   "mimetype": "text/x-python",
   "name": "python",
   "nbconvert_exporter": "python",
   "pygments_lexer": "ipython3",
   "version": "3.7.3"
  }
 },
 "nbformat": 4,
 "nbformat_minor": 2
}
