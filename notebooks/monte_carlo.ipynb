{
 "cells": [
  {
   "cell_type": "code",
   "execution_count": 1,
   "metadata": {},
   "outputs": [],
   "source": [
    "import warnings\n",
    "warnings.filterwarnings('ignore')\n",
    "%matplotlib inline\n",
    "import pandas as pd\n",
    "import numpy as np\n",
    "import matplotlib.pyplot as plt\n",
    "from pyfolio.timeseries import perf_stats"
   ]
  },
  {
   "cell_type": "code",
   "execution_count": 2,
   "metadata": {},
   "outputs": [],
   "source": [
    "cash = 80000"
   ]
  },
  {
   "cell_type": "markdown",
   "metadata": {},
   "source": [
    "read backtest results and generate daily returns dataframe"
   ]
  },
  {
   "cell_type": "code",
   "execution_count": 3,
   "metadata": {},
   "outputs": [],
   "source": [
    "df = pd.read_csv('/home/tomek/ib_tools/backtests/backtest_2020-07-03_14-49_20190101_20191231.csv')\n",
    "del df['sys_time']\n",
    "del df['exec_ids']\n",
    "try:\n",
    "    del df['perm_id']\n",
    "    del df['com_reports']\n",
    "except:\n",
    "    pass\n",
    "df['time'] = pd.to_datetime(df['time'])\n",
    "df.set_index('time', inplace=True)\n",
    "df['cash'] = df.realizedPNL.cumsum() + cash\n",
    "df['contract'] = df['contract'].apply(lambda x: x[:-2])\n",
    "df['contract'] = df['contract'].apply(lambda x: x[:2])"
   ]
  },
  {
   "cell_type": "code",
   "execution_count": 4,
   "metadata": {},
   "outputs": [
    {
     "data": {
      "text/plain": [
       "time\n",
       "2019-12-24    0.015051\n",
       "2019-12-25    0.000000\n",
       "2019-12-26    0.059516\n",
       "2019-12-27    0.116911\n",
       "2019-12-30   -0.012663\n",
       "Freq: B, Name: cash, dtype: float64"
      ]
     },
     "execution_count": 4,
     "metadata": {},
     "output_type": "execute_result"
    }
   ],
   "source": [
    "returns = df.cash.resample('B').last().pct_change().dropna()\n",
    "returns.tail()"
   ]
  },
  {
   "cell_type": "markdown",
   "metadata": {},
   "source": [
    "number of daily return data points:"
   ]
  },
  {
   "cell_type": "code",
   "execution_count": 5,
   "metadata": {},
   "outputs": [
    {
     "data": {
      "text/plain": [
       "4302"
      ]
     },
     "execution_count": 5,
     "metadata": {},
     "output_type": "execute_result"
    }
   ],
   "source": [
    "len(df)"
   ]
  },
  {
   "cell_type": "code",
   "execution_count": 6,
   "metadata": {},
   "outputs": [],
   "source": [
    "returns.reset_index(drop=True, inplace=True)"
   ]
  },
  {
   "cell_type": "markdown",
   "metadata": {},
   "source": [
    "# Generate random paths by resampling from returns (with replacements)"
   ]
  },
  {
   "cell_type": "markdown",
   "metadata": {},
   "source": [
    "change this parameter to get different number of paths"
   ]
  },
  {
   "cell_type": "code",
   "execution_count": 7,
   "metadata": {},
   "outputs": [],
   "source": [
    "number_of_paths = 500000"
   ]
  },
  {
   "cell_type": "code",
   "execution_count": 8,
   "metadata": {},
   "outputs": [],
   "source": [
    "simulated_returns = pd.DataFrame(np.random.choice(returns, size=(len(returns), number_of_paths)))"
   ]
  },
  {
   "cell_type": "code",
   "execution_count": 9,
   "metadata": {},
   "outputs": [
    {
     "data": {
      "text/html": [
       "<div>\n",
       "<style scoped>\n",
       "    .dataframe tbody tr th:only-of-type {\n",
       "        vertical-align: middle;\n",
       "    }\n",
       "\n",
       "    .dataframe tbody tr th {\n",
       "        vertical-align: top;\n",
       "    }\n",
       "\n",
       "    .dataframe thead th {\n",
       "        text-align: right;\n",
       "    }\n",
       "</style>\n",
       "<table border=\"1\" class=\"dataframe\">\n",
       "  <thead>\n",
       "    <tr style=\"text-align: right;\">\n",
       "      <th></th>\n",
       "      <th>0</th>\n",
       "      <th>1</th>\n",
       "      <th>2</th>\n",
       "      <th>3</th>\n",
       "      <th>4</th>\n",
       "      <th>5</th>\n",
       "      <th>6</th>\n",
       "      <th>7</th>\n",
       "      <th>8</th>\n",
       "      <th>9</th>\n",
       "      <th>...</th>\n",
       "      <th>499990</th>\n",
       "      <th>499991</th>\n",
       "      <th>499992</th>\n",
       "      <th>499993</th>\n",
       "      <th>499994</th>\n",
       "      <th>499995</th>\n",
       "      <th>499996</th>\n",
       "      <th>499997</th>\n",
       "      <th>499998</th>\n",
       "      <th>499999</th>\n",
       "    </tr>\n",
       "  </thead>\n",
       "  <tbody>\n",
       "    <tr>\n",
       "      <td>0</td>\n",
       "      <td>-0.030790</td>\n",
       "      <td>-0.012768</td>\n",
       "      <td>0.172562</td>\n",
       "      <td>0.024843</td>\n",
       "      <td>0.011719</td>\n",
       "      <td>-0.022180</td>\n",
       "      <td>-0.019207</td>\n",
       "      <td>0.047670</td>\n",
       "      <td>0.057829</td>\n",
       "      <td>0.012999</td>\n",
       "      <td>...</td>\n",
       "      <td>-0.022180</td>\n",
       "      <td>0.048061</td>\n",
       "      <td>-0.012663</td>\n",
       "      <td>-0.006664</td>\n",
       "      <td>-0.015942</td>\n",
       "      <td>0.069512</td>\n",
       "      <td>0.015051</td>\n",
       "      <td>0.057829</td>\n",
       "      <td>0.048796</td>\n",
       "      <td>-0.019434</td>\n",
       "    </tr>\n",
       "    <tr>\n",
       "      <td>1</td>\n",
       "      <td>0.001874</td>\n",
       "      <td>0.004928</td>\n",
       "      <td>0.094154</td>\n",
       "      <td>0.010931</td>\n",
       "      <td>-0.028589</td>\n",
       "      <td>-0.014671</td>\n",
       "      <td>-0.019207</td>\n",
       "      <td>0.010931</td>\n",
       "      <td>0.002042</td>\n",
       "      <td>0.026831</td>\n",
       "      <td>...</td>\n",
       "      <td>0.106648</td>\n",
       "      <td>0.033024</td>\n",
       "      <td>-0.021238</td>\n",
       "      <td>-0.006253</td>\n",
       "      <td>-0.019338</td>\n",
       "      <td>0.000000</td>\n",
       "      <td>0.001336</td>\n",
       "      <td>0.009616</td>\n",
       "      <td>0.035686</td>\n",
       "      <td>0.018010</td>\n",
       "    </tr>\n",
       "    <tr>\n",
       "      <td>2</td>\n",
       "      <td>-0.015500</td>\n",
       "      <td>-0.024763</td>\n",
       "      <td>-0.027296</td>\n",
       "      <td>0.022758</td>\n",
       "      <td>0.046192</td>\n",
       "      <td>0.007598</td>\n",
       "      <td>-0.010937</td>\n",
       "      <td>0.044670</td>\n",
       "      <td>-0.008467</td>\n",
       "      <td>-0.045380</td>\n",
       "      <td>...</td>\n",
       "      <td>-0.051495</td>\n",
       "      <td>-0.006421</td>\n",
       "      <td>-0.009536</td>\n",
       "      <td>-0.014673</td>\n",
       "      <td>-0.006369</td>\n",
       "      <td>-0.023120</td>\n",
       "      <td>-0.015942</td>\n",
       "      <td>-0.005171</td>\n",
       "      <td>-0.024763</td>\n",
       "      <td>-0.027296</td>\n",
       "    </tr>\n",
       "    <tr>\n",
       "      <td>3</td>\n",
       "      <td>0.015308</td>\n",
       "      <td>0.007362</td>\n",
       "      <td>-0.022819</td>\n",
       "      <td>-0.009330</td>\n",
       "      <td>0.028958</td>\n",
       "      <td>-0.011397</td>\n",
       "      <td>0.022610</td>\n",
       "      <td>-0.006034</td>\n",
       "      <td>0.021300</td>\n",
       "      <td>0.017813</td>\n",
       "      <td>...</td>\n",
       "      <td>0.000000</td>\n",
       "      <td>0.010931</td>\n",
       "      <td>-0.015500</td>\n",
       "      <td>-0.013407</td>\n",
       "      <td>-0.007756</td>\n",
       "      <td>-0.011055</td>\n",
       "      <td>-0.000729</td>\n",
       "      <td>0.044670</td>\n",
       "      <td>0.029618</td>\n",
       "      <td>-0.030790</td>\n",
       "    </tr>\n",
       "    <tr>\n",
       "      <td>4</td>\n",
       "      <td>-0.036069</td>\n",
       "      <td>-0.006774</td>\n",
       "      <td>-0.011580</td>\n",
       "      <td>-0.020364</td>\n",
       "      <td>0.014687</td>\n",
       "      <td>-0.024246</td>\n",
       "      <td>-0.001315</td>\n",
       "      <td>-0.000601</td>\n",
       "      <td>-0.019070</td>\n",
       "      <td>0.015852</td>\n",
       "      <td>...</td>\n",
       "      <td>-0.006369</td>\n",
       "      <td>0.024334</td>\n",
       "      <td>-0.023640</td>\n",
       "      <td>-0.026986</td>\n",
       "      <td>0.063013</td>\n",
       "      <td>-0.007177</td>\n",
       "      <td>0.128198</td>\n",
       "      <td>-0.014671</td>\n",
       "      <td>0.048796</td>\n",
       "      <td>0.172562</td>\n",
       "    </tr>\n",
       "  </tbody>\n",
       "</table>\n",
       "<p>5 rows × 500000 columns</p>\n",
       "</div>"
      ],
      "text/plain": [
       "     0         1         2         3         4         5         6       \\\n",
       "0 -0.030790 -0.012768  0.172562  0.024843  0.011719 -0.022180 -0.019207   \n",
       "1  0.001874  0.004928  0.094154  0.010931 -0.028589 -0.014671 -0.019207   \n",
       "2 -0.015500 -0.024763 -0.027296  0.022758  0.046192  0.007598 -0.010937   \n",
       "3  0.015308  0.007362 -0.022819 -0.009330  0.028958 -0.011397  0.022610   \n",
       "4 -0.036069 -0.006774 -0.011580 -0.020364  0.014687 -0.024246 -0.001315   \n",
       "\n",
       "     7         8         9       ...    499990    499991    499992    499993  \\\n",
       "0  0.047670  0.057829  0.012999  ... -0.022180  0.048061 -0.012663 -0.006664   \n",
       "1  0.010931  0.002042  0.026831  ...  0.106648  0.033024 -0.021238 -0.006253   \n",
       "2  0.044670 -0.008467 -0.045380  ... -0.051495 -0.006421 -0.009536 -0.014673   \n",
       "3 -0.006034  0.021300  0.017813  ...  0.000000  0.010931 -0.015500 -0.013407   \n",
       "4 -0.000601 -0.019070  0.015852  ... -0.006369  0.024334 -0.023640 -0.026986   \n",
       "\n",
       "     499994    499995    499996    499997    499998    499999  \n",
       "0 -0.015942  0.069512  0.015051  0.057829  0.048796 -0.019434  \n",
       "1 -0.019338  0.000000  0.001336  0.009616  0.035686  0.018010  \n",
       "2 -0.006369 -0.023120 -0.015942 -0.005171 -0.024763 -0.027296  \n",
       "3 -0.007756 -0.011055 -0.000729  0.044670  0.029618 -0.030790  \n",
       "4  0.063013 -0.007177  0.128198 -0.014671  0.048796  0.172562  \n",
       "\n",
       "[5 rows x 500000 columns]"
      ]
     },
     "execution_count": 9,
     "metadata": {},
     "output_type": "execute_result"
    }
   ],
   "source": [
    "simulated_returns.head()"
   ]
  },
  {
   "cell_type": "markdown",
   "metadata": {},
   "source": [
    "# Quick visual on actual vs. simulated distribution"
   ]
  },
  {
   "cell_type": "code",
   "execution_count": 10,
   "metadata": {},
   "outputs": [
    {
     "data": {
      "image/png": "[encoded data removed]",
      "text/plain": [
       "<Figure size 1296x216 with 2 Axes>"
      ]
     },
     "metadata": {
      "needs_background": "light"
     },
     "output_type": "display_data"
    }
   ],
   "source": [
    "fig = plt.figure(figsize=(18,3))\n",
    "ax1 = fig.add_subplot(121)\n",
    "ax2 = fig.add_subplot(122)\n",
    "ax1.hist(returns, bins=50, density=True)\n",
    "ax2.hist(simulated_returns.values.flatten(), bins=50, density=True)\n",
    "ax1.set_title('Actual')\n",
    "ax2.set_title('Simulated')\n",
    "plt.show();"
   ]
  },
  {
   "cell_type": "markdown",
   "metadata": {},
   "source": [
    "# Stats for actual returns"
   ]
  },
  {
   "cell_type": "code",
   "execution_count": 11,
   "metadata": {},
   "outputs": [
    {
     "data": {
      "text/plain": [
       "Annual return           2.332382\n",
       "Cumulative returns      2.429267\n",
       "Annual volatility       0.540298\n",
       "Sharpe ratio            2.491541\n",
       "Calmar ratio           15.038590\n",
       "Stability               0.919913\n",
       "Max drawdown           -0.155093\n",
       "Omega ratio             1.601827\n",
       "Sortino ratio           5.358079\n",
       "Skew                    1.717213\n",
       "Kurtosis                5.224945\n",
       "Tail ratio              1.830008\n",
       "Daily value at risk    -0.062729\n",
       "dtype: float64"
      ]
     },
     "execution_count": 11,
     "metadata": {},
     "output_type": "execute_result"
    }
   ],
   "source": [
    "a=perf_stats(returns)\n",
    "a"
   ]
  },
  {
   "cell_type": "markdown",
   "metadata": {},
   "source": [
    "# Stats for simulated returns (median, max, min)"
   ]
  },
  {
   "cell_type": "code",
   "execution_count": 12,
   "metadata": {},
   "outputs": [],
   "source": [
    "ratios_for_paths = pd.DataFrame([perf_stats(x[1]) for x in simulated_returns.T.iterrows()])"
   ]
  },
  {
   "cell_type": "markdown",
   "metadata": {},
   "source": [
    "median"
   ]
  },
  {
   "cell_type": "code",
   "execution_count": 13,
   "metadata": {},
   "outputs": [
    {
     "data": {
      "text/plain": [
       "Annual return           2.303582\n",
       "Cumulative returns      2.398928\n",
       "Annual volatility       0.536748\n",
       "Sharpe ratio            2.490762\n",
       "Calmar ratio           10.050636\n",
       "Stability               0.883389\n",
       "Max drawdown           -0.229511\n",
       "Omega ratio             1.598669\n",
       "Sortino ratio           5.339955\n",
       "Skew                    1.676800\n",
       "Kurtosis                4.913819\n",
       "Tail ratio              1.863861\n",
       "Daily value at risk    -0.062317\n",
       "dtype: float64"
      ]
     },
     "execution_count": 13,
     "metadata": {},
     "output_type": "execute_result"
    }
   ],
   "source": [
    "ratios_for_paths.median().T"
   ]
  },
  {
   "cell_type": "markdown",
   "metadata": {},
   "source": [
    "max"
   ]
  },
  {
   "cell_type": "code",
   "execution_count": 14,
   "metadata": {},
   "outputs": [
    {
     "data": {
      "text/plain": [
       "Annual return           50.620767\n",
       "Cumulative returns      55.702994\n",
       "Annual volatility        0.738878\n",
       "Sharpe ratio             6.083865\n",
       "Calmar ratio           351.449989\n",
       "Stability                0.994430\n",
       "Max drawdown            -0.074067\n",
       "Omega ratio              3.667069\n",
       "Sortino ratio           21.663811\n",
       "Skew                     2.906604\n",
       "Kurtosis                12.714776\n",
       "Tail ratio               4.484198\n",
       "Daily value at risk     -0.041808\n",
       "dtype: float64"
      ]
     },
     "execution_count": 14,
     "metadata": {},
     "output_type": "execute_result"
    }
   ],
   "source": [
    "ratios_for_paths.max().T"
   ]
  },
  {
   "cell_type": "markdown",
   "metadata": {},
   "source": [
    "min"
   ]
  },
  {
   "cell_type": "code",
   "execution_count": 15,
   "metadata": {},
   "outputs": [
    {
     "data": {
      "text/plain": [
       "Annual return         -6.452782e-01\n",
       "Cumulative returns    -6.539244e-01\n",
       "Annual volatility      3.489159e-01\n",
       "Sharpe ratio          -2.066968e+00\n",
       "Calmar ratio          -9.852672e-01\n",
       "Stability              3.791750e-10\n",
       "Max drawdown          -7.580564e-01\n",
       "Omega ratio            6.992299e-01\n",
       "Sortino ratio         -3.086427e+00\n",
       "Skew                  -1.588768e-02\n",
       "Kurtosis              -5.467022e-03\n",
       "Tail ratio             6.555684e-01\n",
       "Daily value at risk   -8.266869e-02\n",
       "dtype: float64"
      ]
     },
     "execution_count": 15,
     "metadata": {},
     "output_type": "execute_result"
    }
   ],
   "source": [
    "ratios_for_paths.min().T"
   ]
  },
  {
   "cell_type": "markdown",
   "metadata": {},
   "source": [
    "# Probability that max drawdown less than x"
   ]
  },
  {
   "cell_type": "code",
   "execution_count": 24,
   "metadata": {},
   "outputs": [
    {
     "data": {
      "text/plain": [
       "0.08431"
      ]
     },
     "execution_count": 24,
     "metadata": {},
     "output_type": "execute_result"
    }
   ],
   "source": [
    "x = -.35\n",
    "len(ratios_for_paths[ratios_for_paths['Max drawdown'] < x]) / number_of_paths"
   ]
  },
  {
   "cell_type": "markdown",
   "metadata": {},
   "source": [
    "# Probability that Sharpe lower than y"
   ]
  },
  {
   "cell_type": "code",
   "execution_count": 17,
   "metadata": {},
   "outputs": [
    {
     "data": {
      "text/plain": [
       "0.052006"
      ]
     },
     "execution_count": 17,
     "metadata": {},
     "output_type": "execute_result"
    }
   ],
   "source": [
    "y = 1\n",
    "len(ratios_for_paths[ratios_for_paths['Sharpe ratio'] < y]) / number_of_paths"
   ]
  },
  {
   "cell_type": "markdown",
   "metadata": {},
   "source": [
    "# Probability that annual return less than z"
   ]
  },
  {
   "cell_type": "code",
   "execution_count": 18,
   "metadata": {},
   "outputs": [
    {
     "data": {
      "text/plain": [
       "0.058408"
      ]
     },
     "execution_count": 18,
     "metadata": {},
     "output_type": "execute_result"
    }
   ],
   "source": [
    "z = .5\n",
    "len(ratios_for_paths[ratios_for_paths['Annual return'] < z]) / number_of_paths"
   ]
  },
  {
   "cell_type": "markdown",
   "metadata": {},
   "source": [
    "# Distributions"
   ]
  },
  {
   "cell_type": "markdown",
   "metadata": {},
   "source": [
    "Max drawdown"
   ]
  },
  {
   "cell_type": "code",
   "execution_count": 19,
   "metadata": {},
   "outputs": [
    {
     "data": {
      "image/png": "[encoded data removed]",
      "text/plain": [
       "<Figure size 1008x216 with 1 Axes>"
      ]
     },
     "metadata": {
      "needs_background": "light"
     },
     "output_type": "display_data"
    }
   ],
   "source": [
    "ratios_for_paths['Max drawdown'].hist(bins=50, figsize=(14,3), density=True);"
   ]
  },
  {
   "cell_type": "markdown",
   "metadata": {},
   "source": [
    "Sharpe"
   ]
  },
  {
   "cell_type": "code",
   "execution_count": 20,
   "metadata": {},
   "outputs": [
    {
     "data": {
      "image/png": "[encoded data removed]",
      "text/plain": [
       "<Figure size 1008x216 with 1 Axes>"
      ]
     },
     "metadata": {
      "needs_background": "light"
     },
     "output_type": "display_data"
    }
   ],
   "source": [
    "ratios_for_paths['Sharpe ratio'].hist(bins=50, figsize=(14,3), density=True);"
   ]
  },
  {
   "cell_type": "markdown",
   "metadata": {},
   "source": [
    "Annual return"
   ]
  },
  {
   "cell_type": "code",
   "execution_count": 21,
   "metadata": {},
   "outputs": [
    {
     "data": {
      "image/png": "[encoded data removed]",
      "text/plain": [
       "<Figure size 1008x216 with 1 Axes>"
      ]
     },
     "metadata": {
      "needs_background": "light"
     },
     "output_type": "display_data"
    }
   ],
   "source": [
    "ratios_for_paths['Annual return'].hist(bins=50, figsize=(14,3), density=True);"
   ]
  },
  {
   "cell_type": "code",
   "execution_count": null,
   "metadata": {},
   "outputs": [],
   "source": []
  }
 ],
 "metadata": {
  "kernelspec": {
   "display_name": "Python 3",
   "language": "python",
   "name": "python3"
  },
  "language_info": {
   "codemirror_mode": {
    "name": "ipython",
    "version": 3
   },
   "file_extension": ".py",
   "mimetype": "text/x-python",
   "name": "python",
   "nbconvert_exporter": "python",
   "pygments_lexer": "ipython3",
   "version": "3.7.3"
  }
 },
 "nbformat": 4,
 "nbformat_minor": 2
}
