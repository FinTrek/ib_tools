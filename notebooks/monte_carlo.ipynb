{
 "cells": [
  {
   "cell_type": "code",
   "execution_count": 1,
   "metadata": {},
   "outputs": [],
   "source": [
    "import warnings\n",
    "warnings.filterwarnings('ignore')\n",
    "%matplotlib inline\n",
    "import pandas as pd\n",
    "import numpy as np\n",
    "import matplotlib.pyplot as plt\n",
    "from pyfolio.timeseries import perf_stats"
   ]
  },
  {
   "cell_type": "code",
   "execution_count": 2,
   "metadata": {},
   "outputs": [],
   "source": [
    "cash = 80000"
   ]
  },
  {
   "cell_type": "markdown",
   "metadata": {},
   "source": [
    "read backtest results and generate daily returns dataframe"
   ]
  },
  {
   "cell_type": "code",
   "execution_count": 3,
   "metadata": {},
   "outputs": [],
   "source": [
    "df = pd.read_csv('/home/tomek/ib_tools/backtests/backtest_2020-08-07_21-03_20180601_20191231_base_with_70vol.csv')\n",
    "del df['sys_time']\n",
    "del df['exec_ids']\n",
    "try:\n",
    "    del df['perm_id']\n",
    "    del df['com_reports']\n",
    "except:\n",
    "    pass\n",
    "df['time'] = pd.to_datetime(df['time'])\n",
    "df.set_index('time', inplace=True)\n",
    "df['cash'] = df.realizedPNL.cumsum() + cash\n",
    "df['contract'] = df['contract'].apply(lambda x: x[:-2])\n",
    "df['contract'] = df['contract'].apply(lambda x: x[:2])"
   ]
  },
  {
   "cell_type": "code",
   "execution_count": 4,
   "metadata": {},
   "outputs": [
    {
     "data": {
      "text/plain": [
       "time\n",
       "2019-12-24    0.020241\n",
       "2019-12-25    0.000000\n",
       "2019-12-26    0.076964\n",
       "2019-12-27    0.147710\n",
       "2019-12-30   -0.016541\n",
       "Freq: B, Name: cash, dtype: float64"
      ]
     },
     "execution_count": 4,
     "metadata": {},
     "output_type": "execute_result"
    }
   ],
   "source": [
    "returns = df.cash.resample('B').last().pct_change().dropna()\n",
    "returns.tail()"
   ]
  },
  {
   "cell_type": "markdown",
   "metadata": {},
   "source": [
    "number of daily return data points:"
   ]
  },
  {
   "cell_type": "code",
   "execution_count": 5,
   "metadata": {},
   "outputs": [
    {
     "data": {
      "text/plain": [
       "6378"
      ]
     },
     "execution_count": 5,
     "metadata": {},
     "output_type": "execute_result"
    }
   ],
   "source": [
    "len(df)"
   ]
  },
  {
   "cell_type": "code",
   "execution_count": 6,
   "metadata": {},
   "outputs": [],
   "source": [
    "returns.reset_index(drop=True, inplace=True)"
   ]
  },
  {
   "cell_type": "markdown",
   "metadata": {},
   "source": [
    "# Generate random paths by resampling from returns (with replacements)"
   ]
  },
  {
   "cell_type": "markdown",
   "metadata": {},
   "source": [
    "change this parameter to get different number of paths"
   ]
  },
  {
   "cell_type": "code",
   "execution_count": 7,
   "metadata": {},
   "outputs": [],
   "source": [
    "number_of_paths = 500000"
   ]
  },
  {
   "cell_type": "code",
   "execution_count": 8,
   "metadata": {},
   "outputs": [],
   "source": [
    "simulated_returns = pd.DataFrame(np.random.choice(returns, size=(len(returns), number_of_paths)))"
   ]
  },
  {
   "cell_type": "code",
   "execution_count": 9,
   "metadata": {},
   "outputs": [
    {
     "data": {
      "text/html": [
       "<div>\n",
       "<style scoped>\n",
       "    .dataframe tbody tr th:only-of-type {\n",
       "        vertical-align: middle;\n",
       "    }\n",
       "\n",
       "    .dataframe tbody tr th {\n",
       "        vertical-align: top;\n",
       "    }\n",
       "\n",
       "    .dataframe thead th {\n",
       "        text-align: right;\n",
       "    }\n",
       "</style>\n",
       "<table border=\"1\" class=\"dataframe\">\n",
       "  <thead>\n",
       "    <tr style=\"text-align: right;\">\n",
       "      <th></th>\n",
       "      <th>0</th>\n",
       "      <th>1</th>\n",
       "      <th>2</th>\n",
       "      <th>3</th>\n",
       "      <th>4</th>\n",
       "      <th>5</th>\n",
       "      <th>6</th>\n",
       "      <th>7</th>\n",
       "      <th>8</th>\n",
       "      <th>9</th>\n",
       "      <th>...</th>\n",
       "      <th>499990</th>\n",
       "      <th>499991</th>\n",
       "      <th>499992</th>\n",
       "      <th>499993</th>\n",
       "      <th>499994</th>\n",
       "      <th>499995</th>\n",
       "      <th>499996</th>\n",
       "      <th>499997</th>\n",
       "      <th>499998</th>\n",
       "      <th>499999</th>\n",
       "    </tr>\n",
       "  </thead>\n",
       "  <tbody>\n",
       "    <tr>\n",
       "      <td>0</td>\n",
       "      <td>-0.006474</td>\n",
       "      <td>-0.023834</td>\n",
       "      <td>0.029444</td>\n",
       "      <td>0.088692</td>\n",
       "      <td>-0.040476</td>\n",
       "      <td>-0.014000</td>\n",
       "      <td>0.022501</td>\n",
       "      <td>-0.039565</td>\n",
       "      <td>-0.030887</td>\n",
       "      <td>0.054290</td>\n",
       "      <td>...</td>\n",
       "      <td>-0.052542</td>\n",
       "      <td>-0.020612</td>\n",
       "      <td>0.009806</td>\n",
       "      <td>0.000000</td>\n",
       "      <td>-0.017829</td>\n",
       "      <td>0.049922</td>\n",
       "      <td>-0.034877</td>\n",
       "      <td>-0.027314</td>\n",
       "      <td>-0.049813</td>\n",
       "      <td>0.046700</td>\n",
       "    </tr>\n",
       "    <tr>\n",
       "      <td>1</td>\n",
       "      <td>0.214040</td>\n",
       "      <td>0.028651</td>\n",
       "      <td>0.000000</td>\n",
       "      <td>-0.020357</td>\n",
       "      <td>-0.009642</td>\n",
       "      <td>-0.044398</td>\n",
       "      <td>-0.034877</td>\n",
       "      <td>0.029444</td>\n",
       "      <td>-0.011723</td>\n",
       "      <td>-0.021004</td>\n",
       "      <td>...</td>\n",
       "      <td>0.000000</td>\n",
       "      <td>0.034568</td>\n",
       "      <td>0.011853</td>\n",
       "      <td>0.078733</td>\n",
       "      <td>-0.081496</td>\n",
       "      <td>0.125601</td>\n",
       "      <td>0.034945</td>\n",
       "      <td>0.028085</td>\n",
       "      <td>0.048443</td>\n",
       "      <td>-0.042662</td>\n",
       "    </tr>\n",
       "    <tr>\n",
       "      <td>2</td>\n",
       "      <td>-0.018185</td>\n",
       "      <td>0.034568</td>\n",
       "      <td>0.005327</td>\n",
       "      <td>-0.049813</td>\n",
       "      <td>0.034568</td>\n",
       "      <td>-0.010284</td>\n",
       "      <td>0.050314</td>\n",
       "      <td>0.008636</td>\n",
       "      <td>-0.040476</td>\n",
       "      <td>-0.040042</td>\n",
       "      <td>...</td>\n",
       "      <td>-0.009642</td>\n",
       "      <td>0.043967</td>\n",
       "      <td>0.017754</td>\n",
       "      <td>-0.013457</td>\n",
       "      <td>-0.046592</td>\n",
       "      <td>0.001278</td>\n",
       "      <td>-0.041926</td>\n",
       "      <td>-0.008606</td>\n",
       "      <td>-0.018534</td>\n",
       "      <td>-0.024969</td>\n",
       "    </tr>\n",
       "    <tr>\n",
       "      <td>3</td>\n",
       "      <td>-0.007846</td>\n",
       "      <td>-0.013317</td>\n",
       "      <td>0.125601</td>\n",
       "      <td>0.019263</td>\n",
       "      <td>-0.012533</td>\n",
       "      <td>0.007524</td>\n",
       "      <td>0.000000</td>\n",
       "      <td>-0.019408</td>\n",
       "      <td>-0.009619</td>\n",
       "      <td>-0.010515</td>\n",
       "      <td>...</td>\n",
       "      <td>-0.020735</td>\n",
       "      <td>-0.009670</td>\n",
       "      <td>-0.069337</td>\n",
       "      <td>0.000000</td>\n",
       "      <td>-0.004870</td>\n",
       "      <td>0.023271</td>\n",
       "      <td>0.095952</td>\n",
       "      <td>0.010620</td>\n",
       "      <td>-0.002970</td>\n",
       "      <td>0.020241</td>\n",
       "    </tr>\n",
       "    <tr>\n",
       "      <td>4</td>\n",
       "      <td>-0.020357</td>\n",
       "      <td>0.007524</td>\n",
       "      <td>0.027300</td>\n",
       "      <td>0.030548</td>\n",
       "      <td>0.007524</td>\n",
       "      <td>0.066663</td>\n",
       "      <td>0.000000</td>\n",
       "      <td>0.070695</td>\n",
       "      <td>0.058071</td>\n",
       "      <td>0.006851</td>\n",
       "      <td>...</td>\n",
       "      <td>0.023251</td>\n",
       "      <td>0.002874</td>\n",
       "      <td>0.009750</td>\n",
       "      <td>0.023271</td>\n",
       "      <td>-0.016541</td>\n",
       "      <td>0.006851</td>\n",
       "      <td>-0.032849</td>\n",
       "      <td>-0.015447</td>\n",
       "      <td>0.000000</td>\n",
       "      <td>-0.021066</td>\n",
       "    </tr>\n",
       "  </tbody>\n",
       "</table>\n",
       "<p>5 rows × 500000 columns</p>\n",
       "</div>"
      ],
      "text/plain": [
       "     0         1         2         3         4         5         6       \\\n",
       "0 -0.006474 -0.023834  0.029444  0.088692 -0.040476 -0.014000  0.022501   \n",
       "1  0.214040  0.028651  0.000000 -0.020357 -0.009642 -0.044398 -0.034877   \n",
       "2 -0.018185  0.034568  0.005327 -0.049813  0.034568 -0.010284  0.050314   \n",
       "3 -0.007846 -0.013317  0.125601  0.019263 -0.012533  0.007524  0.000000   \n",
       "4 -0.020357  0.007524  0.027300  0.030548  0.007524  0.066663  0.000000   \n",
       "\n",
       "     7         8         9       ...    499990    499991    499992    499993  \\\n",
       "0 -0.039565 -0.030887  0.054290  ... -0.052542 -0.020612  0.009806  0.000000   \n",
       "1  0.029444 -0.011723 -0.021004  ...  0.000000  0.034568  0.011853  0.078733   \n",
       "2  0.008636 -0.040476 -0.040042  ... -0.009642  0.043967  0.017754 -0.013457   \n",
       "3 -0.019408 -0.009619 -0.010515  ... -0.020735 -0.009670 -0.069337  0.000000   \n",
       "4  0.070695  0.058071  0.006851  ...  0.023251  0.002874  0.009750  0.023271   \n",
       "\n",
       "     499994    499995    499996    499997    499998    499999  \n",
       "0 -0.017829  0.049922 -0.034877 -0.027314 -0.049813  0.046700  \n",
       "1 -0.081496  0.125601  0.034945  0.028085  0.048443 -0.042662  \n",
       "2 -0.046592  0.001278 -0.041926 -0.008606 -0.018534 -0.024969  \n",
       "3 -0.004870  0.023271  0.095952  0.010620 -0.002970  0.020241  \n",
       "4 -0.016541  0.006851 -0.032849 -0.015447  0.000000 -0.021066  \n",
       "\n",
       "[5 rows x 500000 columns]"
      ]
     },
     "execution_count": 9,
     "metadata": {},
     "output_type": "execute_result"
    }
   ],
   "source": [
    "simulated_returns.head()"
   ]
  },
  {
   "cell_type": "markdown",
   "metadata": {},
   "source": [
    "# Quick visual on actual vs. simulated distribution"
   ]
  },
  {
   "cell_type": "code",
   "execution_count": 10,
   "metadata": {},
   "outputs": [
    {
     "data": {
      "image/png": "[encoded data removed]",
      "text/plain": [
       "<Figure size 1296x216 with 2 Axes>"
      ]
     },
     "metadata": {
      "needs_background": "light"
     },
     "output_type": "display_data"
    }
   ],
   "source": [
    "fig = plt.figure(figsize=(18,3))\n",
    "ax1 = fig.add_subplot(121)\n",
    "ax2 = fig.add_subplot(122)\n",
    "ax1.hist(returns, bins=50, density=True)\n",
    "ax2.hist(simulated_returns.values.flatten(), bins=50, density=True)\n",
    "ax1.set_title('Actual')\n",
    "ax2.set_title('Simulated')\n",
    "plt.show();"
   ]
  },
  {
   "cell_type": "markdown",
   "metadata": {},
   "source": [
    "# Stats for actual returns"
   ]
  },
  {
   "cell_type": "code",
   "execution_count": 11,
   "metadata": {},
   "outputs": [
    {
     "data": {
      "text/plain": [
       "Annual return           4.529899\n",
       "Cumulative returns     15.268085\n",
       "Annual volatility       0.704368\n",
       "Sharpe ratio            2.767247\n",
       "Calmar ratio           19.178639\n",
       "Stability               0.963792\n",
       "Max drawdown           -0.236195\n",
       "Omega ratio             1.719645\n",
       "Sortino ratio           6.263173\n",
       "Skew                    1.993861\n",
       "Kurtosis                6.997923\n",
       "Tail ratio              1.924605\n",
       "Daily value at risk    -0.081007\n",
       "dtype: float64"
      ]
     },
     "execution_count": 11,
     "metadata": {},
     "output_type": "execute_result"
    }
   ],
   "source": [
    "a=perf_stats(returns)\n",
    "a"
   ]
  },
  {
   "cell_type": "markdown",
   "metadata": {},
   "source": [
    "# Stats for simulated returns (median, max, min)"
   ]
  },
  {
   "cell_type": "code",
   "execution_count": 12,
   "metadata": {},
   "outputs": [],
   "source": [
    "ratios_for_paths = pd.DataFrame([perf_stats(x[1]) for x in simulated_returns.T.iterrows()])"
   ]
  },
  {
   "cell_type": "markdown",
   "metadata": {},
   "source": [
    "median"
   ]
  },
  {
   "cell_type": "code",
   "execution_count": 13,
   "metadata": {},
   "outputs": [
    {
     "data": {
      "text/plain": [
       "Annual return           4.495136\n",
       "Cumulative returns     15.101623\n",
       "Annual volatility       0.701071\n",
       "Sharpe ratio            2.771265\n",
       "Calmar ratio           15.019541\n",
       "Stability               0.937465\n",
       "Max drawdown           -0.299463\n",
       "Omega ratio             1.718181\n",
       "Sortino ratio           6.254892\n",
       "Skew                    1.966424\n",
       "Kurtosis                6.739947\n",
       "Tail ratio              1.893059\n",
       "Daily value at risk    -0.080623\n",
       "dtype: float64"
      ]
     },
     "execution_count": 13,
     "metadata": {},
     "output_type": "execute_result"
    }
   ],
   "source": [
    "ratios_for_paths.median().T"
   ]
  },
  {
   "cell_type": "markdown",
   "metadata": {},
   "source": [
    "max"
   ]
  },
  {
   "cell_type": "code",
   "execution_count": 14,
   "metadata": {},
   "outputs": [
    {
     "data": {
      "text/plain": [
       "Annual return            78.432076\n",
       "Cumulative returns     1254.459941\n",
       "Annual volatility         0.942095\n",
       "Sharpe ratio              5.587606\n",
       "Calmar ratio            419.336954\n",
       "Stability                 0.995957\n",
       "Max drawdown             -0.116254\n",
       "Omega ratio               3.262502\n",
       "Sortino ratio            17.575548\n",
       "Skew                      3.031856\n",
       "Kurtosis                 14.419579\n",
       "Tail ratio                3.999038\n",
       "Daily value at risk      -0.056472\n",
       "dtype: float64"
      ]
     },
     "execution_count": 14,
     "metadata": {},
     "output_type": "execute_result"
    }
   ],
   "source": [
    "ratios_for_paths.max().T"
   ]
  },
  {
   "cell_type": "markdown",
   "metadata": {},
   "source": [
    "min"
   ]
  },
  {
   "cell_type": "code",
   "execution_count": 15,
   "metadata": {},
   "outputs": [
    {
     "data": {
      "text/plain": [
       "Annual return         -0.464592\n",
       "Cumulative returns    -0.639008\n",
       "Annual volatility      0.480952\n",
       "Sharpe ratio          -0.828016\n",
       "Calmar ratio          -0.661749\n",
       "Stability              0.000004\n",
       "Max drawdown          -0.786367\n",
       "Omega ratio            0.866415\n",
       "Sortino ratio         -1.280485\n",
       "Skew                   0.389266\n",
       "Kurtosis               0.241132\n",
       "Tail ratio             0.975809\n",
       "Daily value at risk   -0.103869\n",
       "dtype: float64"
      ]
     },
     "execution_count": 15,
     "metadata": {},
     "output_type": "execute_result"
    }
   ],
   "source": [
    "ratios_for_paths.min().T"
   ]
  },
  {
   "cell_type": "markdown",
   "metadata": {},
   "source": [
    "# Probability that max drawdown less than x"
   ]
  },
  {
   "cell_type": "code",
   "execution_count": 28,
   "metadata": {},
   "outputs": [
    {
     "data": {
      "text/plain": [
       "0.134698"
      ]
     },
     "execution_count": 28,
     "metadata": {},
     "output_type": "execute_result"
    }
   ],
   "source": [
    "x = -.4\n",
    "len(ratios_for_paths[ratios_for_paths['Max drawdown'] < x]) / number_of_paths"
   ]
  },
  {
   "cell_type": "markdown",
   "metadata": {},
   "source": [
    "# Probability that Sharpe lower than y"
   ]
  },
  {
   "cell_type": "code",
   "execution_count": 17,
   "metadata": {},
   "outputs": [
    {
     "data": {
      "text/plain": [
       "0.006448"
      ]
     },
     "execution_count": 17,
     "metadata": {},
     "output_type": "execute_result"
    }
   ],
   "source": [
    "y = 1\n",
    "len(ratios_for_paths[ratios_for_paths['Sharpe ratio'] < y]) / number_of_paths"
   ]
  },
  {
   "cell_type": "markdown",
   "metadata": {},
   "source": [
    "# Probability that annual return less than z"
   ]
  },
  {
   "cell_type": "code",
   "execution_count": 18,
   "metadata": {},
   "outputs": [
    {
     "data": {
      "text/plain": [
       "0.121302"
      ]
     },
     "execution_count": 18,
     "metadata": {},
     "output_type": "execute_result"
    }
   ],
   "source": [
    "z = 2\n",
    "len(ratios_for_paths[ratios_for_paths['Annual return'] < z]) / number_of_paths"
   ]
  },
  {
   "cell_type": "markdown",
   "metadata": {},
   "source": [
    "# Distributions"
   ]
  },
  {
   "cell_type": "markdown",
   "metadata": {},
   "source": [
    "Max drawdown"
   ]
  },
  {
   "cell_type": "code",
   "execution_count": 19,
   "metadata": {},
   "outputs": [
    {
     "data": {
      "image/png": "[encoded data removed]",
      "text/plain": [
       "<Figure size 1008x216 with 1 Axes>"
      ]
     },
     "metadata": {
      "needs_background": "light"
     },
     "output_type": "display_data"
    }
   ],
   "source": [
    "ratios_for_paths['Max drawdown'].hist(bins=50, figsize=(14,3), density=True);"
   ]
  },
  {
   "cell_type": "markdown",
   "metadata": {},
   "source": [
    "Sharpe"
   ]
  },
  {
   "cell_type": "code",
   "execution_count": 20,
   "metadata": {},
   "outputs": [
    {
     "data": {
      "image/png": "[encoded data removed]",
      "text/plain": [
       "<Figure size 1008x216 with 1 Axes>"
      ]
     },
     "metadata": {
      "needs_background": "light"
     },
     "output_type": "display_data"
    }
   ],
   "source": [
    "ratios_for_paths['Sharpe ratio'].hist(bins=50, figsize=(14,3), density=True);"
   ]
  },
  {
   "cell_type": "markdown",
   "metadata": {},
   "source": [
    "Annual return"
   ]
  },
  {
   "cell_type": "code",
   "execution_count": 21,
   "metadata": {},
   "outputs": [
    {
     "data": {
      "image/png": "[encoded data removed]",
      "text/plain": [
       "<Figure size 1008x216 with 1 Axes>"
      ]
     },
     "metadata": {
      "needs_background": "light"
     },
     "output_type": "display_data"
    }
   ],
   "source": [
    "ratios_for_paths['Annual return'].hist(bins=50, figsize=(14,3), density=True);"
   ]
  },
  {
   "cell_type": "code",
   "execution_count": null,
   "metadata": {},
   "outputs": [],
   "source": []
  }
 ],
 "metadata": {
  "kernelspec": {
   "display_name": "Python 3",
   "language": "python",
   "name": "python3"
  },
  "language_info": {
   "codemirror_mode": {
    "name": "ipython",
    "version": 3
   },
   "file_extension": ".py",
   "mimetype": "text/x-python",
   "name": "python",
   "nbconvert_exporter": "python",
   "pygments_lexer": "ipython3",
   "version": "3.7.3"
  }
 },
 "nbformat": 4,
 "nbformat_minor": 2
}
