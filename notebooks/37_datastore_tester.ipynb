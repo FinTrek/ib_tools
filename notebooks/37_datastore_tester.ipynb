{
 "cells": [
  {
   "cell_type": "code",
   "execution_count": 1,
   "metadata": {},
   "outputs": [
    {
     "name": "stderr",
     "output_type": "stream",
     "text": [
      "/home/tomek/.virtualenvs/ib/lib/python3.7/site-packages/arctic/store/_pandas_ndarray_store.py:6: FutureWarning: The Panel class is removed from pandas. Accessing it from the top-level namespace will also be removed in the next version\n",
      "  from pandas import DataFrame, Series, Panel\n"
     ]
    }
   ],
   "source": [
    "from arctic import Arctic, CHUNK_STORE\n",
    "from arctic.exceptions import NoDataFoundException\n",
    "from arctic.date import DateRange\n",
    "import pandas as pd\n",
    "from ib_insync import IB, ContFuture, util, Future, Forex, Contract\n",
    "from typing import Union\n",
    "import pickle\n",
    "from datetime import datetime, timedelta\n",
    "import sys\n",
    "sys.path.append('/home/tomek/ib_tools')\n",
    "from datastore import ArcticStore"
   ]
  },
  {
   "cell_type": "code",
   "execution_count": 2,
   "metadata": {},
   "outputs": [
    {
     "data": {
      "text/plain": [
       "<IB connected to 127.0.0.1:4002 clientId=8>"
      ]
     },
     "execution_count": 2,
     "metadata": {},
     "output_type": "execute_result"
    }
   ],
   "source": [
    "util.startLoop()\n",
    "ib = IB()\n",
    "ib.connect(port=4002, clientId=8)"
   ]
  },
  {
   "cell_type": "code",
   "execution_count": 15,
   "metadata": {},
   "outputs": [
    {
     "data": {
      "text/plain": [
       "True"
      ]
     },
     "execution_count": 15,
     "metadata": {},
     "output_type": "execute_result"
    }
   ],
   "source": [
    "ib.isConnected()"
   ]
  },
  {
   "cell_type": "code",
   "execution_count": 4,
   "metadata": {},
   "outputs": [
    {
     "data": {
      "text/plain": [
       "['history',\n",
       " 'TRADES_30_secs',\n",
       " 'TRADES_1_min',\n",
       " 'TRADES_1_day',\n",
       " 'TRADES_1 min',\n",
       " 'TRADES_30_sec']"
      ]
     },
     "execution_count": 4,
     "metadata": {},
     "output_type": "execute_result"
    }
   ],
   "source": [
    "Arctic('localhost').list_libraries()"
   ]
  },
  {
   "cell_type": "code",
   "execution_count": 5,
   "metadata": {},
   "outputs": [
    {
     "name": "stderr",
     "output_type": "stream",
     "text": [
      "Library created, but couldn't enable sharding: no such command: 'enablesharding'. This is OK if you're not 'admin'\n"
     ]
    }
   ],
   "source": [
    "store = ArcticStore('TRADES_30_secs')"
   ]
  },
  {
   "cell_type": "code",
   "execution_count": 6,
   "metadata": {},
   "outputs": [
    {
     "data": {
      "text/plain": [
       "['6EM0_CONTFUT',\n",
       " '6EU0_CONTFUT',\n",
       " '6JM0_CONTFUT',\n",
       " '6JU0_CONTFUT',\n",
       " 'BZZ0_CONTFUT',\n",
       " 'CLN0_CONTFUT',\n",
       " 'ESM0_CONTFUT',\n",
       " 'ESU0_CONTFUT',\n",
       " 'FCEM0_CONTFUT',\n",
       " 'FDAX_JUN_20_CONTFUT',\n",
       " 'GCQ0_CONTFUT',\n",
       " 'GEM0_CONTFUT',\n",
       " 'GEU0_CONTFUT',\n",
       " 'M2KM0_CONTFUT',\n",
       " 'M6EM0_CONTFUT',\n",
       " 'M6EU0_CONTFUT',\n",
       " 'MESM0_CONTFUT',\n",
       " 'MGCQ0_CONTFUT',\n",
       " 'MJYM0_CONTFUT',\n",
       " 'MJYU0_CONTFUT',\n",
       " 'MNQM0_CONTFUT',\n",
       " 'NKDM0_CONTFUT',\n",
       " 'NKDU0_CONTFUT',\n",
       " 'NQM0_CONTFUT',\n",
       " 'NQU0_CONTFUT',\n",
       " 'RTYM0_CONTFUT',\n",
       " 'YM_JUN_20_CONTFUT',\n",
       " 'YM_SEP_20_CONTFUT',\n",
       " 'ZB_JUN_20_CONTFUT',\n",
       " 'ZB_SEP_20_CONTFUT',\n",
       " 'ZF_JUN_20_CONTFUT',\n",
       " 'ZF_SEP_20_CONTFUT',\n",
       " 'ZN_JUN_20_CONTFUT',\n",
       " 'ZN_SEP_20_CONTFUT',\n",
       " 'ZS_JUL_20_CONTFUT']"
      ]
     },
     "execution_count": 6,
     "metadata": {},
     "output_type": "execute_result"
    }
   ],
   "source": [
    "store.keys()"
   ]
  },
  {
   "cell_type": "code",
   "execution_count": 7,
   "metadata": {},
   "outputs": [
    {
     "data": {
      "text/html": [
       "<div>\n",
       "<style scoped>\n",
       "    .dataframe tbody tr th:only-of-type {\n",
       "        vertical-align: middle;\n",
       "    }\n",
       "\n",
       "    .dataframe tbody tr th {\n",
       "        vertical-align: top;\n",
       "    }\n",
       "\n",
       "    .dataframe thead th {\n",
       "        text-align: right;\n",
       "    }\n",
       "</style>\n",
       "<table border=\"1\" class=\"dataframe\">\n",
       "  <thead>\n",
       "    <tr style=\"text-align: right;\">\n",
       "      <th></th>\n",
       "      <th>from</th>\n",
       "      <th>to</th>\n",
       "    </tr>\n",
       "  </thead>\n",
       "  <tbody>\n",
       "    <tr>\n",
       "      <td>6EM0_CONTFUT</td>\n",
       "      <td>2017-02-15 19:04:30</td>\n",
       "      <td>2020-06-10 15:13:00</td>\n",
       "    </tr>\n",
       "    <tr>\n",
       "      <td>6EU0_CONTFUT</td>\n",
       "      <td>2020-04-29 00:00:00</td>\n",
       "      <td>2020-06-15 12:37:00</td>\n",
       "    </tr>\n",
       "    <tr>\n",
       "      <td>6JM0_CONTFUT</td>\n",
       "      <td>2017-01-12 21:08:00</td>\n",
       "      <td>2020-06-10 15:13:00</td>\n",
       "    </tr>\n",
       "    <tr>\n",
       "      <td>6JU0_CONTFUT</td>\n",
       "      <td>2020-04-29 00:00:00</td>\n",
       "      <td>2020-06-15 12:37:00</td>\n",
       "    </tr>\n",
       "    <tr>\n",
       "      <td>BZZ0_CONTFUT</td>\n",
       "      <td>2016-10-31 17:22:30</td>\n",
       "      <td>2020-06-15 12:37:00</td>\n",
       "    </tr>\n",
       "    <tr>\n",
       "      <td>CLN0_CONTFUT</td>\n",
       "      <td>2018-05-30 00:00:00</td>\n",
       "      <td>2020-06-15 12:37:00</td>\n",
       "    </tr>\n",
       "    <tr>\n",
       "      <td>ESM0_CONTFUT</td>\n",
       "      <td>2017-06-16 14:55:30</td>\n",
       "      <td>2020-06-10 15:13:00</td>\n",
       "    </tr>\n",
       "    <tr>\n",
       "      <td>ESU0_CONTFUT</td>\n",
       "      <td>2020-02-26 00:00:00</td>\n",
       "      <td>2020-06-15 12:37:00</td>\n",
       "    </tr>\n",
       "    <tr>\n",
       "      <td>FCEM0_CONTFUT</td>\n",
       "      <td>2018-01-02 09:08:30</td>\n",
       "      <td>2020-06-15 12:37:00</td>\n",
       "    </tr>\n",
       "    <tr>\n",
       "      <td>FDAX_JUN_20_CONTFUT</td>\n",
       "      <td>2017-09-20 16:47:00</td>\n",
       "      <td>2020-06-15 12:37:00</td>\n",
       "    </tr>\n",
       "    <tr>\n",
       "      <td>GCQ0_CONTFUT</td>\n",
       "      <td>2016-10-27 15:46:00</td>\n",
       "      <td>2020-06-15 12:37:00</td>\n",
       "    </tr>\n",
       "    <tr>\n",
       "      <td>GEM0_CONTFUT</td>\n",
       "      <td>2016-12-05 00:00:00</td>\n",
       "      <td>2020-06-10 15:13:00</td>\n",
       "    </tr>\n",
       "    <tr>\n",
       "      <td>GEU0_CONTFUT</td>\n",
       "      <td>2020-04-29 00:00:00</td>\n",
       "      <td>2020-06-15 12:37:00</td>\n",
       "    </tr>\n",
       "    <tr>\n",
       "      <td>M2KM0_CONTFUT</td>\n",
       "      <td>2019-05-06 00:01:30</td>\n",
       "      <td>2020-06-15 12:37:00</td>\n",
       "    </tr>\n",
       "    <tr>\n",
       "      <td>M6EM0_CONTFUT</td>\n",
       "      <td>2017-12-19 09:26:30</td>\n",
       "      <td>2020-06-10 15:13:00</td>\n",
       "    </tr>\n",
       "    <tr>\n",
       "      <td>M6EU0_CONTFUT</td>\n",
       "      <td>2020-04-29 00:00:00</td>\n",
       "      <td>2020-06-15 12:37:00</td>\n",
       "    </tr>\n",
       "    <tr>\n",
       "      <td>MESM0_CONTFUT</td>\n",
       "      <td>2019-05-06 00:00:00</td>\n",
       "      <td>2020-06-15 12:37:00</td>\n",
       "    </tr>\n",
       "    <tr>\n",
       "      <td>MGCQ0_CONTFUT</td>\n",
       "      <td>2017-05-03 22:31:30</td>\n",
       "      <td>2020-06-15 12:37:00</td>\n",
       "    </tr>\n",
       "    <tr>\n",
       "      <td>MJYM0_CONTFUT</td>\n",
       "      <td>2017-12-26 20:39:00</td>\n",
       "      <td>2020-06-10 15:13:00</td>\n",
       "    </tr>\n",
       "    <tr>\n",
       "      <td>MJYU0_CONTFUT</td>\n",
       "      <td>2020-04-24 00:04:00</td>\n",
       "      <td>2020-06-15 12:37:00</td>\n",
       "    </tr>\n",
       "    <tr>\n",
       "      <td>MNQM0_CONTFUT</td>\n",
       "      <td>2019-05-06 00:03:00</td>\n",
       "      <td>2020-06-15 12:37:00</td>\n",
       "    </tr>\n",
       "    <tr>\n",
       "      <td>NKDM0_CONTFUT</td>\n",
       "      <td>2017-12-27 17:05:00</td>\n",
       "      <td>2020-06-04 15:23:30</td>\n",
       "    </tr>\n",
       "    <tr>\n",
       "      <td>NKDU0_CONTFUT</td>\n",
       "      <td>2018-03-08 15:31:30</td>\n",
       "      <td>2020-06-15 12:37:00</td>\n",
       "    </tr>\n",
       "    <tr>\n",
       "      <td>NQM0_CONTFUT</td>\n",
       "      <td>2017-08-08 20:49:00</td>\n",
       "      <td>2020-06-10 15:13:00</td>\n",
       "    </tr>\n",
       "    <tr>\n",
       "      <td>NQU0_CONTFUT</td>\n",
       "      <td>2020-02-26 00:00:00</td>\n",
       "      <td>2020-06-15 12:37:00</td>\n",
       "    </tr>\n",
       "    <tr>\n",
       "      <td>RTYM0_CONTFUT</td>\n",
       "      <td>2017-12-19 15:24:30</td>\n",
       "      <td>2020-06-15 12:37:00</td>\n",
       "    </tr>\n",
       "    <tr>\n",
       "      <td>YM_JUN_20_CONTFUT</td>\n",
       "      <td>2017-07-12 14:42:00</td>\n",
       "      <td>2020-06-10 15:13:00</td>\n",
       "    </tr>\n",
       "    <tr>\n",
       "      <td>YM_SEP_20_CONTFUT</td>\n",
       "      <td>2020-02-26 00:00:00</td>\n",
       "      <td>2020-06-15 12:37:00</td>\n",
       "    </tr>\n",
       "    <tr>\n",
       "      <td>ZB_JUN_20_CONTFUT</td>\n",
       "      <td>2020-03-22 23:00:00</td>\n",
       "      <td>2020-05-28 18:50:00</td>\n",
       "    </tr>\n",
       "    <tr>\n",
       "      <td>ZB_SEP_20_CONTFUT</td>\n",
       "      <td>2017-11-15 09:51:30</td>\n",
       "      <td>2020-06-15 12:37:00</td>\n",
       "    </tr>\n",
       "    <tr>\n",
       "      <td>ZF_JUN_20_CONTFUT</td>\n",
       "      <td>2020-02-28 00:00:00</td>\n",
       "      <td>2020-05-28 18:50:00</td>\n",
       "    </tr>\n",
       "    <tr>\n",
       "      <td>ZF_SEP_20_CONTFUT</td>\n",
       "      <td>2018-01-10 07:23:30</td>\n",
       "      <td>2020-06-15 12:37:00</td>\n",
       "    </tr>\n",
       "    <tr>\n",
       "      <td>ZN_JUN_20_CONTFUT</td>\n",
       "      <td>2020-02-28 00:00:00</td>\n",
       "      <td>2020-05-28 18:50:00</td>\n",
       "    </tr>\n",
       "    <tr>\n",
       "      <td>ZN_SEP_20_CONTFUT</td>\n",
       "      <td>2017-12-19 17:02:00</td>\n",
       "      <td>2020-06-15 12:37:00</td>\n",
       "    </tr>\n",
       "    <tr>\n",
       "      <td>ZS_JUL_20_CONTFUT</td>\n",
       "      <td>2016-03-22 02:14:00</td>\n",
       "      <td>2020-06-15 12:37:00</td>\n",
       "    </tr>\n",
       "  </tbody>\n",
       "</table>\n",
       "</div>"
      ],
      "text/plain": [
       "                                   from                  to\n",
       "6EM0_CONTFUT        2017-02-15 19:04:30 2020-06-10 15:13:00\n",
       "6EU0_CONTFUT        2020-04-29 00:00:00 2020-06-15 12:37:00\n",
       "6JM0_CONTFUT        2017-01-12 21:08:00 2020-06-10 15:13:00\n",
       "6JU0_CONTFUT        2020-04-29 00:00:00 2020-06-15 12:37:00\n",
       "BZZ0_CONTFUT        2016-10-31 17:22:30 2020-06-15 12:37:00\n",
       "CLN0_CONTFUT        2018-05-30 00:00:00 2020-06-15 12:37:00\n",
       "ESM0_CONTFUT        2017-06-16 14:55:30 2020-06-10 15:13:00\n",
       "ESU0_CONTFUT        2020-02-26 00:00:00 2020-06-15 12:37:00\n",
       "FCEM0_CONTFUT       2018-01-02 09:08:30 2020-06-15 12:37:00\n",
       "FDAX_JUN_20_CONTFUT 2017-09-20 16:47:00 2020-06-15 12:37:00\n",
       "GCQ0_CONTFUT        2016-10-27 15:46:00 2020-06-15 12:37:00\n",
       "GEM0_CONTFUT        2016-12-05 00:00:00 2020-06-10 15:13:00\n",
       "GEU0_CONTFUT        2020-04-29 00:00:00 2020-06-15 12:37:00\n",
       "M2KM0_CONTFUT       2019-05-06 00:01:30 2020-06-15 12:37:00\n",
       "M6EM0_CONTFUT       2017-12-19 09:26:30 2020-06-10 15:13:00\n",
       "M6EU0_CONTFUT       2020-04-29 00:00:00 2020-06-15 12:37:00\n",
       "MESM0_CONTFUT       2019-05-06 00:00:00 2020-06-15 12:37:00\n",
       "MGCQ0_CONTFUT       2017-05-03 22:31:30 2020-06-15 12:37:00\n",
       "MJYM0_CONTFUT       2017-12-26 20:39:00 2020-06-10 15:13:00\n",
       "MJYU0_CONTFUT       2020-04-24 00:04:00 2020-06-15 12:37:00\n",
       "MNQM0_CONTFUT       2019-05-06 00:03:00 2020-06-15 12:37:00\n",
       "NKDM0_CONTFUT       2017-12-27 17:05:00 2020-06-04 15:23:30\n",
       "NKDU0_CONTFUT       2018-03-08 15:31:30 2020-06-15 12:37:00\n",
       "NQM0_CONTFUT        2017-08-08 20:49:00 2020-06-10 15:13:00\n",
       "NQU0_CONTFUT        2020-02-26 00:00:00 2020-06-15 12:37:00\n",
       "RTYM0_CONTFUT       2017-12-19 15:24:30 2020-06-15 12:37:00\n",
       "YM_JUN_20_CONTFUT   2017-07-12 14:42:00 2020-06-10 15:13:00\n",
       "YM_SEP_20_CONTFUT   2020-02-26 00:00:00 2020-06-15 12:37:00\n",
       "ZB_JUN_20_CONTFUT   2020-03-22 23:00:00 2020-05-28 18:50:00\n",
       "ZB_SEP_20_CONTFUT   2017-11-15 09:51:30 2020-06-15 12:37:00\n",
       "ZF_JUN_20_CONTFUT   2020-02-28 00:00:00 2020-05-28 18:50:00\n",
       "ZF_SEP_20_CONTFUT   2018-01-10 07:23:30 2020-06-15 12:37:00\n",
       "ZN_JUN_20_CONTFUT   2020-02-28 00:00:00 2020-05-28 18:50:00\n",
       "ZN_SEP_20_CONTFUT   2017-12-19 17:02:00 2020-06-15 12:37:00\n",
       "ZS_JUL_20_CONTFUT   2016-03-22 02:14:00 2020-06-15 12:37:00"
      ]
     },
     "execution_count": 7,
     "metadata": {},
     "output_type": "execute_result"
    }
   ],
   "source": [
    "store.date_range()"
   ]
  },
  {
   "cell_type": "code",
   "execution_count": 8,
   "metadata": {},
   "outputs": [
    {
     "data": {
      "text/plain": [
       "VersionedItem(symbol=NQU0_CONTFUT,library=arctic.TRADES_30_secs,data=<class 'pandas.core.frame.DataFrame'>,version=15,metadata={'secType': 'CONTFUT', 'conId': 371749745, 'symbol': 'NQ', 'lastTradeDateOrContractMonth': '20200918', 'multiplier': '20', 'exchange': 'GLOBEX', 'currency': 'USD', 'localSymbol': 'NQU0', 'tradingClass': 'NQ', 'repr': \"ContFuture(conId=371749745, symbol='NQ', lastTradeDateOrContractMonth='20200918', multiplier='20', exchange='GLOBEX', currency='USD', localSymbol='NQU0', tradingClass='NQ')\", 'object': b'\\x80\\x03cib_insync.contract\\nContFuture\\nq\\x00)\\x81q\\x01N}q\\x02(X\\x07\\x00\\x00\\x00secTypeq\\x03X\\x07\\x00\\x00\\x00CONTFUTq\\x04X\\x05\\x00\\x00\\x00conIdq\\x05Jqs(\\x16X\\x06\\x00\\x00\\x00symbolq\\x06X\\x02\\x00\\x00\\x00NQq\\x07X\\x1c\\x00\\x00\\x00lastTradeDateOrContractMonthq\\x08X\\x08\\x00\\x00\\x0020200918q\\tX\\x06\\x00\\x00\\x00strikeq\\nG\\x00\\x00\\x00\\x00\\x00\\x00\\x00\\x00X\\x05\\x00\\x00\\x00rightq\\x0bX\\x00\\x00\\x00\\x00q\\x0cX\\n\\x00\\x00\\x00multiplierq\\rX\\x02\\x00\\x00\\x0020q\\x0eX\\x08\\x00\\x00\\x00exchangeq\\x0fX\\x06\\x00\\x00\\x00GLOBEXq\\x10X\\x0f\\x00\\x00\\x00primaryExchangeq\\x11h\\x0cX\\x08\\x00\\x00\\x00currencyq\\x12X\\x03\\x00\\x00\\x00USDq\\x13X\\x0b\\x00\\x00\\x00localSymbolq\\x14X\\x04\\x00\\x00\\x00NQU0q\\x15X\\x0c\\x00\\x00\\x00tradingClassq\\x16X\\x02\\x00\\x00\\x00NQq\\x17X\\x0e\\x00\\x00\\x00includeExpiredq\\x18\\x89X\\t\\x00\\x00\\x00secIdTypeq\\x19h\\x0cX\\x05\\x00\\x00\\x00secIdq\\x1ah\\x0cX\\x10\\x00\\x00\\x00comboLegsDescripq\\x1bh\\x0cX\\t\\x00\\x00\\x00comboLegsq\\x1cNX\\x14\\x00\\x00\\x00deltaNeutralContractq\\x1dNu\\x86q\\x1eb.'},host=localhost)"
      ]
     },
     "execution_count": 8,
     "metadata": {},
     "output_type": "execute_result"
    }
   ],
   "source": [
    "store.read_object('NQU0_CONTFUT')"
   ]
  },
  {
   "cell_type": "code",
   "execution_count": 9,
   "metadata": {},
   "outputs": [
    {
     "data": {
      "text/plain": [
       "{'secType': 'CONTFUT',\n",
       " 'conId': 371749745,\n",
       " 'symbol': 'NQ',\n",
       " 'lastTradeDateOrContractMonth': '20200918',\n",
       " 'multiplier': '20',\n",
       " 'exchange': 'GLOBEX',\n",
       " 'currency': 'USD',\n",
       " 'localSymbol': 'NQU0',\n",
       " 'tradingClass': 'NQ',\n",
       " 'repr': \"ContFuture(conId=371749745, symbol='NQ', lastTradeDateOrContractMonth='20200918', multiplier='20', exchange='GLOBEX', currency='USD', localSymbol='NQU0', tradingClass='NQ')\",\n",
       " 'object': b'\\x80\\x03cib_insync.contract\\nContFuture\\nq\\x00)\\x81q\\x01N}q\\x02(X\\x07\\x00\\x00\\x00secTypeq\\x03X\\x07\\x00\\x00\\x00CONTFUTq\\x04X\\x05\\x00\\x00\\x00conIdq\\x05Jqs(\\x16X\\x06\\x00\\x00\\x00symbolq\\x06X\\x02\\x00\\x00\\x00NQq\\x07X\\x1c\\x00\\x00\\x00lastTradeDateOrContractMonthq\\x08X\\x08\\x00\\x00\\x0020200918q\\tX\\x06\\x00\\x00\\x00strikeq\\nG\\x00\\x00\\x00\\x00\\x00\\x00\\x00\\x00X\\x05\\x00\\x00\\x00rightq\\x0bX\\x00\\x00\\x00\\x00q\\x0cX\\n\\x00\\x00\\x00multiplierq\\rX\\x02\\x00\\x00\\x0020q\\x0eX\\x08\\x00\\x00\\x00exchangeq\\x0fX\\x06\\x00\\x00\\x00GLOBEXq\\x10X\\x0f\\x00\\x00\\x00primaryExchangeq\\x11h\\x0cX\\x08\\x00\\x00\\x00currencyq\\x12X\\x03\\x00\\x00\\x00USDq\\x13X\\x0b\\x00\\x00\\x00localSymbolq\\x14X\\x04\\x00\\x00\\x00NQU0q\\x15X\\x0c\\x00\\x00\\x00tradingClassq\\x16X\\x02\\x00\\x00\\x00NQq\\x17X\\x0e\\x00\\x00\\x00includeExpiredq\\x18\\x89X\\t\\x00\\x00\\x00secIdTypeq\\x19h\\x0cX\\x05\\x00\\x00\\x00secIdq\\x1ah\\x0cX\\x10\\x00\\x00\\x00comboLegsDescripq\\x1bh\\x0cX\\t\\x00\\x00\\x00comboLegsq\\x1cNX\\x14\\x00\\x00\\x00deltaNeutralContractq\\x1dNu\\x86q\\x1eb.'}"
      ]
     },
     "execution_count": 9,
     "metadata": {},
     "output_type": "execute_result"
    }
   ],
   "source": [
    "store.read_metadata('NQU0_CONTFUT')"
   ]
  },
  {
   "cell_type": "code",
   "execution_count": 10,
   "metadata": {},
   "outputs": [
    {
     "data": {
      "text/plain": [
       "VersionedItem(symbol=YM_JUN_20_CONTFUT,library=arctic.TRADES_30_secs,data=<class 'pandas.core.frame.DataFrame'>,version=1,metadata={'secType': 'CONTFUT', 'conId': 371749728, 'symbol': 'YM', 'lastTradeDateOrContractMonth': '20200619', 'multiplier': '5', 'exchange': 'ECBOT', 'currency': 'USD', 'localSymbol': 'YM   JUN 20', 'tradingClass': 'YM', 'repr': \"ContFuture(conId=371749728, symbol='YM', lastTradeDateOrContractMonth='20200619', multiplier='5', exchange='ECBOT', currency='USD', localSymbol='YM   JUN 20', tradingClass='YM')\", 'object': None},host=localhost)"
      ]
     },
     "execution_count": 10,
     "metadata": {},
     "output_type": "execute_result"
    }
   ],
   "source": [
    "store.read_object('YM_JUN_20_CONTFUT')"
   ]
  },
  {
   "cell_type": "code",
   "execution_count": 11,
   "metadata": {},
   "outputs": [
    {
     "name": "stdout",
     "output_type": "stream",
     "text": [
      "6EM0_CONTFUT: 6E\n",
      "6EU0_CONTFUT: 6E\n",
      "6JM0_CONTFUT: 6J\n",
      "6JU0_CONTFUT: 6J\n",
      "BZZ0_CONTFUT: BZ\n",
      "CLN0_CONTFUT: CL\n",
      "ESM0_CONTFUT: ES\n",
      "ESU0_CONTFUT: ES\n",
      "FCEM0_CONTFUT: FCE\n",
      "FDAX_JUN_20_CONTFUT: FDAX\n",
      "GCQ0_CONTFUT: GC\n",
      "GEM0_CONTFUT: GE\n",
      "GEU0_CONTFUT: GE\n",
      "M2KM0_CONTFUT: M2K\n",
      "M6EM0_CONTFUT: M6E\n",
      "M6EU0_CONTFUT: M6E\n",
      "MESM0_CONTFUT: MES\n",
      "MGCQ0_CONTFUT: MGC\n",
      "MJYM0_CONTFUT: MJY\n",
      "MJYU0_CONTFUT: MJY\n",
      "MNQM0_CONTFUT: MNQ\n",
      "NKDM0_CONTFUT: NKD\n",
      "NKDU0_CONTFUT: NKD\n",
      "NQM0_CONTFUT: NQ\n",
      "NQU0_CONTFUT: NQ\n",
      "RTYM0_CONTFUT: RTY\n",
      "YM_JUN_20_CONTFUT: YM\n",
      "YM_SEP_20_CONTFUT: YM\n",
      "ZB_JUN_20_CONTFUT: ZB\n",
      "ZB_SEP_20_CONTFUT: ZB\n",
      "ZF_JUN_20_CONTFUT: ZF\n",
      "ZF_SEP_20_CONTFUT: ZF\n",
      "ZN_JUN_20_CONTFUT: ZN\n",
      "ZN_SEP_20_CONTFUT: ZN\n",
      "ZS_JUL_20_CONTFUT: ZS\n"
     ]
    }
   ],
   "source": [
    "for key in store.keys():\n",
    "    print(f'{key}: {store.read_object(key).metadata[\"tradingClass\"]}')"
   ]
  },
  {
   "cell_type": "code",
   "execution_count": 13,
   "metadata": {},
   "outputs": [
    {
     "data": {
      "text/plain": [
       "{'6E': '6EU0_CONTFUT',\n",
       " '6J': '6JU0_CONTFUT',\n",
       " 'BZ': 'BZZ0_CONTFUT',\n",
       " 'CL': 'CLN0_CONTFUT',\n",
       " 'ES': 'ESU0_CONTFUT',\n",
       " 'FCE': 'FCEM0_CONTFUT',\n",
       " 'FDAX': 'FDAX_JUN_20_CONTFUT',\n",
       " 'GC': 'GCQ0_CONTFUT',\n",
       " 'GE': 'GEU0_CONTFUT',\n",
       " 'M2K': 'M2KM0_CONTFUT',\n",
       " 'M6E': 'M6EU0_CONTFUT',\n",
       " 'MES': 'MESM0_CONTFUT',\n",
       " 'MGC': 'MGCQ0_CONTFUT',\n",
       " 'MJY': 'MJYU0_CONTFUT',\n",
       " 'MNQ': 'MNQM0_CONTFUT',\n",
       " 'NKD': 'NKDU0_CONTFUT',\n",
       " 'NQ': 'NQU0_CONTFUT',\n",
       " 'RTY': 'RTYM0_CONTFUT',\n",
       " 'YM': 'YM_SEP_20_CONTFUT',\n",
       " 'ZB': 'ZB_SEP_20_CONTFUT',\n",
       " 'ZF': 'ZF_SEP_20_CONTFUT',\n",
       " 'ZN': 'ZN_SEP_20_CONTFUT',\n",
       " 'ZS': 'ZS_JUL_20_CONTFUT'}"
      ]
     },
     "execution_count": 13,
     "metadata": {},
     "output_type": "execute_result"
    }
   ],
   "source": [
    "store.latest_contfutures"
   ]
  },
  {
   "cell_type": "code",
   "execution_count": 14,
   "metadata": {},
   "outputs": [
    {
     "data": {
      "text/html": [
       "<div>\n",
       "<style scoped>\n",
       "    .dataframe tbody tr th:only-of-type {\n",
       "        vertical-align: middle;\n",
       "    }\n",
       "\n",
       "    .dataframe tbody tr th {\n",
       "        vertical-align: top;\n",
       "    }\n",
       "\n",
       "    .dataframe thead th {\n",
       "        text-align: right;\n",
       "    }\n",
       "</style>\n",
       "<table border=\"1\" class=\"dataframe\">\n",
       "  <thead>\n",
       "    <tr style=\"text-align: right;\">\n",
       "      <th></th>\n",
       "      <th>open</th>\n",
       "      <th>high</th>\n",
       "      <th>low</th>\n",
       "      <th>close</th>\n",
       "      <th>volume</th>\n",
       "      <th>average</th>\n",
       "      <th>barCount</th>\n",
       "    </tr>\n",
       "    <tr>\n",
       "      <th>date</th>\n",
       "      <th></th>\n",
       "      <th></th>\n",
       "      <th></th>\n",
       "      <th></th>\n",
       "      <th></th>\n",
       "      <th></th>\n",
       "      <th></th>\n",
       "    </tr>\n",
       "  </thead>\n",
       "  <tbody>\n",
       "    <tr>\n",
       "      <td>2020-02-21 00:00:00</td>\n",
       "      <td>9617.25</td>\n",
       "      <td>9618.75</td>\n",
       "      <td>9614.25</td>\n",
       "      <td>9615.50</td>\n",
       "      <td>288</td>\n",
       "      <td>9616.500</td>\n",
       "      <td>159</td>\n",
       "    </tr>\n",
       "    <tr>\n",
       "      <td>2020-02-21 00:00:30</td>\n",
       "      <td>9615.50</td>\n",
       "      <td>9616.75</td>\n",
       "      <td>9610.50</td>\n",
       "      <td>9613.25</td>\n",
       "      <td>168</td>\n",
       "      <td>9613.250</td>\n",
       "      <td>113</td>\n",
       "    </tr>\n",
       "    <tr>\n",
       "      <td>2020-02-21 00:01:00</td>\n",
       "      <td>9612.50</td>\n",
       "      <td>9614.00</td>\n",
       "      <td>9611.75</td>\n",
       "      <td>9612.00</td>\n",
       "      <td>70</td>\n",
       "      <td>9612.725</td>\n",
       "      <td>54</td>\n",
       "    </tr>\n",
       "    <tr>\n",
       "      <td>2020-02-21 00:01:30</td>\n",
       "      <td>9612.00</td>\n",
       "      <td>9613.00</td>\n",
       "      <td>9610.50</td>\n",
       "      <td>9610.75</td>\n",
       "      <td>100</td>\n",
       "      <td>9612.050</td>\n",
       "      <td>53</td>\n",
       "    </tr>\n",
       "    <tr>\n",
       "      <td>2020-02-21 00:02:00</td>\n",
       "      <td>9610.75</td>\n",
       "      <td>9612.25</td>\n",
       "      <td>9609.00</td>\n",
       "      <td>9611.75</td>\n",
       "      <td>147</td>\n",
       "      <td>9610.475</td>\n",
       "      <td>108</td>\n",
       "    </tr>\n",
       "    <tr>\n",
       "      <td>...</td>\n",
       "      <td>...</td>\n",
       "      <td>...</td>\n",
       "      <td>...</td>\n",
       "      <td>...</td>\n",
       "      <td>...</td>\n",
       "      <td>...</td>\n",
       "      <td>...</td>\n",
       "    </tr>\n",
       "    <tr>\n",
       "      <td>2020-06-15 12:35:00</td>\n",
       "      <td>9499.75</td>\n",
       "      <td>9501.75</td>\n",
       "      <td>9499.25</td>\n",
       "      <td>9500.00</td>\n",
       "      <td>46</td>\n",
       "      <td>9500.975</td>\n",
       "      <td>34</td>\n",
       "    </tr>\n",
       "    <tr>\n",
       "      <td>2020-06-15 12:35:30</td>\n",
       "      <td>9501.75</td>\n",
       "      <td>9502.25</td>\n",
       "      <td>9500.50</td>\n",
       "      <td>9502.25</td>\n",
       "      <td>14</td>\n",
       "      <td>9501.475</td>\n",
       "      <td>12</td>\n",
       "    </tr>\n",
       "    <tr>\n",
       "      <td>2020-06-15 12:36:00</td>\n",
       "      <td>9502.75</td>\n",
       "      <td>9505.25</td>\n",
       "      <td>9500.00</td>\n",
       "      <td>9503.25</td>\n",
       "      <td>32</td>\n",
       "      <td>9502.750</td>\n",
       "      <td>28</td>\n",
       "    </tr>\n",
       "    <tr>\n",
       "      <td>2020-06-15 12:36:30</td>\n",
       "      <td>9504.25</td>\n",
       "      <td>9504.75</td>\n",
       "      <td>9502.00</td>\n",
       "      <td>9503.00</td>\n",
       "      <td>53</td>\n",
       "      <td>9503.600</td>\n",
       "      <td>36</td>\n",
       "    </tr>\n",
       "    <tr>\n",
       "      <td>2020-06-15 12:37:00</td>\n",
       "      <td>9503.50</td>\n",
       "      <td>9504.75</td>\n",
       "      <td>9503.00</td>\n",
       "      <td>9503.00</td>\n",
       "      <td>11</td>\n",
       "      <td>9503.700</td>\n",
       "      <td>8</td>\n",
       "    </tr>\n",
       "  </tbody>\n",
       "</table>\n",
       "<p>219464 rows × 7 columns</p>\n",
       "</div>"
      ],
      "text/plain": [
       "                        open     high      low    close  volume   average  \\\n",
       "date                                                                        \n",
       "2020-02-21 00:00:00  9617.25  9618.75  9614.25  9615.50     288  9616.500   \n",
       "2020-02-21 00:00:30  9615.50  9616.75  9610.50  9613.25     168  9613.250   \n",
       "2020-02-21 00:01:00  9612.50  9614.00  9611.75  9612.00      70  9612.725   \n",
       "2020-02-21 00:01:30  9612.00  9613.00  9610.50  9610.75     100  9612.050   \n",
       "2020-02-21 00:02:00  9610.75  9612.25  9609.00  9611.75     147  9610.475   \n",
       "...                      ...      ...      ...      ...     ...       ...   \n",
       "2020-06-15 12:35:00  9499.75  9501.75  9499.25  9500.00      46  9500.975   \n",
       "2020-06-15 12:35:30  9501.75  9502.25  9500.50  9502.25      14  9501.475   \n",
       "2020-06-15 12:36:00  9502.75  9505.25  9500.00  9503.25      32  9502.750   \n",
       "2020-06-15 12:36:30  9504.25  9504.75  9502.00  9503.00      53  9503.600   \n",
       "2020-06-15 12:37:00  9503.50  9504.75  9503.00  9503.00      11  9503.700   \n",
       "\n",
       "                     barCount  \n",
       "date                           \n",
       "2020-02-21 00:00:00       159  \n",
       "2020-02-21 00:00:30       113  \n",
       "2020-02-21 00:01:00        54  \n",
       "2020-02-21 00:01:30        53  \n",
       "2020-02-21 00:02:00       108  \n",
       "...                       ...  \n",
       "2020-06-15 12:35:00        34  \n",
       "2020-06-15 12:35:30        12  \n",
       "2020-06-15 12:36:00        28  \n",
       "2020-06-15 12:36:30        36  \n",
       "2020-06-15 12:37:00         8  \n",
       "\n",
       "[219464 rows x 7 columns]"
      ]
     },
     "execution_count": 14,
     "metadata": {},
     "output_type": "execute_result"
    }
   ],
   "source": [
    "store.contfuture('NQ')"
   ]
  },
  {
   "cell_type": "code",
   "execution_count": null,
   "metadata": {},
   "outputs": [],
   "source": [
    "def hist(days_at_a_time):\n",
    "    dt = ''\n",
    "    barsList = []\n",
    "    i = 10/days_at_a_time\n",
    "    #i=1\n",
    "    while i>0:\n",
    "        bars = ib.reqHistoricalData(\n",
    "            nq,\n",
    "            endDateTime=dt,\n",
    "            durationStr=str(days_at_a_time) + ' D',\n",
    "            barSizeSetting='1 min',\n",
    "            whatToShow='TRADES',\n",
    "            useRTH=False,\n",
    "            formatDate=1)\n",
    "        #lib.append('edek', bars)\n",
    "        if not bars:\n",
    "            break\n",
    "            dt -= timedelta(days=1)\n",
    "            print(f'new dt: {dt}')\n",
    "            continue\n",
    "        barsList.append(bars)\n",
    "        dt = bars[0].date\n",
    "        print(dt)\n",
    "        i -= 1\n",
    "    allBars = [b for bars in reversed(barsList) for b in bars]\n",
    "    df = util.df(allBars)\n",
    "    return df"
   ]
  },
  {
   "cell_type": "code",
   "execution_count": null,
   "metadata": {},
   "outputs": [],
   "source": [
    "bars = ib.reqHistoricalData(\n",
    "            mes,\n",
    "            endDateTime= '20190506 00:00:00',\n",
    "            durationStr='1 D',\n",
    "            barSizeSetting='30 secs',\n",
    "            whatToShow='TRADES',\n",
    "            useRTH=False,\n",
    "            formatDate=1)"
   ]
  },
  {
   "cell_type": "code",
   "execution_count": null,
   "metadata": {},
   "outputs": [],
   "source": [
    "nq"
   ]
  },
  {
   "cell_type": "code",
   "execution_count": null,
   "metadata": {},
   "outputs": [],
   "source": [
    "nq.loc['20190101':]"
   ]
  },
  {
   "cell_type": "code",
   "execution_count": null,
   "metadata": {},
   "outputs": [],
   "source": []
  }
 ],
 "metadata": {
  "kernelspec": {
   "display_name": "Python 3",
   "language": "python",
   "name": "python3"
  },
  "language_info": {
   "codemirror_mode": {
    "name": "ipython",
    "version": 3
   },
   "file_extension": ".py",
   "mimetype": "text/x-python",
   "name": "python",
   "nbconvert_exporter": "python",
   "pygments_lexer": "ipython3",
   "version": "3.7.3"
  }
 },
 "nbformat": 4,
 "nbformat_minor": 2
}
