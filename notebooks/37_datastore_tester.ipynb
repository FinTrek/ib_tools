{
 "cells": [
  {
   "cell_type": "code",
   "execution_count": 1,
   "metadata": {},
   "outputs": [
    {
     "name": "stderr",
     "output_type": "stream",
     "text": [
      "/home/tomek/.virtualenvs/ib/lib/python3.7/site-packages/arctic/store/_pandas_ndarray_store.py:6: FutureWarning: The Panel class is removed from pandas. Accessing it from the top-level namespace will also be removed in the next version\n",
      "  from pandas import DataFrame, Series, Panel\n"
     ]
    }
   ],
   "source": [
    "from arctic import Arctic\n",
    "from arctic.date import DateRange\n",
    "from arctic.exceptions import NoDataFoundException\n",
    "from arctic.date import DateRange\n",
    "import pandas as pd\n",
    "from ib_insync import IB, ContFuture, util, Future, Forex, Contract\n",
    "from typing import Union\n",
    "import pickle\n",
    "from datetime import datetime, timedelta\n",
    "import sys\n",
    "sys.path.append('/home/tomek/ib_tools')\n",
    "from datastore import ArcticStore"
   ]
  },
  {
   "cell_type": "code",
   "execution_count": 2,
   "metadata": {},
   "outputs": [
    {
     "data": {
      "text/plain": [
       "<IB connected to 127.0.0.1:4002 clientId=9>"
      ]
     },
     "execution_count": 2,
     "metadata": {},
     "output_type": "execute_result"
    }
   ],
   "source": [
    "util.startLoop()\n",
    "ib = IB()\n",
    "ib.connect(port=4002, clientId=9)"
   ]
  },
  {
   "cell_type": "code",
   "execution_count": 3,
   "metadata": {},
   "outputs": [
    {
     "data": {
      "text/plain": [
       "True"
      ]
     },
     "execution_count": 3,
     "metadata": {},
     "output_type": "execute_result"
    }
   ],
   "source": [
    "ib.isConnected()"
   ]
  },
  {
   "cell_type": "code",
   "execution_count": null,
   "metadata": {},
   "outputs": [],
   "source": [
    "Arctic('localhost').list_libraries()"
   ]
  },
  {
   "cell_type": "code",
   "execution_count": 4,
   "metadata": {},
   "outputs": [
    {
     "name": "stderr",
     "output_type": "stream",
     "text": [
      "Library created, but couldn't enable sharding: no such command: 'enablesharding'. This is OK if you're not 'admin'\n"
     ]
    }
   ],
   "source": [
    "store = ArcticStore('TRADES_30_secs')"
   ]
  },
  {
   "cell_type": "code",
   "execution_count": null,
   "metadata": {},
   "outputs": [],
   "source": [
    "keys = store.keys()"
   ]
  },
  {
   "cell_type": "code",
   "execution_count": null,
   "metadata": {},
   "outputs": [],
   "source": []
  },
  {
   "cell_type": "code",
   "execution_count": null,
   "metadata": {
    "scrolled": false
   },
   "outputs": [],
   "source": [
    "missing = []\n",
    "for key in keys:\n",
    "    if store.read_metadata(key)['object'] is None:\n",
    "        missing.append(key)\n",
    "missing"
   ]
  },
  {
   "cell_type": "code",
   "execution_count": null,
   "metadata": {},
   "outputs": [],
   "source": [
    "store.read_metadata(missing[0])"
   ]
  },
  {
   "cell_type": "code",
   "execution_count": null,
   "metadata": {},
   "outputs": [],
   "source": []
  },
  {
   "cell_type": "code",
   "execution_count": null,
   "metadata": {},
   "outputs": [],
   "source": [
    "new_missing = []\n",
    "for key in keys:\n",
    "    if store.read_metadata(key)['object'] is None:\n",
    "        new_missing.append(key)\n",
    "new_missing"
   ]
  },
  {
   "cell_type": "code",
   "execution_count": null,
   "metadata": {},
   "outputs": [],
   "source": [
    "objects = []\n",
    "for key in missing:\n",
    "    meta = store.read_metadata(key)\n",
    "    fields = {}\n",
    "    for field in ['symbol', 'tradingClass', 'exchange', 'lastTradeDateOrContractMonth']:\n",
    "        fields[field] = meta.get(field)\n",
    "    objects.append(Future(**fields, includeExpired=True))\n",
    "objects"
   ]
  },
  {
   "cell_type": "code",
   "execution_count": null,
   "metadata": {},
   "outputs": [],
   "source": [
    "ib.qualifyContracts(*objects)"
   ]
  },
  {
   "cell_type": "code",
   "execution_count": null,
   "metadata": {},
   "outputs": [],
   "source": [
    "contfutures = []\n",
    "for object in objects:\n",
    "    contfutures.append(ContFuture(**object.nonDefaults()).update(secType='CONTFUT'))\n",
    "contfutures"
   ]
  },
  {
   "cell_type": "code",
   "execution_count": null,
   "metadata": {},
   "outputs": [],
   "source": [
    "import pickle\n",
    "for object in contfutures:\n",
    "    store.write_metadata(object, {'object': pickle.dumps(object)})"
   ]
  },
  {
   "cell_type": "code",
   "execution_count": null,
   "metadata": {},
   "outputs": [],
   "source": [
    "objects"
   ]
  },
  {
   "cell_type": "code",
   "execution_count": 5,
   "metadata": {},
   "outputs": [],
   "source": [
    "for key in store.keys():\n",
    "    store.delete_metadata_item(key, 'expiry')"
   ]
  },
  {
   "cell_type": "code",
   "execution_count": 6,
   "metadata": {},
   "outputs": [
    {
     "data": {
      "text/plain": [
       "['6EM0_CONTFUT',\n",
       " '6EU0_CONTFUT',\n",
       " '6JM0_CONTFUT',\n",
       " '6JU0_CONTFUT',\n",
       " 'BZZ0_CONTFUT',\n",
       " 'CLN0_CONTFUT',\n",
       " 'CLU0_CONTFUT',\n",
       " 'ESM0_CONTFUT',\n",
       " 'ESU0_CONTFUT',\n",
       " 'FCEM0_CONTFUT',\n",
       " 'FDAX_JUN_20_CONTFUT',\n",
       " 'FDAX_SEP_20_CONTFUT',\n",
       " 'GCQ0_CONTFUT',\n",
       " 'GEM0_CONTFUT',\n",
       " 'GEU0_CONTFUT',\n",
       " 'M2KM0_CONTFUT',\n",
       " 'M2KU0_CONTFUT',\n",
       " 'M6EM0_CONTFUT',\n",
       " 'M6EU0_CONTFUT',\n",
       " 'MESM0_CONTFUT',\n",
       " 'MESU0_CONTFUT',\n",
       " 'MFCN0_CONTFUT',\n",
       " 'MGCQ0_CONTFUT',\n",
       " 'MJYM0_CONTFUT',\n",
       " 'MJYU0_CONTFUT',\n",
       " 'MNQM0_CONTFUT',\n",
       " 'MNQU0_CONTFUT',\n",
       " 'MYM_SEP_20_CONTFUT',\n",
       " 'NKDM0_CONTFUT',\n",
       " 'NKDU0_CONTFUT',\n",
       " 'NQM0_CONTFUT',\n",
       " 'NQU0_CONTFUT',\n",
       " 'RTYM0_CONTFUT',\n",
       " 'RTYU0_CONTFUT',\n",
       " 'YM_JUN_20_CONTFUT',\n",
       " 'YM_SEP_20_CONTFUT',\n",
       " 'ZB_JUN_20_CONTFUT',\n",
       " 'ZB_SEP_20_CONTFUT',\n",
       " 'ZF_JUN_20_CONTFUT',\n",
       " 'ZF_SEP_20_CONTFUT',\n",
       " 'ZN_JUN_20_CONTFUT',\n",
       " 'ZN_SEP_20_CONTFUT',\n",
       " 'ZS_JUL_20_CONTFUT']"
      ]
     },
     "execution_count": 6,
     "metadata": {},
     "output_type": "execute_result"
    }
   ],
   "source": [
    "store.keys()"
   ]
  },
  {
   "cell_type": "code",
   "execution_count": 7,
   "metadata": {},
   "outputs": [
    {
     "data": {
      "text/plain": [
       "{'secType': 'CONTFUT',\n",
       " 'conId': 357283364,\n",
       " 'symbol': 'ES',\n",
       " 'lastTradeDateOrContractMonth': '20200619',\n",
       " 'multiplier': '50',\n",
       " 'exchange': 'GLOBEX',\n",
       " 'currency': 'USD',\n",
       " 'localSymbol': 'ESM0',\n",
       " 'tradingClass': 'ES',\n",
       " 'repr': \"ContFuture(conId=357283364, symbol='ES', lastTradeDateOrContractMonth='20200619', multiplier='50', exchange='GLOBEX', currency='USD', localSymbol='ESM0', tradingClass='ES')\",\n",
       " 'object': b'\\x80\\x03cib_insync.contract\\nContFuture\\nq\\x00)\\x81q\\x01N}q\\x02(X\\x07\\x00\\x00\\x00secTypeq\\x03X\\x07\\x00\\x00\\x00CONTFUTq\\x04X\\x05\\x00\\x00\\x00conIdq\\x05J$\\xb6K\\x15X\\x06\\x00\\x00\\x00symbolq\\x06X\\x02\\x00\\x00\\x00ESq\\x07X\\x1c\\x00\\x00\\x00lastTradeDateOrContractMonthq\\x08X\\x08\\x00\\x00\\x0020200619q\\tX\\x06\\x00\\x00\\x00strikeq\\nG\\x00\\x00\\x00\\x00\\x00\\x00\\x00\\x00X\\x05\\x00\\x00\\x00rightq\\x0bX\\x00\\x00\\x00\\x00q\\x0cX\\n\\x00\\x00\\x00multiplierq\\rX\\x02\\x00\\x00\\x0050q\\x0eX\\x08\\x00\\x00\\x00exchangeq\\x0fX\\x06\\x00\\x00\\x00GLOBEXq\\x10X\\x0f\\x00\\x00\\x00primaryExchangeq\\x11h\\x0cX\\x08\\x00\\x00\\x00currencyq\\x12X\\x03\\x00\\x00\\x00USDq\\x13X\\x0b\\x00\\x00\\x00localSymbolq\\x14X\\x04\\x00\\x00\\x00ESM0q\\x15X\\x0c\\x00\\x00\\x00tradingClassq\\x16X\\x02\\x00\\x00\\x00ESq\\x17X\\x0e\\x00\\x00\\x00includeExpiredq\\x18\\x89X\\t\\x00\\x00\\x00secIdTypeq\\x19h\\x0cX\\x05\\x00\\x00\\x00secIdq\\x1ah\\x0cX\\x10\\x00\\x00\\x00comboLegsDescripq\\x1bh\\x0cX\\t\\x00\\x00\\x00comboLegsq\\x1cNX\\x14\\x00\\x00\\x00deltaNeutralContractq\\x1dNu\\x86q\\x1eb.',\n",
       " 'name': 'E-mini S&P 500',\n",
       " 'min_tick': 0.25}"
      ]
     },
     "execution_count": 7,
     "metadata": {},
     "output_type": "execute_result"
    }
   ],
   "source": [
    "store.read_metadata('ESM0_CONTFUT')"
   ]
  },
  {
   "cell_type": "code",
   "execution_count": null,
   "metadata": {},
   "outputs": [],
   "source": [
    "store.read('ESM0_CONTFUT', start_date='20180601')"
   ]
  },
  {
   "cell_type": "code",
   "execution_count": null,
   "metadata": {},
   "outputs": [],
   "source": [
    "nq = ContFuture('NQ', exchange='globex')\n",
    "ib.qualifyContracts(nq)"
   ]
  },
  {
   "cell_type": "code",
   "execution_count": null,
   "metadata": {},
   "outputs": [],
   "source": [
    "store.read('NQM0_CONTFUT', start_date='20180601')"
   ]
  },
  {
   "cell_type": "code",
   "execution_count": null,
   "metadata": {},
   "outputs": [],
   "source": [
    "store.read('ESM0_CONTFUT')"
   ]
  },
  {
   "cell_type": "code",
   "execution_count": null,
   "metadata": {},
   "outputs": [],
   "source": [
    "store.latest_contfutures"
   ]
  },
  {
   "cell_type": "code",
   "execution_count": null,
   "metadata": {
    "scrolled": false
   },
   "outputs": [],
   "source": [
    "store.review('secType', 'exchange')"
   ]
  },
  {
   "cell_type": "code",
   "execution_count": null,
   "metadata": {},
   "outputs": [],
   "source": [
    "store.keys()"
   ]
  },
  {
   "cell_type": "code",
   "execution_count": null,
   "metadata": {},
   "outputs": [],
   "source": [
    "store.read(nq, '20180605')"
   ]
  },
  {
   "cell_type": "code",
   "execution_count": null,
   "metadata": {},
   "outputs": [],
   "source": [
    "from datastore import Store"
   ]
  },
  {
   "cell_type": "code",
   "execution_count": null,
   "metadata": {},
   "outputs": [],
   "source": [
    "old_store = Store()"
   ]
  },
  {
   "cell_type": "code",
   "execution_count": null,
   "metadata": {},
   "outputs": [],
   "source": [
    "old_store.keys()"
   ]
  },
  {
   "cell_type": "code",
   "execution_count": null,
   "metadata": {},
   "outputs": [],
   "source": [
    "old_store.read('/cont/min/NQ_20200320_GLOBEX_USD').sort_index(ascending=True).loc['20180701':].head(10)"
   ]
  },
  {
   "cell_type": "code",
   "execution_count": null,
   "metadata": {},
   "outputs": [],
   "source": [
    "store.read(nq, '20180701', end).head(10)"
   ]
  },
  {
   "cell_type": "code",
   "execution_count": null,
   "metadata": {},
   "outputs": [],
   "source": [
    "date_range = DateRange('2018-05-19 00:00:00', '2019-12-31 00:00:00')"
   ]
  },
  {
   "cell_type": "code",
   "execution_count": null,
   "metadata": {},
   "outputs": [],
   "source": [
    "start = '2018-05-19 00:00:00'\n",
    "end = '2019-12-31 00:00:00'"
   ]
  },
  {
   "cell_type": "code",
   "execution_count": null,
   "metadata": {},
   "outputs": [],
   "source": [
    "nq = ContFuture(conId=371749745, symbol='NQ', lastTradeDateOrContractMonth='20200918', multiplier='20', exchange='GLOBEX', currency='USD', localSymbol='NQU0', tradingClass='NQ')\n"
   ]
  },
  {
   "cell_type": "code",
   "execution_count": null,
   "metadata": {},
   "outputs": [],
   "source": [
    "nq"
   ]
  },
  {
   "cell_type": "code",
   "execution_count": null,
   "metadata": {},
   "outputs": [],
   "source": [
    "bars = ib.reqHistoricalData(\n",
    "            nq,\n",
    "            endDateTime= '20180602 00:00:00',\n",
    "            durationStr='3 D',\n",
    "            barSizeSetting='30 secs',\n",
    "            whatToShow='TRADES',\n",
    "            useRTH=False,\n",
    "            formatDate=1)"
   ]
  },
  {
   "cell_type": "code",
   "execution_count": null,
   "metadata": {},
   "outputs": [],
   "source": [
    "df = util.df(bars)\n",
    "df"
   ]
  },
  {
   "cell_type": "code",
   "execution_count": null,
   "metadata": {},
   "outputs": [],
   "source": [
    "store.read(nq, '20180701', end)"
   ]
  },
  {
   "cell_type": "code",
   "execution_count": null,
   "metadata": {},
   "outputs": [],
   "source": [
    "l = store._contfutures_dict()\n",
    "l"
   ]
  },
  {
   "cell_type": "code",
   "execution_count": null,
   "metadata": {},
   "outputs": [],
   "source": [
    "x = {}\n",
    "index = -2\n",
    "for c, d in l.items():\n",
    "    keys_list = list(d.keys())\n",
    "    if len(keys_list) + index < 0:\n",
    "        index = 0\n",
    "    x[c] = d[keys_list[index]]\n",
    "x"
   ]
  },
  {
   "cell_type": "code",
   "execution_count": null,
   "metadata": {},
   "outputs": [],
   "source": [
    "list(d.keys())[0]"
   ]
  },
  {
   "cell_type": "code",
   "execution_count": null,
   "metadata": {},
   "outputs": [],
   "source": [
    "store.latest_contfutures(-2)"
   ]
  },
  {
   "cell_type": "code",
   "execution_count": null,
   "metadata": {},
   "outputs": [],
   "source": [
    "store.contfuture_contract_object('NQ', -2)"
   ]
  },
  {
   "cell_type": "code",
   "execution_count": null,
   "metadata": {},
   "outputs": [],
   "source": [
    "df = store.read('ESM0_CONTFUT', '20180601', '20191231')\n",
    "df"
   ]
  },
  {
   "cell_type": "code",
   "execution_count": null,
   "metadata": {},
   "outputs": [],
   "source": [
    "(df['close'][-1] - df['open'][0])*20"
   ]
  },
  {
   "cell_type": "code",
   "execution_count": null,
   "metadata": {},
   "outputs": [],
   "source": [
    "store.read_metadata('NQM0_CONTFUT')"
   ]
  },
  {
   "cell_type": "code",
   "execution_count": null,
   "metadata": {},
   "outputs": [],
   "source": []
  },
  {
   "cell_type": "code",
   "execution_count": null,
   "metadata": {},
   "outputs": [],
   "source": [
    "from collections import defaultdict\n",
    "c = defaultdict(dict)\n",
    "for k, v in d.items():\n",
    "    for i in sorted(v):\n",
    "        c[k].update({i: v[i]})  \n",
    "c"
   ]
  },
  {
   "cell_type": "code",
   "execution_count": null,
   "metadata": {},
   "outputs": [],
   "source": [
    "d"
   ]
  },
  {
   "cell_type": "code",
   "execution_count": null,
   "metadata": {},
   "outputs": [],
   "source": [
    "c"
   ]
  },
  {
   "cell_type": "code",
   "execution_count": null,
   "metadata": {},
   "outputs": [],
   "source": [
    "store.read(nq)"
   ]
  },
  {
   "cell_type": "code",
   "execution_count": null,
   "metadata": {},
   "outputs": [],
   "source": [
    "%%timeit\n",
    "store.date_range()"
   ]
  },
  {
   "cell_type": "code",
   "execution_count": null,
   "metadata": {},
   "outputs": [],
   "source": [
    "store.read_object('NQU0_CONTFUT')"
   ]
  },
  {
   "cell_type": "code",
   "execution_count": null,
   "metadata": {},
   "outputs": [],
   "source": [
    "store.read_metadata('NQU0_CONTFUT')"
   ]
  },
  {
   "cell_type": "code",
   "execution_count": null,
   "metadata": {},
   "outputs": [],
   "source": [
    "store.read_object('YM_JUN_20_CONTFUT')"
   ]
  },
  {
   "cell_type": "code",
   "execution_count": null,
   "metadata": {},
   "outputs": [],
   "source": [
    "store.latest_contfutures"
   ]
  },
  {
   "cell_type": "code",
   "execution_count": null,
   "metadata": {},
   "outputs": [],
   "source": [
    "store.contfuture('NQ')"
   ]
  },
  {
   "cell_type": "code",
   "execution_count": null,
   "metadata": {},
   "outputs": [],
   "source": [
    "def hist(days_at_a_time):\n",
    "    dt = ''\n",
    "    barsList = []\n",
    "    i = 10/days_at_a_time\n",
    "    #i=1\n",
    "    while i>0:\n",
    "        bars = ib.reqHistoricalData(\n",
    "            nq,\n",
    "            endDateTime=dt,\n",
    "            durationStr=str(days_at_a_time) + ' D',\n",
    "            barSizeSetting='1 min',\n",
    "            whatToShow='TRADES',\n",
    "            useRTH=False,\n",
    "            formatDate=1)\n",
    "        #lib.append('edek', bars)\n",
    "        if not bars:\n",
    "            break\n",
    "            dt -= timedelta(days=1)\n",
    "            print(f'new dt: {dt}')\n",
    "            continue\n",
    "        barsList.append(bars)\n",
    "        dt = bars[0].date\n",
    "        print(dt)\n",
    "        i -= 1\n",
    "    allBars = [b for bars in reversed(barsList) for b in bars]\n",
    "    df = util.df(allBars)\n",
    "    return df"
   ]
  },
  {
   "cell_type": "code",
   "execution_count": null,
   "metadata": {},
   "outputs": [],
   "source": [
    "bars = ib.reqHistoricalData(\n",
    "            mes,\n",
    "            endDateTime= '20190506 00:00:00',\n",
    "            durationStr='1 D',\n",
    "            barSizeSetting='30 secs',\n",
    "            whatToShow='TRADES',\n",
    "            useRTH=False,\n",
    "            formatDate=1)"
   ]
  },
  {
   "cell_type": "code",
   "execution_count": null,
   "metadata": {},
   "outputs": [],
   "source": [
    "nq"
   ]
  },
  {
   "cell_type": "code",
   "execution_count": null,
   "metadata": {},
   "outputs": [],
   "source": [
    "nq.loc['20190101':]"
   ]
  },
  {
   "cell_type": "code",
   "execution_count": null,
   "metadata": {},
   "outputs": [],
   "source": []
  }
 ],
 "metadata": {
  "kernelspec": {
   "display_name": "Python 3",
   "language": "python",
   "name": "python3"
  },
  "language_info": {
   "codemirror_mode": {
    "name": "ipython",
    "version": 3
   },
   "file_extension": ".py",
   "mimetype": "text/x-python",
   "name": "python",
   "nbconvert_exporter": "python",
   "pygments_lexer": "ipython3",
   "version": "3.7.3"
  }
 },
 "nbformat": 4,
 "nbformat_minor": 2
}
