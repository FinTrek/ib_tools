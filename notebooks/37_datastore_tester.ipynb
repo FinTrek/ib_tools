{
 "cells": [
  {
   "cell_type": "code",
   "execution_count": 1,
   "metadata": {},
   "outputs": [
    {
     "name": "stderr",
     "output_type": "stream",
     "text": [
      "/home/tomek/.virtualenvs/ib/lib/python3.7/site-packages/arctic/store/_pandas_ndarray_store.py:6: FutureWarning: The Panel class is removed from pandas. Accessing it from the top-level namespace will also be removed in the next version\n",
      "  from pandas import DataFrame, Series, Panel\n"
     ]
    }
   ],
   "source": [
    "from arctic import Arctic\n",
    "from arctic.date import DateRange\n",
    "from arctic.exceptions import NoDataFoundException\n",
    "from arctic.date import DateRange\n",
    "import pandas as pd\n",
    "from ib_insync import IB, ContFuture, util, Future, Forex, Contract\n",
    "from typing import Union\n",
    "import pickle\n",
    "from datetime import datetime, timedelta\n",
    "import sys\n",
    "sys.path.append('/home/tomek/ib_tools')\n",
    "from datastore import ArcticStore"
   ]
  },
  {
   "cell_type": "code",
   "execution_count": null,
   "metadata": {},
   "outputs": [],
   "source": [
    "util.startLoop()\n",
    "ib = IB()\n",
    "ib.connect(port=4002, clientId=9)"
   ]
  },
  {
   "cell_type": "code",
   "execution_count": null,
   "metadata": {},
   "outputs": [],
   "source": [
    "ib.isConnected()"
   ]
  },
  {
   "cell_type": "code",
   "execution_count": null,
   "metadata": {},
   "outputs": [],
   "source": [
    "Arctic('localhost').list_libraries()"
   ]
  },
  {
   "cell_type": "code",
   "execution_count": 2,
   "metadata": {},
   "outputs": [
    {
     "name": "stderr",
     "output_type": "stream",
     "text": [
      "Library created, but couldn't enable sharding: no such command: 'enablesharding'. This is OK if you're not 'admin'\n"
     ]
    }
   ],
   "source": [
    "store = ArcticStore('TRADES_30_secs')"
   ]
  },
  {
   "cell_type": "code",
   "execution_count": 4,
   "metadata": {},
   "outputs": [
    {
     "data": {
      "text/plain": [
       "['6EM0_CONTFUT',\n",
       " '6EU0_CONTFUT',\n",
       " '6JM0_CONTFUT',\n",
       " '6JU0_CONTFUT',\n",
       " 'BZZ0_CONTFUT',\n",
       " 'CLN0_CONTFUT',\n",
       " 'CLU0_CONTFUT',\n",
       " 'ESM0_CONTFUT',\n",
       " 'ESU0_CONTFUT',\n",
       " 'FCEM0_CONTFUT',\n",
       " 'FDAX_JUN_20_CONTFUT',\n",
       " 'FDAX_SEP_20_CONTFUT',\n",
       " 'GCQ0_CONTFUT',\n",
       " 'GEM0_CONTFUT',\n",
       " 'GEU0_CONTFUT',\n",
       " 'M2KM0_CONTFUT',\n",
       " 'M2KU0_CONTFUT',\n",
       " 'M6EM0_CONTFUT',\n",
       " 'M6EU0_CONTFUT',\n",
       " 'MESM0_CONTFUT',\n",
       " 'MESU0_CONTFUT',\n",
       " 'MFCN0_CONTFUT',\n",
       " 'MGCQ0_CONTFUT',\n",
       " 'MJYM0_CONTFUT',\n",
       " 'MJYU0_CONTFUT',\n",
       " 'MNQM0_CONTFUT',\n",
       " 'MNQU0_CONTFUT',\n",
       " 'MYM_SEP_20_CONTFUT',\n",
       " 'NKDM0_CONTFUT',\n",
       " 'NKDU0_CONTFUT',\n",
       " 'NQM0_CONTFUT',\n",
       " 'NQU0_CONTFUT',\n",
       " 'RTYM0_CONTFUT',\n",
       " 'RTYU0_CONTFUT',\n",
       " 'YM_JUN_20_CONTFUT',\n",
       " 'YM_SEP_20_CONTFUT',\n",
       " 'ZB_JUN_20_CONTFUT',\n",
       " 'ZB_SEP_20_CONTFUT',\n",
       " 'ZF_JUN_20_CONTFUT',\n",
       " 'ZF_SEP_20_CONTFUT',\n",
       " 'ZN_JUN_20_CONTFUT',\n",
       " 'ZN_SEP_20_CONTFUT',\n",
       " 'ZS_JUL_20_CONTFUT']"
      ]
     },
     "execution_count": 4,
     "metadata": {},
     "output_type": "execute_result"
    }
   ],
   "source": [
    "keys = store.keys()\n",
    "keys"
   ]
  },
  {
   "cell_type": "code",
   "execution_count": 74,
   "metadata": {},
   "outputs": [
    {
     "data": {
      "text/html": [
       "<div>\n",
       "<style scoped>\n",
       "    .dataframe tbody tr th:only-of-type {\n",
       "        vertical-align: middle;\n",
       "    }\n",
       "\n",
       "    .dataframe tbody tr th {\n",
       "        vertical-align: top;\n",
       "    }\n",
       "\n",
       "    .dataframe thead th {\n",
       "        text-align: right;\n",
       "    }\n",
       "</style>\n",
       "<table border=\"1\" class=\"dataframe\">\n",
       "  <thead>\n",
       "    <tr style=\"text-align: right;\">\n",
       "      <th></th>\n",
       "      <th>open</th>\n",
       "      <th>high</th>\n",
       "      <th>low</th>\n",
       "      <th>close</th>\n",
       "      <th>volume</th>\n",
       "      <th>average</th>\n",
       "      <th>barCount</th>\n",
       "    </tr>\n",
       "    <tr>\n",
       "      <th>date</th>\n",
       "      <th></th>\n",
       "      <th></th>\n",
       "      <th></th>\n",
       "      <th></th>\n",
       "      <th></th>\n",
       "      <th></th>\n",
       "      <th></th>\n",
       "    </tr>\n",
       "  </thead>\n",
       "  <tbody>\n",
       "    <tr>\n",
       "      <td>2018-06-01 16:15:00</td>\n",
       "      <td>7034.50</td>\n",
       "      <td>7035.75</td>\n",
       "      <td>7029.25</td>\n",
       "      <td>7030.25</td>\n",
       "      <td>1143</td>\n",
       "      <td>7031.975</td>\n",
       "      <td>544</td>\n",
       "    </tr>\n",
       "    <tr>\n",
       "      <td>2018-06-01 16:15:30</td>\n",
       "      <td>7030.00</td>\n",
       "      <td>7030.75</td>\n",
       "      <td>7025.25</td>\n",
       "      <td>7026.50</td>\n",
       "      <td>1145</td>\n",
       "      <td>7028.175</td>\n",
       "      <td>550</td>\n",
       "    </tr>\n",
       "    <tr>\n",
       "      <td>2018-06-01 16:16:00</td>\n",
       "      <td>7026.25</td>\n",
       "      <td>7027.75</td>\n",
       "      <td>7024.50</td>\n",
       "      <td>7024.75</td>\n",
       "      <td>1004</td>\n",
       "      <td>7025.725</td>\n",
       "      <td>569</td>\n",
       "    </tr>\n",
       "    <tr>\n",
       "      <td>2018-06-01 16:16:30</td>\n",
       "      <td>7024.75</td>\n",
       "      <td>7025.25</td>\n",
       "      <td>7020.25</td>\n",
       "      <td>7021.25</td>\n",
       "      <td>1422</td>\n",
       "      <td>7022.350</td>\n",
       "      <td>667</td>\n",
       "    </tr>\n",
       "    <tr>\n",
       "      <td>2018-06-01 16:17:00</td>\n",
       "      <td>7021.50</td>\n",
       "      <td>7024.50</td>\n",
       "      <td>7020.75</td>\n",
       "      <td>7024.00</td>\n",
       "      <td>812</td>\n",
       "      <td>7022.625</td>\n",
       "      <td>444</td>\n",
       "    </tr>\n",
       "    <tr>\n",
       "      <td>2018-06-01 16:17:30</td>\n",
       "      <td>7024.00</td>\n",
       "      <td>7024.50</td>\n",
       "      <td>7022.25</td>\n",
       "      <td>7023.75</td>\n",
       "      <td>541</td>\n",
       "      <td>7023.275</td>\n",
       "      <td>260</td>\n",
       "    </tr>\n",
       "    <tr>\n",
       "      <td>2018-06-01 16:18:00</td>\n",
       "      <td>7023.50</td>\n",
       "      <td>7027.75</td>\n",
       "      <td>7023.50</td>\n",
       "      <td>7027.50</td>\n",
       "      <td>466</td>\n",
       "      <td>7025.700</td>\n",
       "      <td>269</td>\n",
       "    </tr>\n",
       "    <tr>\n",
       "      <td>2018-06-01 16:18:30</td>\n",
       "      <td>7027.25</td>\n",
       "      <td>7030.75</td>\n",
       "      <td>7025.75</td>\n",
       "      <td>7029.25</td>\n",
       "      <td>1000</td>\n",
       "      <td>7028.975</td>\n",
       "      <td>343</td>\n",
       "    </tr>\n",
       "    <tr>\n",
       "      <td>2018-06-01 16:19:00</td>\n",
       "      <td>7029.50</td>\n",
       "      <td>7034.50</td>\n",
       "      <td>7029.00</td>\n",
       "      <td>7034.00</td>\n",
       "      <td>1267</td>\n",
       "      <td>7032.650</td>\n",
       "      <td>563</td>\n",
       "    </tr>\n",
       "    <tr>\n",
       "      <td>2018-06-01 16:19:30</td>\n",
       "      <td>7034.00</td>\n",
       "      <td>7038.50</td>\n",
       "      <td>7034.00</td>\n",
       "      <td>7036.50</td>\n",
       "      <td>1332</td>\n",
       "      <td>7036.400</td>\n",
       "      <td>555</td>\n",
       "    </tr>\n",
       "  </tbody>\n",
       "</table>\n",
       "</div>"
      ],
      "text/plain": [
       "                        open     high      low    close  volume   average  \\\n",
       "date                                                                        \n",
       "2018-06-01 16:15:00  7034.50  7035.75  7029.25  7030.25    1143  7031.975   \n",
       "2018-06-01 16:15:30  7030.00  7030.75  7025.25  7026.50    1145  7028.175   \n",
       "2018-06-01 16:16:00  7026.25  7027.75  7024.50  7024.75    1004  7025.725   \n",
       "2018-06-01 16:16:30  7024.75  7025.25  7020.25  7021.25    1422  7022.350   \n",
       "2018-06-01 16:17:00  7021.50  7024.50  7020.75  7024.00     812  7022.625   \n",
       "2018-06-01 16:17:30  7024.00  7024.50  7022.25  7023.75     541  7023.275   \n",
       "2018-06-01 16:18:00  7023.50  7027.75  7023.50  7027.50     466  7025.700   \n",
       "2018-06-01 16:18:30  7027.25  7030.75  7025.75  7029.25    1000  7028.975   \n",
       "2018-06-01 16:19:00  7029.50  7034.50  7029.00  7034.00    1267  7032.650   \n",
       "2018-06-01 16:19:30  7034.00  7038.50  7034.00  7036.50    1332  7036.400   \n",
       "\n",
       "                     barCount  \n",
       "date                           \n",
       "2018-06-01 16:15:00       544  \n",
       "2018-06-01 16:15:30       550  \n",
       "2018-06-01 16:16:00       569  \n",
       "2018-06-01 16:16:30       667  \n",
       "2018-06-01 16:17:00       444  \n",
       "2018-06-01 16:17:30       260  \n",
       "2018-06-01 16:18:00       269  \n",
       "2018-06-01 16:18:30       343  \n",
       "2018-06-01 16:19:00       563  \n",
       "2018-06-01 16:19:30       555  "
      ]
     },
     "execution_count": 74,
     "metadata": {},
     "output_type": "execute_result"
    }
   ],
   "source": [
    "df = store.read('NQM0_CONTFUT', start_date='20180601', end_date='20200101')\n",
    "df.loc['20180601 16:15:00':].head(10)"
   ]
  },
  {
   "cell_type": "code",
   "execution_count": 78,
   "metadata": {},
   "outputs": [
    {
     "data": {
      "text/html": [
       "<div>\n",
       "<style scoped>\n",
       "    .dataframe tbody tr th:only-of-type {\n",
       "        vertical-align: middle;\n",
       "    }\n",
       "\n",
       "    .dataframe tbody tr th {\n",
       "        vertical-align: top;\n",
       "    }\n",
       "\n",
       "    .dataframe thead th {\n",
       "        text-align: right;\n",
       "    }\n",
       "</style>\n",
       "<table border=\"1\" class=\"dataframe\">\n",
       "  <thead>\n",
       "    <tr style=\"text-align: right;\">\n",
       "      <th></th>\n",
       "      <th>open</th>\n",
       "      <th>high</th>\n",
       "      <th>low</th>\n",
       "      <th>close</th>\n",
       "      <th>volume</th>\n",
       "      <th>average</th>\n",
       "      <th>barCount</th>\n",
       "    </tr>\n",
       "    <tr>\n",
       "      <th>date</th>\n",
       "      <th></th>\n",
       "      <th></th>\n",
       "      <th></th>\n",
       "      <th></th>\n",
       "      <th></th>\n",
       "      <th></th>\n",
       "      <th></th>\n",
       "    </tr>\n",
       "  </thead>\n",
       "  <tbody>\n",
       "  </tbody>\n",
       "</table>\n",
       "</div>"
      ],
      "text/plain": [
       "Empty DataFrame\n",
       "Columns: [open, high, low, close, volume, average, barCount]\n",
       "Index: []"
      ]
     },
     "execution_count": 78,
     "metadata": {},
     "output_type": "execute_result"
    }
   ],
   "source": [
    "df[df.index.duplicated()]"
   ]
  },
  {
   "cell_type": "code",
   "execution_count": 64,
   "metadata": {},
   "outputs": [
    {
     "data": {
      "text/html": [
       "<div>\n",
       "<style scoped>\n",
       "    .dataframe tbody tr th:only-of-type {\n",
       "        vertical-align: middle;\n",
       "    }\n",
       "\n",
       "    .dataframe tbody tr th {\n",
       "        vertical-align: top;\n",
       "    }\n",
       "\n",
       "    .dataframe thead th {\n",
       "        text-align: right;\n",
       "    }\n",
       "</style>\n",
       "<table border=\"1\" class=\"dataframe\">\n",
       "  <thead>\n",
       "    <tr style=\"text-align: right;\">\n",
       "      <th></th>\n",
       "      <th>open</th>\n",
       "      <th>high</th>\n",
       "      <th>low</th>\n",
       "      <th>close</th>\n",
       "      <th>volume</th>\n",
       "      <th>barCount</th>\n",
       "    </tr>\n",
       "    <tr>\n",
       "      <th>date</th>\n",
       "      <th></th>\n",
       "      <th></th>\n",
       "      <th></th>\n",
       "      <th></th>\n",
       "      <th></th>\n",
       "      <th></th>\n",
       "    </tr>\n",
       "  </thead>\n",
       "  <tbody>\n",
       "    <tr>\n",
       "      <td>2018-06-01 00:00:00</td>\n",
       "      <td>6982.50</td>\n",
       "      <td>6982.50</td>\n",
       "      <td>6977.25</td>\n",
       "      <td>6978.75</td>\n",
       "      <td>88</td>\n",
       "      <td>67</td>\n",
       "    </tr>\n",
       "    <tr>\n",
       "      <td>2018-06-01 00:01:00</td>\n",
       "      <td>6979.75</td>\n",
       "      <td>6980.50</td>\n",
       "      <td>6978.00</td>\n",
       "      <td>6979.50</td>\n",
       "      <td>96</td>\n",
       "      <td>58</td>\n",
       "    </tr>\n",
       "    <tr>\n",
       "      <td>2018-06-01 00:02:00</td>\n",
       "      <td>6980.00</td>\n",
       "      <td>6981.25</td>\n",
       "      <td>6979.50</td>\n",
       "      <td>6981.25</td>\n",
       "      <td>20</td>\n",
       "      <td>13</td>\n",
       "    </tr>\n",
       "    <tr>\n",
       "      <td>2018-06-01 00:03:00</td>\n",
       "      <td>6981.00</td>\n",
       "      <td>6981.25</td>\n",
       "      <td>6980.25</td>\n",
       "      <td>6980.75</td>\n",
       "      <td>12</td>\n",
       "      <td>9</td>\n",
       "    </tr>\n",
       "    <tr>\n",
       "      <td>2018-06-01 00:04:00</td>\n",
       "      <td>6981.00</td>\n",
       "      <td>6981.00</td>\n",
       "      <td>6980.50</td>\n",
       "      <td>6980.50</td>\n",
       "      <td>2</td>\n",
       "      <td>2</td>\n",
       "    </tr>\n",
       "    <tr>\n",
       "      <td>...</td>\n",
       "      <td>...</td>\n",
       "      <td>...</td>\n",
       "      <td>...</td>\n",
       "      <td>...</td>\n",
       "      <td>...</td>\n",
       "      <td>...</td>\n",
       "    </tr>\n",
       "    <tr>\n",
       "      <td>2019-12-31 22:55:00</td>\n",
       "      <td>8769.75</td>\n",
       "      <td>8770.75</td>\n",
       "      <td>8768.75</td>\n",
       "      <td>8770.00</td>\n",
       "      <td>83</td>\n",
       "      <td>50</td>\n",
       "    </tr>\n",
       "    <tr>\n",
       "      <td>2019-12-31 22:56:00</td>\n",
       "      <td>8770.25</td>\n",
       "      <td>8771.25</td>\n",
       "      <td>8770.25</td>\n",
       "      <td>8770.25</td>\n",
       "      <td>41</td>\n",
       "      <td>19</td>\n",
       "    </tr>\n",
       "    <tr>\n",
       "      <td>2019-12-31 22:57:00</td>\n",
       "      <td>8770.50</td>\n",
       "      <td>8771.00</td>\n",
       "      <td>8769.75</td>\n",
       "      <td>8769.75</td>\n",
       "      <td>48</td>\n",
       "      <td>25</td>\n",
       "    </tr>\n",
       "    <tr>\n",
       "      <td>2019-12-31 22:58:00</td>\n",
       "      <td>8769.50</td>\n",
       "      <td>8771.50</td>\n",
       "      <td>8769.50</td>\n",
       "      <td>8771.25</td>\n",
       "      <td>37</td>\n",
       "      <td>25</td>\n",
       "    </tr>\n",
       "    <tr>\n",
       "      <td>2019-12-31 22:59:00</td>\n",
       "      <td>8771.50</td>\n",
       "      <td>8772.25</td>\n",
       "      <td>8770.75</td>\n",
       "      <td>8772.00</td>\n",
       "      <td>93</td>\n",
       "      <td>56</td>\n",
       "    </tr>\n",
       "  </tbody>\n",
       "</table>\n",
       "<p>554565 rows × 6 columns</p>\n",
       "</div>"
      ],
      "text/plain": [
       "                        open     high      low    close  volume  barCount\n",
       "date                                                                     \n",
       "2018-06-01 00:00:00  6982.50  6982.50  6977.25  6978.75      88        67\n",
       "2018-06-01 00:01:00  6979.75  6980.50  6978.00  6979.50      96        58\n",
       "2018-06-01 00:02:00  6980.00  6981.25  6979.50  6981.25      20        13\n",
       "2018-06-01 00:03:00  6981.00  6981.25  6980.25  6980.75      12         9\n",
       "2018-06-01 00:04:00  6981.00  6981.00  6980.50  6980.50       2         2\n",
       "...                      ...      ...      ...      ...     ...       ...\n",
       "2019-12-31 22:55:00  8769.75  8770.75  8768.75  8770.00      83        50\n",
       "2019-12-31 22:56:00  8770.25  8771.25  8770.25  8770.25      41        19\n",
       "2019-12-31 22:57:00  8770.50  8771.00  8769.75  8769.75      48        25\n",
       "2019-12-31 22:58:00  8769.50  8771.50  8769.50  8771.25      37        25\n",
       "2019-12-31 22:59:00  8771.50  8772.25  8770.75  8772.00      93        56\n",
       "\n",
       "[554565 rows x 6 columns]"
      ]
     },
     "execution_count": 64,
     "metadata": {},
     "output_type": "execute_result"
    }
   ],
   "source": [
    "resampled = df.resample('T').agg({'open': 'first', 'high': 'max', 'low': 'min', 'close': 'last', 'volume': 'sum', 'barCount': 'sum'}).dropna()\n",
    "resampled"
   ]
  },
  {
   "cell_type": "code",
   "execution_count": 65,
   "metadata": {},
   "outputs": [
    {
     "data": {
      "image/png": "[encoded data removed]",
      "text/plain": [
       "<Figure size 1440x720 with 1 Axes>"
      ]
     },
     "metadata": {
      "needs_background": "light"
     },
     "output_type": "display_data"
    }
   ],
   "source": [
    "df.close.plot(figsize=(20,10), grid=True);"
   ]
  },
  {
   "cell_type": "code",
   "execution_count": 66,
   "metadata": {},
   "outputs": [],
   "source": [
    "from datastore import Store\n",
    "old_store = Store()"
   ]
  },
  {
   "cell_type": "code",
   "execution_count": 72,
   "metadata": {},
   "outputs": [
    {
     "data": {
      "text/html": [
       "<div>\n",
       "<style scoped>\n",
       "    .dataframe tbody tr th:only-of-type {\n",
       "        vertical-align: middle;\n",
       "    }\n",
       "\n",
       "    .dataframe tbody tr th {\n",
       "        vertical-align: top;\n",
       "    }\n",
       "\n",
       "    .dataframe thead th {\n",
       "        text-align: right;\n",
       "    }\n",
       "</style>\n",
       "<table border=\"1\" class=\"dataframe\">\n",
       "  <thead>\n",
       "    <tr style=\"text-align: right;\">\n",
       "      <th></th>\n",
       "      <th>open</th>\n",
       "      <th>high</th>\n",
       "      <th>low</th>\n",
       "      <th>close</th>\n",
       "      <th>volume</th>\n",
       "      <th>average</th>\n",
       "      <th>barCount</th>\n",
       "    </tr>\n",
       "    <tr>\n",
       "      <th>date</th>\n",
       "      <th></th>\n",
       "      <th></th>\n",
       "      <th></th>\n",
       "      <th></th>\n",
       "      <th></th>\n",
       "      <th></th>\n",
       "      <th></th>\n",
       "    </tr>\n",
       "  </thead>\n",
       "  <tbody>\n",
       "    <tr>\n",
       "      <td>2018-06-01 00:00:00</td>\n",
       "      <td>2707.50</td>\n",
       "      <td>2707.75</td>\n",
       "      <td>2706.00</td>\n",
       "      <td>2706.75</td>\n",
       "      <td>1150</td>\n",
       "      <td>2706.800</td>\n",
       "      <td>179</td>\n",
       "    </tr>\n",
       "    <tr>\n",
       "      <td>2018-06-01 00:01:00</td>\n",
       "      <td>2706.75</td>\n",
       "      <td>2706.75</td>\n",
       "      <td>2706.25</td>\n",
       "      <td>2706.50</td>\n",
       "      <td>376</td>\n",
       "      <td>2706.475</td>\n",
       "      <td>84</td>\n",
       "    </tr>\n",
       "    <tr>\n",
       "      <td>2018-06-01 00:02:00</td>\n",
       "      <td>2706.75</td>\n",
       "      <td>2707.25</td>\n",
       "      <td>2706.50</td>\n",
       "      <td>2707.00</td>\n",
       "      <td>73</td>\n",
       "      <td>2706.900</td>\n",
       "      <td>25</td>\n",
       "    </tr>\n",
       "    <tr>\n",
       "      <td>2018-06-01 00:03:00</td>\n",
       "      <td>2707.00</td>\n",
       "      <td>2707.25</td>\n",
       "      <td>2707.00</td>\n",
       "      <td>2707.00</td>\n",
       "      <td>17</td>\n",
       "      <td>2707.025</td>\n",
       "      <td>8</td>\n",
       "    </tr>\n",
       "    <tr>\n",
       "      <td>2018-06-01 00:04:00</td>\n",
       "      <td>2707.00</td>\n",
       "      <td>2707.25</td>\n",
       "      <td>2707.00</td>\n",
       "      <td>2707.25</td>\n",
       "      <td>10</td>\n",
       "      <td>2707.075</td>\n",
       "      <td>4</td>\n",
       "    </tr>\n",
       "    <tr>\n",
       "      <td>...</td>\n",
       "      <td>...</td>\n",
       "      <td>...</td>\n",
       "      <td>...</td>\n",
       "      <td>...</td>\n",
       "      <td>...</td>\n",
       "      <td>...</td>\n",
       "      <td>...</td>\n",
       "    </tr>\n",
       "    <tr>\n",
       "      <td>2019-12-31 22:55:00</td>\n",
       "      <td>3235.75</td>\n",
       "      <td>3236.00</td>\n",
       "      <td>3235.50</td>\n",
       "      <td>3235.75</td>\n",
       "      <td>349</td>\n",
       "      <td>3235.675</td>\n",
       "      <td>46</td>\n",
       "    </tr>\n",
       "    <tr>\n",
       "      <td>2019-12-31 22:56:00</td>\n",
       "      <td>3235.75</td>\n",
       "      <td>3236.00</td>\n",
       "      <td>3235.50</td>\n",
       "      <td>3235.75</td>\n",
       "      <td>190</td>\n",
       "      <td>3235.700</td>\n",
       "      <td>31</td>\n",
       "    </tr>\n",
       "    <tr>\n",
       "      <td>2019-12-31 22:57:00</td>\n",
       "      <td>3236.00</td>\n",
       "      <td>3236.25</td>\n",
       "      <td>3235.75</td>\n",
       "      <td>3235.75</td>\n",
       "      <td>356</td>\n",
       "      <td>3235.900</td>\n",
       "      <td>42</td>\n",
       "    </tr>\n",
       "    <tr>\n",
       "      <td>2019-12-31 22:58:00</td>\n",
       "      <td>3235.75</td>\n",
       "      <td>3236.25</td>\n",
       "      <td>3235.75</td>\n",
       "      <td>3235.75</td>\n",
       "      <td>357</td>\n",
       "      <td>3235.875</td>\n",
       "      <td>45</td>\n",
       "    </tr>\n",
       "    <tr>\n",
       "      <td>2019-12-31 22:59:00</td>\n",
       "      <td>3235.75</td>\n",
       "      <td>3236.00</td>\n",
       "      <td>3235.50</td>\n",
       "      <td>3236.00</td>\n",
       "      <td>958</td>\n",
       "      <td>3235.725</td>\n",
       "      <td>119</td>\n",
       "    </tr>\n",
       "  </tbody>\n",
       "</table>\n",
       "<p>554565 rows × 7 columns</p>\n",
       "</div>"
      ],
      "text/plain": [
       "                        open     high      low    close  volume   average  \\\n",
       "date                                                                        \n",
       "2018-06-01 00:00:00  2707.50  2707.75  2706.00  2706.75    1150  2706.800   \n",
       "2018-06-01 00:01:00  2706.75  2706.75  2706.25  2706.50     376  2706.475   \n",
       "2018-06-01 00:02:00  2706.75  2707.25  2706.50  2707.00      73  2706.900   \n",
       "2018-06-01 00:03:00  2707.00  2707.25  2707.00  2707.00      17  2707.025   \n",
       "2018-06-01 00:04:00  2707.00  2707.25  2707.00  2707.25      10  2707.075   \n",
       "...                      ...      ...      ...      ...     ...       ...   \n",
       "2019-12-31 22:55:00  3235.75  3236.00  3235.50  3235.75     349  3235.675   \n",
       "2019-12-31 22:56:00  3235.75  3236.00  3235.50  3235.75     190  3235.700   \n",
       "2019-12-31 22:57:00  3236.00  3236.25  3235.75  3235.75     356  3235.900   \n",
       "2019-12-31 22:58:00  3235.75  3236.25  3235.75  3235.75     357  3235.875   \n",
       "2019-12-31 22:59:00  3235.75  3236.00  3235.50  3236.00     958  3235.725   \n",
       "\n",
       "                     barCount  \n",
       "date                           \n",
       "2018-06-01 00:00:00       179  \n",
       "2018-06-01 00:01:00        84  \n",
       "2018-06-01 00:02:00        25  \n",
       "2018-06-01 00:03:00         8  \n",
       "2018-06-01 00:04:00         4  \n",
       "...                       ...  \n",
       "2019-12-31 22:55:00        46  \n",
       "2019-12-31 22:56:00        31  \n",
       "2019-12-31 22:57:00        42  \n",
       "2019-12-31 22:58:00        45  \n",
       "2019-12-31 22:59:00       119  \n",
       "\n",
       "[554565 rows x 7 columns]"
      ]
     },
     "execution_count": 72,
     "metadata": {},
     "output_type": "execute_result"
    }
   ],
   "source": [
    "df1 = old_store.read('/cont/min/ES_20200320_GLOBEX_USD').sort_index(ascending=True).loc['20180601': '20191231']\n",
    "df1"
   ]
  },
  {
   "cell_type": "code",
   "execution_count": 77,
   "metadata": {},
   "outputs": [
    {
     "data": {
      "text/html": [
       "<div>\n",
       "<style scoped>\n",
       "    .dataframe tbody tr th:only-of-type {\n",
       "        vertical-align: middle;\n",
       "    }\n",
       "\n",
       "    .dataframe tbody tr th {\n",
       "        vertical-align: top;\n",
       "    }\n",
       "\n",
       "    .dataframe thead th {\n",
       "        text-align: right;\n",
       "    }\n",
       "</style>\n",
       "<table border=\"1\" class=\"dataframe\">\n",
       "  <thead>\n",
       "    <tr style=\"text-align: right;\">\n",
       "      <th></th>\n",
       "      <th>open</th>\n",
       "      <th>high</th>\n",
       "      <th>low</th>\n",
       "      <th>close</th>\n",
       "      <th>volume</th>\n",
       "      <th>average</th>\n",
       "      <th>barCount</th>\n",
       "    </tr>\n",
       "    <tr>\n",
       "      <th>date</th>\n",
       "      <th></th>\n",
       "      <th></th>\n",
       "      <th></th>\n",
       "      <th></th>\n",
       "      <th></th>\n",
       "      <th></th>\n",
       "      <th></th>\n",
       "    </tr>\n",
       "  </thead>\n",
       "  <tbody>\n",
       "  </tbody>\n",
       "</table>\n",
       "</div>"
      ],
      "text/plain": [
       "Empty DataFrame\n",
       "Columns: [open, high, low, close, volume, average, barCount]\n",
       "Index: []"
      ]
     },
     "execution_count": 77,
     "metadata": {},
     "output_type": "execute_result"
    }
   ],
   "source": [
    "df1[df1.index.duplicated()]"
   ]
  },
  {
   "cell_type": "code",
   "execution_count": 69,
   "metadata": {},
   "outputs": [
    {
     "data": {
      "image/png": "[encoded data removed]",
      "text/plain": [
       "<Figure size 1440x720 with 1 Axes>"
      ]
     },
     "metadata": {
      "needs_background": "light"
     },
     "output_type": "display_data"
    }
   ],
   "source": [
    "df1.close.plot(figsize=(20,10), grid=True);"
   ]
  },
  {
   "cell_type": "code",
   "execution_count": 70,
   "metadata": {},
   "outputs": [
    {
     "data": {
      "text/html": [
       "<div>\n",
       "<style scoped>\n",
       "    .dataframe tbody tr th:only-of-type {\n",
       "        vertical-align: middle;\n",
       "    }\n",
       "\n",
       "    .dataframe tbody tr th {\n",
       "        vertical-align: top;\n",
       "    }\n",
       "\n",
       "    .dataframe thead th {\n",
       "        text-align: right;\n",
       "    }\n",
       "</style>\n",
       "<table border=\"1\" class=\"dataframe\">\n",
       "  <thead>\n",
       "    <tr style=\"text-align: right;\">\n",
       "      <th></th>\n",
       "      <th>new</th>\n",
       "      <th>old</th>\n",
       "      <th>diff</th>\n",
       "    </tr>\n",
       "    <tr>\n",
       "      <th>date</th>\n",
       "      <th></th>\n",
       "      <th></th>\n",
       "      <th></th>\n",
       "    </tr>\n",
       "  </thead>\n",
       "  <tbody>\n",
       "    <tr>\n",
       "      <td>2018-06-01 00:00:00</td>\n",
       "      <td>6978.75</td>\n",
       "      <td>6978.75</td>\n",
       "      <td>0.0</td>\n",
       "    </tr>\n",
       "    <tr>\n",
       "      <td>2018-06-01 00:01:00</td>\n",
       "      <td>6979.50</td>\n",
       "      <td>6979.50</td>\n",
       "      <td>0.0</td>\n",
       "    </tr>\n",
       "    <tr>\n",
       "      <td>2018-06-01 00:02:00</td>\n",
       "      <td>6981.25</td>\n",
       "      <td>6981.25</td>\n",
       "      <td>0.0</td>\n",
       "    </tr>\n",
       "    <tr>\n",
       "      <td>2018-06-01 00:03:00</td>\n",
       "      <td>6980.75</td>\n",
       "      <td>6980.75</td>\n",
       "      <td>0.0</td>\n",
       "    </tr>\n",
       "    <tr>\n",
       "      <td>2018-06-01 00:04:00</td>\n",
       "      <td>6980.50</td>\n",
       "      <td>6980.50</td>\n",
       "      <td>0.0</td>\n",
       "    </tr>\n",
       "    <tr>\n",
       "      <td>...</td>\n",
       "      <td>...</td>\n",
       "      <td>...</td>\n",
       "      <td>...</td>\n",
       "    </tr>\n",
       "    <tr>\n",
       "      <td>2019-12-31 22:55:00</td>\n",
       "      <td>8770.00</td>\n",
       "      <td>8770.00</td>\n",
       "      <td>0.0</td>\n",
       "    </tr>\n",
       "    <tr>\n",
       "      <td>2019-12-31 22:56:00</td>\n",
       "      <td>8770.25</td>\n",
       "      <td>8770.25</td>\n",
       "      <td>0.0</td>\n",
       "    </tr>\n",
       "    <tr>\n",
       "      <td>2019-12-31 22:57:00</td>\n",
       "      <td>8769.75</td>\n",
       "      <td>8769.75</td>\n",
       "      <td>0.0</td>\n",
       "    </tr>\n",
       "    <tr>\n",
       "      <td>2019-12-31 22:58:00</td>\n",
       "      <td>8771.25</td>\n",
       "      <td>8771.25</td>\n",
       "      <td>0.0</td>\n",
       "    </tr>\n",
       "    <tr>\n",
       "      <td>2019-12-31 22:59:00</td>\n",
       "      <td>8772.00</td>\n",
       "      <td>8772.00</td>\n",
       "      <td>0.0</td>\n",
       "    </tr>\n",
       "  </tbody>\n",
       "</table>\n",
       "<p>554565 rows × 3 columns</p>\n",
       "</div>"
      ],
      "text/plain": [
       "                         new      old  diff\n",
       "date                                       \n",
       "2018-06-01 00:00:00  6978.75  6978.75   0.0\n",
       "2018-06-01 00:01:00  6979.50  6979.50   0.0\n",
       "2018-06-01 00:02:00  6981.25  6981.25   0.0\n",
       "2018-06-01 00:03:00  6980.75  6980.75   0.0\n",
       "2018-06-01 00:04:00  6980.50  6980.50   0.0\n",
       "...                      ...      ...   ...\n",
       "2019-12-31 22:55:00  8770.00  8770.00   0.0\n",
       "2019-12-31 22:56:00  8770.25  8770.25   0.0\n",
       "2019-12-31 22:57:00  8769.75  8769.75   0.0\n",
       "2019-12-31 22:58:00  8771.25  8771.25   0.0\n",
       "2019-12-31 22:59:00  8772.00  8772.00   0.0\n",
       "\n",
       "[554565 rows x 3 columns]"
      ]
     },
     "execution_count": 70,
     "metadata": {},
     "output_type": "execute_result"
    }
   ],
   "source": [
    "comp = pd.DataFrame({'new': resampled.close, 'old': df1.close}).dropna()\n",
    "comp['diff'] = comp['old'] - comp['new']\n",
    "comp"
   ]
  },
  {
   "cell_type": "code",
   "execution_count": 71,
   "metadata": {},
   "outputs": [
    {
     "data": {
      "image/png": "[encoded data removed]",
      "text/plain": [
       "<Figure size 1440x720 with 1 Axes>"
      ]
     },
     "metadata": {
      "needs_background": "light"
     },
     "output_type": "display_data"
    }
   ],
   "source": [
    "comp['diff'].plot(figsize=(20,10), grid=True);"
   ]
  },
  {
   "cell_type": "code",
   "execution_count": null,
   "metadata": {},
   "outputs": [],
   "source": [
    "store.read(nq, '20180701', end).head(10)"
   ]
  },
  {
   "cell_type": "code",
   "execution_count": null,
   "metadata": {},
   "outputs": [],
   "source": [
    "date_range = DateRange('2018-05-19 00:00:00', '2019-12-31 00:00:00')"
   ]
  },
  {
   "cell_type": "code",
   "execution_count": null,
   "metadata": {},
   "outputs": [],
   "source": [
    "start = '2018-05-19 00:00:00'\n",
    "end = '2019-12-31 00:00:00'"
   ]
  },
  {
   "cell_type": "code",
   "execution_count": null,
   "metadata": {},
   "outputs": [],
   "source": [
    "nq = ContFuture(conId=371749745, symbol='NQ', lastTradeDateOrContractMonth='20200918', multiplier='20', exchange='GLOBEX', currency='USD', localSymbol='NQU0', tradingClass='NQ')\n"
   ]
  },
  {
   "cell_type": "code",
   "execution_count": null,
   "metadata": {},
   "outputs": [],
   "source": [
    "nq"
   ]
  },
  {
   "cell_type": "code",
   "execution_count": null,
   "metadata": {},
   "outputs": [],
   "source": [
    "bars = ib.reqHistoricalData(\n",
    "            nq,\n",
    "            endDateTime= '20180602 00:00:00',\n",
    "            durationStr='3 D',\n",
    "            barSizeSetting='30 secs',\n",
    "            whatToShow='TRADES',\n",
    "            useRTH=False,\n",
    "            formatDate=1)"
   ]
  },
  {
   "cell_type": "code",
   "execution_count": null,
   "metadata": {},
   "outputs": [],
   "source": [
    "df = util.df(bars)\n",
    "df"
   ]
  },
  {
   "cell_type": "code",
   "execution_count": null,
   "metadata": {},
   "outputs": [],
   "source": [
    "store.read(nq, '20180701', end)"
   ]
  },
  {
   "cell_type": "code",
   "execution_count": null,
   "metadata": {},
   "outputs": [],
   "source": [
    "l = store._contfutures_dict()\n",
    "l"
   ]
  },
  {
   "cell_type": "code",
   "execution_count": null,
   "metadata": {},
   "outputs": [],
   "source": [
    "x = {}\n",
    "index = -2\n",
    "for c, d in l.items():\n",
    "    keys_list = list(d.keys())\n",
    "    if len(keys_list) + index < 0:\n",
    "        index = 0\n",
    "    x[c] = d[keys_list[index]]\n",
    "x"
   ]
  },
  {
   "cell_type": "code",
   "execution_count": null,
   "metadata": {},
   "outputs": [],
   "source": [
    "list(d.keys())[0]"
   ]
  },
  {
   "cell_type": "code",
   "execution_count": null,
   "metadata": {},
   "outputs": [],
   "source": [
    "store.latest_contfutures(-2)"
   ]
  },
  {
   "cell_type": "code",
   "execution_count": null,
   "metadata": {},
   "outputs": [],
   "source": [
    "store.contfuture_contract_object('NQ', -2)"
   ]
  },
  {
   "cell_type": "code",
   "execution_count": null,
   "metadata": {},
   "outputs": [],
   "source": [
    "df = store.read('ESM0_CONTFUT', '20180601', '20191231')\n",
    "df"
   ]
  },
  {
   "cell_type": "code",
   "execution_count": null,
   "metadata": {},
   "outputs": [],
   "source": [
    "(df['close'][-1] - df['open'][0])*20"
   ]
  },
  {
   "cell_type": "code",
   "execution_count": null,
   "metadata": {},
   "outputs": [],
   "source": [
    "store.read_metadata('NQM0_CONTFUT')"
   ]
  },
  {
   "cell_type": "code",
   "execution_count": null,
   "metadata": {},
   "outputs": [],
   "source": []
  },
  {
   "cell_type": "code",
   "execution_count": null,
   "metadata": {},
   "outputs": [],
   "source": [
    "from collections import defaultdict\n",
    "c = defaultdict(dict)\n",
    "for k, v in d.items():\n",
    "    for i in sorted(v):\n",
    "        c[k].update({i: v[i]})  \n",
    "c"
   ]
  },
  {
   "cell_type": "code",
   "execution_count": null,
   "metadata": {},
   "outputs": [],
   "source": [
    "d"
   ]
  },
  {
   "cell_type": "code",
   "execution_count": null,
   "metadata": {},
   "outputs": [],
   "source": [
    "c"
   ]
  },
  {
   "cell_type": "code",
   "execution_count": null,
   "metadata": {},
   "outputs": [],
   "source": [
    "store.read(nq)"
   ]
  },
  {
   "cell_type": "code",
   "execution_count": null,
   "metadata": {},
   "outputs": [],
   "source": [
    "%%timeit\n",
    "store.date_range()"
   ]
  },
  {
   "cell_type": "code",
   "execution_count": null,
   "metadata": {},
   "outputs": [],
   "source": [
    "store.read_object('NQU0_CONTFUT')"
   ]
  },
  {
   "cell_type": "code",
   "execution_count": null,
   "metadata": {},
   "outputs": [],
   "source": [
    "store.read_metadata('NQU0_CONTFUT')"
   ]
  },
  {
   "cell_type": "code",
   "execution_count": null,
   "metadata": {},
   "outputs": [],
   "source": [
    "store.read_object('YM_JUN_20_CONTFUT')"
   ]
  },
  {
   "cell_type": "code",
   "execution_count": null,
   "metadata": {},
   "outputs": [],
   "source": [
    "store.latest_contfutures"
   ]
  },
  {
   "cell_type": "code",
   "execution_count": null,
   "metadata": {},
   "outputs": [],
   "source": [
    "store.contfuture('NQ')"
   ]
  },
  {
   "cell_type": "code",
   "execution_count": null,
   "metadata": {},
   "outputs": [],
   "source": [
    "def hist(days_at_a_time):\n",
    "    dt = ''\n",
    "    barsList = []\n",
    "    i = 10/days_at_a_time\n",
    "    #i=1\n",
    "    while i>0:\n",
    "        bars = ib.reqHistoricalData(\n",
    "            nq,\n",
    "            endDateTime=dt,\n",
    "            durationStr=str(days_at_a_time) + ' D',\n",
    "            barSizeSetting='1 min',\n",
    "            whatToShow='TRADES',\n",
    "            useRTH=False,\n",
    "            formatDate=1)\n",
    "        #lib.append('edek', bars)\n",
    "        if not bars:\n",
    "            break\n",
    "            dt -= timedelta(days=1)\n",
    "            print(f'new dt: {dt}')\n",
    "            continue\n",
    "        barsList.append(bars)\n",
    "        dt = bars[0].date\n",
    "        print(dt)\n",
    "        i -= 1\n",
    "    allBars = [b for bars in reversed(barsList) for b in bars]\n",
    "    df = util.df(allBars)\n",
    "    return df"
   ]
  },
  {
   "cell_type": "code",
   "execution_count": null,
   "metadata": {},
   "outputs": [],
   "source": [
    "bars = ib.reqHistoricalData(\n",
    "            mes,\n",
    "            endDateTime= '20190506 00:00:00',\n",
    "            durationStr='1 D',\n",
    "            barSizeSetting='30 secs',\n",
    "            whatToShow='TRADES',\n",
    "            useRTH=False,\n",
    "            formatDate=1)"
   ]
  },
  {
   "cell_type": "code",
   "execution_count": null,
   "metadata": {},
   "outputs": [],
   "source": [
    "nq"
   ]
  },
  {
   "cell_type": "code",
   "execution_count": null,
   "metadata": {},
   "outputs": [],
   "source": [
    "nq.loc['20190101':]"
   ]
  },
  {
   "cell_type": "code",
   "execution_count": null,
   "metadata": {},
   "outputs": [],
   "source": []
  }
 ],
 "metadata": {
  "kernelspec": {
   "display_name": "Python 3",
   "language": "python",
   "name": "python3"
  },
  "language_info": {
   "codemirror_mode": {
    "name": "ipython",
    "version": 3
   },
   "file_extension": ".py",
   "mimetype": "text/x-python",
   "name": "python",
   "nbconvert_exporter": "python",
   "pygments_lexer": "ipython3",
   "version": "3.7.3"
  }
 },
 "nbformat": 4,
 "nbformat_minor": 2
}
