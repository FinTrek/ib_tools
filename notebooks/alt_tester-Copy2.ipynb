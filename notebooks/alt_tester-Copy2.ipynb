{
 "cells": [
  {
   "cell_type": "code",
   "execution_count": 1,
   "metadata": {},
   "outputs": [],
   "source": [
    "import warnings\n",
    "warnings.filterwarnings('ignore')\n",
    "import pandas as pd\n",
    "import numpy as np\n",
    "from grouper import group_by_volume, group_by_time\n",
    "from pyfolio.timeseries import perf_stats\n",
    "from functools import partial\n",
    "import sys\n",
    "sys.path.append('/home/tomek/ib_tools')\n",
    "from indicators import get_ATR, get_signals\n",
    "%matplotlib inline"
   ]
  },
  {
   "cell_type": "code",
   "execution_count": 2,
   "metadata": {},
   "outputs": [],
   "source": [
    "contract = pd.read_pickle('data/minute_ES_cont_non_active_included.pickle')\n",
    "multiplier = 50\n",
    "min_tick = 0.25"
   ]
  },
  {
   "cell_type": "code",
   "execution_count": 3,
   "metadata": {},
   "outputs": [],
   "source": [
    "contract = contract.loc['20180202':]"
   ]
  },
  {
   "cell_type": "code",
   "execution_count": 4,
   "metadata": {},
   "outputs": [],
   "source": [
    "time_int = 60 # interval in minutes to be used to define volume candle\n",
    "periods = 20\n",
    "ema_fast = 120 # number of periods for moving average filter\n",
    "sl_atr = 200 # stop loss in ATRs\n",
    "atr_periods = 80 # number of periods to calculate ATR on\n",
    "#commission = 2.1 # level of commision per transaction in dollars\n",
    "commission = 0\n",
    "bankroll = 15000\n",
    "threshold = 1.0"
   ]
  },
  {
   "cell_type": "code",
   "execution_count": 5,
   "metadata": {},
   "outputs": [
    {
     "data": {
      "text/plain": [
       "63604.29326641914"
      ]
     },
     "execution_count": 5,
     "metadata": {},
     "output_type": "execute_result"
    }
   ],
   "source": [
    "avg_vol = contract.loc['20190621':].volume.rolling(time_int).sum().mean()\n",
    "avg_vol"
   ]
  },
  {
   "cell_type": "code",
   "execution_count": 6,
   "metadata": {},
   "outputs": [],
   "source": [
    "#avg_vol = 14913"
   ]
  },
  {
   "cell_type": "code",
   "execution_count": 7,
   "metadata": {},
   "outputs": [],
   "source": [
    "vol_candles = group_by_volume(contract, avg_vol)\n",
    "vol_candles['atr'] = get_ATR(vol_candles, atr_periods)"
   ]
  },
  {
   "cell_type": "code",
   "execution_count": 8,
   "metadata": {},
   "outputs": [],
   "source": [
    "data = pd.DataFrame({'date': vol_candles.date,\n",
    "                     'open': vol_candles.open,\n",
    "                    'close': vol_candles.close, \n",
    "                    'atr': vol_candles.atr})\n",
    "data['max'] = data.close.rolling(periods).max()\n",
    "data['min'] = data.close.rolling(periods).min()\n",
    "data['mid'] = data[['min', 'max']].mean(axis=1)\n",
    "#data.set_index('date', inplace=True)\n",
    "data['breakout'] = data['close'] - data['mid']\n",
    "data['breakout_norm'] = data['breakout']/data['breakout'].rolling(periods).std()\n",
    "data['breakout_norm_mean'] = data['breakout_norm'].ewm(span=periods).mean()\n",
    "data['long'] = (data.breakout_norm_mean > threshold) * 1\n",
    "data['short'] = (data.breakout_norm_mean < -threshold) * -1\n",
    "data['signal'] = data['long'] + data['short']"
   ]
  },
  {
   "cell_type": "code",
   "execution_count": 9,
   "metadata": {},
   "outputs": [],
   "source": [
    "data['ema'] = data.close.ewm(span=ema_fast).mean()\n",
    "rows_to_drop = 3 * periods\n",
    "data = data.iloc[rows_to_drop:]\n",
    "data.reset_index(drop=True, inplace=True)"
   ]
  },
  {
   "cell_type": "code",
   "execution_count": 10,
   "metadata": {},
   "outputs": [],
   "source": [
    "data['filter'] = np.sign(data['close'] - data['ema'])\n",
    "#data['filtered_signal'] = data['signal'] * ((data['signal'] * data['filter']) == 1)\n",
    "data['filtered_signal'] = data['signal']"
   ]
  },
  {
   "cell_type": "code",
   "execution_count": 11,
   "metadata": {},
   "outputs": [],
   "source": [
    "# while in position maintain open price and transaction direction\n",
    "data['positions'] = 0\n",
    "# flag to execute transaction at next data point\n",
    "data['mark'] = False\n",
    "# note the reason for transaction at next data point\n",
    "data['reason'] = ''\n",
    "# record commission paid\n",
    "data['commission'] = 0\n",
    "# record transaction price\n",
    "data['price'] = 0\n",
    "# entry price for stop loss calculation\n",
    "data['entry'] = 0\n",
    "\n",
    "for item in data.itertuples(): \n",
    "    # first row doesn't have to check if we have positions or execute transactions\n",
    "    if not item.Index == 0:\n",
    "        # starting position is the same as previous day position\n",
    "        data.loc[item.Index, 'positions'] = data.loc[(item.Index - 1), 'positions'] \n",
    "        data.loc[item.Index, 'entry'] = data.loc[(item.Index - 1), 'entry'] \n",
    "        # execute transactions\n",
    "        if data.loc[(item.Index -  1), 'mark']:\n",
    "            # close position\n",
    "            if data.loc[item.Index, 'positions']:\n",
    "                data.loc[item.Index, 'positions'] = 0\n",
    "                data.loc[item.Index, 'entry'] = 0\n",
    "                # record transaction price\n",
    "                data.loc[item.Index, 'price'] = item.open * np.sign(data.loc[(item.Index - 1), 'entry']) * -1\n",
    "            # open position\n",
    "            else:\n",
    "                data.loc[item.Index, 'positions'] = data.loc[(item.Index - 1), 'signal']\n",
    "                data.loc[item.Index, 'entry'] = item.open * data.loc[(item.Index - 1), 'signal']\n",
    "                # record transaction price\n",
    "                data.loc[item.Index, 'price'] = item.open * data.loc[(item.Index -1), 'signal']\n",
    "            # record commission paid\n",
    "            data.loc[item.Index, 'commission'] = commission\n",
    "\n",
    "    # check for close signal\n",
    "    if data.loc[item.Index, 'positions'] != 0 and item.signal != data.loc[item.Index, 'positions']:\n",
    "        data.loc[item.Index, 'mark'] = True\n",
    "        data.loc[item.Index, 'reason'] = 'close'\n",
    "    # check for stop-loss signal\n",
    "    # long positions\n",
    "    if data.loc[item.Index, 'positions'] > 0:\n",
    "        if item.close <= (data.loc[item.Index, 'entry'] - (item.atr * sl_atr)):\n",
    "            data.loc[item.Index, 'mark'] = True\n",
    "            data.loc[item.Index, 'reason'] = 'stop-out'\n",
    "    # short positions\n",
    "    if data.loc[item.Index, 'positions'] < 0:\n",
    "        if item.close >= abs((data.loc[item.Index, 'entry'] - (item.atr * sl_atr))):\n",
    "            data.loc[item.Index, 'mark'] = True\n",
    "            data.loc[item.Index, 'reason'] = 'stop-out'\n",
    "    # check for entry signal\n",
    "    if data.loc[item.Index, 'positions'] == 0:\n",
    "        if item.filtered_signal != 0:\n",
    "            data.loc[item.Index, 'mark'] = True\n",
    "            data.loc[item.Index, 'reason'] = 'entry'\n",
    "# close any open positions\n",
    "if data[data.price != 0].price.count() % 2 != 0:\n",
    "    data.loc[data.index[-1], 'price'] = data.open.iloc[-1] * np.sign(data.entry.iloc[-1]) * -1\n",
    "    data.loc[data.index[-1], 'entry'] = 0\n",
    "data.set_index('date', inplace=True)"
   ]
  },
  {
   "cell_type": "code",
   "execution_count": 12,
   "metadata": {},
   "outputs": [],
   "source": [
    "pnl = data[['open','positions', 'commission', 'mark', 'reason', 'price', 'entry']]\n",
    "pnl['mark'] = pnl['mark'].shift(1)\n",
    "pnl['reason'] = pnl['reason'].shift(1)"
   ]
  },
  {
   "cell_type": "code",
   "execution_count": 13,
   "metadata": {},
   "outputs": [],
   "source": [
    "pnl = pnl[pnl.price != 0]\n",
    "pnl['close'] = pnl.price.shift(-1)\n",
    "pnl = pnl[pnl.reason == 'entry']\n",
    "pnl['pnl'] = -(pnl.entry + pnl.close) * multiplier\n",
    "pnl['net_pnl'] = pnl.pnl - 2 * pnl.commission\n",
    "pnl['cum_pnl'] = pnl.pnl.cumsum()\n",
    "pnl['net_cum_pnl'] = pnl.net_pnl.cumsum()\n",
    "pnl['balance'] = bankroll + pnl.net_cum_pnl"
   ]
  },
  {
   "cell_type": "code",
   "execution_count": 14,
   "metadata": {},
   "outputs": [
    {
     "data": {
      "text/plain": [
       "19962.5"
      ]
     },
     "execution_count": 14,
     "metadata": {},
     "output_type": "execute_result"
    }
   ],
   "source": [
    "pnl.pnl.sum()"
   ]
  },
  {
   "cell_type": "code",
   "execution_count": 15,
   "metadata": {},
   "outputs": [
    {
     "data": {
      "text/plain": [
       "19962.5"
      ]
     },
     "execution_count": 15,
     "metadata": {},
     "output_type": "execute_result"
    }
   ],
   "source": [
    "pnl.net_pnl.sum()"
   ]
  },
  {
   "cell_type": "code",
   "execution_count": 16,
   "metadata": {},
   "outputs": [
    {
     "data": {
      "text/plain": [
       "0.38095238095238093"
      ]
     },
     "execution_count": 16,
     "metadata": {},
     "output_type": "execute_result"
    }
   ],
   "source": [
    "# percentage of winning transactions\n",
    "win_pct = pnl[pnl.pnl > 0].pnl.count() / (pnl.pnl.count())\n",
    "win_pct"
   ]
  },
  {
   "cell_type": "code",
   "execution_count": 17,
   "metadata": {},
   "outputs": [
    {
     "data": {
      "text/plain": [
       "(1259.548611111111, -604.4871794871794, 2.0836647225167906)"
      ]
     },
     "execution_count": 17,
     "metadata": {},
     "output_type": "execute_result"
    }
   ],
   "source": [
    "# avg. win,  avg. lose, ratio\n",
    "avg_win = pnl[pnl.pnl > 0].pnl.mean()\n",
    "avg_lose = pnl[pnl.pnl <= 0].pnl.mean()\n",
    "ratio = abs(avg_win / avg_lose)\n",
    "avg_win, avg_lose, ratio"
   ]
  },
  {
   "cell_type": "code",
   "execution_count": 18,
   "metadata": {},
   "outputs": [
    {
     "data": {
      "text/plain": [
       "105.62169312169306"
      ]
     },
     "execution_count": 18,
     "metadata": {},
     "output_type": "execute_result"
    }
   ],
   "source": [
    "# transaction EV\n",
    "ev = win_pct * avg_win + (1 - win_pct) * avg_lose\n",
    "ev"
   ]
  },
  {
   "cell_type": "code",
   "execution_count": 19,
   "metadata": {},
   "outputs": [
    {
     "data": {
      "text/plain": [
       "189"
      ]
     },
     "execution_count": 19,
     "metadata": {},
     "output_type": "execute_result"
    }
   ],
   "source": [
    "# number of positions\n",
    "pnl.pnl.count()"
   ]
  },
  {
   "cell_type": "code",
   "execution_count": 20,
   "metadata": {},
   "outputs": [
    {
     "data": {
      "text/plain": [
       "19962.49999999999"
      ]
     },
     "execution_count": 20,
     "metadata": {},
     "output_type": "execute_result"
    }
   ],
   "source": [
    "pnl.pnl.count() * ev"
   ]
  },
  {
   "cell_type": "code",
   "execution_count": 21,
   "metadata": {},
   "outputs": [
    {
     "data": {
      "text/plain": [
       "(-2250.0, 6975.0, 3.1)"
      ]
     },
     "execution_count": 21,
     "metadata": {},
     "output_type": "execute_result"
    }
   ],
   "source": [
    "pnl.pnl.min(), pnl.pnl.max(), round(abs(pnl.pnl.max() / pnl.pnl.min()), 1)"
   ]
  },
  {
   "cell_type": "code",
   "execution_count": 22,
   "metadata": {},
   "outputs": [],
   "source": [
    "daily = pnl.resample('B').last().fillna(method='ffill')\n",
    "daily.loc[daily.index[0]-pd.Timedelta(days=1), 'balance'] = bankroll\n",
    "daily.sort_index(inplace=True)\n",
    "daily['return'] = daily.balance.pct_change().fillna(0)\n",
    "daily = daily.iloc[1:]"
   ]
  },
  {
   "cell_type": "code",
   "execution_count": 23,
   "metadata": {},
   "outputs": [
    {
     "data": {
      "text/plain": [
       "0"
      ]
     },
     "execution_count": 23,
     "metadata": {},
     "output_type": "execute_result"
    }
   ],
   "source": [
    "data.commission.sum()"
   ]
  },
  {
   "cell_type": "code",
   "execution_count": 24,
   "metadata": {},
   "outputs": [
    {
     "data": {
      "text/plain": [
       "Annual return           0.675885\n",
       "Cumulative returns      1.330833\n",
       "Annual volatility       0.598015\n",
       "Sharpe ratio            1.130253\n",
       "Calmar ratio            2.665542\n",
       "Stability               0.617731\n",
       "Max drawdown           -0.253564\n",
       "Omega ratio             1.454624\n",
       "Sortino ratio           2.712055\n",
       "Skew                    5.523152\n",
       "Kurtosis               58.252275\n",
       "Tail ratio              1.751036\n",
       "Daily value at risk    -0.072661\n",
       "dtype: float64"
      ]
     },
     "execution_count": 24,
     "metadata": {},
     "output_type": "execute_result"
    }
   ],
   "source": [
    "perf_stats(daily['return'])"
   ]
  },
  {
   "cell_type": "code",
   "execution_count": 25,
   "metadata": {},
   "outputs": [
    {
     "data": {
      "text/plain": [
       "413"
      ]
     },
     "execution_count": 25,
     "metadata": {},
     "output_type": "execute_result"
    }
   ],
   "source": [
    "days = daily['return'].count()\n",
    "days"
   ]
  },
  {
   "cell_type": "code",
   "execution_count": 26,
   "metadata": {},
   "outputs": [
    {
     "data": {
      "text/plain": [
       "378"
      ]
     },
     "execution_count": 26,
     "metadata": {},
     "output_type": "execute_result"
    }
   ],
   "source": [
    "transactions = data[data.price != 0].price.count()\n",
    "transactions"
   ]
  },
  {
   "cell_type": "code",
   "execution_count": 27,
   "metadata": {},
   "outputs": [
    {
     "data": {
      "text/plain": [
       "0.9152542372881356"
      ]
     },
     "execution_count": 27,
     "metadata": {},
     "output_type": "execute_result"
    }
   ],
   "source": [
    "transactions / days"
   ]
  },
  {
   "cell_type": "code",
   "execution_count": 28,
   "metadata": {},
   "outputs": [
    {
     "data": {
      "text/plain": [
       "1.0925925925925926"
      ]
     },
     "execution_count": 28,
     "metadata": {},
     "output_type": "execute_result"
    }
   ],
   "source": [
    "days / transactions"
   ]
  },
  {
   "cell_type": "code",
   "execution_count": 29,
   "metadata": {},
   "outputs": [
    {
     "data": {
      "image/png": "[encoded data removed]",
      "text/plain": [
       "<Figure size 1440x720 with 1 Axes>"
      ]
     },
     "metadata": {
      "needs_background": "light"
     },
     "output_type": "display_data"
    }
   ],
   "source": [
    "pnl.balance.plot(figsize=(20,10), grid=True);"
   ]
  },
  {
   "cell_type": "code",
   "execution_count": null,
   "metadata": {},
   "outputs": [],
   "source": []
  }
 ],
 "metadata": {
  "kernelspec": {
   "display_name": "Python 3",
   "language": "python",
   "name": "python3"
  },
  "language_info": {
   "codemirror_mode": {
    "name": "ipython",
    "version": 3
   },
   "file_extension": ".py",
   "mimetype": "text/x-python",
   "name": "python",
   "nbconvert_exporter": "python",
   "pygments_lexer": "ipython3",
   "version": "3.7.3"
  }
 },
 "nbformat": 4,
 "nbformat_minor": 2
}
