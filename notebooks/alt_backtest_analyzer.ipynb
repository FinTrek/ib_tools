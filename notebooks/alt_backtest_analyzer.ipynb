{
 "cells": [
  {
   "cell_type": "code",
   "execution_count": 1,
   "metadata": {},
   "outputs": [],
   "source": [
    "import warnings\n",
    "warnings.filterwarnings('ignore')\n",
    "import pandas as pd\n",
    "import numpy as np\n",
    "from grouper import group_by_volume, group_by_time\n",
    "from pyfolio.timeseries import perf_stats\n",
    "from functools import partial\n",
    "import sys\n",
    "sys.path.append('/home/tomek/ib_tools')\n",
    "from indicators import get_ATR, get_signals\n",
    "%matplotlib inline"
   ]
  },
  {
   "cell_type": "code",
   "execution_count": 2,
   "metadata": {},
   "outputs": [
    {
     "data": {
      "text/html": [
       "<div>\n",
       "<style scoped>\n",
       "    .dataframe tbody tr th:only-of-type {\n",
       "        vertical-align: middle;\n",
       "    }\n",
       "\n",
       "    .dataframe tbody tr th {\n",
       "        vertical-align: top;\n",
       "    }\n",
       "\n",
       "    .dataframe thead th {\n",
       "        text-align: right;\n",
       "    }\n",
       "</style>\n",
       "<table border=\"1\" class=\"dataframe\">\n",
       "  <thead>\n",
       "    <tr style=\"text-align: right;\">\n",
       "      <th></th>\n",
       "      <th>sys_time</th>\n",
       "      <th>contract</th>\n",
       "      <th>action</th>\n",
       "      <th>amount</th>\n",
       "      <th>price</th>\n",
       "      <th>exec_ids</th>\n",
       "      <th>order_id</th>\n",
       "      <th>reason</th>\n",
       "      <th>com_exec_id</th>\n",
       "      <th>commission</th>\n",
       "      <th>currency</th>\n",
       "      <th>realizedPNL</th>\n",
       "      <th>com_sys_time</th>\n",
       "    </tr>\n",
       "    <tr>\n",
       "      <th>time</th>\n",
       "      <th></th>\n",
       "      <th></th>\n",
       "      <th></th>\n",
       "      <th></th>\n",
       "      <th></th>\n",
       "      <th></th>\n",
       "      <th></th>\n",
       "      <th></th>\n",
       "      <th></th>\n",
       "      <th></th>\n",
       "      <th></th>\n",
       "      <th></th>\n",
       "      <th></th>\n",
       "    </tr>\n",
       "  </thead>\n",
       "  <tbody>\n",
       "    <tr>\n",
       "      <td>2018-02-09 09:28:00</td>\n",
       "      <td>2019-11-08 22:41:04.129398</td>\n",
       "      <td>GCZ9</td>\n",
       "      <td>SELL</td>\n",
       "      <td>1</td>\n",
       "      <td>1316.150</td>\n",
       "      <td>[1]</td>\n",
       "      <td>1</td>\n",
       "      <td>entry</td>\n",
       "      <td>1</td>\n",
       "      <td>1.3</td>\n",
       "      <td>USD</td>\n",
       "      <td>0.0</td>\n",
       "      <td>2019-11-08 22:41:04.129520</td>\n",
       "    </tr>\n",
       "    <tr>\n",
       "      <td>2018-02-09 13:31:00</td>\n",
       "      <td>2019-11-08 22:41:04.496455</td>\n",
       "      <td>GCZ9</td>\n",
       "      <td>BUY</td>\n",
       "      <td>1</td>\n",
       "      <td>1318.880</td>\n",
       "      <td>[2]</td>\n",
       "      <td>2</td>\n",
       "      <td>stop-out</td>\n",
       "      <td>2</td>\n",
       "      <td>1.3</td>\n",
       "      <td>USD</td>\n",
       "      <td>-273.0</td>\n",
       "      <td>2019-11-08 22:41:04.496506</td>\n",
       "    </tr>\n",
       "    <tr>\n",
       "      <td>2018-02-09 13:45:00</td>\n",
       "      <td>2019-11-08 22:41:04.547793</td>\n",
       "      <td>YM   DEC 19</td>\n",
       "      <td>SELL</td>\n",
       "      <td>1</td>\n",
       "      <td>23822.100</td>\n",
       "      <td>[3]</td>\n",
       "      <td>3</td>\n",
       "      <td>entry</td>\n",
       "      <td>3</td>\n",
       "      <td>1.3</td>\n",
       "      <td>USD</td>\n",
       "      <td>0.0</td>\n",
       "      <td>2019-11-08 22:41:04.547921</td>\n",
       "    </tr>\n",
       "    <tr>\n",
       "      <td>2018-02-09 14:10:00</td>\n",
       "      <td>2019-11-08 22:41:04.626944</td>\n",
       "      <td>CLZ9</td>\n",
       "      <td>SELL</td>\n",
       "      <td>1</td>\n",
       "      <td>60.354</td>\n",
       "      <td>[4]</td>\n",
       "      <td>5</td>\n",
       "      <td>entry</td>\n",
       "      <td>4</td>\n",
       "      <td>1.3</td>\n",
       "      <td>USD</td>\n",
       "      <td>0.0</td>\n",
       "      <td>2019-11-08 22:41:04.627054</td>\n",
       "    </tr>\n",
       "    <tr>\n",
       "      <td>2018-02-09 14:39:00</td>\n",
       "      <td>2019-11-08 22:41:04.778000</td>\n",
       "      <td>YM   DEC 19</td>\n",
       "      <td>BUY</td>\n",
       "      <td>1</td>\n",
       "      <td>23991.700</td>\n",
       "      <td>[5]</td>\n",
       "      <td>4</td>\n",
       "      <td>stop-out</td>\n",
       "      <td>5</td>\n",
       "      <td>1.3</td>\n",
       "      <td>USD</td>\n",
       "      <td>-848.0</td>\n",
       "      <td>2019-11-08 22:41:04.778050</td>\n",
       "    </tr>\n",
       "    <tr>\n",
       "      <td>...</td>\n",
       "      <td>...</td>\n",
       "      <td>...</td>\n",
       "      <td>...</td>\n",
       "      <td>...</td>\n",
       "      <td>...</td>\n",
       "      <td>...</td>\n",
       "      <td>...</td>\n",
       "      <td>...</td>\n",
       "      <td>...</td>\n",
       "      <td>...</td>\n",
       "      <td>...</td>\n",
       "      <td>...</td>\n",
       "      <td>...</td>\n",
       "    </tr>\n",
       "    <tr>\n",
       "      <td>2019-11-01 14:01:00</td>\n",
       "      <td>2019-11-09 00:40:02.804454</td>\n",
       "      <td>CLZ9</td>\n",
       "      <td>BUY</td>\n",
       "      <td>1</td>\n",
       "      <td>54.849</td>\n",
       "      <td>[4406]</td>\n",
       "      <td>5081</td>\n",
       "      <td>entry</td>\n",
       "      <td>4406</td>\n",
       "      <td>1.3</td>\n",
       "      <td>USD</td>\n",
       "      <td>0.0</td>\n",
       "      <td>2019-11-09 00:40:02.805350</td>\n",
       "    </tr>\n",
       "    <tr>\n",
       "      <td>2019-11-01 14:20:00</td>\n",
       "      <td>2019-11-09 00:40:03.453655</td>\n",
       "      <td>NQZ9</td>\n",
       "      <td>BUY</td>\n",
       "      <td>1</td>\n",
       "      <td>8127.975</td>\n",
       "      <td>[4407]</td>\n",
       "      <td>5083</td>\n",
       "      <td>entry</td>\n",
       "      <td>4407</td>\n",
       "      <td>1.3</td>\n",
       "      <td>USD</td>\n",
       "      <td>0.0</td>\n",
       "      <td>2019-11-09 00:40:03.454567</td>\n",
       "    </tr>\n",
       "    <tr>\n",
       "      <td>2019-11-01 14:36:00</td>\n",
       "      <td>2019-11-09 00:40:04.127382</td>\n",
       "      <td>YM   DEC 19</td>\n",
       "      <td>BUY</td>\n",
       "      <td>1</td>\n",
       "      <td>27132.100</td>\n",
       "      <td>[4408]</td>\n",
       "      <td>5085</td>\n",
       "      <td>entry</td>\n",
       "      <td>4408</td>\n",
       "      <td>1.3</td>\n",
       "      <td>USD</td>\n",
       "      <td>0.0</td>\n",
       "      <td>2019-11-09 00:40:04.128257</td>\n",
       "    </tr>\n",
       "    <tr>\n",
       "      <td>2019-11-01 15:02:00</td>\n",
       "      <td>2019-11-09 00:40:05.558067</td>\n",
       "      <td>GCZ9</td>\n",
       "      <td>BUY</td>\n",
       "      <td>1</td>\n",
       "      <td>1516.020</td>\n",
       "      <td>[4409]</td>\n",
       "      <td>5087</td>\n",
       "      <td>entry</td>\n",
       "      <td>4409</td>\n",
       "      <td>1.3</td>\n",
       "      <td>USD</td>\n",
       "      <td>0.0</td>\n",
       "      <td>2019-11-09 00:40:05.558945</td>\n",
       "    </tr>\n",
       "    <tr>\n",
       "      <td>2019-11-01 15:05:00</td>\n",
       "      <td>2019-11-09 00:40:05.810230</td>\n",
       "      <td>GCZ9</td>\n",
       "      <td>SELL</td>\n",
       "      <td>1</td>\n",
       "      <td>1513.140</td>\n",
       "      <td>[4410]</td>\n",
       "      <td>5088</td>\n",
       "      <td>stop-out</td>\n",
       "      <td>4410</td>\n",
       "      <td>1.3</td>\n",
       "      <td>USD</td>\n",
       "      <td>-288.0</td>\n",
       "      <td>2019-11-09 00:40:05.810286</td>\n",
       "    </tr>\n",
       "  </tbody>\n",
       "</table>\n",
       "<p>4410 rows × 13 columns</p>\n",
       "</div>"
      ],
      "text/plain": [
       "                                       sys_time     contract action  amount  \\\n",
       "time                                                                          \n",
       "2018-02-09 09:28:00  2019-11-08 22:41:04.129398         GCZ9   SELL       1   \n",
       "2018-02-09 13:31:00  2019-11-08 22:41:04.496455         GCZ9    BUY       1   \n",
       "2018-02-09 13:45:00  2019-11-08 22:41:04.547793  YM   DEC 19   SELL       1   \n",
       "2018-02-09 14:10:00  2019-11-08 22:41:04.626944         CLZ9   SELL       1   \n",
       "2018-02-09 14:39:00  2019-11-08 22:41:04.778000  YM   DEC 19    BUY       1   \n",
       "...                                         ...          ...    ...     ...   \n",
       "2019-11-01 14:01:00  2019-11-09 00:40:02.804454         CLZ9    BUY       1   \n",
       "2019-11-01 14:20:00  2019-11-09 00:40:03.453655         NQZ9    BUY       1   \n",
       "2019-11-01 14:36:00  2019-11-09 00:40:04.127382  YM   DEC 19    BUY       1   \n",
       "2019-11-01 15:02:00  2019-11-09 00:40:05.558067         GCZ9    BUY       1   \n",
       "2019-11-01 15:05:00  2019-11-09 00:40:05.810230         GCZ9   SELL       1   \n",
       "\n",
       "                         price exec_ids  order_id    reason  com_exec_id  \\\n",
       "time                                                                       \n",
       "2018-02-09 09:28:00   1316.150      [1]         1     entry            1   \n",
       "2018-02-09 13:31:00   1318.880      [2]         2  stop-out            2   \n",
       "2018-02-09 13:45:00  23822.100      [3]         3     entry            3   \n",
       "2018-02-09 14:10:00     60.354      [4]         5     entry            4   \n",
       "2018-02-09 14:39:00  23991.700      [5]         4  stop-out            5   \n",
       "...                        ...      ...       ...       ...          ...   \n",
       "2019-11-01 14:01:00     54.849   [4406]      5081     entry         4406   \n",
       "2019-11-01 14:20:00   8127.975   [4407]      5083     entry         4407   \n",
       "2019-11-01 14:36:00  27132.100   [4408]      5085     entry         4408   \n",
       "2019-11-01 15:02:00   1516.020   [4409]      5087     entry         4409   \n",
       "2019-11-01 15:05:00   1513.140   [4410]      5088  stop-out         4410   \n",
       "\n",
       "                     commission currency  realizedPNL  \\\n",
       "time                                                    \n",
       "2018-02-09 09:28:00         1.3      USD          0.0   \n",
       "2018-02-09 13:31:00         1.3      USD       -273.0   \n",
       "2018-02-09 13:45:00         1.3      USD          0.0   \n",
       "2018-02-09 14:10:00         1.3      USD          0.0   \n",
       "2018-02-09 14:39:00         1.3      USD       -848.0   \n",
       "...                         ...      ...          ...   \n",
       "2019-11-01 14:01:00         1.3      USD          0.0   \n",
       "2019-11-01 14:20:00         1.3      USD          0.0   \n",
       "2019-11-01 14:36:00         1.3      USD          0.0   \n",
       "2019-11-01 15:02:00         1.3      USD          0.0   \n",
       "2019-11-01 15:05:00         1.3      USD       -288.0   \n",
       "\n",
       "                                   com_sys_time  \n",
       "time                                             \n",
       "2018-02-09 09:28:00  2019-11-08 22:41:04.129520  \n",
       "2018-02-09 13:31:00  2019-11-08 22:41:04.496506  \n",
       "2018-02-09 13:45:00  2019-11-08 22:41:04.547921  \n",
       "2018-02-09 14:10:00  2019-11-08 22:41:04.627054  \n",
       "2018-02-09 14:39:00  2019-11-08 22:41:04.778050  \n",
       "...                                         ...  \n",
       "2019-11-01 14:01:00  2019-11-09 00:40:02.805350  \n",
       "2019-11-01 14:20:00  2019-11-09 00:40:03.454567  \n",
       "2019-11-01 14:36:00  2019-11-09 00:40:04.128257  \n",
       "2019-11-01 15:02:00  2019-11-09 00:40:05.558945  \n",
       "2019-11-01 15:05:00  2019-11-09 00:40:05.810286  \n",
       "\n",
       "[4410 rows x 13 columns]"
      ]
     },
     "execution_count": 2,
     "metadata": {},
     "output_type": "execute_result"
    }
   ],
   "source": [
    "df = pd.read_csv('/home/tomek/ib_tools/blotter/backtest_2019-11-08_22-39.csv')\n",
    "df.time = df.time.astype('datetime64')\n",
    "df.set_index('time', inplace=True)\n",
    "df"
   ]
  },
  {
   "cell_type": "code",
   "execution_count": 3,
   "metadata": {},
   "outputs": [
    {
     "data": {
      "text/plain": [
       "2204"
      ]
     },
     "execution_count": 3,
     "metadata": {},
     "output_type": "execute_result"
    }
   ],
   "source": [
    "df[df.reason == 'entry'].price.count()"
   ]
  },
  {
   "cell_type": "code",
   "execution_count": 4,
   "metadata": {},
   "outputs": [
    {
     "data": {
      "text/plain": [
       "2206"
      ]
     },
     "execution_count": 4,
     "metadata": {},
     "output_type": "execute_result"
    }
   ],
   "source": [
    "df[df.reason != 'entry'].price.count()"
   ]
  },
  {
   "cell_type": "code",
   "execution_count": 5,
   "metadata": {},
   "outputs": [
    {
     "data": {
      "text/plain": [
       "4410"
      ]
     },
     "execution_count": 5,
     "metadata": {},
     "output_type": "execute_result"
    }
   ],
   "source": [
    "df.price.count()"
   ]
  },
  {
   "cell_type": "code",
   "execution_count": 7,
   "metadata": {},
   "outputs": [
    {
     "data": {
      "text/plain": [
       "87728.25"
      ]
     },
     "execution_count": 7,
     "metadata": {},
     "output_type": "execute_result"
    }
   ],
   "source": [
    "df.realizedPNL.sum()"
   ]
  },
  {
   "cell_type": "code",
   "execution_count": 16,
   "metadata": {},
   "outputs": [
    {
     "data": {
      "text/plain": [
       "0.25"
      ]
     },
     "execution_count": 16,
     "metadata": {},
     "output_type": "execute_result"
    }
   ],
   "source": [
    "# percentage of winning transactions\n",
    "pct_win = round(df[df.realizedPNL>0].realizedPNL.count() / df[df.realizedPNL != 0].realizedPNL.count(), 2)\n",
    "pct_win"
   ]
  },
  {
   "cell_type": "code",
   "execution_count": 14,
   "metadata": {},
   "outputs": [
    {
     "data": {
      "text/plain": [
       "(1282.0, -374.0, 3.43)"
      ]
     },
     "execution_count": 14,
     "metadata": {},
     "output_type": "execute_result"
    }
   ],
   "source": [
    "# avg win, avg lose, ratio\n",
    "avg_win = round(df[df.realizedPNL > 0].realizedPNL.mean())\n",
    "avg_loss = round(df[df.realizedPNL < 0].realizedPNL.mean())\n",
    "ratio = round(abs(avg_win / avg_lose), 2)\n",
    "avg_win, avg_loss, ratio"
   ]
  },
  {
   "cell_type": "code",
   "execution_count": 10,
   "metadata": {},
   "outputs": [
    {
     "data": {
      "text/plain": [
       "(-1696.0, 6320.0, 4.0)"
      ]
     },
     "execution_count": 10,
     "metadata": {},
     "output_type": "execute_result"
    }
   ],
   "source": [
    "df.realizedPNL.min(), df.realizedPNL.max(), round(abs(df.realizedPNL.max()/df.realizedPNL.min()))"
   ]
  },
  {
   "cell_type": "code",
   "execution_count": 20,
   "metadata": {},
   "outputs": [
    {
     "data": {
      "text/plain": [
       "40.0"
      ]
     },
     "execution_count": 20,
     "metadata": {},
     "output_type": "execute_result"
    }
   ],
   "source": [
    "# EV\n",
    "ev = (pct_win * avg_win) + ((1 - pct_win) * avg_loss)\n",
    "ev"
   ]
  },
  {
   "cell_type": "code",
   "execution_count": 21,
   "metadata": {},
   "outputs": [
    {
     "data": {
      "text/plain": [
       "88200.0"
      ]
     },
     "execution_count": 21,
     "metadata": {},
     "output_type": "execute_result"
    }
   ],
   "source": [
    "ev * df.price.count()/2"
   ]
  },
  {
   "cell_type": "code",
   "execution_count": 13,
   "metadata": {},
   "outputs": [
    {
     "data": {
      "text/plain": [
       "time\n",
       "2018-02-28    -4205.46\n",
       "2018-03-31    21229.45\n",
       "2018-04-30    -1669.50\n",
       "2018-05-31    -5163.73\n",
       "2018-06-30     7281.57\n",
       "2018-07-31    -4152.25\n",
       "2018-08-31     9352.29\n",
       "2018-09-30   -11092.59\n",
       "2018-10-31    -5868.89\n",
       "2018-11-30     8907.55\n",
       "2018-12-31    37219.75\n",
       "2019-01-31    -8759.74\n",
       "2019-02-28     6968.17\n",
       "2019-03-31     5170.19\n",
       "2019-04-30     9282.82\n",
       "2019-05-31   -12997.88\n",
       "2019-06-30    32269.30\n",
       "2019-07-31    -4830.47\n",
       "2019-08-31    13219.17\n",
       "2019-09-30    -3033.75\n",
       "2019-10-31    -1392.25\n",
       "2019-11-30       -5.50\n",
       "Freq: M, Name: realizedPNL, dtype: float64"
      ]
     },
     "execution_count": 13,
     "metadata": {},
     "output_type": "execute_result"
    }
   ],
   "source": [
    "df.realizedPNL.resample('M').sum()"
   ]
  },
  {
   "cell_type": "code",
   "execution_count": null,
   "metadata": {},
   "outputs": [],
   "source": []
  },
  {
   "cell_type": "code",
   "execution_count": null,
   "metadata": {},
   "outputs": [],
   "source": []
  }
 ],
 "metadata": {
  "kernelspec": {
   "display_name": "Python 3",
   "language": "python",
   "name": "python3"
  },
  "language_info": {
   "codemirror_mode": {
    "name": "ipython",
    "version": 3
   },
   "file_extension": ".py",
   "mimetype": "text/x-python",
   "name": "python",
   "nbconvert_exporter": "python",
   "pygments_lexer": "ipython3",
   "version": "3.7.3"
  }
 },
 "nbformat": 4,
 "nbformat_minor": 2
}
