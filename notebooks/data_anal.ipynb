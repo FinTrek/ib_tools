{
 "cells": [
  {
   "cell_type": "code",
   "execution_count": 1,
   "metadata": {},
   "outputs": [
    {
     "ename": "ModuleNotFoundError",
     "evalue": "No module named 'pandas'",
     "output_type": "error",
     "traceback": [
      "\u001b[0;31m---------------------------------------------------------------------------\u001b[0m",
      "\u001b[0;31mModuleNotFoundError\u001b[0m                       Traceback (most recent call last)",
      "\u001b[0;32m<ipython-input-1-f869c0f42cc0>\u001b[0m in \u001b[0;36m<module>\u001b[0;34m\u001b[0m\n\u001b[0;32m----> 1\u001b[0;31m \u001b[0;32mimport\u001b[0m \u001b[0mpandas\u001b[0m \u001b[0;32mas\u001b[0m \u001b[0mpd\u001b[0m\u001b[0;34m\u001b[0m\u001b[0;34m\u001b[0m\u001b[0m\n\u001b[0m\u001b[1;32m      2\u001b[0m \u001b[0;32mimport\u001b[0m \u001b[0mnumpy\u001b[0m \u001b[0;32mas\u001b[0m \u001b[0mnp\u001b[0m\u001b[0;34m\u001b[0m\u001b[0;34m\u001b[0m\u001b[0m\n\u001b[1;32m      3\u001b[0m \u001b[0mget_ipython\u001b[0m\u001b[0;34m(\u001b[0m\u001b[0;34m)\u001b[0m\u001b[0;34m.\u001b[0m\u001b[0mrun_line_magic\u001b[0m\u001b[0;34m(\u001b[0m\u001b[0;34m'matplotlib'\u001b[0m\u001b[0;34m,\u001b[0m \u001b[0;34m'inline'\u001b[0m\u001b[0;34m)\u001b[0m\u001b[0;34m\u001b[0m\u001b[0;34m\u001b[0m\u001b[0m\n",
      "\u001b[0;31mModuleNotFoundError\u001b[0m: No module named 'pandas'"
     ]
    }
   ],
   "source": [
    "import pandas as pd\n",
    "import numpy as np\n",
    "%matplotlib inline"
   ]
  },
  {
   "cell_type": "code",
   "execution_count": null,
   "metadata": {},
   "outputs": [],
   "source": [
    "from candlesticks import barplot"
   ]
  },
  {
   "cell_type": "code",
   "execution_count": null,
   "metadata": {},
   "outputs": [],
   "source": [
    "nq = pd.read_pickle('minute_NQ_cont_non_active_included.pickle')\n",
    "nq.head()"
   ]
  },
  {
   "cell_type": "code",
   "execution_count": null,
   "metadata": {},
   "outputs": [],
   "source": [
    "nq.describe()"
   ]
  },
  {
   "cell_type": "code",
   "execution_count": null,
   "metadata": {},
   "outputs": [],
   "source": [
    "nq.head()"
   ]
  },
  {
   "cell_type": "code",
   "execution_count": null,
   "metadata": {},
   "outputs": [],
   "source": [
    "nq.close.plot(figsize=(20,8));"
   ]
  },
  {
   "cell_type": "code",
   "execution_count": null,
   "metadata": {},
   "outputs": [],
   "source": [
    "data = pd.DataFrame(nq.close)\n",
    "data['max'] = data.close.rolling(200).max()\n",
    "data['min'] = data.close.rolling(200).min()\n",
    "data['ema'] = data.close.rolling(2000).mean()\n",
    "#data['mean'] = (data['max'] + data['min']) / 2\n",
    "#data['indicator'] = (data['close'] - data['mean']) / (data['max'] - data['min'])\n",
    "\n",
    "data.tail()"
   ]
  },
  {
   "cell_type": "code",
   "execution_count": null,
   "metadata": {},
   "outputs": [],
   "source": [
    "data[-75000:].plot(figsize=(20,8), grid=True);"
   ]
  },
  {
   "cell_type": "code",
   "execution_count": null,
   "metadata": {},
   "outputs": [],
   "source": [
    "avg_vol = nq.loc['20190621':].volume.rolling(30).sum().mean()\n",
    "avg_vol"
   ]
  },
  {
   "cell_type": "code",
   "execution_count": null,
   "metadata": {},
   "outputs": [],
   "source": [
    "time_int = 30\n",
    "df = nq.loc['20190621':]\n",
    "avg = df.volume.rolling(time_int).sum().mean()\n",
    "volume_df = pd.DataFrame({\n",
    "    '{}m'.format(time_int): df.volume.rolling(time_int).sum(),\n",
    "    '{}m avg'.format(time_int): avg,\n",
    "})\n",
    "print(avg)\n",
    "volume_df.plot(figsize=(20, 8), grid=True);"
   ]
  },
  {
   "cell_type": "code",
   "execution_count": null,
   "metadata": {},
   "outputs": [],
   "source": [
    "volume_df['rolling_avg'] = volume_df.iloc[:,0].rolling(2400).mean()\n",
    "volume_df.plot(figsize=(18,7), grid=True);"
   ]
  },
  {
   "cell_type": "code",
   "execution_count": 2,
   "metadata": {},
   "outputs": [
    {
     "ename": "NameError",
     "evalue": "name 'nq' is not defined",
     "output_type": "error",
     "traceback": [
      "\u001b[0;31m---------------------------------------------------------------------------\u001b[0m",
      "\u001b[0;31mNameError\u001b[0m                                 Traceback (most recent call last)",
      "\u001b[0;32m<ipython-input-2-276db6f415f9>\u001b[0m in \u001b[0;36m<module>\u001b[0;34m\u001b[0m\n\u001b[0;32m----> 1\u001b[0;31m \u001b[0mnq\u001b[0m\u001b[0;34m.\u001b[0m\u001b[0mloc\u001b[0m\u001b[0;34m[\u001b[0m\u001b[0;34m'20190611 22:45:00'\u001b[0m\u001b[0;34m:\u001b[0m\u001b[0;34m'20190621'\u001b[0m\u001b[0;34m]\u001b[0m\u001b[0;34m.\u001b[0m\u001b[0mclose\u001b[0m\u001b[0;34m.\u001b[0m\u001b[0mplot\u001b[0m\u001b[0;34m(\u001b[0m\u001b[0mfigsize\u001b[0m\u001b[0;34m=\u001b[0m\u001b[0;34m(\u001b[0m\u001b[0;36m20\u001b[0m\u001b[0;34m,\u001b[0m\u001b[0;36m10\u001b[0m\u001b[0;34m)\u001b[0m\u001b[0;34m,\u001b[0m\u001b[0mgrid\u001b[0m\u001b[0;34m=\u001b[0m\u001b[0;32mTrue\u001b[0m\u001b[0;34m)\u001b[0m\u001b[0;34m;\u001b[0m\u001b[0;34m\u001b[0m\u001b[0;34m\u001b[0m\u001b[0m\n\u001b[0m",
      "\u001b[0;31mNameError\u001b[0m: name 'nq' is not defined"
     ]
    }
   ],
   "source": [
    " nq.loc['20190611 22:45:00':'20190621'].close.plot(figsize=(20,10),grid=True);"
   ]
  },
  {
   "cell_type": "code",
   "execution_count": null,
   "metadata": {},
   "outputs": [],
   "source": [
    "class VolumeGrouper:\n",
    "    def __init__(self, avg_vol):\n",
    "        self.volume = 0\n",
    "        self.counter = 0\n",
    "        self.avg_vol = avg_vol\n",
    "    def group(self, vol):\n",
    "        self.volume += vol\n",
    "        if self.volume >= self.avg_vol:\n",
    "            self.volume -= self.avg_vol\n",
    "            self.counter += 1\n",
    "        return self.counter"
   ]
  },
  {
   "cell_type": "code",
   "execution_count": null,
   "metadata": {},
   "outputs": [],
   "source": [
    "vol_candles = nq.copy().reset_index()\n",
    "vol_candles['turnover'] = vol_candles.close * vol_candles.volume\n",
    "grouper = VolumeGrouper(avg_vol)\n",
    "vol_candles['label'] = vol_candles.volume.apply(grouper.group)"
   ]
  },
  {
   "cell_type": "code",
   "execution_count": null,
   "metadata": {},
   "outputs": [],
   "source": [
    "vol_candles = vol_candles.groupby('label').agg({'date': 'last',\n",
    "                                  'open': 'first',\n",
    "                                 'high': 'max',\n",
    "                                 'low': 'min',\n",
    "                                 'close': 'last',\n",
    "                                 'volume': 'sum',\n",
    "                                'turnover': 'sum'})\n",
    "vol_candles['avg_price'] = vol_candles.turnover / vol_candles.volume"
   ]
  },
  {
   "cell_type": "code",
   "execution_count": null,
   "metadata": {},
   "outputs": [],
   "source": [
    "#vol_candles.set_index('date', inplace=True)"
   ]
  },
  {
   "cell_type": "code",
   "execution_count": null,
   "metadata": {},
   "outputs": [],
   "source": [
    "vol_candles.head()"
   ]
  },
  {
   "cell_type": "code",
   "execution_count": null,
   "metadata": {},
   "outputs": [],
   "source": [
    "vol_candles['close'] = vol_candles['avg_price']"
   ]
  },
  {
   "cell_type": "code",
   "execution_count": null,
   "metadata": {},
   "outputs": [],
   "source": [
    "data = pd.DataFrame(vol_candles.close)\n",
    "data['max'] = data.close.rolling(20).max()\n",
    "data['min'] = data.close.rolling(20).min()\n",
    "data['ema_fast'] = data.close.ewm(span=80).mean()\n",
    "data['ema_slow'] = data.close.ewm(span=480).mean()\n",
    "#data.reset_index(drop=True, inplace=True)\n",
    "data.tail()"
   ]
  },
  {
   "cell_type": "code",
   "execution_count": null,
   "metadata": {},
   "outputs": [],
   "source": [
    "data.plot(figsize=(18,7), grid=True);"
   ]
  },
  {
   "cell_type": "code",
   "execution_count": null,
   "metadata": {},
   "outputs": [],
   "source": [
    "ema_diff = pd.DataFrame({'close': data['close'], 'ema_diff': data['ema_fast'] - data['ema_slow']})\n",
    "ema_diff['return'] = ema_diff['close'].pct_change()\n",
    "ema_diff['std'] = ema_diff['return'].expanding().std()\n",
    "ema_diff['price_std'] = ema_diff['std'] * ema_diff['close']\n",
    "ema_diff['norm'] = ema_diff['ema_diff']/ema_diff['price_std']\n",
    "ema_diff['zscore'] = (ema_diff['ema_diff'] - ema_diff['ema_diff'].expanding().mean()) / ema_diff['ema_diff'].expanding().std()\n",
    "#ema_diff['max']"
   ]
  },
  {
   "cell_type": "code",
   "execution_count": null,
   "metadata": {},
   "outputs": [],
   "source": [
    "ema_diff.tail()"
   ]
  },
  {
   "cell_type": "code",
   "execution_count": null,
   "metadata": {},
   "outputs": [],
   "source": [
    "ema_diff['norm'].plot(figsize=(18,7), grid=True);"
   ]
  },
  {
   "cell_type": "code",
   "execution_count": null,
   "metadata": {},
   "outputs": [],
   "source": [
    "ema_diff['zscore'].plot(figsize=(18,7), grid=True);"
   ]
  },
  {
   "cell_type": "code",
   "execution_count": null,
   "metadata": {},
   "outputs": [],
   "source": [
    "def get_forecast(close, periods):\n",
    "    ind = pd.DataFrame({'close': close})\n",
    "    ind['max'] = ind.close.rolling(periods).max()\n",
    "    ind['min'] = ind.close.rolling(periods).min()\n",
    "    ind['mean'] = (ind['max'] + ind['min']) / 2\n",
    "    ind['forecast'] = (ind['close'] - ind['mean']) / (ind['max'] - ind['min'])\n",
    "    return ind"
   ]
  },
  {
   "cell_type": "code",
   "execution_count": null,
   "metadata": {},
   "outputs": [],
   "source": [
    "ind = get_forecast(data.close, 120)\n",
    "ind.forecast.plot(figsize=(18,7), grid=True);"
   ]
  },
  {
   "cell_type": "code",
   "execution_count": null,
   "metadata": {},
   "outputs": [],
   "source": [
    "10 / ind.forecast.abs().mean()"
   ]
  },
  {
   "cell_type": "code",
   "execution_count": null,
   "metadata": {},
   "outputs": [],
   "source": [
    "10 / ema_diff.zscore.abs().mean()"
   ]
  },
  {
   "cell_type": "code",
   "execution_count": null,
   "metadata": {},
   "outputs": [],
   "source": [
    "10 / ema_diff.norm.abs().mean()"
   ]
  },
  {
   "cell_type": "code",
   "execution_count": null,
   "metadata": {},
   "outputs": [],
   "source": [
    "ind['ind'] = ind['forecast'] * 40 + ema_diff['norm'] * 5.6"
   ]
  },
  {
   "cell_type": "code",
   "execution_count": null,
   "metadata": {},
   "outputs": [],
   "source": [
    "ind.ind.plot(figsize=(18, 7), grid=True);"
   ]
  },
  {
   "cell_type": "code",
   "execution_count": null,
   "metadata": {},
   "outputs": [],
   "source": [
    "norm_ind = pd.DataFrame({'breakout': ind['forecast'] * 40, 'ema_cross': ema_diff['norm'] * 5.6})\n",
    "norm_ind['ema_cross'] = norm_ind['ema_cross'].clip(lower=-20, upper=20)\n",
    "norm_ind['ema_cross_shift'] = norm_ind['ema_cross'].shift(20)\n",
    "norm_ind.tail()"
   ]
  },
  {
   "cell_type": "code",
   "execution_count": null,
   "metadata": {},
   "outputs": [],
   "source": [
    "norm_ind.plot(figsize=(18,7), grid=True);"
   ]
  },
  {
   "cell_type": "code",
   "execution_count": null,
   "metadata": {},
   "outputs": [],
   "source": [
    "(norm_ind['breakout'] - norm_ind['ema_cross_shift']).plot(figsize=(18,7), grid=True);"
   ]
  },
  {
   "cell_type": "code",
   "execution_count": null,
   "metadata": {},
   "outputs": [],
   "source": [
    "data.plot(figsize=(18,7), grid=True);"
   ]
  },
  {
   "cell_type": "code",
   "execution_count": null,
   "metadata": {},
   "outputs": [],
   "source": [
    "periods = [7, 15, 30, 120, 240, 480]"
   ]
  },
  {
   "cell_type": "code",
   "execution_count": null,
   "metadata": {},
   "outputs": [],
   "source": [
    "forecasts = pd.DataFrame()\n",
    "for period in periods:\n",
    "    forecasts[period] = get_forecast(data.close, period)['forecast']\n",
    "forecasts.tail()"
   ]
  },
  {
   "cell_type": "code",
   "execution_count": null,
   "metadata": {},
   "outputs": [],
   "source": [
    "x = pd.DataFrame({'mean_15': forecasts.mean(axis=1).ewm(span=15).mean(),\n",
    "                  'mean_40': forecasts.mean(axis=1).ewm(span=40).mean()\n",
    "                  #'forecast': forecasts.mean(axis=1)\n",
    "                 })\n",
    "x.plot(figsize=(18,7),grid=True);"
   ]
  },
  {
   "cell_type": "code",
   "execution_count": null,
   "metadata": {},
   "outputs": [],
   "source": [
    "forecasts.corr()"
   ]
  },
  {
   "cell_type": "code",
   "execution_count": null,
   "metadata": {},
   "outputs": [],
   "source": [
    "def get_emas(close, periods):\n",
    "    ind = pd.DataFrame({'close': close})\n",
    "    ind['ema_fast'] = close.ewm(span=periods[0]).mean()\n",
    "    ind['ema_slow'] = close.ewm(span=periods[1]).mean()\n",
    "    ind['diff'] = ind['ema_fast'] - ind['ema_slow']\n",
    "    return ind"
   ]
  },
  {
   "cell_type": "code",
   "execution_count": null,
   "metadata": {},
   "outputs": [],
   "source": [
    "ema_pairs = [(60, 240), (120, 640), (360, 1120)]"
   ]
  },
  {
   "cell_type": "code",
   "execution_count": null,
   "metadata": {},
   "outputs": [],
   "source": [
    "emas = pd.DataFrame()\n",
    "for pair in ema_pairs:\n",
    "    emas[pair] = get_emas(data.close, pair)['diff']\n",
    "emas.tail()"
   ]
  },
  {
   "cell_type": "code",
   "execution_count": null,
   "metadata": {},
   "outputs": [],
   "source": [
    "emas.corr()"
   ]
  },
  {
   "cell_type": "code",
   "execution_count": null,
   "metadata": {},
   "outputs": [],
   "source": [
    "emas.mean(axis=1).plot(figsize=(18,7), grid=True);"
   ]
  },
  {
   "cell_type": "code",
   "execution_count": null,
   "metadata": {},
   "outputs": [],
   "source": [
    "data.plot(figsize=(18,7), grid=True);"
   ]
  },
  {
   "cell_type": "code",
   "execution_count": null,
   "metadata": {},
   "outputs": [],
   "source": [
    "10/ emas.mean(axis=1).abs().mean()"
   ]
  },
  {
   "cell_type": "code",
   "execution_count": null,
   "metadata": {},
   "outputs": [],
   "source": [
    "indices = pd.DataFrame({'ema': (emas.mean(axis=1) * .23).clip(lower=-20, upper=20),\n",
    "                       'break': forecasts.mean(axis=1).rolling(15).mean() * 40\n",
    "                       })\n",
    "indices.plot(figsize=(18,7), grid=True);"
   ]
  },
  {
   "cell_type": "code",
   "execution_count": null,
   "metadata": {},
   "outputs": [],
   "source": [
    "indices.corr()"
   ]
  },
  {
   "cell_type": "code",
   "execution_count": null,
   "metadata": {},
   "outputs": [],
   "source": [
    "indices.mean(axis=1).plot(figsize=(18,7), grid=True);"
   ]
  },
  {
   "cell_type": "code",
   "execution_count": null,
   "metadata": {},
   "outputs": [],
   "source": [
    "((indices['ema'] - indices['ema'].expanding().mean()) / indices['ema'].expanding().std()).plot(figsize=(18,7), grid=True);"
   ]
  },
  {
   "cell_type": "code",
   "execution_count": null,
   "metadata": {},
   "outputs": [],
   "source": [
    "(indices['ema'] + indices['break']).plot(figsize=(18,7), grid=True);"
   ]
  },
  {
   "cell_type": "code",
   "execution_count": null,
   "metadata": {},
   "outputs": [],
   "source": [
    "data.plot(figsize=(18,7), grid=True);"
   ]
  },
  {
   "cell_type": "code",
   "execution_count": null,
   "metadata": {},
   "outputs": [],
   "source": []
  },
  {
   "cell_type": "code",
   "execution_count": null,
   "metadata": {},
   "outputs": [],
   "source": [
    "def get_ATR(data, periods):\n",
    "    TR = pd.DataFrame({'A': (data['high'] - data['low']),\n",
    "                       'B': (data['high'] - data['close']).abs(),\n",
    "                       'C': (data['low'] - data['close']).abs()\n",
    "                      })\n",
    "    TR['TR'] = TR.max(axis=1)\n",
    "    TR['ATR'] = TR['TR'].rolling(periods).mean()\n",
    "    return TR.ATR"
   ]
  },
  {
   "cell_type": "code",
   "execution_count": null,
   "metadata": {},
   "outputs": [],
   "source": [
    "get_ATR(vol_candles, 60).plot(figsize=(18,7), grid=True);"
   ]
  },
  {
   "cell_type": "code",
   "execution_count": null,
   "metadata": {},
   "outputs": [],
   "source": [
    "periods = [10, 20, 40, 80, 160]"
   ]
  },
  {
   "cell_type": "code",
   "execution_count": null,
   "metadata": {},
   "outputs": [],
   "source": [
    "multi_period = pd.DataFrame({'close': data.close})"
   ]
  },
  {
   "cell_type": "code",
   "execution_count": null,
   "metadata": {},
   "outputs": [],
   "source": [
    "multi_period['max'] = multi_period.close - multi_period.close.shift(1).rolling(20).max()\n",
    "multi_period['min'] = multi_period.close.shift(1).rolling(20).min() - multi_period.close\n",
    "multi_period[['max', 'min']].plot(figsize=(18,7), grid=True);"
   ]
  },
  {
   "cell_type": "code",
   "execution_count": null,
   "metadata": {},
   "outputs": [],
   "source": [
    "multi_period_max = pd.DataFrame({'close': data.close})\n",
    "multi_period_min = pd.DataFrame({'close': data.close})\n",
    "for period in periods:\n",
    "    multi_period_max[period] = multi_period.close - multi_period.close.shift(1).rolling(period).max()\n",
    "    multi_period_min[period] = multi_period.close.shift(1).rolling(20).min() - multi_period.close\n",
    "multi_period_avg = pd.DataFrame({\n",
    "    #'close': data.close,\n",
    "    'max': multi_period_max.mean(axis=1).clip(upper=2200, lower=800),\n",
    "    'min': multi_period_min.mean(axis=1).clip(upper=2200, lower=800),\n",
    "})\n",
    "multi_period_avg.tail()"
   ]
  },
  {
   "cell_type": "code",
   "execution_count": null,
   "metadata": {},
   "outputs": [],
   "source": [
    "multi_period_avg.plot(figsize=(18,7), grid=True);"
   ]
  },
  {
   "cell_type": "code",
   "execution_count": null,
   "metadata": {},
   "outputs": [],
   "source": [
    "(multi_period_avg['max'] - multi_period_avg['min']).plot(figsize=(18,7), grid=True);"
   ]
  },
  {
   "cell_type": "code",
   "execution_count": null,
   "metadata": {},
   "outputs": [],
   "source": []
  },
  {
   "cell_type": "code",
   "execution_count": null,
   "metadata": {},
   "outputs": [],
   "source": []
  },
  {
   "cell_type": "code",
   "execution_count": null,
   "metadata": {},
   "outputs": [],
   "source": [
    "from functools import partial\n",
    "\n",
    "def get_min_max(data, period):\n",
    "    return pd.DataFrame({\n",
    "        'max': (data - data.shift(1).rolling(period).max()) > 0,\n",
    "        'min': (data.shift(1).rolling(period).min() - data) > 0\n",
    "    })\n",
    "\n",
    "def majority_function(data):\n",
    "    return (0.5 + ((data.sum(axis=1) - 0.5) / data.count(axis=1))).round(0)\n",
    "\n",
    "def get_min_max_df(data, periods, func=get_min_max):\n",
    "    min_max_func = partial(func, data)\n",
    "    mins = pd.DataFrame()\n",
    "    maxs = pd.DataFrame()\n",
    "    for period in periods:\n",
    "        df = min_max_func(period)\n",
    "        mins[period] = df['min']\n",
    "        maxs[period] = df['max']\n",
    "    return {'min': mins,\n",
    "           'max': maxs}\n",
    "\n",
    "def get_signals(data, periods, func=get_min_max_df):\n",
    "    min_max = func(data, periods)\n",
    "    #return min_max['min']\n",
    "    \n",
    "    return pd.DataFrame({\n",
    "        'signal': majority_function(min_max['max']) - majority_function(min_max['min'])\n",
    "    })\n",
    "    "
   ]
  },
  {
   "cell_type": "code",
   "execution_count": null,
   "metadata": {},
   "outputs": [],
   "source": [
    "get_signals(data.close, periods).tail()"
   ]
  },
  {
   "cell_type": "code",
   "execution_count": null,
   "metadata": {},
   "outputs": [],
   "source": [
    "signals = pd.DataFrame({\n",
    "    'close': data.close,\n",
    "    'signal': get_signals(data.close, periods)['signal']\n",
    "})"
   ]
  },
  {
   "cell_type": "code",
   "execution_count": null,
   "metadata": {},
   "outputs": [],
   "source": [
    "signals.plot();"
   ]
  },
  {
   "cell_type": "code",
   "execution_count": null,
   "metadata": {},
   "outputs": [],
   "source": [
    "signals['value'] = signals['close'] * signals['signal']"
   ]
  },
  {
   "cell_type": "code",
   "execution_count": null,
   "metadata": {},
   "outputs": [],
   "source": [
    "signals.tail()"
   ]
  },
  {
   "cell_type": "code",
   "execution_count": null,
   "metadata": {},
   "outputs": [],
   "source": [
    "signals['value'] = signals.value.map(lambda x: x if x != 0 else np.nan)"
   ]
  },
  {
   "cell_type": "code",
   "execution_count": 3,
   "metadata": {},
   "outputs": [
    {
     "ename": "NameError",
     "evalue": "name 'signals' is not defined",
     "output_type": "error",
     "traceback": [
      "\u001b[0;31m---------------------------------------------------------------------------\u001b[0m",
      "\u001b[0;31mNameError\u001b[0m                                 Traceback (most recent call last)",
      "\u001b[0;32m<ipython-input-3-d4d6004300df>\u001b[0m in \u001b[0;36m<module>\u001b[0;34m\u001b[0m\n\u001b[0;32m----> 1\u001b[0;31m \u001b[0msignals\u001b[0m\u001b[0;34m[\u001b[0m\u001b[0;34m'buy'\u001b[0m\u001b[0;34m]\u001b[0m \u001b[0;34m=\u001b[0m \u001b[0msignals\u001b[0m\u001b[0;34m[\u001b[0m\u001b[0;34m'value'\u001b[0m\u001b[0;34m]\u001b[0m\u001b[0;34m.\u001b[0m\u001b[0mmap\u001b[0m\u001b[0;34m(\u001b[0m\u001b[0;32mlambda\u001b[0m \u001b[0mx\u001b[0m\u001b[0;34m:\u001b[0m \u001b[0mx\u001b[0m \u001b[0;32mif\u001b[0m \u001b[0mx\u001b[0m \u001b[0;34m>\u001b[0m \u001b[0;36m0\u001b[0m \u001b[0;32melse\u001b[0m \u001b[0mnp\u001b[0m\u001b[0;34m.\u001b[0m\u001b[0mnan\u001b[0m\u001b[0;34m)\u001b[0m\u001b[0;34m\u001b[0m\u001b[0;34m\u001b[0m\u001b[0m\n\u001b[0m\u001b[1;32m      2\u001b[0m \u001b[0msignals\u001b[0m\u001b[0;34m[\u001b[0m\u001b[0;34m'sell'\u001b[0m\u001b[0;34m]\u001b[0m \u001b[0;34m=\u001b[0m \u001b[0msignals\u001b[0m\u001b[0;34m[\u001b[0m\u001b[0;34m'value'\u001b[0m\u001b[0;34m]\u001b[0m\u001b[0;34m.\u001b[0m\u001b[0mmap\u001b[0m\u001b[0;34m(\u001b[0m\u001b[0;32mlambda\u001b[0m \u001b[0mx\u001b[0m\u001b[0;34m:\u001b[0m \u001b[0;34m-\u001b[0m\u001b[0mx\u001b[0m \u001b[0;32mif\u001b[0m \u001b[0mx\u001b[0m \u001b[0;34m<\u001b[0m \u001b[0;36m0\u001b[0m \u001b[0;32melse\u001b[0m \u001b[0mnp\u001b[0m\u001b[0;34m.\u001b[0m\u001b[0mnan\u001b[0m\u001b[0;34m)\u001b[0m\u001b[0;34m\u001b[0m\u001b[0;34m\u001b[0m\u001b[0m\n",
      "\u001b[0;31mNameError\u001b[0m: name 'signals' is not defined"
     ]
    }
   ],
   "source": [
    "signals['buy'] = signals['value'].map(lambda x: x if x > 0 else np.nan)\n",
    "signals['sell'] = signals['value'].map(lambda x: -x if x < 0 else np.nan)"
   ]
  },
  {
   "cell_type": "code",
   "execution_count": null,
   "metadata": {},
   "outputs": [],
   "source": [
    "signals[['close', 'buy', 'sell']].plot(figsize=(18, 7), grid=True);"
   ]
  },
  {
   "cell_type": "code",
   "execution_count": null,
   "metadata": {},
   "outputs": [],
   "source": [
    "signals['cum_signal'] = signals.signal.expanding().apply(lambda x: x.sum().clip(min=-1, max=1), raw=False)"
   ]
  },
  {
   "cell_type": "code",
   "execution_count": null,
   "metadata": {},
   "outputs": [],
   "source": [
    "signals['cum_signal'].plot()"
   ]
  },
  {
   "cell_type": "code",
   "execution_count": null,
   "metadata": {},
   "outputs": [],
   "source": [
    "#signals['filter'] = np.sign(emas.mean(axis=1))\n",
    "signals['filter'] = np.sign(data.close - data.ema_fast)\n",
    "signals['atr'] = get_ATR(vol_candles, 80)"
   ]
  },
  {
   "cell_type": "code",
   "execution_count": null,
   "metadata": {},
   "outputs": [],
   "source": [
    "number_of_trades = 0\n",
    "entry = 0\n",
    "for row in signals.itertuples():\n",
    "    if row.Index == 0:\n",
    "        continue\n",
    "    # if there's no position signal is to be filtered\n",
    "    if signals.loc[row.Index-1, 'cum_signal'] == 0 and row.filter * row.signal != 1:\n",
    "        signals.loc[row.Index, 'cum_signal'] = 0\n",
    "        continue\n",
    "    else:\n",
    "        signals.loc[row.Index, 'cum_signal'] = (signals.loc[row.Index-1, 'cum_signal'] + row.signal).clip(max=1, min=-1)\n",
    "        \n",
    "    # create stop loss\n",
    "    if signals.loc[row.Index, 'cum_signal'] - signals.loc[row.Index-1, 'cum_signal'] != 0:\n",
    "        sl = signals.loc[row.Index, 'close'] - signals.loc[row.Index, 'cum_signal'] * signals.loc[row.Index, 'atr'] * 1\n",
    "        signals.loc[row.Index, 'sl'] = sl\n",
    "    if not signals.loc[row.Index, 'sl']:\n",
    "        signals.loc[row.Index, 'sl'] = signals.loc[row.Index-1, 'sl']\n",
    "        \n",
    "    # apply stop loss\n",
    "    if signals.loc[row.Index, 'cum_signal'] == 1 and signals.loc[row.Index, 'close'] < sl:\n",
    "        signals.loc[row.Index, 'cum_signal'] = 0\n",
    "    elif signals.loc[row.Index, 'cum_signal'] == -1 and signals.loc[row.Index, 'close'] > sl:\n",
    "        signals.loc[row.Index, 'cum_signal'] = 0\n",
    "        \n",
    "    # count trades\n",
    "    if signals.loc[row.Index, 'cum_signal'] != signals.loc[row.Index-1, 'cum_signal']:\n",
    "        number_of_trades += 1"
   ]
  },
  {
   "cell_type": "code",
   "execution_count": null,
   "metadata": {},
   "outputs": [],
   "source": [
    "signals.tail()"
   ]
  },
  {
   "cell_type": "code",
   "execution_count": null,
   "metadata": {},
   "outputs": [],
   "source": [
    "signals['value'] = signals['close'] * signals['cum_signal']\n",
    "signals['value'] = signals.value.map(lambda x: x if x != 0 else np.nan)\n",
    "signals['long'] = signals['value'].map(lambda x: x if x > 0 else np.nan)\n",
    "signals['short'] = signals['value'].map(lambda x: -x if x < 0 else np.nan)"
   ]
  },
  {
   "cell_type": "code",
   "execution_count": null,
   "metadata": {},
   "outputs": [],
   "source": [
    "signals[['close', 'short', 'long']].plot(figsize=(18, 12), grid=True, color=['k', 'r', 'g']);"
   ]
  },
  {
   "cell_type": "code",
   "execution_count": null,
   "metadata": {},
   "outputs": [],
   "source": [
    "#signals.tail(200)"
   ]
  },
  {
   "cell_type": "code",
   "execution_count": null,
   "metadata": {},
   "outputs": [],
   "source": [
    "signals.head()"
   ]
  },
  {
   "cell_type": "code",
   "execution_count": null,
   "metadata": {},
   "outputs": [],
   "source": [
    "signals['long_pnl'] = signals.long.diff().fillna(0)\n",
    "signals['short_pnl'] = - signals.short.diff().fillna(0)"
   ]
  },
  {
   "cell_type": "code",
   "execution_count": null,
   "metadata": {},
   "outputs": [],
   "source": [
    "long_pnl = signals.long_pnl.sum()\n",
    "short_pnl = signals.short_pnl.sum()\n",
    "pnl = long_pnl + short_pnl\n",
    "long_pnl, short_pnl, pnl"
   ]
  },
  {
   "cell_type": "markdown",
   "metadata": {},
   "source": [
    "fast filter: 773 (980 with 60minute volumes)\n",
    "slow filter: 404"
   ]
  },
  {
   "cell_type": "code",
   "execution_count": null,
   "metadata": {},
   "outputs": [],
   "source": [
    "signals['pnl'] = signals['long_pnl'] + signals['short_pnl']\n",
    "pnl_p = signals[signals['pnl']>0].pnl\n",
    "pnl_m = signals[signals['pnl']<0].pnl\n",
    "pnl_p.count(), pnl_m.count(), pnl_p.count()/(pnl_p.count()+pnl_m.count())"
   ]
  },
  {
   "cell_type": "code",
   "execution_count": null,
   "metadata": {},
   "outputs": [],
   "source": [
    "pnl_p.sum(), pnl_m.sum(), pnl_p.sum()/ pnl_m.abs().sum()"
   ]
  },
  {
   "cell_type": "code",
   "execution_count": null,
   "metadata": {},
   "outputs": [],
   "source": [
    "signals['date'] = vol_candles['date']"
   ]
  },
  {
   "cell_type": "code",
   "execution_count": null,
   "metadata": {},
   "outputs": [],
   "source": [
    "signals.set_index('date', inplace=True)"
   ]
  },
  {
   "cell_type": "code",
   "execution_count": null,
   "metadata": {},
   "outputs": [],
   "source": [
    "signals[['close', 'short', 'long']].plot(figsize=(18, 12), grid=True);"
   ]
  },
  {
   "cell_type": "code",
   "execution_count": null,
   "metadata": {},
   "outputs": [],
   "source": [
    "signals.tail(30)"
   ]
  },
  {
   "cell_type": "code",
   "execution_count": null,
   "metadata": {},
   "outputs": [],
   "source": [
    "interval = pd.Series(signals.index).diff().loc[10:]\n",
    "interval.tail(20)"
   ]
  },
  {
   "cell_type": "code",
   "execution_count": null,
   "metadata": {},
   "outputs": [],
   "source": [
    "interval.mean()"
   ]
  },
  {
   "cell_type": "code",
   "execution_count": null,
   "metadata": {},
   "outputs": [],
   "source": [
    "daily = pd.DataFrame()\n",
    "daily['close'] = signals['close'].resample('D').last()\n",
    "daily['pnl'] = (signals['long_pnl'] + signals['short_pnl']).resample('D').sum()\n",
    "daily.tail()"
   ]
  },
  {
   "cell_type": "code",
   "execution_count": null,
   "metadata": {},
   "outputs": [],
   "source": [
    "daily['dollars'] = 0\n",
    "daily.iloc[0,2] = 25000"
   ]
  },
  {
   "cell_type": "code",
   "execution_count": null,
   "metadata": {},
   "outputs": [],
   "source": [
    "daily.head()"
   ]
  },
  {
   "cell_type": "code",
   "execution_count": null,
   "metadata": {},
   "outputs": [],
   "source": [
    "multiplier = 20"
   ]
  },
  {
   "cell_type": "code",
   "execution_count": null,
   "metadata": {},
   "outputs": [],
   "source": [
    "daily['dollars'] = 25000 + daily.pnl.cumsum() * multiplier"
   ]
  },
  {
   "cell_type": "code",
   "execution_count": null,
   "metadata": {},
   "outputs": [],
   "source": [
    "daily.tail()"
   ]
  },
  {
   "cell_type": "code",
   "execution_count": null,
   "metadata": {},
   "outputs": [],
   "source": [
    "daily['return'] = daily.dollars.pct_change()"
   ]
  },
  {
   "cell_type": "code",
   "execution_count": null,
   "metadata": {},
   "outputs": [],
   "source": [
    "daily.dollars.plot(figsize=(20,5), grid=True);"
   ]
  },
  {
   "cell_type": "code",
   "execution_count": null,
   "metadata": {},
   "outputs": [],
   "source": [
    "daily['return'].hist(bins=50,figsize=(18,7), grid=True);"
   ]
  },
  {
   "cell_type": "code",
   "execution_count": null,
   "metadata": {},
   "outputs": [],
   "source": [
    "daily['dollars_diff'] = daily.dollars.diff()\n",
    "daily.tail()"
   ]
  },
  {
   "cell_type": "code",
   "execution_count": null,
   "metadata": {},
   "outputs": [],
   "source": [
    "daily['dollars_diff'].sort_values(ascending=True).head(20)"
   ]
  },
  {
   "cell_type": "code",
   "execution_count": null,
   "metadata": {},
   "outputs": [],
   "source": [
    "daily['dollars_diff'].sort_values(ascending=False).head(20)"
   ]
  },
  {
   "cell_type": "code",
   "execution_count": null,
   "metadata": {},
   "outputs": [],
   "source": [
    "small = 0\n",
    "big = []\n",
    "for i in daily[daily['dollars_diff'] < 0].reset_index().date.diff().eq(pd.Timedelta('1 D')).iteritems():\n",
    "    if i[1]:\n",
    "        small += 1\n",
    "    else:\n",
    "        if small > 0:\n",
    "            big.append(small)\n",
    "            small = 0\n",
    "print(big)"
   ]
  },
  {
   "cell_type": "code",
   "execution_count": null,
   "metadata": {},
   "outputs": [],
   "source": [
    "daily['dollars_diff'].hist(bins=20,figsize=(18,7), grid=True);"
   ]
  },
  {
   "cell_type": "code",
   "execution_count": null,
   "metadata": {},
   "outputs": [],
   "source": [
    "daily.tail()"
   ]
  },
  {
   "cell_type": "code",
   "execution_count": null,
   "metadata": {},
   "outputs": [],
   "source": [
    "from pyfolio.timeseries import perf_stats"
   ]
  },
  {
   "cell_type": "code",
   "execution_count": null,
   "metadata": {},
   "outputs": [],
   "source": [
    "perf_stats(daily['return'])"
   ]
  },
  {
   "cell_type": "code",
   "execution_count": null,
   "metadata": {},
   "outputs": [],
   "source": [
    "(daily['return'] + 1).product()"
   ]
  },
  {
   "cell_type": "code",
   "execution_count": null,
   "metadata": {},
   "outputs": [],
   "source": [
    "number_of_trades"
   ]
  },
  {
   "cell_type": "code",
   "execution_count": null,
   "metadata": {},
   "outputs": [],
   "source": [
    "spread = .25 * multiplier\n",
    "commission = 1.18 + .85 \n",
    "cost_of_trades = number_of_trades * (spread + commission)\n",
    "cost_of_trades"
   ]
  },
  {
   "cell_type": "code",
   "execution_count": null,
   "metadata": {},
   "outputs": [],
   "source": [
    "days = (daily.index[-1] - daily.index[0]).days #pd.to_datetime('20190613')).days\n",
    "days"
   ]
  },
  {
   "cell_type": "code",
   "execution_count": null,
   "metadata": {},
   "outputs": [],
   "source": [
    "trades_per_day = number_of_trades / days\n",
    "trades_per_day"
   ]
  },
  {
   "cell_type": "code",
   "execution_count": null,
   "metadata": {},
   "outputs": [],
   "source": [
    "pnl_in_dollars = pnl*multiplier"
   ]
  },
  {
   "cell_type": "code",
   "execution_count": null,
   "metadata": {},
   "outputs": [],
   "source": [
    "cost_of_trades / (pnl_in_dollars)"
   ]
  },
  {
   "cell_type": "code",
   "execution_count": null,
   "metadata": {},
   "outputs": [],
   "source": [
    "mean = daily['return'].mean() * 252\n",
    "std = daily['return'].std() * (252**.5)\n",
    "mean, std"
   ]
  },
  {
   "cell_type": "code",
   "execution_count": null,
   "metadata": {},
   "outputs": [],
   "source": [
    "mean/std"
   ]
  },
  {
   "cell_type": "code",
   "execution_count": null,
   "metadata": {},
   "outputs": [],
   "source": [
    "#daily.to_pickle('cl_return.pickle')"
   ]
  },
  {
   "cell_type": "code",
   "execution_count": null,
   "metadata": {},
   "outputs": [],
   "source": []
  }
 ],
 "metadata": {
  "kernelspec": {
   "display_name": "Python 3",
   "language": "python",
   "name": "python3"
  },
  "language_info": {
   "codemirror_mode": {
    "name": "ipython",
    "version": 3
   },
   "file_extension": ".py",
   "mimetype": "text/x-python",
   "name": "python",
   "nbconvert_exporter": "python",
   "pygments_lexer": "ipython3",
   "version": "3.7.3"
  }
 },
 "nbformat": 4,
 "nbformat_minor": 2
}
