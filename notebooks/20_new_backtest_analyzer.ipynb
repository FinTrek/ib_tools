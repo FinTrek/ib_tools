{
 "cells": [
  {
   "cell_type": "code",
   "execution_count": 1,
   "metadata": {},
   "outputs": [],
   "source": [
    "import warnings\n",
    "warnings.filterwarnings('ignore')\n",
    "import pandas as pd\n",
    "import numpy as np\n",
    "from pyfolio.timeseries import perf_stats\n",
    "%matplotlib inline"
   ]
  },
  {
   "cell_type": "code",
   "execution_count": 2,
   "metadata": {},
   "outputs": [],
   "source": [
    "#allocs = pd.Series([.3, .3, .35, .05, 1], index=['ES','NQ', 'GC', 'CL', 'total'])\n",
    "allocs = pd.Series([.5, .5, 1], index=['ES','NQ', 'total'])\n",
    "cash = 100000"
   ]
  },
  {
   "cell_type": "code",
   "execution_count": 3,
   "metadata": {
    "scrolled": false
   },
   "outputs": [],
   "source": [
    "df = pd.read_csv('/home/tomek/ib_tools/blotter/blotter_2020-03-15_21-15_week_6.csv')\n",
    "del df['sys_time']\n",
    "del df['exec_ids']\n",
    "try:\n",
    "    del df['perm_id']\n",
    "    del df['com_reports']\n",
    "except:\n",
    "    pass\n",
    "df['time'] = pd.to_datetime(df['time'])\n",
    "df.set_index('time', inplace=True)\n",
    "df['cash'] = df.realizedPNL.cumsum() + cash\n",
    "df['contract'] = df['contract'].apply(lambda x: x[:-2])"
   ]
  },
  {
   "cell_type": "code",
   "execution_count": 4,
   "metadata": {},
   "outputs": [
    {
     "data": {
      "text/plain": [
       "contract\n",
       "CL    6381.04\n",
       "ES   -9841.80\n",
       "GC   -1187.12\n",
       "NQ   -5306.80\n",
       "Name: realizedPNL, dtype: float64"
      ]
     },
     "execution_count": 4,
     "metadata": {},
     "output_type": "execute_result"
    }
   ],
   "source": [
    "df.groupby('contract').realizedPNL.sum()"
   ]
  },
  {
   "cell_type": "code",
   "execution_count": 5,
   "metadata": {},
   "outputs": [
    {
     "data": {
      "text/plain": [
       "-9954.68"
      ]
     },
     "execution_count": 5,
     "metadata": {},
     "output_type": "execute_result"
    }
   ],
   "source": [
    "df.realizedPNL.sum()"
   ]
  },
  {
   "cell_type": "code",
   "execution_count": 6,
   "metadata": {},
   "outputs": [
    {
     "data": {
      "image/png": "[encoded data removed]",
      "text/plain": [
       "<Figure size 1440x288 with 1 Axes>"
      ]
     },
     "metadata": {
      "needs_background": "light"
     },
     "output_type": "display_data"
    }
   ],
   "source": [
    "df.cash.plot(figsize=(20,4), grid=True);"
   ]
  },
  {
   "cell_type": "code",
   "execution_count": 7,
   "metadata": {},
   "outputs": [],
   "source": [
    "by_contract = pd.pivot_table(df, values='realizedPNL', index=df.index, columns=['contract'])\n",
    "by_contract['total'] = by_contract.sum(axis=1)"
   ]
  },
  {
   "cell_type": "code",
   "execution_count": 8,
   "metadata": {},
   "outputs": [
    {
     "data": {
      "text/plain": [
       "contract\n",
       "CL     8\n",
       "ES     5\n",
       "GC    18\n",
       "NQ     4\n",
       "Name: action, dtype: int64"
      ]
     },
     "execution_count": 8,
     "metadata": {},
     "output_type": "execute_result"
    }
   ],
   "source": [
    "# number of trades\n",
    "trades = df.groupby('contract').action.count()\n",
    "trades"
   ]
  },
  {
   "cell_type": "code",
   "execution_count": 9,
   "metadata": {},
   "outputs": [
    {
     "data": {
      "text/plain": [
       "contract\n",
       "CL    18.96\n",
       "ES    21.00\n",
       "GC    87.12\n",
       "NQ    16.80\n",
       "Name: commission, dtype: float64"
      ]
     },
     "execution_count": 9,
     "metadata": {},
     "output_type": "execute_result"
    }
   ],
   "source": [
    "# commission paid\n",
    "df.groupby('contract').commission.sum()"
   ]
  },
  {
   "cell_type": "code",
   "execution_count": 10,
   "metadata": {},
   "outputs": [
    {
     "data": {
      "text/plain": [
       "143.88000000000002"
      ]
     },
     "execution_count": 10,
     "metadata": {},
     "output_type": "execute_result"
    }
   ],
   "source": [
    "df.commission.sum()"
   ]
  },
  {
   "cell_type": "code",
   "execution_count": 11,
   "metadata": {},
   "outputs": [
    {
     "data": {
      "text/html": [
       "<div>\n",
       "<style scoped>\n",
       "    .dataframe tbody tr th:only-of-type {\n",
       "        vertical-align: middle;\n",
       "    }\n",
       "\n",
       "    .dataframe tbody tr th {\n",
       "        vertical-align: top;\n",
       "    }\n",
       "\n",
       "    .dataframe thead th {\n",
       "        text-align: right;\n",
       "    }\n",
       "</style>\n",
       "<table border=\"1\" class=\"dataframe\">\n",
       "  <thead>\n",
       "    <tr style=\"text-align: right;\">\n",
       "      <th></th>\n",
       "      <th>success_rate</th>\n",
       "      <th>average_PNL</th>\n",
       "      <th>average_gain</th>\n",
       "      <th>average_loss</th>\n",
       "      <th>win_ratio</th>\n",
       "      <th>EV</th>\n",
       "      <th>number_of_positions</th>\n",
       "    </tr>\n",
       "  </thead>\n",
       "  <tbody>\n",
       "    <tr>\n",
       "      <td>CL</td>\n",
       "      <td>0.50</td>\n",
       "      <td>1595.26</td>\n",
       "      <td>3820.26</td>\n",
       "      <td>-629.74</td>\n",
       "      <td>6.07</td>\n",
       "      <td>1595.26</td>\n",
       "      <td>4.0</td>\n",
       "    </tr>\n",
       "    <tr>\n",
       "      <td>GC</td>\n",
       "      <td>0.22</td>\n",
       "      <td>-131.90</td>\n",
       "      <td>4660.32</td>\n",
       "      <td>-1501.11</td>\n",
       "      <td>3.10</td>\n",
       "      <td>-145.60</td>\n",
       "      <td>9.0</td>\n",
       "    </tr>\n",
       "    <tr>\n",
       "      <td>ES</td>\n",
       "      <td>0.00</td>\n",
       "      <td>-4920.90</td>\n",
       "      <td>NaN</td>\n",
       "      <td>-4920.90</td>\n",
       "      <td>NaN</td>\n",
       "      <td>NaN</td>\n",
       "      <td>2.0</td>\n",
       "    </tr>\n",
       "    <tr>\n",
       "      <td>NQ</td>\n",
       "      <td>0.00</td>\n",
       "      <td>-2653.40</td>\n",
       "      <td>NaN</td>\n",
       "      <td>-2653.40</td>\n",
       "      <td>NaN</td>\n",
       "      <td>NaN</td>\n",
       "      <td>2.0</td>\n",
       "    </tr>\n",
       "    <tr>\n",
       "      <td>total</td>\n",
       "      <td>0.24</td>\n",
       "      <td>-585.57</td>\n",
       "      <td>4240.29</td>\n",
       "      <td>-2070.45</td>\n",
       "      <td>2.05</td>\n",
       "      <td>-555.87</td>\n",
       "      <td>17.0</td>\n",
       "    </tr>\n",
       "  </tbody>\n",
       "</table>\n",
       "</div>"
      ],
      "text/plain": [
       "       success_rate  average_PNL  average_gain  average_loss  win_ratio  \\\n",
       "CL             0.50      1595.26       3820.26       -629.74       6.07   \n",
       "GC             0.22      -131.90       4660.32      -1501.11       3.10   \n",
       "ES             0.00     -4920.90           NaN      -4920.90        NaN   \n",
       "NQ             0.00     -2653.40           NaN      -2653.40        NaN   \n",
       "total          0.24      -585.57       4240.29      -2070.45       2.05   \n",
       "\n",
       "            EV  number_of_positions  \n",
       "CL     1595.26                  4.0  \n",
       "GC     -145.60                  9.0  \n",
       "ES         NaN                  2.0  \n",
       "NQ         NaN                  2.0  \n",
       "total  -555.87                 17.0  "
      ]
     },
     "execution_count": 11,
     "metadata": {},
     "output_type": "execute_result"
    }
   ],
   "source": [
    "# per trade stats\n",
    "exits = df[df.realizedPNL!=0]\n",
    "dfs = {}\n",
    "for contract in exits.contract.unique():\n",
    "    dfs[contract] = exits[exits.contract == contract]\n",
    "dfs['total'] = exits\n",
    "results = pd.DataFrame(columns=['success_rate', 'average_PNL', 'average_gain', 'average_loss','win_ratio', 'EV',\n",
    "                               'number_of_positions'])\n",
    "for c, d in dfs.items():\n",
    "    row = pd.Series()\n",
    "    row['success_rate'] = round((d[d.realizedPNL > 0]).realizedPNL.count() / d.realizedPNL.count(), 2)\n",
    "    row['average_PNL'] = round(d.realizedPNL.mean(), 2)\n",
    "    row['average_gain'] = round((d[d.realizedPNL > 0]).realizedPNL.mean(), 2)\n",
    "    row['average_loss'] = round((d[d.realizedPNL < 0]).realizedPNL.mean(), 2)\n",
    "    row['win_ratio'] = round(abs(row['average_gain'] / row['average_loss']), 2)\n",
    "    row['EV'] = round((row['average_gain'] * row['success_rate']) + (\n",
    "        row['average_loss'] * (1 - row['success_rate'])), 2)\n",
    "    row['number_of_positions'] = d.realizedPNL.count()\n",
    "    results.loc[c] = row\n",
    "results"
   ]
  },
  {
   "cell_type": "code",
   "execution_count": 12,
   "metadata": {},
   "outputs": [
    {
     "data": {
      "text/html": [
       "<div>\n",
       "<style scoped>\n",
       "    .dataframe tbody tr th:only-of-type {\n",
       "        vertical-align: middle;\n",
       "    }\n",
       "\n",
       "    .dataframe tbody tr th {\n",
       "        vertical-align: top;\n",
       "    }\n",
       "\n",
       "    .dataframe thead th {\n",
       "        text-align: right;\n",
       "    }\n",
       "</style>\n",
       "<table border=\"1\" class=\"dataframe\">\n",
       "  <thead>\n",
       "    <tr style=\"text-align: right;\">\n",
       "      <th>contract</th>\n",
       "      <th>CL</th>\n",
       "      <th>ES</th>\n",
       "      <th>GC</th>\n",
       "      <th>NQ</th>\n",
       "      <th>total</th>\n",
       "    </tr>\n",
       "    <tr>\n",
       "      <th>time</th>\n",
       "      <th></th>\n",
       "      <th></th>\n",
       "      <th></th>\n",
       "      <th></th>\n",
       "      <th></th>\n",
       "    </tr>\n",
       "  </thead>\n",
       "  <tbody>\n",
       "    <tr>\n",
       "      <td>2020-03-13 00:00:00+00:00</td>\n",
       "      <td>0.00</td>\n",
       "      <td>0.0</td>\n",
       "      <td>0.00</td>\n",
       "      <td>0.0</td>\n",
       "      <td>0.00</td>\n",
       "    </tr>\n",
       "    <tr>\n",
       "      <td>2020-03-16 00:00:00+00:00</td>\n",
       "      <td>410.52</td>\n",
       "      <td>-8558.4</td>\n",
       "      <td>3820.64</td>\n",
       "      <td>-2208.4</td>\n",
       "      <td>-6535.64</td>\n",
       "    </tr>\n",
       "    <tr>\n",
       "      <td>2020-03-17 00:00:00+00:00</td>\n",
       "      <td>0.00</td>\n",
       "      <td>0.0</td>\n",
       "      <td>2680.64</td>\n",
       "      <td>-3098.4</td>\n",
       "      <td>-417.76</td>\n",
       "    </tr>\n",
       "    <tr>\n",
       "      <td>2020-03-18 00:00:00+00:00</td>\n",
       "      <td>5970.52</td>\n",
       "      <td>-1283.4</td>\n",
       "      <td>-1659.36</td>\n",
       "      <td>0.0</td>\n",
       "      <td>3027.76</td>\n",
       "    </tr>\n",
       "    <tr>\n",
       "      <td>2020-03-19 00:00:00+00:00</td>\n",
       "      <td>0.00</td>\n",
       "      <td>0.0</td>\n",
       "      <td>-5519.36</td>\n",
       "      <td>0.0</td>\n",
       "      <td>-5519.36</td>\n",
       "    </tr>\n",
       "    <tr>\n",
       "      <td>2020-03-20 00:00:00+00:00</td>\n",
       "      <td>0.00</td>\n",
       "      <td>0.0</td>\n",
       "      <td>-509.68</td>\n",
       "      <td>0.0</td>\n",
       "      <td>-509.68</td>\n",
       "    </tr>\n",
       "  </tbody>\n",
       "</table>\n",
       "</div>"
      ],
      "text/plain": [
       "contract                        CL      ES       GC      NQ    total\n",
       "time                                                                \n",
       "2020-03-13 00:00:00+00:00     0.00     0.0     0.00     0.0     0.00\n",
       "2020-03-16 00:00:00+00:00   410.52 -8558.4  3820.64 -2208.4 -6535.64\n",
       "2020-03-17 00:00:00+00:00     0.00     0.0  2680.64 -3098.4  -417.76\n",
       "2020-03-18 00:00:00+00:00  5970.52 -1283.4 -1659.36     0.0  3027.76\n",
       "2020-03-19 00:00:00+00:00     0.00     0.0 -5519.36     0.0 -5519.36\n",
       "2020-03-20 00:00:00+00:00     0.00     0.0  -509.68     0.0  -509.68"
      ]
     },
     "execution_count": 12,
     "metadata": {},
     "output_type": "execute_result"
    }
   ],
   "source": [
    "by_contract.resample('B').sum()"
   ]
  },
  {
   "cell_type": "code",
   "execution_count": 13,
   "metadata": {},
   "outputs": [
    {
     "data": {
      "text/html": [
       "<div>\n",
       "<style scoped>\n",
       "    .dataframe tbody tr th:only-of-type {\n",
       "        vertical-align: middle;\n",
       "    }\n",
       "\n",
       "    .dataframe tbody tr th {\n",
       "        vertical-align: top;\n",
       "    }\n",
       "\n",
       "    .dataframe thead th {\n",
       "        text-align: right;\n",
       "    }\n",
       "</style>\n",
       "<table border=\"1\" class=\"dataframe\">\n",
       "  <thead>\n",
       "    <tr style=\"text-align: right;\">\n",
       "      <th></th>\n",
       "      <th>CL</th>\n",
       "      <th>ES</th>\n",
       "      <th>GC</th>\n",
       "      <th>NQ</th>\n",
       "      <th>total</th>\n",
       "    </tr>\n",
       "    <tr>\n",
       "      <th>time</th>\n",
       "      <th></th>\n",
       "      <th></th>\n",
       "      <th></th>\n",
       "      <th></th>\n",
       "      <th></th>\n",
       "    </tr>\n",
       "  </thead>\n",
       "  <tbody>\n",
       "    <tr>\n",
       "      <td>2020-03-13 00:00:00+00:00</td>\n",
       "      <td>NaN</td>\n",
       "      <td>0.000000</td>\n",
       "      <td>NaN</td>\n",
       "      <td>0.000000</td>\n",
       "      <td>0.000000</td>\n",
       "    </tr>\n",
       "    <tr>\n",
       "      <td>2020-03-16 00:00:00+00:00</td>\n",
       "      <td>NaN</td>\n",
       "      <td>-0.171168</td>\n",
       "      <td>NaN</td>\n",
       "      <td>-0.044168</td>\n",
       "      <td>-0.065356</td>\n",
       "    </tr>\n",
       "    <tr>\n",
       "      <td>2020-03-17 00:00:00+00:00</td>\n",
       "      <td>NaN</td>\n",
       "      <td>0.000000</td>\n",
       "      <td>NaN</td>\n",
       "      <td>-0.061968</td>\n",
       "      <td>-0.004178</td>\n",
       "    </tr>\n",
       "    <tr>\n",
       "      <td>2020-03-18 00:00:00+00:00</td>\n",
       "      <td>NaN</td>\n",
       "      <td>-0.025668</td>\n",
       "      <td>NaN</td>\n",
       "      <td>0.000000</td>\n",
       "      <td>0.030278</td>\n",
       "    </tr>\n",
       "    <tr>\n",
       "      <td>2020-03-19 00:00:00+00:00</td>\n",
       "      <td>NaN</td>\n",
       "      <td>0.000000</td>\n",
       "      <td>NaN</td>\n",
       "      <td>0.000000</td>\n",
       "      <td>-0.055194</td>\n",
       "    </tr>\n",
       "    <tr>\n",
       "      <td>2020-03-20 00:00:00+00:00</td>\n",
       "      <td>NaN</td>\n",
       "      <td>0.000000</td>\n",
       "      <td>NaN</td>\n",
       "      <td>0.000000</td>\n",
       "      <td>-0.005097</td>\n",
       "    </tr>\n",
       "  </tbody>\n",
       "</table>\n",
       "</div>"
      ],
      "text/plain": [
       "                           CL        ES  GC        NQ     total\n",
       "time                                                           \n",
       "2020-03-13 00:00:00+00:00 NaN  0.000000 NaN  0.000000  0.000000\n",
       "2020-03-16 00:00:00+00:00 NaN -0.171168 NaN -0.044168 -0.065356\n",
       "2020-03-17 00:00:00+00:00 NaN  0.000000 NaN -0.061968 -0.004178\n",
       "2020-03-18 00:00:00+00:00 NaN -0.025668 NaN  0.000000  0.030278\n",
       "2020-03-19 00:00:00+00:00 NaN  0.000000 NaN  0.000000 -0.055194\n",
       "2020-03-20 00:00:00+00:00 NaN  0.000000 NaN  0.000000 -0.005097"
      ]
     },
     "execution_count": 13,
     "metadata": {},
     "output_type": "execute_result"
    }
   ],
   "source": [
    "by_contract.resample('B').sum() / (allocs * cash)"
   ]
  },
  {
   "cell_type": "code",
   "execution_count": 14,
   "metadata": {},
   "outputs": [],
   "source": [
    "daily = by_contract.resample('B').sum()\n",
    "daily = daily /  (allocs * cash)\n",
    "#daily[['CL', 'ES', 'GC', 'NQ']].plot(figsize=(20,8), grid=True);"
   ]
  },
  {
   "cell_type": "code",
   "execution_count": 15,
   "metadata": {},
   "outputs": [
    {
     "data": {
      "text/html": [
       "<div>\n",
       "<style scoped>\n",
       "    .dataframe tbody tr th:only-of-type {\n",
       "        vertical-align: middle;\n",
       "    }\n",
       "\n",
       "    .dataframe tbody tr th {\n",
       "        vertical-align: top;\n",
       "    }\n",
       "\n",
       "    .dataframe thead th {\n",
       "        text-align: right;\n",
       "    }\n",
       "</style>\n",
       "<table border=\"1\" class=\"dataframe\">\n",
       "  <thead>\n",
       "    <tr style=\"text-align: right;\">\n",
       "      <th></th>\n",
       "      <th>CL</th>\n",
       "      <th>ES</th>\n",
       "      <th>GC</th>\n",
       "      <th>NQ</th>\n",
       "      <th>total</th>\n",
       "    </tr>\n",
       "  </thead>\n",
       "  <tbody>\n",
       "    <tr>\n",
       "      <td>CL</td>\n",
       "      <td>NaN</td>\n",
       "      <td>NaN</td>\n",
       "      <td>NaN</td>\n",
       "      <td>NaN</td>\n",
       "      <td>NaN</td>\n",
       "    </tr>\n",
       "    <tr>\n",
       "      <td>ES</td>\n",
       "      <td>NaN</td>\n",
       "      <td>1.000000</td>\n",
       "      <td>NaN</td>\n",
       "      <td>0.423852</td>\n",
       "      <td>0.586578</td>\n",
       "    </tr>\n",
       "    <tr>\n",
       "      <td>GC</td>\n",
       "      <td>NaN</td>\n",
       "      <td>NaN</td>\n",
       "      <td>NaN</td>\n",
       "      <td>NaN</td>\n",
       "      <td>NaN</td>\n",
       "    </tr>\n",
       "    <tr>\n",
       "      <td>NQ</td>\n",
       "      <td>NaN</td>\n",
       "      <td>0.423852</td>\n",
       "      <td>NaN</td>\n",
       "      <td>1.000000</td>\n",
       "      <td>0.267186</td>\n",
       "    </tr>\n",
       "    <tr>\n",
       "      <td>total</td>\n",
       "      <td>NaN</td>\n",
       "      <td>0.586578</td>\n",
       "      <td>NaN</td>\n",
       "      <td>0.267186</td>\n",
       "      <td>1.000000</td>\n",
       "    </tr>\n",
       "  </tbody>\n",
       "</table>\n",
       "</div>"
      ],
      "text/plain": [
       "       CL        ES  GC        NQ     total\n",
       "CL    NaN       NaN NaN       NaN       NaN\n",
       "ES    NaN  1.000000 NaN  0.423852  0.586578\n",
       "GC    NaN       NaN NaN       NaN       NaN\n",
       "NQ    NaN  0.423852 NaN  1.000000  0.267186\n",
       "total NaN  0.586578 NaN  0.267186  1.000000"
      ]
     },
     "execution_count": 15,
     "metadata": {},
     "output_type": "execute_result"
    }
   ],
   "source": [
    "# instrument correlations\n",
    "log_returns = np.log(daily + 1)\n",
    "log_returns.corr()"
   ]
  },
  {
   "cell_type": "code",
   "execution_count": 16,
   "metadata": {},
   "outputs": [
    {
     "data": {
      "image/png": "[encoded data removed]",
      "text/plain": [
       "<Figure size 1440x576 with 1 Axes>"
      ]
     },
     "metadata": {
      "needs_background": "light"
     },
     "output_type": "display_data"
    }
   ],
   "source": [
    "log_returns.cumsum().plot(figsize=(20,8), grid=True);"
   ]
  },
  {
   "cell_type": "code",
   "execution_count": 17,
   "metadata": {},
   "outputs": [
    {
     "data": {
      "image/png": "[encoded data removed]",
      "text/plain": [
       "<Figure size 1440x576 with 1 Axes>"
      ]
     },
     "metadata": {
      "needs_background": "light"
     },
     "output_type": "display_data"
    }
   ],
   "source": [
    "returns = daily\n",
    "returns.iloc[0] = (daily.iloc[0] * (allocs * cash))-1\n",
    "returns_index = (returns + 1).cumprod()\n",
    "returns_index.plot(figsize=(20,8), grid=True);"
   ]
  },
  {
   "cell_type": "code",
   "execution_count": 18,
   "metadata": {},
   "outputs": [
    {
     "data": {
      "text/html": [
       "<div>\n",
       "<style scoped>\n",
       "    .dataframe tbody tr th:only-of-type {\n",
       "        vertical-align: middle;\n",
       "    }\n",
       "\n",
       "    .dataframe tbody tr th {\n",
       "        vertical-align: top;\n",
       "    }\n",
       "\n",
       "    .dataframe thead th {\n",
       "        text-align: right;\n",
       "    }\n",
       "</style>\n",
       "<table border=\"1\" class=\"dataframe\">\n",
       "  <thead>\n",
       "    <tr style=\"text-align: right;\">\n",
       "      <th></th>\n",
       "      <th>CL</th>\n",
       "      <th>ES</th>\n",
       "      <th>GC</th>\n",
       "      <th>NQ</th>\n",
       "      <th>total</th>\n",
       "    </tr>\n",
       "    <tr>\n",
       "      <th>time</th>\n",
       "      <th></th>\n",
       "      <th></th>\n",
       "      <th></th>\n",
       "      <th></th>\n",
       "      <th></th>\n",
       "    </tr>\n",
       "  </thead>\n",
       "  <tbody>\n",
       "    <tr>\n",
       "      <td>2020-03-13 00:00:00+00:00</td>\n",
       "      <td>NaN</td>\n",
       "      <td>-1.000000</td>\n",
       "      <td>NaN</td>\n",
       "      <td>-1.000000</td>\n",
       "      <td>-1.000000</td>\n",
       "    </tr>\n",
       "    <tr>\n",
       "      <td>2020-03-16 00:00:00+00:00</td>\n",
       "      <td>NaN</td>\n",
       "      <td>-0.171168</td>\n",
       "      <td>NaN</td>\n",
       "      <td>-0.044168</td>\n",
       "      <td>-0.065356</td>\n",
       "    </tr>\n",
       "    <tr>\n",
       "      <td>2020-03-17 00:00:00+00:00</td>\n",
       "      <td>NaN</td>\n",
       "      <td>0.000000</td>\n",
       "      <td>NaN</td>\n",
       "      <td>-0.061968</td>\n",
       "      <td>-0.004178</td>\n",
       "    </tr>\n",
       "    <tr>\n",
       "      <td>2020-03-18 00:00:00+00:00</td>\n",
       "      <td>NaN</td>\n",
       "      <td>-0.025668</td>\n",
       "      <td>NaN</td>\n",
       "      <td>0.000000</td>\n",
       "      <td>0.030278</td>\n",
       "    </tr>\n",
       "    <tr>\n",
       "      <td>2020-03-19 00:00:00+00:00</td>\n",
       "      <td>NaN</td>\n",
       "      <td>0.000000</td>\n",
       "      <td>NaN</td>\n",
       "      <td>0.000000</td>\n",
       "      <td>-0.055194</td>\n",
       "    </tr>\n",
       "    <tr>\n",
       "      <td>2020-03-20 00:00:00+00:00</td>\n",
       "      <td>NaN</td>\n",
       "      <td>0.000000</td>\n",
       "      <td>NaN</td>\n",
       "      <td>0.000000</td>\n",
       "      <td>-0.005097</td>\n",
       "    </tr>\n",
       "  </tbody>\n",
       "</table>\n",
       "</div>"
      ],
      "text/plain": [
       "                           CL        ES  GC        NQ     total\n",
       "time                                                           \n",
       "2020-03-13 00:00:00+00:00 NaN -1.000000 NaN -1.000000 -1.000000\n",
       "2020-03-16 00:00:00+00:00 NaN -0.171168 NaN -0.044168 -0.065356\n",
       "2020-03-17 00:00:00+00:00 NaN  0.000000 NaN -0.061968 -0.004178\n",
       "2020-03-18 00:00:00+00:00 NaN -0.025668 NaN  0.000000  0.030278\n",
       "2020-03-19 00:00:00+00:00 NaN  0.000000 NaN  0.000000 -0.055194\n",
       "2020-03-20 00:00:00+00:00 NaN  0.000000 NaN  0.000000 -0.005097"
      ]
     },
     "execution_count": 18,
     "metadata": {},
     "output_type": "execute_result"
    }
   ],
   "source": [
    "daily"
   ]
  },
  {
   "cell_type": "code",
   "execution_count": 19,
   "metadata": {},
   "outputs": [],
   "source": [
    "returns=daily"
   ]
  },
  {
   "cell_type": "code",
   "execution_count": 20,
   "metadata": {},
   "outputs": [
    {
     "data": {
      "text/html": [
       "<div>\n",
       "<style scoped>\n",
       "    .dataframe tbody tr th:only-of-type {\n",
       "        vertical-align: middle;\n",
       "    }\n",
       "\n",
       "    .dataframe tbody tr th {\n",
       "        vertical-align: top;\n",
       "    }\n",
       "\n",
       "    .dataframe thead th {\n",
       "        text-align: right;\n",
       "    }\n",
       "</style>\n",
       "<table border=\"1\" class=\"dataframe\">\n",
       "  <thead>\n",
       "    <tr style=\"text-align: right;\">\n",
       "      <th></th>\n",
       "      <th>CL</th>\n",
       "      <th>ES</th>\n",
       "      <th>GC</th>\n",
       "      <th>NQ</th>\n",
       "      <th>total</th>\n",
       "    </tr>\n",
       "    <tr>\n",
       "      <th>time</th>\n",
       "      <th></th>\n",
       "      <th></th>\n",
       "      <th></th>\n",
       "      <th></th>\n",
       "      <th></th>\n",
       "    </tr>\n",
       "  </thead>\n",
       "  <tbody>\n",
       "    <tr>\n",
       "      <td>2020-03-13 00:00:00+00:00</td>\n",
       "      <td>NaN</td>\n",
       "      <td>-1.000000</td>\n",
       "      <td>NaN</td>\n",
       "      <td>-1.000000</td>\n",
       "      <td>-1.000000</td>\n",
       "    </tr>\n",
       "    <tr>\n",
       "      <td>2020-03-16 00:00:00+00:00</td>\n",
       "      <td>NaN</td>\n",
       "      <td>-0.171168</td>\n",
       "      <td>NaN</td>\n",
       "      <td>-0.044168</td>\n",
       "      <td>-0.065356</td>\n",
       "    </tr>\n",
       "    <tr>\n",
       "      <td>2020-03-17 00:00:00+00:00</td>\n",
       "      <td>NaN</td>\n",
       "      <td>0.000000</td>\n",
       "      <td>NaN</td>\n",
       "      <td>-0.061968</td>\n",
       "      <td>-0.004178</td>\n",
       "    </tr>\n",
       "    <tr>\n",
       "      <td>2020-03-18 00:00:00+00:00</td>\n",
       "      <td>NaN</td>\n",
       "      <td>-0.025668</td>\n",
       "      <td>NaN</td>\n",
       "      <td>0.000000</td>\n",
       "      <td>0.030278</td>\n",
       "    </tr>\n",
       "    <tr>\n",
       "      <td>2020-03-19 00:00:00+00:00</td>\n",
       "      <td>NaN</td>\n",
       "      <td>0.000000</td>\n",
       "      <td>NaN</td>\n",
       "      <td>0.000000</td>\n",
       "      <td>-0.055194</td>\n",
       "    </tr>\n",
       "    <tr>\n",
       "      <td>2020-03-20 00:00:00+00:00</td>\n",
       "      <td>NaN</td>\n",
       "      <td>0.000000</td>\n",
       "      <td>NaN</td>\n",
       "      <td>0.000000</td>\n",
       "      <td>-0.005097</td>\n",
       "    </tr>\n",
       "  </tbody>\n",
       "</table>\n",
       "</div>"
      ],
      "text/plain": [
       "                           CL        ES  GC        NQ     total\n",
       "time                                                           \n",
       "2020-03-13 00:00:00+00:00 NaN -1.000000 NaN -1.000000 -1.000000\n",
       "2020-03-16 00:00:00+00:00 NaN -0.171168 NaN -0.044168 -0.065356\n",
       "2020-03-17 00:00:00+00:00 NaN  0.000000 NaN -0.061968 -0.004178\n",
       "2020-03-18 00:00:00+00:00 NaN -0.025668 NaN  0.000000  0.030278\n",
       "2020-03-19 00:00:00+00:00 NaN  0.000000 NaN  0.000000 -0.055194\n",
       "2020-03-20 00:00:00+00:00 NaN  0.000000 NaN  0.000000 -0.005097"
      ]
     },
     "execution_count": 20,
     "metadata": {},
     "output_type": "execute_result"
    }
   ],
   "source": [
    "returns"
   ]
  },
  {
   "cell_type": "code",
   "execution_count": 21,
   "metadata": {},
   "outputs": [
    {
     "ename": "ValueError",
     "evalue": "Inputs must not be empty.",
     "output_type": "error",
     "traceback": [
      "\u001b[0;31m---------------------------------------------------------------------------\u001b[0m",
      "\u001b[0;31mValueError\u001b[0m                                Traceback (most recent call last)",
      "\u001b[0;32m<ipython-input-21-fc8fc102358a>\u001b[0m in \u001b[0;36m<module>\u001b[0;34m\u001b[0m\n\u001b[1;32m      1\u001b[0m \u001b[0mstats\u001b[0m \u001b[0;34m=\u001b[0m \u001b[0mpd\u001b[0m\u001b[0;34m.\u001b[0m\u001b[0mDataFrame\u001b[0m\u001b[0;34m(\u001b[0m\u001b[0;34m)\u001b[0m\u001b[0;34m\u001b[0m\u001b[0;34m\u001b[0m\u001b[0m\n\u001b[1;32m      2\u001b[0m \u001b[0;32mfor\u001b[0m \u001b[0mcol\u001b[0m \u001b[0;32min\u001b[0m \u001b[0mreturns\u001b[0m\u001b[0;34m.\u001b[0m\u001b[0mcolumns\u001b[0m\u001b[0;34m:\u001b[0m\u001b[0;34m\u001b[0m\u001b[0;34m\u001b[0m\u001b[0m\n\u001b[0;32m----> 3\u001b[0;31m     \u001b[0mstats\u001b[0m\u001b[0;34m[\u001b[0m\u001b[0mcol\u001b[0m\u001b[0;34m]\u001b[0m \u001b[0;34m=\u001b[0m \u001b[0mperf_stats\u001b[0m\u001b[0;34m(\u001b[0m\u001b[0mreturns\u001b[0m\u001b[0;34m[\u001b[0m\u001b[0mcol\u001b[0m\u001b[0;34m]\u001b[0m\u001b[0;34m)\u001b[0m\u001b[0;34m\u001b[0m\u001b[0;34m\u001b[0m\u001b[0m\n\u001b[0m\u001b[1;32m      4\u001b[0m \u001b[0mstats\u001b[0m\u001b[0;34m\u001b[0m\u001b[0;34m\u001b[0m\u001b[0m\n",
      "\u001b[0;32m~/.virtualenvs/ib/lib/python3.7/site-packages/pyfolio/timeseries.py\u001b[0m in \u001b[0;36mperf_stats\u001b[0;34m(returns, factor_returns, positions, transactions, turnover_denom)\u001b[0m\n\u001b[1;32m    724\u001b[0m     \u001b[0mstats\u001b[0m \u001b[0;34m=\u001b[0m \u001b[0mpd\u001b[0m\u001b[0;34m.\u001b[0m\u001b[0mSeries\u001b[0m\u001b[0;34m(\u001b[0m\u001b[0;34m)\u001b[0m\u001b[0;34m\u001b[0m\u001b[0;34m\u001b[0m\u001b[0m\n\u001b[1;32m    725\u001b[0m     \u001b[0;32mfor\u001b[0m \u001b[0mstat_func\u001b[0m \u001b[0;32min\u001b[0m \u001b[0mSIMPLE_STAT_FUNCS\u001b[0m\u001b[0;34m:\u001b[0m\u001b[0;34m\u001b[0m\u001b[0;34m\u001b[0m\u001b[0m\n\u001b[0;32m--> 726\u001b[0;31m         \u001b[0mstats\u001b[0m\u001b[0;34m[\u001b[0m\u001b[0mSTAT_FUNC_NAMES\u001b[0m\u001b[0;34m[\u001b[0m\u001b[0mstat_func\u001b[0m\u001b[0;34m.\u001b[0m\u001b[0m__name__\u001b[0m\u001b[0;34m]\u001b[0m\u001b[0;34m]\u001b[0m \u001b[0;34m=\u001b[0m \u001b[0mstat_func\u001b[0m\u001b[0;34m(\u001b[0m\u001b[0mreturns\u001b[0m\u001b[0;34m)\u001b[0m\u001b[0;34m\u001b[0m\u001b[0;34m\u001b[0m\u001b[0m\n\u001b[0m\u001b[1;32m    727\u001b[0m \u001b[0;34m\u001b[0m\u001b[0m\n\u001b[1;32m    728\u001b[0m     \u001b[0;32mif\u001b[0m \u001b[0mpositions\u001b[0m \u001b[0;32mis\u001b[0m \u001b[0;32mnot\u001b[0m \u001b[0;32mNone\u001b[0m\u001b[0;34m:\u001b[0m\u001b[0;34m\u001b[0m\u001b[0;34m\u001b[0m\u001b[0m\n",
      "\u001b[0;32m~/.virtualenvs/ib/lib/python3.7/site-packages/empyrical/stats.py\u001b[0m in \u001b[0;36mstability_of_timeseries\u001b[0;34m(returns)\u001b[0m\n\u001b[1;32m   1492\u001b[0m     \u001b[0mcum_log_returns\u001b[0m \u001b[0;34m=\u001b[0m \u001b[0mnp\u001b[0m\u001b[0;34m.\u001b[0m\u001b[0mlog1p\u001b[0m\u001b[0;34m(\u001b[0m\u001b[0mreturns\u001b[0m\u001b[0;34m)\u001b[0m\u001b[0;34m.\u001b[0m\u001b[0mcumsum\u001b[0m\u001b[0;34m(\u001b[0m\u001b[0;34m)\u001b[0m\u001b[0;34m\u001b[0m\u001b[0;34m\u001b[0m\u001b[0m\n\u001b[1;32m   1493\u001b[0m     rhat = stats.linregress(np.arange(len(cum_log_returns)),\n\u001b[0;32m-> 1494\u001b[0;31m                             cum_log_returns)[2]\n\u001b[0m\u001b[1;32m   1495\u001b[0m \u001b[0;34m\u001b[0m\u001b[0m\n\u001b[1;32m   1496\u001b[0m     \u001b[0;32mreturn\u001b[0m \u001b[0mrhat\u001b[0m \u001b[0;34m**\u001b[0m \u001b[0;36m2\u001b[0m\u001b[0;34m\u001b[0m\u001b[0;34m\u001b[0m\u001b[0m\n",
      "\u001b[0;32m~/.virtualenvs/ib/lib/python3.7/site-packages/scipy/stats/_stats_mstats_common.py\u001b[0m in \u001b[0;36mlinregress\u001b[0;34m(x, y)\u001b[0m\n\u001b[1;32m    107\u001b[0m \u001b[0;34m\u001b[0m\u001b[0m\n\u001b[1;32m    108\u001b[0m     \u001b[0;32mif\u001b[0m \u001b[0mx\u001b[0m\u001b[0;34m.\u001b[0m\u001b[0msize\u001b[0m \u001b[0;34m==\u001b[0m \u001b[0;36m0\u001b[0m \u001b[0;32mor\u001b[0m \u001b[0my\u001b[0m\u001b[0;34m.\u001b[0m\u001b[0msize\u001b[0m \u001b[0;34m==\u001b[0m \u001b[0;36m0\u001b[0m\u001b[0;34m:\u001b[0m\u001b[0;34m\u001b[0m\u001b[0;34m\u001b[0m\u001b[0m\n\u001b[0;32m--> 109\u001b[0;31m         \u001b[0;32mraise\u001b[0m \u001b[0mValueError\u001b[0m\u001b[0;34m(\u001b[0m\u001b[0;34m\"Inputs must not be empty.\"\u001b[0m\u001b[0;34m)\u001b[0m\u001b[0;34m\u001b[0m\u001b[0;34m\u001b[0m\u001b[0m\n\u001b[0m\u001b[1;32m    110\u001b[0m \u001b[0;34m\u001b[0m\u001b[0m\n\u001b[1;32m    111\u001b[0m     \u001b[0mn\u001b[0m \u001b[0;34m=\u001b[0m \u001b[0mlen\u001b[0m\u001b[0;34m(\u001b[0m\u001b[0mx\u001b[0m\u001b[0;34m)\u001b[0m\u001b[0;34m\u001b[0m\u001b[0;34m\u001b[0m\u001b[0m\n",
      "\u001b[0;31mValueError\u001b[0m: Inputs must not be empty."
     ]
    }
   ],
   "source": [
    "stats = pd.DataFrame()\n",
    "for col in returns.columns:\n",
    "    stats[col] = perf_stats(returns[col])\n",
    "stats"
   ]
  },
  {
   "cell_type": "code",
   "execution_count": null,
   "metadata": {},
   "outputs": [],
   "source": [
    "# monthly returns in percent\n",
    "monthly_log_returns = log_returns.resample('M').sum()\n",
    "monthly_returns = np.exp(monthly_log_returns)-1\n",
    "round(monthly_returns, 4) * 100"
   ]
  },
  {
   "cell_type": "code",
   "execution_count": null,
   "metadata": {},
   "outputs": [],
   "source": [
    "# total returns by contract in percent\n",
    "round(np.exp(monthly_log_returns.sum())-1, 2)* 100"
   ]
  },
  {
   "cell_type": "code",
   "execution_count": null,
   "metadata": {},
   "outputs": [],
   "source": [
    "df.sort_values('realizedPNL', ascending=False)[['contract', 'action', 'price', 'realizedPNL']]"
   ]
  },
  {
   "cell_type": "raw",
   "metadata": {},
   "source": [
    "contract\n",
    "CL    -3975.12\n",
    "ES    28139.10\n",
    "GC   -32490.56\n",
    "NQ    69519.20\n",
    "Name: realizedPNL, dtype: float64"
   ]
  },
  {
   "cell_type": "raw",
   "metadata": {},
   "source": [
    "contract\n",
    "CL    -3935.88\n",
    "ES    32292.20\n",
    "GC     2778.48\n",
    "NQ    25510.20\n",
    "Name: realizedPNL, dtype: float64"
   ]
  },
  {
   "cell_type": "raw",
   "metadata": {},
   "source": [
    "contract\n",
    "CL     2301.52\n",
    "ES    30824.20\n",
    "GC   -13002.44\n",
    "NQ    31118.80\n",
    "Name: realizedPNL, dtype: float64"
   ]
  }
 ],
 "metadata": {
  "kernelspec": {
   "display_name": "Python 3",
   "language": "python",
   "name": "python3"
  },
  "language_info": {
   "codemirror_mode": {
    "name": "ipython",
    "version": 3
   },
   "file_extension": ".py",
   "mimetype": "text/x-python",
   "name": "python",
   "nbconvert_exporter": "python",
   "pygments_lexer": "ipython3",
   "version": "3.7.3"
  }
 },
 "nbformat": 4,
 "nbformat_minor": 2
}
