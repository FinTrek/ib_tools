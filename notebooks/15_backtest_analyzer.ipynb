{
 "cells": [
  {
   "cell_type": "code",
   "execution_count": 1,
   "metadata": {},
   "outputs": [],
   "source": [
    "import warnings\n",
    "warnings.filterwarnings('ignore')\n",
    "import pandas as pd\n",
    "import numpy as np\n",
    "from pyfolio.timeseries import perf_stats\n",
    "%matplotlib inline"
   ]
  },
  {
   "cell_type": "code",
   "execution_count": 2,
   "metadata": {},
   "outputs": [],
   "source": [
    "allocs = pd.Series([.3, .3, .35, .05, 1], index=['ES','NQ', 'GC', 'CL', 'total'])\n",
    "#allocs = pd.Series([2/3, 1/3, 1], index=['ES','NQ', 'total'])\n",
    "cash = 100000"
   ]
  },
  {
   "cell_type": "code",
   "execution_count": 3,
   "metadata": {
    "scrolled": false
   },
   "outputs": [],
   "source": [
    "df = pd.read_csv('/home/tomek/ib_tools/blotter/blotter_2020-03-15_21-15_week_6.csv')\n",
    "del df['sys_time']\n",
    "del df['exec_ids']\n",
    "try:\n",
    "    del df['perm_id']\n",
    "    del df['com_reports']\n",
    "except:\n",
    "    pass\n",
    "df['time'] = pd.to_datetime(df['time'])\n",
    "df.set_index('time', inplace=True)\n",
    "df['cash'] = df.realizedPNL.cumsum() + cash\n",
    "df['contract'] = df['contract'].apply(lambda x: x[:-2])"
   ]
  },
  {
   "cell_type": "code",
   "execution_count": 24,
   "metadata": {},
   "outputs": [
    {
     "data": {
      "text/plain": [
       "contract\n",
       "CL    6381.04\n",
       "ES   -9841.80\n",
       "GC   -1187.12\n",
       "NQ   -5306.80\n",
       "Name: realizedPNL, dtype: float64"
      ]
     },
     "execution_count": 24,
     "metadata": {},
     "output_type": "execute_result"
    }
   ],
   "source": [
    "df.groupby('contract').realizedPNL.sum()"
   ]
  },
  {
   "cell_type": "code",
   "execution_count": 6,
   "metadata": {},
   "outputs": [
    {
     "data": {
      "text/plain": [
       "-9954.68"
      ]
     },
     "execution_count": 6,
     "metadata": {},
     "output_type": "execute_result"
    }
   ],
   "source": [
    "df.realizedPNL.sum()"
   ]
  },
  {
   "cell_type": "code",
   "execution_count": 7,
   "metadata": {},
   "outputs": [
    {
     "data": {
      "image/png": "[encoded data removed]",
      "text/plain": [
       "<Figure size 1440x288 with 1 Axes>"
      ]
     },
     "metadata": {
      "needs_background": "light"
     },
     "output_type": "display_data"
    }
   ],
   "source": [
    "df.cash.plot(figsize=(20,4), grid=True);"
   ]
  },
  {
   "cell_type": "code",
   "execution_count": 8,
   "metadata": {},
   "outputs": [],
   "source": [
    "by_contract = pd.pivot_table(df, values='realizedPNL', index=df.index, columns=['contract'])\n",
    "by_contract['total'] = by_contract.sum(axis=1)"
   ]
  },
  {
   "cell_type": "code",
   "execution_count": 9,
   "metadata": {},
   "outputs": [
    {
     "data": {
      "text/plain": [
       "contract\n",
       "CL     8\n",
       "ES     5\n",
       "GC    18\n",
       "NQ     4\n",
       "Name: action, dtype: int64"
      ]
     },
     "execution_count": 9,
     "metadata": {},
     "output_type": "execute_result"
    }
   ],
   "source": [
    "# number of trades\n",
    "trades = df.groupby('contract').action.count()\n",
    "trades"
   ]
  },
  {
   "cell_type": "code",
   "execution_count": 10,
   "metadata": {},
   "outputs": [
    {
     "data": {
      "text/plain": [
       "contract\n",
       "CL    18.96\n",
       "ES    21.00\n",
       "GC    87.12\n",
       "NQ    16.80\n",
       "Name: commission, dtype: float64"
      ]
     },
     "execution_count": 10,
     "metadata": {},
     "output_type": "execute_result"
    }
   ],
   "source": [
    "# commission paid\n",
    "df.groupby('contract').commission.sum()"
   ]
  },
  {
   "cell_type": "code",
   "execution_count": 11,
   "metadata": {},
   "outputs": [
    {
     "data": {
      "text/plain": [
       "143.88000000000002"
      ]
     },
     "execution_count": 11,
     "metadata": {},
     "output_type": "execute_result"
    }
   ],
   "source": [
    "df.commission.sum()"
   ]
  },
  {
   "cell_type": "code",
   "execution_count": 12,
   "metadata": {},
   "outputs": [
    {
     "data": {
      "text/html": [
       "<div>\n",
       "<style scoped>\n",
       "    .dataframe tbody tr th:only-of-type {\n",
       "        vertical-align: middle;\n",
       "    }\n",
       "\n",
       "    .dataframe tbody tr th {\n",
       "        vertical-align: top;\n",
       "    }\n",
       "\n",
       "    .dataframe thead th {\n",
       "        text-align: right;\n",
       "    }\n",
       "</style>\n",
       "<table border=\"1\" class=\"dataframe\">\n",
       "  <thead>\n",
       "    <tr style=\"text-align: right;\">\n",
       "      <th></th>\n",
       "      <th>success_rate</th>\n",
       "      <th>average_PNL</th>\n",
       "      <th>average_gain</th>\n",
       "      <th>average_loss</th>\n",
       "      <th>win_ratio</th>\n",
       "      <th>EV</th>\n",
       "      <th>number_of_positions</th>\n",
       "    </tr>\n",
       "  </thead>\n",
       "  <tbody>\n",
       "    <tr>\n",
       "      <td>CL</td>\n",
       "      <td>0.50</td>\n",
       "      <td>1595.26</td>\n",
       "      <td>3820.26</td>\n",
       "      <td>-629.74</td>\n",
       "      <td>6.07</td>\n",
       "      <td>1595.26</td>\n",
       "      <td>4.0</td>\n",
       "    </tr>\n",
       "    <tr>\n",
       "      <td>GC</td>\n",
       "      <td>0.22</td>\n",
       "      <td>-131.90</td>\n",
       "      <td>4660.32</td>\n",
       "      <td>-1501.11</td>\n",
       "      <td>3.10</td>\n",
       "      <td>-145.60</td>\n",
       "      <td>9.0</td>\n",
       "    </tr>\n",
       "    <tr>\n",
       "      <td>ES</td>\n",
       "      <td>0.00</td>\n",
       "      <td>-4920.90</td>\n",
       "      <td>NaN</td>\n",
       "      <td>-4920.90</td>\n",
       "      <td>NaN</td>\n",
       "      <td>NaN</td>\n",
       "      <td>2.0</td>\n",
       "    </tr>\n",
       "    <tr>\n",
       "      <td>NQ</td>\n",
       "      <td>0.00</td>\n",
       "      <td>-2653.40</td>\n",
       "      <td>NaN</td>\n",
       "      <td>-2653.40</td>\n",
       "      <td>NaN</td>\n",
       "      <td>NaN</td>\n",
       "      <td>2.0</td>\n",
       "    </tr>\n",
       "    <tr>\n",
       "      <td>total</td>\n",
       "      <td>0.24</td>\n",
       "      <td>-585.57</td>\n",
       "      <td>4240.29</td>\n",
       "      <td>-2070.45</td>\n",
       "      <td>2.05</td>\n",
       "      <td>-555.87</td>\n",
       "      <td>17.0</td>\n",
       "    </tr>\n",
       "  </tbody>\n",
       "</table>\n",
       "</div>"
      ],
      "text/plain": [
       "       success_rate  average_PNL  average_gain  average_loss  win_ratio  \\\n",
       "CL             0.50      1595.26       3820.26       -629.74       6.07   \n",
       "GC             0.22      -131.90       4660.32      -1501.11       3.10   \n",
       "ES             0.00     -4920.90           NaN      -4920.90        NaN   \n",
       "NQ             0.00     -2653.40           NaN      -2653.40        NaN   \n",
       "total          0.24      -585.57       4240.29      -2070.45       2.05   \n",
       "\n",
       "            EV  number_of_positions  \n",
       "CL     1595.26                  4.0  \n",
       "GC     -145.60                  9.0  \n",
       "ES         NaN                  2.0  \n",
       "NQ         NaN                  2.0  \n",
       "total  -555.87                 17.0  "
      ]
     },
     "execution_count": 12,
     "metadata": {},
     "output_type": "execute_result"
    }
   ],
   "source": [
    "# per trade stats\n",
    "exits = df[df.realizedPNL!=0]\n",
    "dfs = {}\n",
    "for contract in exits.contract.unique():\n",
    "    dfs[contract] = exits[exits.contract == contract]\n",
    "dfs['total'] = exits\n",
    "results = pd.DataFrame(columns=['success_rate', 'average_PNL', 'average_gain', 'average_loss','win_ratio', 'EV',\n",
    "                               'number_of_positions'])\n",
    "for c, d in dfs.items():\n",
    "    row = pd.Series()\n",
    "    row['success_rate'] = round((d[d.realizedPNL > 0]).realizedPNL.count() / d.realizedPNL.count(), 2)\n",
    "    row['average_PNL'] = round(d.realizedPNL.mean(), 2)\n",
    "    row['average_gain'] = round((d[d.realizedPNL > 0]).realizedPNL.mean(), 2)\n",
    "    row['average_loss'] = round((d[d.realizedPNL < 0]).realizedPNL.mean(), 2)\n",
    "    row['win_ratio'] = round(abs(row['average_gain'] / row['average_loss']), 2)\n",
    "    row['EV'] = round((row['average_gain'] * row['success_rate']) + (\n",
    "        row['average_loss'] * (1 - row['success_rate'])), 2)\n",
    "    row['number_of_positions'] = d.realizedPNL.count()\n",
    "    results.loc[c] = row\n",
    "results"
   ]
  },
  {
   "cell_type": "code",
   "execution_count": 13,
   "metadata": {},
   "outputs": [],
   "source": [
    "daily = by_contract.resample('B').sum()\n",
    "daily = daily.cumsum() +  (allocs * cash)\n",
    "#daily[['CL', 'ES', 'GC', 'NQ']].plot(figsize=(20,8), grid=True);"
   ]
  },
  {
   "cell_type": "code",
   "execution_count": 14,
   "metadata": {},
   "outputs": [
    {
     "data": {
      "text/html": [
       "<div>\n",
       "<style scoped>\n",
       "    .dataframe tbody tr th:only-of-type {\n",
       "        vertical-align: middle;\n",
       "    }\n",
       "\n",
       "    .dataframe tbody tr th {\n",
       "        vertical-align: top;\n",
       "    }\n",
       "\n",
       "    .dataframe thead th {\n",
       "        text-align: right;\n",
       "    }\n",
       "</style>\n",
       "<table border=\"1\" class=\"dataframe\">\n",
       "  <thead>\n",
       "    <tr style=\"text-align: right;\">\n",
       "      <th></th>\n",
       "      <th>CL</th>\n",
       "      <th>ES</th>\n",
       "      <th>GC</th>\n",
       "      <th>NQ</th>\n",
       "      <th>total</th>\n",
       "    </tr>\n",
       "  </thead>\n",
       "  <tbody>\n",
       "    <tr>\n",
       "      <td>CL</td>\n",
       "      <td>1.000000</td>\n",
       "      <td>-0.036852</td>\n",
       "      <td>-0.128133</td>\n",
       "      <td>0.360827</td>\n",
       "      <td>0.658388</td>\n",
       "    </tr>\n",
       "    <tr>\n",
       "      <td>ES</td>\n",
       "      <td>-0.036852</td>\n",
       "      <td>1.000000</td>\n",
       "      <td>-0.607665</td>\n",
       "      <td>0.316284</td>\n",
       "      <td>0.509730</td>\n",
       "    </tr>\n",
       "    <tr>\n",
       "      <td>GC</td>\n",
       "      <td>-0.128133</td>\n",
       "      <td>-0.607665</td>\n",
       "      <td>1.000000</td>\n",
       "      <td>-0.784532</td>\n",
       "      <td>-0.025797</td>\n",
       "    </tr>\n",
       "    <tr>\n",
       "      <td>NQ</td>\n",
       "      <td>0.360827</td>\n",
       "      <td>0.316284</td>\n",
       "      <td>-0.784532</td>\n",
       "      <td>1.000000</td>\n",
       "      <td>0.175158</td>\n",
       "    </tr>\n",
       "    <tr>\n",
       "      <td>total</td>\n",
       "      <td>0.658388</td>\n",
       "      <td>0.509730</td>\n",
       "      <td>-0.025797</td>\n",
       "      <td>0.175158</td>\n",
       "      <td>1.000000</td>\n",
       "    </tr>\n",
       "  </tbody>\n",
       "</table>\n",
       "</div>"
      ],
      "text/plain": [
       "             CL        ES        GC        NQ     total\n",
       "CL     1.000000 -0.036852 -0.128133  0.360827  0.658388\n",
       "ES    -0.036852  1.000000 -0.607665  0.316284  0.509730\n",
       "GC    -0.128133 -0.607665  1.000000 -0.784532 -0.025797\n",
       "NQ     0.360827  0.316284 -0.784532  1.000000  0.175158\n",
       "total  0.658388  0.509730 -0.025797  0.175158  1.000000"
      ]
     },
     "execution_count": 14,
     "metadata": {},
     "output_type": "execute_result"
    }
   ],
   "source": [
    "# instrument correlations\n",
    "log_returns = np.log(daily.pct_change()[1:] + 1)\n",
    "log_returns.corr()"
   ]
  },
  {
   "cell_type": "code",
   "execution_count": 15,
   "metadata": {},
   "outputs": [
    {
     "data": {
      "image/png": "[encoded data removed]",
      "text/plain": [
       "<Figure size 1440x576 with 1 Axes>"
      ]
     },
     "metadata": {
      "needs_background": "light"
     },
     "output_type": "display_data"
    }
   ],
   "source": [
    "log_returns.cumsum().plot(figsize=(20,8), grid=True);"
   ]
  },
  {
   "cell_type": "code",
   "execution_count": 16,
   "metadata": {},
   "outputs": [
    {
     "data": {
      "image/png": "[encoded data removed]",
      "text/plain": [
       "<Figure size 1440x576 with 1 Axes>"
      ]
     },
     "metadata": {
      "needs_background": "light"
     },
     "output_type": "display_data"
    }
   ],
   "source": [
    "returns = daily.pct_change()\n",
    "returns.iloc[0] = (daily.iloc[0] / (allocs * cash))-1\n",
    "returns_index = (returns + 1).cumprod()\n",
    "returns_index.plot(figsize=(20,8), grid=True);"
   ]
  },
  {
   "cell_type": "code",
   "execution_count": 17,
   "metadata": {},
   "outputs": [
    {
     "data": {
      "text/html": [
       "<div>\n",
       "<style scoped>\n",
       "    .dataframe tbody tr th:only-of-type {\n",
       "        vertical-align: middle;\n",
       "    }\n",
       "\n",
       "    .dataframe tbody tr th {\n",
       "        vertical-align: top;\n",
       "    }\n",
       "\n",
       "    .dataframe thead th {\n",
       "        text-align: right;\n",
       "    }\n",
       "</style>\n",
       "<table border=\"1\" class=\"dataframe\">\n",
       "  <thead>\n",
       "    <tr style=\"text-align: right;\">\n",
       "      <th></th>\n",
       "      <th>CL</th>\n",
       "      <th>ES</th>\n",
       "      <th>GC</th>\n",
       "      <th>NQ</th>\n",
       "      <th>total</th>\n",
       "    </tr>\n",
       "  </thead>\n",
       "  <tbody>\n",
       "    <tr>\n",
       "      <td>Annual return</td>\n",
       "      <td>1.006704e+15</td>\n",
       "      <td>-1.000000</td>\n",
       "      <td>-0.765257</td>\n",
       "      <td>-0.999719</td>\n",
       "      <td>-0.987772</td>\n",
       "    </tr>\n",
       "    <tr>\n",
       "      <td>Cumulative returns</td>\n",
       "      <td>1.276208e+00</td>\n",
       "      <td>-0.328060</td>\n",
       "      <td>-0.033918</td>\n",
       "      <td>-0.176893</td>\n",
       "      <td>-0.099547</td>\n",
       "    </tr>\n",
       "    <tr>\n",
       "      <td>Annual volatility</td>\n",
       "      <td>7.064355e+00</td>\n",
       "      <td>1.811563</td>\n",
       "      <td>1.377633</td>\n",
       "      <td>0.782145</td>\n",
       "      <td>0.594121</td>\n",
       "    </tr>\n",
       "    <tr>\n",
       "      <td>Sharpe ratio</td>\n",
       "      <td>7.048832e+00</td>\n",
       "      <td>-8.001763</td>\n",
       "      <td>-0.461924</td>\n",
       "      <td>-9.939606</td>\n",
       "      <td>-7.094939</td>\n",
       "    </tr>\n",
       "    <tr>\n",
       "      <td>Calmar ratio</td>\n",
       "      <td>NaN</td>\n",
       "      <td>-3.048223</td>\n",
       "      <td>-4.130786</td>\n",
       "      <td>-5.651534</td>\n",
       "      <td>-9.922686</td>\n",
       "    </tr>\n",
       "    <tr>\n",
       "      <td>Stability</td>\n",
       "      <td>8.032182e-01</td>\n",
       "      <td>0.592358</td>\n",
       "      <td>0.128478</td>\n",
       "      <td>0.708583</td>\n",
       "      <td>0.643157</td>\n",
       "    </tr>\n",
       "    <tr>\n",
       "      <td>Max drawdown</td>\n",
       "      <td>0.000000e+00</td>\n",
       "      <td>-0.328060</td>\n",
       "      <td>-0.185257</td>\n",
       "      <td>-0.176893</td>\n",
       "      <td>-0.099547</td>\n",
       "    </tr>\n",
       "    <tr>\n",
       "      <td>Omega ratio</td>\n",
       "      <td>NaN</td>\n",
       "      <td>0.000000</td>\n",
       "      <td>0.921643</td>\n",
       "      <td>0.000000</td>\n",
       "      <td>0.244841</td>\n",
       "    </tr>\n",
       "    <tr>\n",
       "      <td>Sortino ratio</td>\n",
       "      <td>inf</td>\n",
       "      <td>-7.673409</td>\n",
       "      <td>-0.677430</td>\n",
       "      <td>-8.979120</td>\n",
       "      <td>-7.449412</td>\n",
       "    </tr>\n",
       "    <tr>\n",
       "      <td>Skew</td>\n",
       "      <td>1.767634e+00</td>\n",
       "      <td>-1.629487</td>\n",
       "      <td>-0.271638</td>\n",
       "      <td>-0.888540</td>\n",
       "      <td>-0.230068</td>\n",
       "    </tr>\n",
       "    <tr>\n",
       "      <td>Kurtosis</td>\n",
       "      <td>1.159813e+00</td>\n",
       "      <td>0.869903</td>\n",
       "      <td>-0.774308</td>\n",
       "      <td>-0.994394</td>\n",
       "      <td>-1.244667</td>\n",
       "    </tr>\n",
       "    <tr>\n",
       "      <td>Tail ratio</td>\n",
       "      <td>inf</td>\n",
       "      <td>0.000000</td>\n",
       "      <td>0.870401</td>\n",
       "      <td>0.000000</td>\n",
       "      <td>0.385064</td>\n",
       "    </tr>\n",
       "    <tr>\n",
       "      <td>Daily value at risk</td>\n",
       "      <td>-6.924241e-01</td>\n",
       "      <td>-0.285758</td>\n",
       "      <td>-0.176091</td>\n",
       "      <td>-0.129391</td>\n",
       "      <td>-0.091579</td>\n",
       "    </tr>\n",
       "  </tbody>\n",
       "</table>\n",
       "</div>"
      ],
      "text/plain": [
       "                               CL        ES        GC        NQ     total\n",
       "Annual return        1.006704e+15 -1.000000 -0.765257 -0.999719 -0.987772\n",
       "Cumulative returns   1.276208e+00 -0.328060 -0.033918 -0.176893 -0.099547\n",
       "Annual volatility    7.064355e+00  1.811563  1.377633  0.782145  0.594121\n",
       "Sharpe ratio         7.048832e+00 -8.001763 -0.461924 -9.939606 -7.094939\n",
       "Calmar ratio                  NaN -3.048223 -4.130786 -5.651534 -9.922686\n",
       "Stability            8.032182e-01  0.592358  0.128478  0.708583  0.643157\n",
       "Max drawdown         0.000000e+00 -0.328060 -0.185257 -0.176893 -0.099547\n",
       "Omega ratio                   NaN  0.000000  0.921643  0.000000  0.244841\n",
       "Sortino ratio                 inf -7.673409 -0.677430 -8.979120 -7.449412\n",
       "Skew                 1.767634e+00 -1.629487 -0.271638 -0.888540 -0.230068\n",
       "Kurtosis             1.159813e+00  0.869903 -0.774308 -0.994394 -1.244667\n",
       "Tail ratio                    inf  0.000000  0.870401  0.000000  0.385064\n",
       "Daily value at risk -6.924241e-01 -0.285758 -0.176091 -0.129391 -0.091579"
      ]
     },
     "execution_count": 17,
     "metadata": {},
     "output_type": "execute_result"
    }
   ],
   "source": [
    "stats = pd.DataFrame()\n",
    "for col in returns.columns:\n",
    "    stats[col] = perf_stats(returns[col])\n",
    "stats"
   ]
  },
  {
   "cell_type": "code",
   "execution_count": 18,
   "metadata": {},
   "outputs": [
    {
     "data": {
      "text/html": [
       "<div>\n",
       "<style scoped>\n",
       "    .dataframe tbody tr th:only-of-type {\n",
       "        vertical-align: middle;\n",
       "    }\n",
       "\n",
       "    .dataframe tbody tr th {\n",
       "        vertical-align: top;\n",
       "    }\n",
       "\n",
       "    .dataframe thead th {\n",
       "        text-align: right;\n",
       "    }\n",
       "</style>\n",
       "<table border=\"1\" class=\"dataframe\">\n",
       "  <thead>\n",
       "    <tr style=\"text-align: right;\">\n",
       "      <th></th>\n",
       "      <th>CL</th>\n",
       "      <th>ES</th>\n",
       "      <th>GC</th>\n",
       "      <th>NQ</th>\n",
       "      <th>total</th>\n",
       "    </tr>\n",
       "    <tr>\n",
       "      <th>time</th>\n",
       "      <th></th>\n",
       "      <th></th>\n",
       "      <th></th>\n",
       "      <th></th>\n",
       "      <th></th>\n",
       "    </tr>\n",
       "  </thead>\n",
       "  <tbody>\n",
       "    <tr>\n",
       "      <td>2020-03-31 00:00:00+00:00</td>\n",
       "      <td>127.62</td>\n",
       "      <td>-32.81</td>\n",
       "      <td>-3.39</td>\n",
       "      <td>-17.69</td>\n",
       "      <td>-9.95</td>\n",
       "    </tr>\n",
       "  </tbody>\n",
       "</table>\n",
       "</div>"
      ],
      "text/plain": [
       "                               CL     ES    GC     NQ  total\n",
       "time                                                        \n",
       "2020-03-31 00:00:00+00:00  127.62 -32.81 -3.39 -17.69  -9.95"
      ]
     },
     "execution_count": 18,
     "metadata": {},
     "output_type": "execute_result"
    }
   ],
   "source": [
    "# monthly returns in percent\n",
    "monthly_log_returns = log_returns.resample('M').sum()\n",
    "monthly_returns = np.exp(monthly_log_returns)-1\n",
    "round(monthly_returns, 4) * 100"
   ]
  },
  {
   "cell_type": "code",
   "execution_count": 19,
   "metadata": {},
   "outputs": [
    {
     "data": {
      "text/plain": [
       "CL       128.0\n",
       "ES       -33.0\n",
       "GC        -3.0\n",
       "NQ       -18.0\n",
       "total    -10.0\n",
       "dtype: float64"
      ]
     },
     "execution_count": 19,
     "metadata": {},
     "output_type": "execute_result"
    }
   ],
   "source": [
    "# total returns by contract in percent\n",
    "round(np.exp(monthly_log_returns.sum())-1, 2)* 100"
   ]
  },
  {
   "cell_type": "code",
   "execution_count": 20,
   "metadata": {},
   "outputs": [
    {
     "data": {
      "text/html": [
       "<div>\n",
       "<style scoped>\n",
       "    .dataframe tbody tr th:only-of-type {\n",
       "        vertical-align: middle;\n",
       "    }\n",
       "\n",
       "    .dataframe tbody tr th {\n",
       "        vertical-align: top;\n",
       "    }\n",
       "\n",
       "    .dataframe thead th {\n",
       "        text-align: right;\n",
       "    }\n",
       "</style>\n",
       "<table border=\"1\" class=\"dataframe\">\n",
       "  <thead>\n",
       "    <tr style=\"text-align: right;\">\n",
       "      <th></th>\n",
       "      <th>contract</th>\n",
       "      <th>action</th>\n",
       "      <th>price</th>\n",
       "      <th>realizedPNL</th>\n",
       "    </tr>\n",
       "    <tr>\n",
       "      <th>time</th>\n",
       "      <th></th>\n",
       "      <th></th>\n",
       "      <th></th>\n",
       "      <th></th>\n",
       "    </tr>\n",
       "  </thead>\n",
       "  <tbody>\n",
       "    <tr>\n",
       "      <td>2020-03-18 17:49:51.727254+00:00</td>\n",
       "      <td>CL</td>\n",
       "      <td>BUY</td>\n",
       "      <td>21.62</td>\n",
       "      <td>6905.26</td>\n",
       "    </tr>\n",
       "    <tr>\n",
       "      <td>2020-03-16 12:09:37.543377+00:00</td>\n",
       "      <td>GC</td>\n",
       "      <td>BUY</td>\n",
       "      <td>1475.50</td>\n",
       "      <td>5950.32</td>\n",
       "    </tr>\n",
       "    <tr>\n",
       "      <td>2020-03-17 15:29:05.638770+00:00</td>\n",
       "      <td>GC</td>\n",
       "      <td>SELL</td>\n",
       "      <td>1534.60</td>\n",
       "      <td>3370.32</td>\n",
       "    </tr>\n",
       "    <tr>\n",
       "      <td>2020-03-16 13:53:14.717494+00:00</td>\n",
       "      <td>CL</td>\n",
       "      <td>BUY</td>\n",
       "      <td>29.22</td>\n",
       "      <td>735.26</td>\n",
       "    </tr>\n",
       "    <tr>\n",
       "      <td>2020-03-15 22:23:30.924668+00:00</td>\n",
       "      <td>CL</td>\n",
       "      <td>SELL</td>\n",
       "      <td>30.57</td>\n",
       "      <td>0.00</td>\n",
       "    </tr>\n",
       "    <tr>\n",
       "      <td>2020-03-16 19:58:00.806659+00:00</td>\n",
       "      <td>ES</td>\n",
       "      <td>SELL</td>\n",
       "      <td>2385.75</td>\n",
       "      <td>0.00</td>\n",
       "    </tr>\n",
       "    <tr>\n",
       "      <td>2020-03-18 07:45:01.135191+00:00</td>\n",
       "      <td>GC</td>\n",
       "      <td>SELL</td>\n",
       "      <td>1502.30</td>\n",
       "      <td>0.00</td>\n",
       "    </tr>\n",
       "    <tr>\n",
       "      <td>2020-03-17 14:45:00.676739+00:00</td>\n",
       "      <td>GC</td>\n",
       "      <td>BUY</td>\n",
       "      <td>1517.70</td>\n",
       "      <td>0.00</td>\n",
       "    </tr>\n",
       "    <tr>\n",
       "      <td>2020-03-17 14:00:00.674426+00:00</td>\n",
       "      <td>NQ</td>\n",
       "      <td>SELL</td>\n",
       "      <td>6982.50</td>\n",
       "      <td>0.00</td>\n",
       "    </tr>\n",
       "    <tr>\n",
       "      <td>2020-03-17 13:43:00.672025+00:00</td>\n",
       "      <td>CL</td>\n",
       "      <td>SELL</td>\n",
       "      <td>28.53</td>\n",
       "      <td>0.00</td>\n",
       "    </tr>\n",
       "    <tr>\n",
       "      <td>2020-03-18 18:28:30.711197+00:00</td>\n",
       "      <td>CL</td>\n",
       "      <td>SELL</td>\n",
       "      <td>20.37</td>\n",
       "      <td>0.00</td>\n",
       "    </tr>\n",
       "    <tr>\n",
       "      <td>2020-03-17 06:56:31.478065+00:00</td>\n",
       "      <td>GC</td>\n",
       "      <td>SELL</td>\n",
       "      <td>1483.20</td>\n",
       "      <td>0.00</td>\n",
       "    </tr>\n",
       "    <tr>\n",
       "      <td>2020-03-19 03:20:30.933461+00:00</td>\n",
       "      <td>GC</td>\n",
       "      <td>SELL</td>\n",
       "      <td>1474.00</td>\n",
       "      <td>0.00</td>\n",
       "    </tr>\n",
       "    <tr>\n",
       "      <td>2020-03-18 16:16:00.820472+00:00</td>\n",
       "      <td>GC</td>\n",
       "      <td>SELL</td>\n",
       "      <td>1490.40</td>\n",
       "      <td>0.00</td>\n",
       "    </tr>\n",
       "    <tr>\n",
       "      <td>2020-03-16 14:07:31.119478+00:00</td>\n",
       "      <td>NQ</td>\n",
       "      <td>SELL</td>\n",
       "      <td>7239.00</td>\n",
       "      <td>0.00</td>\n",
       "    </tr>\n",
       "    <tr>\n",
       "      <td>2020-03-19 12:13:01.453628+00:00</td>\n",
       "      <td>GC</td>\n",
       "      <td>SELL</td>\n",
       "      <td>1468.80</td>\n",
       "      <td>0.00</td>\n",
       "    </tr>\n",
       "    <tr>\n",
       "      <td>2020-03-20 06:56:01.962312+00:00</td>\n",
       "      <td>GC</td>\n",
       "      <td>BUY</td>\n",
       "      <td>1502.10</td>\n",
       "      <td>0.00</td>\n",
       "    </tr>\n",
       "    <tr>\n",
       "      <td>2020-03-16 13:47:00.735998+00:00</td>\n",
       "      <td>ES</td>\n",
       "      <td>SELL</td>\n",
       "      <td>2385.50</td>\n",
       "      <td>0.00</td>\n",
       "    </tr>\n",
       "    <tr>\n",
       "      <td>2020-03-16 12:53:00.869208+00:00</td>\n",
       "      <td>GC</td>\n",
       "      <td>SELL</td>\n",
       "      <td>1459.80</td>\n",
       "      <td>0.00</td>\n",
       "    </tr>\n",
       "    <tr>\n",
       "      <td>2020-03-16 10:34:01.722253+00:00</td>\n",
       "      <td>GC</td>\n",
       "      <td>SELL</td>\n",
       "      <td>1505.30</td>\n",
       "      <td>0.00</td>\n",
       "    </tr>\n",
       "    <tr>\n",
       "      <td>2020-03-16 10:16:00.958293+00:00</td>\n",
       "      <td>CL</td>\n",
       "      <td>SELL</td>\n",
       "      <td>29.96</td>\n",
       "      <td>0.00</td>\n",
       "    </tr>\n",
       "    <tr>\n",
       "      <td>2020-03-18 13:31:00.703572+00:00</td>\n",
       "      <td>ES</td>\n",
       "      <td>SELL</td>\n",
       "      <td>2376.25</td>\n",
       "      <td>0.00</td>\n",
       "    </tr>\n",
       "    <tr>\n",
       "      <td>2020-03-16 00:05:14.910368+00:00</td>\n",
       "      <td>CL</td>\n",
       "      <td>BUY</td>\n",
       "      <td>30.89</td>\n",
       "      <td>-324.74</td>\n",
       "    </tr>\n",
       "    <tr>\n",
       "      <td>2020-03-20 12:44:59.964549+00:00</td>\n",
       "      <td>GC</td>\n",
       "      <td>SELL</td>\n",
       "      <td>1499.60</td>\n",
       "      <td>-509.68</td>\n",
       "    </tr>\n",
       "    <tr>\n",
       "      <td>2020-03-18 17:50:22.850317+00:00</td>\n",
       "      <td>GC</td>\n",
       "      <td>BUY</td>\n",
       "      <td>1493.30</td>\n",
       "      <td>-589.68</td>\n",
       "    </tr>\n",
       "    <tr>\n",
       "      <td>2020-03-17 12:30:29.801013+00:00</td>\n",
       "      <td>GC</td>\n",
       "      <td>BUY</td>\n",
       "      <td>1486.60</td>\n",
       "      <td>-689.68</td>\n",
       "    </tr>\n",
       "    <tr>\n",
       "      <td>2020-03-18 18:45:56.109990+00:00</td>\n",
       "      <td>CL</td>\n",
       "      <td>BUY</td>\n",
       "      <td>21.30</td>\n",
       "      <td>-934.74</td>\n",
       "    </tr>\n",
       "    <tr>\n",
       "      <td>2020-03-18 10:13:04.088330+00:00</td>\n",
       "      <td>GC</td>\n",
       "      <td>BUY</td>\n",
       "      <td>1507.60</td>\n",
       "      <td>-1069.68</td>\n",
       "    </tr>\n",
       "    <tr>\n",
       "      <td>2020-03-18 19:55:07.357962+00:00</td>\n",
       "      <td>ES</td>\n",
       "      <td>BUY</td>\n",
       "      <td>2389.00</td>\n",
       "      <td>-1283.40</td>\n",
       "    </tr>\n",
       "    <tr>\n",
       "      <td>2020-03-19 06:15:04.468482+00:00</td>\n",
       "      <td>GC</td>\n",
       "      <td>BUY</td>\n",
       "      <td>1484.00</td>\n",
       "      <td>-2009.68</td>\n",
       "    </tr>\n",
       "    <tr>\n",
       "      <td>2020-03-16 13:56:14.648086+00:00</td>\n",
       "      <td>GC</td>\n",
       "      <td>BUY</td>\n",
       "      <td>1470.40</td>\n",
       "      <td>-2129.68</td>\n",
       "    </tr>\n",
       "    <tr>\n",
       "      <td>2020-03-16 14:25:48.110507+00:00</td>\n",
       "      <td>NQ</td>\n",
       "      <td>BUY</td>\n",
       "      <td>7294.00</td>\n",
       "      <td>-2208.40</td>\n",
       "    </tr>\n",
       "    <tr>\n",
       "      <td>2020-03-17 14:07:35.862295+00:00</td>\n",
       "      <td>NQ</td>\n",
       "      <td>BUY</td>\n",
       "      <td>7059.75</td>\n",
       "      <td>-3098.40</td>\n",
       "    </tr>\n",
       "    <tr>\n",
       "      <td>2020-03-19 13:59:41.725884+00:00</td>\n",
       "      <td>GC</td>\n",
       "      <td>BUY</td>\n",
       "      <td>1486.30</td>\n",
       "      <td>-3509.68</td>\n",
       "    </tr>\n",
       "    <tr>\n",
       "      <td>2020-03-16 13:58:31.553823+00:00</td>\n",
       "      <td>ES</td>\n",
       "      <td>BUY</td>\n",
       "      <td>2471.00</td>\n",
       "      <td>-8558.40</td>\n",
       "    </tr>\n",
       "  </tbody>\n",
       "</table>\n",
       "</div>"
      ],
      "text/plain": [
       "                                 contract action    price  realizedPNL\n",
       "time                                                                  \n",
       "2020-03-18 17:49:51.727254+00:00       CL    BUY    21.62      6905.26\n",
       "2020-03-16 12:09:37.543377+00:00       GC    BUY  1475.50      5950.32\n",
       "2020-03-17 15:29:05.638770+00:00       GC   SELL  1534.60      3370.32\n",
       "2020-03-16 13:53:14.717494+00:00       CL    BUY    29.22       735.26\n",
       "2020-03-15 22:23:30.924668+00:00       CL   SELL    30.57         0.00\n",
       "2020-03-16 19:58:00.806659+00:00       ES   SELL  2385.75         0.00\n",
       "2020-03-18 07:45:01.135191+00:00       GC   SELL  1502.30         0.00\n",
       "2020-03-17 14:45:00.676739+00:00       GC    BUY  1517.70         0.00\n",
       "2020-03-17 14:00:00.674426+00:00       NQ   SELL  6982.50         0.00\n",
       "2020-03-17 13:43:00.672025+00:00       CL   SELL    28.53         0.00\n",
       "2020-03-18 18:28:30.711197+00:00       CL   SELL    20.37         0.00\n",
       "2020-03-17 06:56:31.478065+00:00       GC   SELL  1483.20         0.00\n",
       "2020-03-19 03:20:30.933461+00:00       GC   SELL  1474.00         0.00\n",
       "2020-03-18 16:16:00.820472+00:00       GC   SELL  1490.40         0.00\n",
       "2020-03-16 14:07:31.119478+00:00       NQ   SELL  7239.00         0.00\n",
       "2020-03-19 12:13:01.453628+00:00       GC   SELL  1468.80         0.00\n",
       "2020-03-20 06:56:01.962312+00:00       GC    BUY  1502.10         0.00\n",
       "2020-03-16 13:47:00.735998+00:00       ES   SELL  2385.50         0.00\n",
       "2020-03-16 12:53:00.869208+00:00       GC   SELL  1459.80         0.00\n",
       "2020-03-16 10:34:01.722253+00:00       GC   SELL  1505.30         0.00\n",
       "2020-03-16 10:16:00.958293+00:00       CL   SELL    29.96         0.00\n",
       "2020-03-18 13:31:00.703572+00:00       ES   SELL  2376.25         0.00\n",
       "2020-03-16 00:05:14.910368+00:00       CL    BUY    30.89      -324.74\n",
       "2020-03-20 12:44:59.964549+00:00       GC   SELL  1499.60      -509.68\n",
       "2020-03-18 17:50:22.850317+00:00       GC    BUY  1493.30      -589.68\n",
       "2020-03-17 12:30:29.801013+00:00       GC    BUY  1486.60      -689.68\n",
       "2020-03-18 18:45:56.109990+00:00       CL    BUY    21.30      -934.74\n",
       "2020-03-18 10:13:04.088330+00:00       GC    BUY  1507.60     -1069.68\n",
       "2020-03-18 19:55:07.357962+00:00       ES    BUY  2389.00     -1283.40\n",
       "2020-03-19 06:15:04.468482+00:00       GC    BUY  1484.00     -2009.68\n",
       "2020-03-16 13:56:14.648086+00:00       GC    BUY  1470.40     -2129.68\n",
       "2020-03-16 14:25:48.110507+00:00       NQ    BUY  7294.00     -2208.40\n",
       "2020-03-17 14:07:35.862295+00:00       NQ    BUY  7059.75     -3098.40\n",
       "2020-03-19 13:59:41.725884+00:00       GC    BUY  1486.30     -3509.68\n",
       "2020-03-16 13:58:31.553823+00:00       ES    BUY  2471.00     -8558.40"
      ]
     },
     "execution_count": 20,
     "metadata": {},
     "output_type": "execute_result"
    }
   ],
   "source": [
    "df.sort_values('realizedPNL', ascending=False)[['contract', 'action', 'price', 'realizedPNL']]"
   ]
  },
  {
   "cell_type": "raw",
   "metadata": {},
   "source": [
    "contract\n",
    "CL    -3975.12\n",
    "ES    28139.10\n",
    "GC   -32490.56\n",
    "NQ    69519.20\n",
    "Name: realizedPNL, dtype: float64"
   ]
  },
  {
   "cell_type": "raw",
   "metadata": {},
   "source": [
    "contract\n",
    "CL    -3935.88\n",
    "ES    32292.20\n",
    "GC     2778.48\n",
    "NQ    25510.20\n",
    "Name: realizedPNL, dtype: float64"
   ]
  },
  {
   "cell_type": "raw",
   "metadata": {},
   "source": [
    "contract\n",
    "CL     2301.52\n",
    "ES    30824.20\n",
    "GC   -13002.44\n",
    "NQ    31118.80\n",
    "Name: realizedPNL, dtype: float64"
   ]
  }
 ],
 "metadata": {
  "kernelspec": {
   "display_name": "Python 3",
   "language": "python",
   "name": "python3"
  },
  "language_info": {
   "codemirror_mode": {
    "name": "ipython",
    "version": 3
   },
   "file_extension": ".py",
   "mimetype": "text/x-python",
   "name": "python",
   "nbconvert_exporter": "python",
   "pygments_lexer": "ipython3",
   "version": "3.7.3"
  }
 },
 "nbformat": 4,
 "nbformat_minor": 2
}
