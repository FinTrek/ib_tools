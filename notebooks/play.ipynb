{
 "cells": [
  {
   "cell_type": "code",
   "execution_count": 1,
   "metadata": {},
   "outputs": [
    {
     "data": {
      "text/plain": [
       "<IB connected to 127.0.0.1:4002 clientId=12>"
      ]
     },
     "execution_count": 1,
     "metadata": {},
     "output_type": "execute_result"
    }
   ],
   "source": [
    "from ib_insync import *\n",
    "util.startLoop()\n",
    "\n",
    "ib = IB()\n",
    "ib.connect('127.0.0.1', 4002, clientId=12)"
   ]
  },
  {
   "cell_type": "code",
   "execution_count": 2,
   "metadata": {},
   "outputs": [
    {
     "name": "stderr",
     "output_type": "stream",
     "text": [
      "Error 1100, reqId -1: Connectivity between IB and Trader Workstation has been lost.\n",
      "Error 1102, reqId -1: Connectivity between IB and Trader Workstation has been restored - data maintained.\n",
      "Error 1100, reqId -1: Connectivity between IB and Trader Workstation has been lost.\n",
      "Error 1102, reqId -1: Connectivity between IB and Trader Workstation has been restored - data maintained.\n",
      "Error 1100, reqId -1: Connectivity between IB and Trader Workstation has been lost.\n",
      "Error 1102, reqId -1: Connectivity between IB and Trader Workstation has been restored - data maintained.\n",
      "Error 1100, reqId -1: Connectivity between IB and Trader Workstation has been lost.\n",
      "Error 1102, reqId -1: Connectivity between IB and Trader Workstation has been restored - data maintained.\n",
      "Error 1100, reqId -1: Connectivity between IB and Trader Workstation has been lost.\n",
      "Error 1102, reqId -1: Connectivity between IB and Trader Workstation has been restored - data maintained.\n",
      "Error 1100, reqId -1: Connectivity between IB and Trader Workstation has been lost.\n",
      "Error 1102, reqId -1: Connectivity between IB and Trader Workstation has been restored - data maintained.\n",
      "Error 1100, reqId -1: Connectivity between IB and Trader Workstation has been lost.\n",
      "Error 1102, reqId -1: Connectivity between IB and Trader Workstation has been restored - data maintained.\n",
      "Error 1100, reqId -1: Connectivity between IB and Trader Workstation has been lost.\n",
      "Error 1102, reqId -1: Connectivity between IB and Trader Workstation has been restored - data maintained.\n",
      "Error 1100, reqId -1: Connectivity between IB and Trader Workstation has been lost.\n",
      "Error 1102, reqId -1: Connectivity between IB and Trader Workstation has been restored - data maintained.\n",
      "Error 1100, reqId -1: Connectivity between IB and Trader Workstation has been lost.\n",
      "Error 1102, reqId -1: Connectivity between IB and Trader Workstation has been restored - data maintained.\n",
      "Peer closed connection\n"
     ]
    }
   ],
   "source": [
    "nq = Future('NQ', exchange='GLOBEX')"
   ]
  },
  {
   "cell_type": "code",
   "execution_count": 3,
   "metadata": {},
   "outputs": [
    {
     "data": {
      "text/plain": [
       "5"
      ]
     },
     "execution_count": 3,
     "metadata": {},
     "output_type": "execute_result"
    }
   ],
   "source": [
    "details = ib.reqContractDetails(nq)\n",
    "\n",
    "len(details)"
   ]
  },
  {
   "cell_type": "code",
   "execution_count": 4,
   "metadata": {},
   "outputs": [
    {
     "data": {
      "text/plain": [
       "[ContractDetails(contract=Contract(secType='FUT', conId=321454967, symbol='NQ', lastTradeDateOrContractMonth='20190920', multiplier='20', exchange='GLOBEX', currency='USD', localSymbol='NQU9', tradingClass='NQ'), marketName='NQ', minTick=0.25, orderTypes='ACTIVETIM,ADJUST,ALERT,ALGO,ALLOC,AVGCOST,BASKET,BENCHPX,COND,CONDORDER,DAY,DEACT,DEACTDIS,DEACTEOD,GAT,GTC,GTD,GTT,HID,ICE,IOC,LIT,LMT,LTH,MIT,MKT,MTL,NGCOMB,NONALGO,OCA,PEGBENCH,SCALE,SCALERST,SNAPMID,SNAPMKT,SNAPREL,STP,STPLMT,TRAIL,TRAILLIT,TRAILLMT,TRAILMIT,WHATIF', validExchanges='GLOBEX', priceMagnifier=1, underConId=11004958, longName='E-mini NASDAQ 100 Futures', contractMonth='201909', timeZoneId='CST', tradingHours='20190820:1700-20190821:1515;20190821:1530-20190821:1600;20190821:1700-20190822:1515;20190822:1530-20190822:1600;20190822:1700-20190823:1515;20190823:1530-20190823:1600;20190824:CLOSED;20190825:1700-20190826:1515;20190826:1530-20190826:1600;20190826:1700-20190827:1515;20190827:1530-20190827:1600;20190827:1700-20190828:1515;20190828:1530-20190828:1600;20190828:1700-20190829:1515;20190829:1530-20190829:1600;20190829:1700-20190830:1515;20190830:1530-20190830:1600;20190831:CLOSED;20190901:1700-20190902:1200;20190902:1700-20190903:1515;20190903:1530-20190903:1600;20190903:1700-20190904:1515;20190904:1530-20190904:1600;20190904:1700-20190905:1515;20190905:1530-20190905:1600;20190905:1700-20190906:1515;20190906:1530-20190906:1600;20190907:CLOSED;20190908:1700-20190909:1515;20190909:1530-20190909:1600;20190909:1700-20190910:1515;20190910:1530-20190910:1600;20190910:1700-20190911:1515;20190911:1530-20190911:1600;20190911:1700-20190912:1515;20190912:1530-20190912:1600;20190912:1700-20190913:1515;20190913:1530-20190913:1600;20190914:CLOSED;20190915:1700-20190916:1515;20190916:1530-20190916:1600;20190916:1700-20190917:1515;20190917:1530-20190917:1600;20190917:1700-20190918:1515;20190918:1530-20190918:1600;20190918:1700-20190919:1515;20190919:1530-20190919:1600;20190919:1700-20190920:0830;20190921:CLOSED;20190922:CLOSED', liquidHours='20190821:0830-20190821:1515;20190821:1530-20190821:1600;20190822:0830-20190822:1515;20190822:1530-20190822:1600;20190823:0830-20190823:1515;20190823:1530-20190823:1600;20190824:CLOSED;20190825:CLOSED;20190826:0830-20190826:1515;20190826:1530-20190826:1600;20190827:0830-20190827:1515;20190827:1530-20190827:1600;20190828:0830-20190828:1515;20190828:1530-20190828:1600;20190829:0830-20190829:1515;20190829:1530-20190829:1600;20190830:0830-20190830:1515;20190830:1530-20190830:1600;20190831:CLOSED;20190901:CLOSED;20190902:0830-20190902:1515;20190902:1530-20190902:1600;20190903:0830-20190903:1515;20190903:1530-20190903:1600;20190904:0830-20190904:1515;20190904:1530-20190904:1600;20190905:0830-20190905:1515;20190905:1530-20190905:1600;20190906:0830-20190906:1515;20190906:1530-20190906:1600;20190907:CLOSED;20190908:CLOSED;20190909:0830-20190909:1515;20190909:1530-20190909:1600;20190910:0830-20190910:1515;20190910:1530-20190910:1600;20190911:0830-20190911:1515;20190911:1530-20190911:1600;20190912:0830-20190912:1515;20190912:1530-20190912:1600;20190913:0830-20190913:1515;20190913:1530-20190913:1600;20190914:CLOSED;20190915:CLOSED;20190916:0830-20190916:1515;20190916:1530-20190916:1600;20190917:0830-20190917:1515;20190917:1530-20190917:1600;20190918:0830-20190918:1515;20190918:1530-20190918:1600;20190919:0830-20190919:1515;20190919:1530-20190919:1600;20190920:CLOSED;20190921:CLOSED;20190922:CLOSED', mdSizeMultiplier=1, aggGroup=2147483647, underSymbol='NQ', underSecType='IND', marketRuleIds='67', realExpirationDate='20190920', lastTradeTime='08:30'),\n",
       " ContractDetails(contract=Contract(secType='FUT', conId=334144585, symbol='NQ', lastTradeDateOrContractMonth='20191220', multiplier='20', exchange='GLOBEX', currency='USD', localSymbol='NQZ9', tradingClass='NQ'), marketName='NQ', minTick=0.25, orderTypes='ACTIVETIM,ADJUST,ALERT,ALGO,ALLOC,AVGCOST,BASKET,BENCHPX,COND,CONDORDER,DAY,DEACT,DEACTDIS,DEACTEOD,GAT,GTC,GTD,GTT,HID,ICE,IOC,LIT,LMT,LTH,MIT,MKT,MTL,NGCOMB,NONALGO,OCA,PEGBENCH,SCALE,SCALERST,SNAPMID,SNAPMKT,SNAPREL,STP,STPLMT,TRAIL,TRAILLIT,TRAILLMT,TRAILMIT,WHATIF', validExchanges='GLOBEX', priceMagnifier=1, underConId=11004958, longName='E-mini NASDAQ 100 Futures', contractMonth='201912', timeZoneId='CST', tradingHours='20190820:1700-20190821:1515;20190821:1530-20190821:1600;20190821:1700-20190822:1515;20190822:1530-20190822:1600;20190822:1700-20190823:1515;20190823:1530-20190823:1600;20190824:CLOSED;20190825:1700-20190826:1515;20190826:1530-20190826:1600;20190826:1700-20190827:1515;20190827:1530-20190827:1600;20190827:1700-20190828:1515;20190828:1530-20190828:1600;20190828:1700-20190829:1515;20190829:1530-20190829:1600;20190829:1700-20190830:1515;20190830:1530-20190830:1600;20190831:CLOSED;20190901:1700-20190902:1200;20190902:1700-20190903:1515;20190903:1530-20190903:1600;20190903:1700-20190904:1515;20190904:1530-20190904:1600;20190904:1700-20190905:1515;20190905:1530-20190905:1600;20190905:1700-20190906:1515;20190906:1530-20190906:1600;20190907:CLOSED;20190908:1700-20190909:1515;20190909:1530-20190909:1600;20190909:1700-20190910:1515;20190910:1530-20190910:1600;20190910:1700-20190911:1515;20190911:1530-20190911:1600;20190911:1700-20190912:1515;20190912:1530-20190912:1600;20190912:1700-20190913:1515;20190913:1530-20190913:1600;20190914:CLOSED;20190915:1700-20190916:1515;20190916:1530-20190916:1600;20190916:1700-20190917:1515;20190917:1530-20190917:1600;20190917:1700-20190918:1515;20190918:1530-20190918:1600;20190918:1700-20190919:1515;20190919:1530-20190919:1600;20190919:1700-20190920:1515;20190920:1530-20190920:1600;20190921:CLOSED;20190922:1700-20190923:1515;20190923:1530-20190923:1600;20190923:1700-20190924:1515;20190924:1530-20190924:1600', liquidHours='20190821:0830-20190821:1515;20190821:1530-20190821:1600;20190822:0830-20190822:1515;20190822:1530-20190822:1600;20190823:0830-20190823:1515;20190823:1530-20190823:1600;20190824:CLOSED;20190825:CLOSED;20190826:0830-20190826:1515;20190826:1530-20190826:1600;20190827:0830-20190827:1515;20190827:1530-20190827:1600;20190828:0830-20190828:1515;20190828:1530-20190828:1600;20190829:0830-20190829:1515;20190829:1530-20190829:1600;20190830:0830-20190830:1515;20190830:1530-20190830:1600;20190831:CLOSED;20190901:CLOSED;20190902:0830-20190902:1515;20190902:1530-20190902:1600;20190903:0830-20190903:1515;20190903:1530-20190903:1600;20190904:0830-20190904:1515;20190904:1530-20190904:1600;20190905:0830-20190905:1515;20190905:1530-20190905:1600;20190906:0830-20190906:1515;20190906:1530-20190906:1600;20190907:CLOSED;20190908:CLOSED;20190909:0830-20190909:1515;20190909:1530-20190909:1600;20190910:0830-20190910:1515;20190910:1530-20190910:1600;20190911:0830-20190911:1515;20190911:1530-20190911:1600;20190912:0830-20190912:1515;20190912:1530-20190912:1600;20190913:0830-20190913:1515;20190913:1530-20190913:1600;20190914:CLOSED;20190915:CLOSED;20190916:0830-20190916:1515;20190916:1530-20190916:1600;20190917:0830-20190917:1515;20190917:1530-20190917:1600;20190918:0830-20190918:1515;20190918:1530-20190918:1600;20190919:0830-20190919:1515;20190919:1530-20190919:1600;20190920:0830-20190920:1515;20190920:1530-20190920:1600;20190921:CLOSED;20190922:CLOSED;20190923:0830-20190923:1515;20190923:1530-20190923:1600;20190924:0830-20190924:1515;20190924:1530-20190924:1600', mdSizeMultiplier=1, aggGroup=2147483647, underSymbol='NQ', underSecType='IND', marketRuleIds='67', realExpirationDate='20191220', lastTradeTime='08:30'),\n",
       " ContractDetails(contract=Contract(secType='FUT', conId=346577750, symbol='NQ', lastTradeDateOrContractMonth='20200320', multiplier='20', exchange='GLOBEX', currency='USD', localSymbol='NQH0', tradingClass='NQ'), marketName='NQ', minTick=0.25, orderTypes='ACTIVETIM,ADJUST,ALERT,ALGO,ALLOC,AVGCOST,BASKET,BENCHPX,COND,CONDORDER,DAY,DEACT,DEACTDIS,DEACTEOD,GAT,GTC,GTD,GTT,HID,ICE,IOC,LIT,LMT,LTH,MIT,MKT,MTL,NGCOMB,NONALGO,OCA,PEGBENCH,SCALE,SCALERST,SNAPMID,SNAPMKT,SNAPREL,STP,STPLMT,TRAIL,TRAILLIT,TRAILLMT,TRAILMIT,WHATIF', validExchanges='GLOBEX', priceMagnifier=1, underConId=11004958, longName='E-mini NASDAQ 100 Futures', contractMonth='202003', timeZoneId='CST', tradingHours='20190820:1700-20190821:1515;20190821:1530-20190821:1600;20190821:1700-20190822:1515;20190822:1530-20190822:1600;20190822:1700-20190823:1515;20190823:1530-20190823:1600;20190824:CLOSED;20190825:1700-20190826:1515;20190826:1530-20190826:1600;20190826:1700-20190827:1515;20190827:1530-20190827:1600;20190827:1700-20190828:1515;20190828:1530-20190828:1600;20190828:1700-20190829:1515;20190829:1530-20190829:1600;20190829:1700-20190830:1515;20190830:1530-20190830:1600;20190831:CLOSED;20190901:1700-20190902:1200;20190902:1700-20190903:1515;20190903:1530-20190903:1600;20190903:1700-20190904:1515;20190904:1530-20190904:1600;20190904:1700-20190905:1515;20190905:1530-20190905:1600;20190905:1700-20190906:1515;20190906:1530-20190906:1600;20190907:CLOSED;20190908:1700-20190909:1515;20190909:1530-20190909:1600;20190909:1700-20190910:1515;20190910:1530-20190910:1600;20190910:1700-20190911:1515;20190911:1530-20190911:1600;20190911:1700-20190912:1515;20190912:1530-20190912:1600;20190912:1700-20190913:1515;20190913:1530-20190913:1600;20190914:CLOSED;20190915:1700-20190916:1515;20190916:1530-20190916:1600;20190916:1700-20190917:1515;20190917:1530-20190917:1600;20190917:1700-20190918:1515;20190918:1530-20190918:1600;20190918:1700-20190919:1515;20190919:1530-20190919:1600;20190919:1700-20190920:1515;20190920:1530-20190920:1600;20190921:CLOSED;20190922:1700-20190923:1515;20190923:1530-20190923:1600;20190923:1700-20190924:1515;20190924:1530-20190924:1600', liquidHours='20190821:0830-20190821:1515;20190821:1530-20190821:1600;20190822:0830-20190822:1515;20190822:1530-20190822:1600;20190823:0830-20190823:1515;20190823:1530-20190823:1600;20190824:CLOSED;20190825:CLOSED;20190826:0830-20190826:1515;20190826:1530-20190826:1600;20190827:0830-20190827:1515;20190827:1530-20190827:1600;20190828:0830-20190828:1515;20190828:1530-20190828:1600;20190829:0830-20190829:1515;20190829:1530-20190829:1600;20190830:0830-20190830:1515;20190830:1530-20190830:1600;20190831:CLOSED;20190901:CLOSED;20190902:0830-20190902:1515;20190902:1530-20190902:1600;20190903:0830-20190903:1515;20190903:1530-20190903:1600;20190904:0830-20190904:1515;20190904:1530-20190904:1600;20190905:0830-20190905:1515;20190905:1530-20190905:1600;20190906:0830-20190906:1515;20190906:1530-20190906:1600;20190907:CLOSED;20190908:CLOSED;20190909:0830-20190909:1515;20190909:1530-20190909:1600;20190910:0830-20190910:1515;20190910:1530-20190910:1600;20190911:0830-20190911:1515;20190911:1530-20190911:1600;20190912:0830-20190912:1515;20190912:1530-20190912:1600;20190913:0830-20190913:1515;20190913:1530-20190913:1600;20190914:CLOSED;20190915:CLOSED;20190916:0830-20190916:1515;20190916:1530-20190916:1600;20190917:0830-20190917:1515;20190917:1530-20190917:1600;20190918:0830-20190918:1515;20190918:1530-20190918:1600;20190919:0830-20190919:1515;20190919:1530-20190919:1600;20190920:0830-20190920:1515;20190920:1530-20190920:1600;20190921:CLOSED;20190922:CLOSED;20190923:0830-20190923:1515;20190923:1530-20190923:1600;20190924:0830-20190924:1515;20190924:1530-20190924:1600', mdSizeMultiplier=1, aggGroup=2147483647, underSymbol='NQ', underSecType='IND', marketRuleIds='67', realExpirationDate='20200320', lastTradeTime='08:30'),\n",
       " ContractDetails(contract=Contract(secType='FUT', conId=357283192, symbol='NQ', lastTradeDateOrContractMonth='20200619', multiplier='20', exchange='GLOBEX', currency='USD', localSymbol='NQM0', tradingClass='NQ'), marketName='NQ', minTick=0.25, orderTypes='ACTIVETIM,ADJUST,ALERT,ALGO,ALLOC,AVGCOST,BASKET,BENCHPX,COND,CONDORDER,DAY,DEACT,DEACTDIS,DEACTEOD,GAT,GTC,GTD,GTT,HID,ICE,IOC,LIT,LMT,LTH,MIT,MKT,MTL,NGCOMB,NONALGO,OCA,PEGBENCH,SCALE,SCALERST,SNAPMID,SNAPMKT,SNAPREL,STP,STPLMT,TRAIL,TRAILLIT,TRAILLMT,TRAILMIT,WHATIF', validExchanges='GLOBEX', priceMagnifier=1, underConId=11004958, longName='E-mini NASDAQ 100 Futures', contractMonth='202006', timeZoneId='CST', tradingHours='20190820:1700-20190821:1515;20190821:1530-20190821:1600;20190821:1700-20190822:1515;20190822:1530-20190822:1600;20190822:1700-20190823:1515;20190823:1530-20190823:1600;20190824:CLOSED;20190825:1700-20190826:1515;20190826:1530-20190826:1600;20190826:1700-20190827:1515;20190827:1530-20190827:1600;20190827:1700-20190828:1515;20190828:1530-20190828:1600;20190828:1700-20190829:1515;20190829:1530-20190829:1600;20190829:1700-20190830:1515;20190830:1530-20190830:1600;20190831:CLOSED;20190901:1700-20190902:1200;20190902:1700-20190903:1515;20190903:1530-20190903:1600;20190903:1700-20190904:1515;20190904:1530-20190904:1600;20190904:1700-20190905:1515;20190905:1530-20190905:1600;20190905:1700-20190906:1515;20190906:1530-20190906:1600;20190907:CLOSED;20190908:1700-20190909:1515;20190909:1530-20190909:1600;20190909:1700-20190910:1515;20190910:1530-20190910:1600;20190910:1700-20190911:1515;20190911:1530-20190911:1600;20190911:1700-20190912:1515;20190912:1530-20190912:1600;20190912:1700-20190913:1515;20190913:1530-20190913:1600;20190914:CLOSED;20190915:1700-20190916:1515;20190916:1530-20190916:1600;20190916:1700-20190917:1515;20190917:1530-20190917:1600;20190917:1700-20190918:1515;20190918:1530-20190918:1600;20190918:1700-20190919:1515;20190919:1530-20190919:1600;20190919:1700-20190920:1515;20190920:1530-20190920:1600;20190921:CLOSED;20190922:1700-20190923:1515;20190923:1530-20190923:1600;20190923:1700-20190924:1515;20190924:1530-20190924:1600', liquidHours='20190821:0830-20190821:1515;20190821:1530-20190821:1600;20190822:0830-20190822:1515;20190822:1530-20190822:1600;20190823:0830-20190823:1515;20190823:1530-20190823:1600;20190824:CLOSED;20190825:CLOSED;20190826:0830-20190826:1515;20190826:1530-20190826:1600;20190827:0830-20190827:1515;20190827:1530-20190827:1600;20190828:0830-20190828:1515;20190828:1530-20190828:1600;20190829:0830-20190829:1515;20190829:1530-20190829:1600;20190830:0830-20190830:1515;20190830:1530-20190830:1600;20190831:CLOSED;20190901:CLOSED;20190902:0830-20190902:1515;20190902:1530-20190902:1600;20190903:0830-20190903:1515;20190903:1530-20190903:1600;20190904:0830-20190904:1515;20190904:1530-20190904:1600;20190905:0830-20190905:1515;20190905:1530-20190905:1600;20190906:0830-20190906:1515;20190906:1530-20190906:1600;20190907:CLOSED;20190908:CLOSED;20190909:0830-20190909:1515;20190909:1530-20190909:1600;20190910:0830-20190910:1515;20190910:1530-20190910:1600;20190911:0830-20190911:1515;20190911:1530-20190911:1600;20190912:0830-20190912:1515;20190912:1530-20190912:1600;20190913:0830-20190913:1515;20190913:1530-20190913:1600;20190914:CLOSED;20190915:CLOSED;20190916:0830-20190916:1515;20190916:1530-20190916:1600;20190917:0830-20190917:1515;20190917:1530-20190917:1600;20190918:0830-20190918:1515;20190918:1530-20190918:1600;20190919:0830-20190919:1515;20190919:1530-20190919:1600;20190920:0830-20190920:1515;20190920:1530-20190920:1600;20190921:CLOSED;20190922:CLOSED;20190923:0830-20190923:1515;20190923:1530-20190923:1600;20190924:0830-20190924:1515;20190924:1530-20190924:1600', mdSizeMultiplier=1, aggGroup=2147483647, underSymbol='NQ', underSecType='IND', marketRuleIds='67', realExpirationDate='20200619', lastTradeTime='08:30'),\n",
       " ContractDetails(contract=Contract(secType='FUT', conId=371749745, symbol='NQ', lastTradeDateOrContractMonth='20200918', multiplier='20', exchange='GLOBEX', currency='USD', localSymbol='NQU0', tradingClass='NQ'), marketName='NQ', minTick=0.25, orderTypes='ACTIVETIM,ADJUST,ALERT,ALGO,ALLOC,AVGCOST,BASKET,BENCHPX,COND,CONDORDER,DAY,DEACT,DEACTDIS,DEACTEOD,GAT,GTC,GTD,GTT,HID,ICE,IOC,LIT,LMT,LTH,MIT,MKT,MTL,NGCOMB,NONALGO,OCA,PEGBENCH,SCALE,SCALERST,SNAPMID,SNAPMKT,SNAPREL,STP,STPLMT,TRAIL,TRAILLIT,TRAILLMT,TRAILMIT,WHATIF', validExchanges='GLOBEX', priceMagnifier=1, underConId=11004958, longName='E-mini NASDAQ 100 Futures', contractMonth='202009', timeZoneId='CST', tradingHours='20190820:1700-20190821:1515;20190821:1530-20190821:1600;20190821:1700-20190822:1515;20190822:1530-20190822:1600;20190822:1700-20190823:1515;20190823:1530-20190823:1600;20190824:CLOSED;20190825:1700-20190826:1515;20190826:1530-20190826:1600;20190826:1700-20190827:1515;20190827:1530-20190827:1600;20190827:1700-20190828:1515;20190828:1530-20190828:1600;20190828:1700-20190829:1515;20190829:1530-20190829:1600;20190829:1700-20190830:1515;20190830:1530-20190830:1600;20190831:CLOSED;20190901:1700-20190902:1200;20190902:1700-20190903:1515;20190903:1530-20190903:1600;20190903:1700-20190904:1515;20190904:1530-20190904:1600;20190904:1700-20190905:1515;20190905:1530-20190905:1600;20190905:1700-20190906:1515;20190906:1530-20190906:1600;20190907:CLOSED;20190908:1700-20190909:1515;20190909:1530-20190909:1600;20190909:1700-20190910:1515;20190910:1530-20190910:1600;20190910:1700-20190911:1515;20190911:1530-20190911:1600;20190911:1700-20190912:1515;20190912:1530-20190912:1600;20190912:1700-20190913:1515;20190913:1530-20190913:1600;20190914:CLOSED;20190915:1700-20190916:1515;20190916:1530-20190916:1600;20190916:1700-20190917:1515;20190917:1530-20190917:1600;20190917:1700-20190918:1515;20190918:1530-20190918:1600;20190918:1700-20190919:1515;20190919:1530-20190919:1600;20190919:1700-20190920:1515;20190920:1530-20190920:1600;20190921:CLOSED;20190922:1700-20190923:1515;20190923:1530-20190923:1600;20190923:1700-20190924:1515;20190924:1530-20190924:1600', liquidHours='20190821:0830-20190821:1515;20190821:1530-20190821:1600;20190822:0830-20190822:1515;20190822:1530-20190822:1600;20190823:0830-20190823:1515;20190823:1530-20190823:1600;20190824:CLOSED;20190825:CLOSED;20190826:0830-20190826:1515;20190826:1530-20190826:1600;20190827:0830-20190827:1515;20190827:1530-20190827:1600;20190828:0830-20190828:1515;20190828:1530-20190828:1600;20190829:0830-20190829:1515;20190829:1530-20190829:1600;20190830:0830-20190830:1515;20190830:1530-20190830:1600;20190831:CLOSED;20190901:CLOSED;20190902:0830-20190902:1515;20190902:1530-20190902:1600;20190903:0830-20190903:1515;20190903:1530-20190903:1600;20190904:0830-20190904:1515;20190904:1530-20190904:1600;20190905:0830-20190905:1515;20190905:1530-20190905:1600;20190906:0830-20190906:1515;20190906:1530-20190906:1600;20190907:CLOSED;20190908:CLOSED;20190909:0830-20190909:1515;20190909:1530-20190909:1600;20190910:0830-20190910:1515;20190910:1530-20190910:1600;20190911:0830-20190911:1515;20190911:1530-20190911:1600;20190912:0830-20190912:1515;20190912:1530-20190912:1600;20190913:0830-20190913:1515;20190913:1530-20190913:1600;20190914:CLOSED;20190915:CLOSED;20190916:0830-20190916:1515;20190916:1530-20190916:1600;20190917:0830-20190917:1515;20190917:1530-20190917:1600;20190918:0830-20190918:1515;20190918:1530-20190918:1600;20190919:0830-20190919:1515;20190919:1530-20190919:1600;20190920:0830-20190920:1515;20190920:1530-20190920:1600;20190921:CLOSED;20190922:CLOSED;20190923:0830-20190923:1515;20190923:1530-20190923:1600;20190924:0830-20190924:1515;20190924:1530-20190924:1600', mdSizeMultiplier=1, aggGroup=2147483647, underSymbol='NQ', underSecType='IND', marketRuleIds='67', realExpirationDate='20200918', lastTradeTime='08:30')]"
      ]
     },
     "execution_count": 4,
     "metadata": {},
     "output_type": "execute_result"
    }
   ],
   "source": [
    "details"
   ]
  },
  {
   "cell_type": "code",
   "execution_count": 5,
   "metadata": {},
   "outputs": [
    {
     "data": {
      "text/plain": [
       "Contract(secType='FUT', conId=321454967, symbol='NQ', lastTradeDateOrContractMonth='20190920', multiplier='20', exchange='GLOBEX', currency='USD', localSymbol='NQU9', tradingClass='NQ')"
      ]
     },
     "execution_count": 5,
     "metadata": {},
     "output_type": "execute_result"
    }
   ],
   "source": [
    "contracts = [detail.contract for detail in details]\n",
    "\n",
    "contracts[0]"
   ]
  },
  {
   "cell_type": "code",
   "execution_count": 6,
   "metadata": {},
   "outputs": [
    {
     "data": {
      "text/html": [
       "<div>\n",
       "<style scoped>\n",
       "    .dataframe tbody tr th:only-of-type {\n",
       "        vertical-align: middle;\n",
       "    }\n",
       "\n",
       "    .dataframe tbody tr th {\n",
       "        vertical-align: top;\n",
       "    }\n",
       "\n",
       "    .dataframe thead th {\n",
       "        text-align: right;\n",
       "    }\n",
       "</style>\n",
       "<table border=\"1\" class=\"dataframe\">\n",
       "  <thead>\n",
       "    <tr style=\"text-align: right;\">\n",
       "      <th></th>\n",
       "      <th>secType</th>\n",
       "      <th>conId</th>\n",
       "      <th>symbol</th>\n",
       "      <th>lastTradeDateOrContractMonth</th>\n",
       "      <th>strike</th>\n",
       "      <th>right</th>\n",
       "      <th>multiplier</th>\n",
       "      <th>exchange</th>\n",
       "      <th>primaryExchange</th>\n",
       "      <th>currency</th>\n",
       "      <th>localSymbol</th>\n",
       "      <th>tradingClass</th>\n",
       "      <th>includeExpired</th>\n",
       "      <th>secIdType</th>\n",
       "      <th>secId</th>\n",
       "      <th>comboLegsDescrip</th>\n",
       "      <th>comboLegs</th>\n",
       "      <th>deltaNeutralContract</th>\n",
       "    </tr>\n",
       "  </thead>\n",
       "  <tbody>\n",
       "    <tr>\n",
       "      <th>0</th>\n",
       "      <td>FUT</td>\n",
       "      <td>321454967</td>\n",
       "      <td>NQ</td>\n",
       "      <td>20190920</td>\n",
       "      <td>0.0</td>\n",
       "      <td></td>\n",
       "      <td>20</td>\n",
       "      <td>GLOBEX</td>\n",
       "      <td></td>\n",
       "      <td>USD</td>\n",
       "      <td>NQU9</td>\n",
       "      <td>NQ</td>\n",
       "      <td>False</td>\n",
       "      <td></td>\n",
       "      <td></td>\n",
       "      <td></td>\n",
       "      <td>None</td>\n",
       "      <td>None</td>\n",
       "    </tr>\n",
       "    <tr>\n",
       "      <th>1</th>\n",
       "      <td>FUT</td>\n",
       "      <td>334144585</td>\n",
       "      <td>NQ</td>\n",
       "      <td>20191220</td>\n",
       "      <td>0.0</td>\n",
       "      <td></td>\n",
       "      <td>20</td>\n",
       "      <td>GLOBEX</td>\n",
       "      <td></td>\n",
       "      <td>USD</td>\n",
       "      <td>NQZ9</td>\n",
       "      <td>NQ</td>\n",
       "      <td>False</td>\n",
       "      <td></td>\n",
       "      <td></td>\n",
       "      <td></td>\n",
       "      <td>None</td>\n",
       "      <td>None</td>\n",
       "    </tr>\n",
       "    <tr>\n",
       "      <th>2</th>\n",
       "      <td>FUT</td>\n",
       "      <td>346577750</td>\n",
       "      <td>NQ</td>\n",
       "      <td>20200320</td>\n",
       "      <td>0.0</td>\n",
       "      <td></td>\n",
       "      <td>20</td>\n",
       "      <td>GLOBEX</td>\n",
       "      <td></td>\n",
       "      <td>USD</td>\n",
       "      <td>NQH0</td>\n",
       "      <td>NQ</td>\n",
       "      <td>False</td>\n",
       "      <td></td>\n",
       "      <td></td>\n",
       "      <td></td>\n",
       "      <td>None</td>\n",
       "      <td>None</td>\n",
       "    </tr>\n",
       "    <tr>\n",
       "      <th>3</th>\n",
       "      <td>FUT</td>\n",
       "      <td>357283192</td>\n",
       "      <td>NQ</td>\n",
       "      <td>20200619</td>\n",
       "      <td>0.0</td>\n",
       "      <td></td>\n",
       "      <td>20</td>\n",
       "      <td>GLOBEX</td>\n",
       "      <td></td>\n",
       "      <td>USD</td>\n",
       "      <td>NQM0</td>\n",
       "      <td>NQ</td>\n",
       "      <td>False</td>\n",
       "      <td></td>\n",
       "      <td></td>\n",
       "      <td></td>\n",
       "      <td>None</td>\n",
       "      <td>None</td>\n",
       "    </tr>\n",
       "    <tr>\n",
       "      <th>4</th>\n",
       "      <td>FUT</td>\n",
       "      <td>371749745</td>\n",
       "      <td>NQ</td>\n",
       "      <td>20200918</td>\n",
       "      <td>0.0</td>\n",
       "      <td></td>\n",
       "      <td>20</td>\n",
       "      <td>GLOBEX</td>\n",
       "      <td></td>\n",
       "      <td>USD</td>\n",
       "      <td>NQU0</td>\n",
       "      <td>NQ</td>\n",
       "      <td>False</td>\n",
       "      <td></td>\n",
       "      <td></td>\n",
       "      <td></td>\n",
       "      <td>None</td>\n",
       "      <td>None</td>\n",
       "    </tr>\n",
       "  </tbody>\n",
       "</table>\n",
       "</div>"
      ],
      "text/plain": [
       "  secType      conId symbol lastTradeDateOrContractMonth  strike right  \\\n",
       "0     FUT  321454967     NQ                     20190920     0.0         \n",
       "1     FUT  334144585     NQ                     20191220     0.0         \n",
       "2     FUT  346577750     NQ                     20200320     0.0         \n",
       "3     FUT  357283192     NQ                     20200619     0.0         \n",
       "4     FUT  371749745     NQ                     20200918     0.0         \n",
       "\n",
       "  multiplier exchange primaryExchange currency localSymbol tradingClass  \\\n",
       "0         20   GLOBEX                      USD        NQU9           NQ   \n",
       "1         20   GLOBEX                      USD        NQZ9           NQ   \n",
       "2         20   GLOBEX                      USD        NQH0           NQ   \n",
       "3         20   GLOBEX                      USD        NQM0           NQ   \n",
       "4         20   GLOBEX                      USD        NQU0           NQ   \n",
       "\n",
       "   includeExpired secIdType secId comboLegsDescrip comboLegs  \\\n",
       "0           False                                       None   \n",
       "1           False                                       None   \n",
       "2           False                                       None   \n",
       "3           False                                       None   \n",
       "4           False                                       None   \n",
       "\n",
       "  deltaNeutralContract  \n",
       "0                 None  \n",
       "1                 None  \n",
       "2                 None  \n",
       "3                 None  \n",
       "4                 None  "
      ]
     },
     "execution_count": 6,
     "metadata": {},
     "output_type": "execute_result"
    }
   ],
   "source": [
    "util.df(contracts)"
   ]
  },
  {
   "cell_type": "code",
   "execution_count": null,
   "metadata": {},
   "outputs": [],
   "source": []
  },
  {
   "cell_type": "code",
   "execution_count": 7,
   "metadata": {},
   "outputs": [
    {
     "name": "stdout",
     "output_type": "stream",
     "text": [
      "[NewsProvider(code='BRFG', name='Briefing.com General Market Columns'), NewsProvider(code='BRFUPDN', name='Briefing.com Analyst Actions'), NewsProvider(code='DJNL', name='Dow Jones Newsletters'), NewsProvider(code='BZ', name='Benzinga')]\n"
     ]
    },
    {
     "name": "stderr",
     "output_type": "stream",
     "text": [
      "Error 321, reqId 5: Error validating request:-'cd' : cause - Not subscribed for 'BZ' provider\n"
     ]
    },
    {
     "ename": "IndexError",
     "evalue": "list index out of range",
     "output_type": "error",
     "traceback": [
      "\u001b[0;31m---------------------------------------------------------------------------\u001b[0m",
      "\u001b[0;31mIndexError\u001b[0m                                Traceback (most recent call last)",
      "\u001b[0;32m<ipython-input-7-c1f49445d695>\u001b[0m in \u001b[0;36m<module>\u001b[0;34m\u001b[0m\n\u001b[1;32m      6\u001b[0m \u001b[0mib\u001b[0m\u001b[0;34m.\u001b[0m\u001b[0mqualifyContracts\u001b[0m\u001b[0;34m(\u001b[0m\u001b[0mamd\u001b[0m\u001b[0;34m)\u001b[0m\u001b[0;34m\u001b[0m\u001b[0;34m\u001b[0m\u001b[0m\n\u001b[1;32m      7\u001b[0m \u001b[0mheadlines\u001b[0m \u001b[0;34m=\u001b[0m \u001b[0mib\u001b[0m\u001b[0;34m.\u001b[0m\u001b[0mreqHistoricalNews\u001b[0m\u001b[0;34m(\u001b[0m\u001b[0mamd\u001b[0m\u001b[0;34m.\u001b[0m\u001b[0mconId\u001b[0m\u001b[0;34m,\u001b[0m \u001b[0mcodes\u001b[0m\u001b[0;34m,\u001b[0m \u001b[0;34m''\u001b[0m\u001b[0;34m,\u001b[0m \u001b[0;34m''\u001b[0m\u001b[0;34m,\u001b[0m \u001b[0;36m10\u001b[0m\u001b[0;34m)\u001b[0m\u001b[0;34m\u001b[0m\u001b[0;34m\u001b[0m\u001b[0m\n\u001b[0;32m----> 8\u001b[0;31m \u001b[0mlatest\u001b[0m \u001b[0;34m=\u001b[0m \u001b[0mheadlines\u001b[0m\u001b[0;34m[\u001b[0m\u001b[0;36m0\u001b[0m\u001b[0;34m]\u001b[0m\u001b[0;34m\u001b[0m\u001b[0;34m\u001b[0m\u001b[0m\n\u001b[0m\u001b[1;32m      9\u001b[0m \u001b[0mprint\u001b[0m\u001b[0;34m(\u001b[0m\u001b[0mlatest\u001b[0m\u001b[0;34m)\u001b[0m\u001b[0;34m\u001b[0m\u001b[0;34m\u001b[0m\u001b[0m\n\u001b[1;32m     10\u001b[0m \u001b[0marticle\u001b[0m \u001b[0;34m=\u001b[0m \u001b[0mib\u001b[0m\u001b[0;34m.\u001b[0m\u001b[0mreqNewsArticle\u001b[0m\u001b[0;34m(\u001b[0m\u001b[0mlatest\u001b[0m\u001b[0;34m.\u001b[0m\u001b[0mproviderCode\u001b[0m\u001b[0;34m,\u001b[0m \u001b[0mlatest\u001b[0m\u001b[0;34m.\u001b[0m\u001b[0marticleId\u001b[0m\u001b[0;34m)\u001b[0m\u001b[0;34m\u001b[0m\u001b[0;34m\u001b[0m\u001b[0m\n",
      "\u001b[0;31mIndexError\u001b[0m: list index out of range"
     ]
    }
   ],
   "source": [
    "newsProviders = ib.reqNewsProviders()\n",
    "print(newsProviders)\n",
    "codes = '+'.join(np.code for np in newsProviders)\n",
    "\n",
    "amd = Stock('AMD', 'SMART', 'USD')\n",
    "ib.qualifyContracts(amd)\n",
    "headlines = ib.reqHistoricalNews(amd.conId, codes, '', '', 10)\n",
    "latest = headlines[0]\n",
    "print(latest)\n",
    "article = ib.reqNewsArticle(latest.providerCode, latest.articleId)\n",
    "print(article)"
   ]
  },
  {
   "cell_type": "code",
   "execution_count": null,
   "metadata": {},
   "outputs": [],
   "source": []
  },
  {
   "cell_type": "code",
   "execution_count": 8,
   "metadata": {},
   "outputs": [],
   "source": [
    "ib.disconnect()"
   ]
  },
  {
   "cell_type": "code",
   "execution_count": null,
   "metadata": {},
   "outputs": [],
   "source": []
  },
  {
   "cell_type": "code",
   "execution_count": null,
   "metadata": {},
   "outputs": [],
   "source": []
  },
  {
   "cell_type": "code",
   "execution_count": null,
   "metadata": {},
   "outputs": [],
   "source": []
  }
 ],
 "metadata": {
  "kernelspec": {
   "display_name": "ib_insync",
   "language": "python",
   "name": "ib_insync"
  },
  "language_info": {
   "codemirror_mode": {
    "name": "ipython",
    "version": 3
   },
   "file_extension": ".py",
   "mimetype": "text/x-python",
   "name": "python",
   "nbconvert_exporter": "python",
   "pygments_lexer": "ipython3",
   "version": "3.6.8"
  }
 },
 "nbformat": 4,
 "nbformat_minor": 2
}
