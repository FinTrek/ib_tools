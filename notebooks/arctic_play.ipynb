{
 "cells": [
  {
   "cell_type": "code",
   "execution_count": 55,
   "metadata": {},
   "outputs": [],
   "source": [
    "from arctic import Arctic, CHUNK_STORE\n",
    "from arctic.exceptions import NoDataFoundException\n",
    "from arctic.date import DateRange\n",
    "import pandas as pd\n",
    "from ib_insync import IB, ContFuture, util, Future, Forex, Contract\n",
    "from typing import Union\n",
    "import pickle"
   ]
  },
  {
   "cell_type": "code",
   "execution_count": 43,
   "metadata": {},
   "outputs": [
    {
     "data": {
      "text/plain": [
       "<IB connected to 127.0.0.1:4002 clientId=7>"
      ]
     },
     "execution_count": 43,
     "metadata": {},
     "output_type": "execute_result"
    }
   ],
   "source": [
    "util.startLoop()\n",
    "ib = IB()\n",
    "ib.connect(port=4002, clientId=7)"
   ]
  },
  {
   "cell_type": "code",
   "execution_count": 44,
   "metadata": {},
   "outputs": [],
   "source": [
    "nq = ContFuture('NQ', 'globex')"
   ]
  },
  {
   "cell_type": "code",
   "execution_count": 45,
   "metadata": {},
   "outputs": [
    {
     "data": {
      "text/plain": [
       "[ContFuture(conId=357283192, symbol='NQ', lastTradeDateOrContractMonth='20200619', multiplier='20', exchange='GLOBEX', currency='USD', localSymbol='NQM0', tradingClass='NQ')]"
      ]
     },
     "execution_count": 45,
     "metadata": {},
     "output_type": "execute_result"
    }
   ],
   "source": [
    "ib.qualifyContracts(nq)"
   ]
  },
  {
   "cell_type": "code",
   "execution_count": 46,
   "metadata": {},
   "outputs": [],
   "source": [
    "store = Arctic('localhost')"
   ]
  },
  {
   "cell_type": "code",
   "execution_count": 47,
   "metadata": {},
   "outputs": [
    {
     "data": {
      "text/plain": [
       "['history']"
      ]
     },
     "execution_count": 47,
     "metadata": {},
     "output_type": "execute_result"
    }
   ],
   "source": [
    "store.list_libraries()"
   ]
  },
  {
   "cell_type": "code",
   "execution_count": 48,
   "metadata": {},
   "outputs": [],
   "source": [
    "#store.initialize_library('history')\n",
    "lib = store['history']"
   ]
  },
  {
   "cell_type": "code",
   "execution_count": 49,
   "metadata": {},
   "outputs": [],
   "source": [
    "t = lib.read('test')"
   ]
  },
  {
   "cell_type": "code",
   "execution_count": 50,
   "metadata": {},
   "outputs": [
    {
     "data": {
      "text/plain": [
       "['EUR.USD_CASH', 'NQ', 'NQH0_CONTFUT', 'NQH0_FUT', 'edek', 'test']"
      ]
     },
     "execution_count": 50,
     "metadata": {},
     "output_type": "execute_result"
    }
   ],
   "source": [
    "lib.list_symbols()"
   ]
  },
  {
   "cell_type": "code",
   "execution_count": 24,
   "metadata": {},
   "outputs": [
    {
     "data": {
      "text/plain": [
       "[Forex('EURUSD', conId=12087792, exchange='IDEALPRO', localSymbol='EUR.USD', tradingClass='EUR.USD')]"
      ]
     },
     "execution_count": 24,
     "metadata": {},
     "output_type": "execute_result"
    }
   ],
   "source": [
    "edek = Forex('EURUSD',)\n",
    "ib.qualifyContracts(edek)"
   ]
  },
  {
   "cell_type": "code",
   "execution_count": 11,
   "metadata": {},
   "outputs": [],
   "source": [
    "bars = util.df(ib.reqHistoricalData(\n",
    "        edek,\n",
    "        endDateTime='',\n",
    "        durationStr='5 D',\n",
    "        barSizeSetting='1 hour',\n",
    "        whatToShow='MIDPOINT',\n",
    "        useRTH=True,\n",
    "        formatDate=1)).set_index('date')"
   ]
  },
  {
   "cell_type": "code",
   "execution_count": 12,
   "metadata": {},
   "outputs": [
    {
     "data": {
      "text/html": [
       "<div>\n",
       "<style scoped>\n",
       "    .dataframe tbody tr th:only-of-type {\n",
       "        vertical-align: middle;\n",
       "    }\n",
       "\n",
       "    .dataframe tbody tr th {\n",
       "        vertical-align: top;\n",
       "    }\n",
       "\n",
       "    .dataframe thead th {\n",
       "        text-align: right;\n",
       "    }\n",
       "</style>\n",
       "<table border=\"1\" class=\"dataframe\">\n",
       "  <thead>\n",
       "    <tr style=\"text-align: right;\">\n",
       "      <th></th>\n",
       "      <th>open</th>\n",
       "      <th>high</th>\n",
       "      <th>low</th>\n",
       "      <th>close</th>\n",
       "      <th>volume</th>\n",
       "      <th>average</th>\n",
       "      <th>barCount</th>\n",
       "    </tr>\n",
       "    <tr>\n",
       "      <th>date</th>\n",
       "      <th></th>\n",
       "      <th></th>\n",
       "      <th></th>\n",
       "      <th></th>\n",
       "      <th></th>\n",
       "      <th></th>\n",
       "      <th></th>\n",
       "    </tr>\n",
       "  </thead>\n",
       "  <tbody>\n",
       "    <tr>\n",
       "      <td>2020-03-11 22:15:00</td>\n",
       "      <td>1.126245</td>\n",
       "      <td>1.126465</td>\n",
       "      <td>1.125075</td>\n",
       "      <td>1.126095</td>\n",
       "      <td>-1</td>\n",
       "      <td>-1.0</td>\n",
       "      <td>-1</td>\n",
       "    </tr>\n",
       "    <tr>\n",
       "      <td>2020-03-11 23:00:00</td>\n",
       "      <td>1.126095</td>\n",
       "      <td>1.126670</td>\n",
       "      <td>1.125460</td>\n",
       "      <td>1.125895</td>\n",
       "      <td>-1</td>\n",
       "      <td>-1.0</td>\n",
       "      <td>-1</td>\n",
       "    </tr>\n",
       "    <tr>\n",
       "      <td>2020-03-12 00:00:00</td>\n",
       "      <td>1.125895</td>\n",
       "      <td>1.126345</td>\n",
       "      <td>1.125415</td>\n",
       "      <td>1.126160</td>\n",
       "      <td>-1</td>\n",
       "      <td>-1.0</td>\n",
       "      <td>-1</td>\n",
       "    </tr>\n",
       "    <tr>\n",
       "      <td>2020-03-12 01:00:00</td>\n",
       "      <td>1.126160</td>\n",
       "      <td>1.127635</td>\n",
       "      <td>1.125955</td>\n",
       "      <td>1.127155</td>\n",
       "      <td>-1</td>\n",
       "      <td>-1.0</td>\n",
       "      <td>-1</td>\n",
       "    </tr>\n",
       "    <tr>\n",
       "      <td>2020-03-12 02:00:00</td>\n",
       "      <td>1.127155</td>\n",
       "      <td>1.133380</td>\n",
       "      <td>1.126635</td>\n",
       "      <td>1.131935</td>\n",
       "      <td>-1</td>\n",
       "      <td>-1.0</td>\n",
       "      <td>-1</td>\n",
       "    </tr>\n",
       "    <tr>\n",
       "      <td>...</td>\n",
       "      <td>...</td>\n",
       "      <td>...</td>\n",
       "      <td>...</td>\n",
       "      <td>...</td>\n",
       "      <td>...</td>\n",
       "      <td>...</td>\n",
       "      <td>...</td>\n",
       "    </tr>\n",
       "    <tr>\n",
       "      <td>2020-03-18 09:00:00</td>\n",
       "      <td>1.096855</td>\n",
       "      <td>1.099350</td>\n",
       "      <td>1.095545</td>\n",
       "      <td>1.097265</td>\n",
       "      <td>-1</td>\n",
       "      <td>-1.0</td>\n",
       "      <td>-1</td>\n",
       "    </tr>\n",
       "    <tr>\n",
       "      <td>2020-03-18 10:00:00</td>\n",
       "      <td>1.097265</td>\n",
       "      <td>1.101680</td>\n",
       "      <td>1.097165</td>\n",
       "      <td>1.099555</td>\n",
       "      <td>-1</td>\n",
       "      <td>-1.0</td>\n",
       "      <td>-1</td>\n",
       "    </tr>\n",
       "    <tr>\n",
       "      <td>2020-03-18 11:00:00</td>\n",
       "      <td>1.099555</td>\n",
       "      <td>1.101795</td>\n",
       "      <td>1.099145</td>\n",
       "      <td>1.100025</td>\n",
       "      <td>-1</td>\n",
       "      <td>-1.0</td>\n",
       "      <td>-1</td>\n",
       "    </tr>\n",
       "    <tr>\n",
       "      <td>2020-03-18 12:00:00</td>\n",
       "      <td>1.100025</td>\n",
       "      <td>1.100555</td>\n",
       "      <td>1.096825</td>\n",
       "      <td>1.097730</td>\n",
       "      <td>-1</td>\n",
       "      <td>-1.0</td>\n",
       "      <td>-1</td>\n",
       "    </tr>\n",
       "    <tr>\n",
       "      <td>2020-03-18 13:00:00</td>\n",
       "      <td>1.097730</td>\n",
       "      <td>1.097940</td>\n",
       "      <td>1.097190</td>\n",
       "      <td>1.097500</td>\n",
       "      <td>-1</td>\n",
       "      <td>-1.0</td>\n",
       "      <td>-1</td>\n",
       "    </tr>\n",
       "  </tbody>\n",
       "</table>\n",
       "<p>112 rows × 7 columns</p>\n",
       "</div>"
      ],
      "text/plain": [
       "                         open      high       low     close  volume  average  \\\n",
       "date                                                                           \n",
       "2020-03-11 22:15:00  1.126245  1.126465  1.125075  1.126095      -1     -1.0   \n",
       "2020-03-11 23:00:00  1.126095  1.126670  1.125460  1.125895      -1     -1.0   \n",
       "2020-03-12 00:00:00  1.125895  1.126345  1.125415  1.126160      -1     -1.0   \n",
       "2020-03-12 01:00:00  1.126160  1.127635  1.125955  1.127155      -1     -1.0   \n",
       "2020-03-12 02:00:00  1.127155  1.133380  1.126635  1.131935      -1     -1.0   \n",
       "...                       ...       ...       ...       ...     ...      ...   \n",
       "2020-03-18 09:00:00  1.096855  1.099350  1.095545  1.097265      -1     -1.0   \n",
       "2020-03-18 10:00:00  1.097265  1.101680  1.097165  1.099555      -1     -1.0   \n",
       "2020-03-18 11:00:00  1.099555  1.101795  1.099145  1.100025      -1     -1.0   \n",
       "2020-03-18 12:00:00  1.100025  1.100555  1.096825  1.097730      -1     -1.0   \n",
       "2020-03-18 13:00:00  1.097730  1.097940  1.097190  1.097500      -1     -1.0   \n",
       "\n",
       "                     barCount  \n",
       "date                           \n",
       "2020-03-11 22:15:00        -1  \n",
       "2020-03-11 23:00:00        -1  \n",
       "2020-03-12 00:00:00        -1  \n",
       "2020-03-12 01:00:00        -1  \n",
       "2020-03-12 02:00:00        -1  \n",
       "...                       ...  \n",
       "2020-03-18 09:00:00        -1  \n",
       "2020-03-18 10:00:00        -1  \n",
       "2020-03-18 11:00:00        -1  \n",
       "2020-03-18 12:00:00        -1  \n",
       "2020-03-18 13:00:00        -1  \n",
       "\n",
       "[112 rows x 7 columns]"
      ]
     },
     "execution_count": 12,
     "metadata": {},
     "output_type": "execute_result"
    }
   ],
   "source": [
    "bars"
   ]
  },
  {
   "cell_type": "code",
   "execution_count": 42,
   "metadata": {},
   "outputs": [
    {
     "name": "stdout",
     "output_type": "stream",
     "text": [
      "2020-03-17 22:15:00\n"
     ]
    },
    {
     "ename": "Exception",
     "evalue": "Append not implemented for handler <arctic.store._pickle_store.PickleStore object at 0x7fc2a6a28160>",
     "output_type": "error",
     "traceback": [
      "\u001b[0;31m---------------------------------------------------------------------------\u001b[0m",
      "\u001b[0;31mException\u001b[0m                                 Traceback (most recent call last)",
      "\u001b[0;32m<ipython-input-42-b10a21943292>\u001b[0m in \u001b[0;36m<module>\u001b[0;34m\u001b[0m\n\u001b[1;32m     13\u001b[0m     \u001b[0;32mif\u001b[0m \u001b[0;32mnot\u001b[0m \u001b[0mbars\u001b[0m\u001b[0;34m:\u001b[0m\u001b[0;34m\u001b[0m\u001b[0;34m\u001b[0m\u001b[0m\n\u001b[1;32m     14\u001b[0m         \u001b[0;32mbreak\u001b[0m\u001b[0;34m\u001b[0m\u001b[0;34m\u001b[0m\u001b[0m\n\u001b[0;32m---> 15\u001b[0;31m     \u001b[0mlib\u001b[0m\u001b[0;34m.\u001b[0m\u001b[0mappend\u001b[0m\u001b[0;34m(\u001b[0m\u001b[0;34m'edek'\u001b[0m\u001b[0;34m,\u001b[0m \u001b[0mbars\u001b[0m\u001b[0;34m)\u001b[0m\u001b[0;34m\u001b[0m\u001b[0;34m\u001b[0m\u001b[0m\n\u001b[0m\u001b[1;32m     16\u001b[0m     \u001b[0mdt\u001b[0m \u001b[0;34m=\u001b[0m \u001b[0mbars\u001b[0m\u001b[0;34m[\u001b[0m\u001b[0;36m0\u001b[0m\u001b[0;34m]\u001b[0m\u001b[0;34m.\u001b[0m\u001b[0mdate\u001b[0m\u001b[0;34m\u001b[0m\u001b[0;34m\u001b[0m\u001b[0m\n\u001b[1;32m     17\u001b[0m     \u001b[0mprint\u001b[0m\u001b[0;34m(\u001b[0m\u001b[0mdt\u001b[0m\u001b[0;34m)\u001b[0m\u001b[0;34m\u001b[0m\u001b[0;34m\u001b[0m\u001b[0m\n",
      "\u001b[0;32m~/.virtualenvs/ib/lib/python3.7/site-packages/arctic/decorators.py\u001b[0m in \u001b[0;36mf_retry\u001b[0;34m(*args, **kwargs)\u001b[0m\n\u001b[1;32m     47\u001b[0m             \u001b[0;32mwhile\u001b[0m \u001b[0;32mTrue\u001b[0m\u001b[0;34m:\u001b[0m\u001b[0;34m\u001b[0m\u001b[0;34m\u001b[0m\u001b[0m\n\u001b[1;32m     48\u001b[0m                 \u001b[0;32mtry\u001b[0m\u001b[0;34m:\u001b[0m\u001b[0;34m\u001b[0m\u001b[0;34m\u001b[0m\u001b[0m\n\u001b[0;32m---> 49\u001b[0;31m                     \u001b[0;32mreturn\u001b[0m \u001b[0mf\u001b[0m\u001b[0;34m(\u001b[0m\u001b[0;34m*\u001b[0m\u001b[0margs\u001b[0m\u001b[0;34m,\u001b[0m \u001b[0;34m**\u001b[0m\u001b[0mkwargs\u001b[0m\u001b[0;34m)\u001b[0m\u001b[0;34m\u001b[0m\u001b[0;34m\u001b[0m\u001b[0m\n\u001b[0m\u001b[1;32m     50\u001b[0m                 \u001b[0;32mexcept\u001b[0m \u001b[0;34m(\u001b[0m\u001b[0mDuplicateKeyError\u001b[0m\u001b[0;34m,\u001b[0m \u001b[0mServerSelectionTimeoutError\u001b[0m\u001b[0;34m)\u001b[0m \u001b[0;32mas\u001b[0m \u001b[0me\u001b[0m\u001b[0;34m:\u001b[0m\u001b[0;34m\u001b[0m\u001b[0;34m\u001b[0m\u001b[0m\n\u001b[1;32m     51\u001b[0m                     \u001b[0;31m# Re-raise errors that won't go away.\u001b[0m\u001b[0;34m\u001b[0m\u001b[0;34m\u001b[0m\u001b[0;34m\u001b[0m\u001b[0m\n",
      "\u001b[0;32m~/.virtualenvs/ib/lib/python3.7/site-packages/arctic/store/version_store.py\u001b[0m in \u001b[0;36mappend\u001b[0;34m(self, symbol, data, metadata, prune_previous_version, upsert, **kwargs)\u001b[0m\n\u001b[1;32m    603\u001b[0m                            previous_version, dirty_append=dirty_append, **kwargs)\n\u001b[1;32m    604\u001b[0m         \u001b[0;32melse\u001b[0m\u001b[0;34m:\u001b[0m\u001b[0;34m\u001b[0m\u001b[0;34m\u001b[0m\u001b[0m\n\u001b[0;32m--> 605\u001b[0;31m             \u001b[0;32mraise\u001b[0m \u001b[0mException\u001b[0m\u001b[0;34m(\u001b[0m\u001b[0;34m\"Append not implemented for handler %s\"\u001b[0m \u001b[0;34m%\u001b[0m \u001b[0mhandler\u001b[0m\u001b[0;34m)\u001b[0m\u001b[0;34m\u001b[0m\u001b[0;34m\u001b[0m\u001b[0m\n\u001b[0m\u001b[1;32m    606\u001b[0m \u001b[0;34m\u001b[0m\u001b[0m\n\u001b[1;32m    607\u001b[0m         \u001b[0;32mif\u001b[0m \u001b[0mprune_previous_version\u001b[0m \u001b[0;32mand\u001b[0m \u001b[0mprevious_version\u001b[0m\u001b[0;34m:\u001b[0m\u001b[0;34m\u001b[0m\u001b[0;34m\u001b[0m\u001b[0m\n",
      "\u001b[0;31mException\u001b[0m: Append not implemented for handler <arctic.store._pickle_store.PickleStore object at 0x7fc2a6a28160>"
     ]
    },
    {
     "name": "stderr",
     "output_type": "stream",
     "text": [
      "Peer closed connection\n",
      "Peer closed connection\n"
     ]
    }
   ],
   "source": [
    "dt = ''\n",
    "barsList = []\n",
    "i = 2\n",
    "while i>0:\n",
    "    bars = ib.reqHistoricalData(\n",
    "        edek,\n",
    "        endDateTime=dt,\n",
    "        durationStr='1 D',\n",
    "        barSizeSetting='1 hour',\n",
    "        whatToShow='MIDPOINT',\n",
    "        useRTH=True,\n",
    "        formatDate=1)\n",
    "    if not bars:\n",
    "        break\n",
    "    lib.append('edek', bars)\n",
    "    dt = bars[0].date\n",
    "    print(dt)\n",
    "    i -= 1"
   ]
  },
  {
   "cell_type": "code",
   "execution_count": 39,
   "metadata": {},
   "outputs": [],
   "source": [
    "d=lib.read('edek').data"
   ]
  },
  {
   "cell_type": "code",
   "execution_count": 40,
   "metadata": {},
   "outputs": [
    {
     "data": {
      "text/html": [
       "<div>\n",
       "<style scoped>\n",
       "    .dataframe tbody tr th:only-of-type {\n",
       "        vertical-align: middle;\n",
       "    }\n",
       "\n",
       "    .dataframe tbody tr th {\n",
       "        vertical-align: top;\n",
       "    }\n",
       "\n",
       "    .dataframe thead th {\n",
       "        text-align: right;\n",
       "    }\n",
       "</style>\n",
       "<table border=\"1\" class=\"dataframe\">\n",
       "  <thead>\n",
       "    <tr style=\"text-align: right;\">\n",
       "      <th></th>\n",
       "      <th>open</th>\n",
       "      <th>high</th>\n",
       "      <th>low</th>\n",
       "      <th>close</th>\n",
       "      <th>volume</th>\n",
       "      <th>average</th>\n",
       "      <th>barCount</th>\n",
       "    </tr>\n",
       "    <tr>\n",
       "      <th>date</th>\n",
       "      <th></th>\n",
       "      <th></th>\n",
       "      <th></th>\n",
       "      <th></th>\n",
       "      <th></th>\n",
       "      <th></th>\n",
       "      <th></th>\n",
       "    </tr>\n",
       "  </thead>\n",
       "  <tbody>\n",
       "    <tr>\n",
       "      <td>2020-03-17 22:15:00</td>\n",
       "      <td>1.099650</td>\n",
       "      <td>1.101170</td>\n",
       "      <td>1.097225</td>\n",
       "      <td>1.100785</td>\n",
       "      <td>-1</td>\n",
       "      <td>-1.0</td>\n",
       "      <td>-1</td>\n",
       "    </tr>\n",
       "    <tr>\n",
       "      <td>2020-03-17 23:00:00</td>\n",
       "      <td>1.100790</td>\n",
       "      <td>1.102320</td>\n",
       "      <td>1.100750</td>\n",
       "      <td>1.101570</td>\n",
       "      <td>-1</td>\n",
       "      <td>-1.0</td>\n",
       "      <td>-1</td>\n",
       "    </tr>\n",
       "    <tr>\n",
       "      <td>2020-03-18 00:00:00</td>\n",
       "      <td>1.101570</td>\n",
       "      <td>1.102275</td>\n",
       "      <td>1.101100</td>\n",
       "      <td>1.101655</td>\n",
       "      <td>-1</td>\n",
       "      <td>-1.0</td>\n",
       "      <td>-1</td>\n",
       "    </tr>\n",
       "    <tr>\n",
       "      <td>2020-03-18 01:00:00</td>\n",
       "      <td>1.101655</td>\n",
       "      <td>1.101720</td>\n",
       "      <td>1.099110</td>\n",
       "      <td>1.099255</td>\n",
       "      <td>-1</td>\n",
       "      <td>-1.0</td>\n",
       "      <td>-1</td>\n",
       "    </tr>\n",
       "    <tr>\n",
       "      <td>2020-03-18 02:00:00</td>\n",
       "      <td>1.099255</td>\n",
       "      <td>1.100895</td>\n",
       "      <td>1.098505</td>\n",
       "      <td>1.100070</td>\n",
       "      <td>-1</td>\n",
       "      <td>-1.0</td>\n",
       "      <td>-1</td>\n",
       "    </tr>\n",
       "    <tr>\n",
       "      <td>2020-03-18 03:00:00</td>\n",
       "      <td>1.100070</td>\n",
       "      <td>1.101965</td>\n",
       "      <td>1.099920</td>\n",
       "      <td>1.101115</td>\n",
       "      <td>-1</td>\n",
       "      <td>-1.0</td>\n",
       "      <td>-1</td>\n",
       "    </tr>\n",
       "    <tr>\n",
       "      <td>2020-03-18 04:00:00</td>\n",
       "      <td>1.101115</td>\n",
       "      <td>1.102835</td>\n",
       "      <td>1.101085</td>\n",
       "      <td>1.102745</td>\n",
       "      <td>-1</td>\n",
       "      <td>-1.0</td>\n",
       "      <td>-1</td>\n",
       "    </tr>\n",
       "    <tr>\n",
       "      <td>2020-03-18 05:00:00</td>\n",
       "      <td>1.102745</td>\n",
       "      <td>1.103325</td>\n",
       "      <td>1.102490</td>\n",
       "      <td>1.103075</td>\n",
       "      <td>-1</td>\n",
       "      <td>-1.0</td>\n",
       "      <td>-1</td>\n",
       "    </tr>\n",
       "    <tr>\n",
       "      <td>2020-03-18 06:00:00</td>\n",
       "      <td>1.103075</td>\n",
       "      <td>1.104510</td>\n",
       "      <td>1.103060</td>\n",
       "      <td>1.103925</td>\n",
       "      <td>-1</td>\n",
       "      <td>-1.0</td>\n",
       "      <td>-1</td>\n",
       "    </tr>\n",
       "    <tr>\n",
       "      <td>2020-03-18 07:00:00</td>\n",
       "      <td>1.103925</td>\n",
       "      <td>1.103945</td>\n",
       "      <td>1.100280</td>\n",
       "      <td>1.100355</td>\n",
       "      <td>-1</td>\n",
       "      <td>-1.0</td>\n",
       "      <td>-1</td>\n",
       "    </tr>\n",
       "    <tr>\n",
       "      <td>2020-03-18 08:00:00</td>\n",
       "      <td>1.100355</td>\n",
       "      <td>1.101860</td>\n",
       "      <td>1.096635</td>\n",
       "      <td>1.096855</td>\n",
       "      <td>-1</td>\n",
       "      <td>-1.0</td>\n",
       "      <td>-1</td>\n",
       "    </tr>\n",
       "    <tr>\n",
       "      <td>2020-03-18 09:00:00</td>\n",
       "      <td>1.096855</td>\n",
       "      <td>1.099350</td>\n",
       "      <td>1.095545</td>\n",
       "      <td>1.097265</td>\n",
       "      <td>-1</td>\n",
       "      <td>-1.0</td>\n",
       "      <td>-1</td>\n",
       "    </tr>\n",
       "    <tr>\n",
       "      <td>2020-03-18 10:00:00</td>\n",
       "      <td>1.097265</td>\n",
       "      <td>1.101680</td>\n",
       "      <td>1.097165</td>\n",
       "      <td>1.099555</td>\n",
       "      <td>-1</td>\n",
       "      <td>-1.0</td>\n",
       "      <td>-1</td>\n",
       "    </tr>\n",
       "    <tr>\n",
       "      <td>2020-03-18 11:00:00</td>\n",
       "      <td>1.099555</td>\n",
       "      <td>1.101795</td>\n",
       "      <td>1.099145</td>\n",
       "      <td>1.100025</td>\n",
       "      <td>-1</td>\n",
       "      <td>-1.0</td>\n",
       "      <td>-1</td>\n",
       "    </tr>\n",
       "    <tr>\n",
       "      <td>2020-03-18 12:00:00</td>\n",
       "      <td>1.100025</td>\n",
       "      <td>1.100555</td>\n",
       "      <td>1.096825</td>\n",
       "      <td>1.097730</td>\n",
       "      <td>-1</td>\n",
       "      <td>-1.0</td>\n",
       "      <td>-1</td>\n",
       "    </tr>\n",
       "    <tr>\n",
       "      <td>2020-03-18 13:00:00</td>\n",
       "      <td>1.097730</td>\n",
       "      <td>1.097940</td>\n",
       "      <td>1.096780</td>\n",
       "      <td>1.097230</td>\n",
       "      <td>-1</td>\n",
       "      <td>-1.0</td>\n",
       "      <td>-1</td>\n",
       "    </tr>\n",
       "    <tr>\n",
       "      <td>2020-03-16 22:15:00</td>\n",
       "      <td>1.118000</td>\n",
       "      <td>1.118290</td>\n",
       "      <td>1.115940</td>\n",
       "      <td>1.118050</td>\n",
       "      <td>-1</td>\n",
       "      <td>-1.0</td>\n",
       "      <td>-1</td>\n",
       "    </tr>\n",
       "    <tr>\n",
       "      <td>2020-03-16 23:00:00</td>\n",
       "      <td>1.118050</td>\n",
       "      <td>1.118100</td>\n",
       "      <td>1.116535</td>\n",
       "      <td>1.116815</td>\n",
       "      <td>-1</td>\n",
       "      <td>-1.0</td>\n",
       "      <td>-1</td>\n",
       "    </tr>\n",
       "    <tr>\n",
       "      <td>2020-03-17 00:00:00</td>\n",
       "      <td>1.116815</td>\n",
       "      <td>1.117615</td>\n",
       "      <td>1.115830</td>\n",
       "      <td>1.116390</td>\n",
       "      <td>-1</td>\n",
       "      <td>-1.0</td>\n",
       "      <td>-1</td>\n",
       "    </tr>\n",
       "    <tr>\n",
       "      <td>2020-03-17 01:00:00</td>\n",
       "      <td>1.116390</td>\n",
       "      <td>1.117265</td>\n",
       "      <td>1.115980</td>\n",
       "      <td>1.117140</td>\n",
       "      <td>-1</td>\n",
       "      <td>-1.0</td>\n",
       "      <td>-1</td>\n",
       "    </tr>\n",
       "    <tr>\n",
       "      <td>2020-03-17 02:00:00</td>\n",
       "      <td>1.117140</td>\n",
       "      <td>1.117350</td>\n",
       "      <td>1.116025</td>\n",
       "      <td>1.116950</td>\n",
       "      <td>-1</td>\n",
       "      <td>-1.0</td>\n",
       "      <td>-1</td>\n",
       "    </tr>\n",
       "    <tr>\n",
       "      <td>2020-03-17 03:00:00</td>\n",
       "      <td>1.116950</td>\n",
       "      <td>1.118935</td>\n",
       "      <td>1.116565</td>\n",
       "      <td>1.117405</td>\n",
       "      <td>-1</td>\n",
       "      <td>-1.0</td>\n",
       "      <td>-1</td>\n",
       "    </tr>\n",
       "    <tr>\n",
       "      <td>2020-03-17 04:00:00</td>\n",
       "      <td>1.117405</td>\n",
       "      <td>1.118615</td>\n",
       "      <td>1.116875</td>\n",
       "      <td>1.117935</td>\n",
       "      <td>-1</td>\n",
       "      <td>-1.0</td>\n",
       "      <td>-1</td>\n",
       "    </tr>\n",
       "    <tr>\n",
       "      <td>2020-03-17 05:00:00</td>\n",
       "      <td>1.117935</td>\n",
       "      <td>1.118560</td>\n",
       "      <td>1.117585</td>\n",
       "      <td>1.117930</td>\n",
       "      <td>-1</td>\n",
       "      <td>-1.0</td>\n",
       "      <td>-1</td>\n",
       "    </tr>\n",
       "    <tr>\n",
       "      <td>2020-03-17 06:00:00</td>\n",
       "      <td>1.117930</td>\n",
       "      <td>1.118130</td>\n",
       "      <td>1.116820</td>\n",
       "      <td>1.116875</td>\n",
       "      <td>-1</td>\n",
       "      <td>-1.0</td>\n",
       "      <td>-1</td>\n",
       "    </tr>\n",
       "    <tr>\n",
       "      <td>2020-03-17 07:00:00</td>\n",
       "      <td>1.116875</td>\n",
       "      <td>1.117445</td>\n",
       "      <td>1.115740</td>\n",
       "      <td>1.116055</td>\n",
       "      <td>-1</td>\n",
       "      <td>-1.0</td>\n",
       "      <td>-1</td>\n",
       "    </tr>\n",
       "    <tr>\n",
       "      <td>2020-03-17 08:00:00</td>\n",
       "      <td>1.116055</td>\n",
       "      <td>1.116190</td>\n",
       "      <td>1.112915</td>\n",
       "      <td>1.113785</td>\n",
       "      <td>-1</td>\n",
       "      <td>-1.0</td>\n",
       "      <td>-1</td>\n",
       "    </tr>\n",
       "    <tr>\n",
       "      <td>2020-03-17 09:00:00</td>\n",
       "      <td>1.113785</td>\n",
       "      <td>1.114550</td>\n",
       "      <td>1.111040</td>\n",
       "      <td>1.111105</td>\n",
       "      <td>-1</td>\n",
       "      <td>-1.0</td>\n",
       "      <td>-1</td>\n",
       "    </tr>\n",
       "    <tr>\n",
       "      <td>2020-03-17 10:00:00</td>\n",
       "      <td>1.111105</td>\n",
       "      <td>1.111930</td>\n",
       "      <td>1.109255</td>\n",
       "      <td>1.109395</td>\n",
       "      <td>-1</td>\n",
       "      <td>-1.0</td>\n",
       "      <td>-1</td>\n",
       "    </tr>\n",
       "    <tr>\n",
       "      <td>2020-03-17 11:00:00</td>\n",
       "      <td>1.109395</td>\n",
       "      <td>1.109500</td>\n",
       "      <td>1.102535</td>\n",
       "      <td>1.102825</td>\n",
       "      <td>-1</td>\n",
       "      <td>-1.0</td>\n",
       "      <td>-1</td>\n",
       "    </tr>\n",
       "    <tr>\n",
       "      <td>2020-03-17 12:00:00</td>\n",
       "      <td>1.102825</td>\n",
       "      <td>1.103925</td>\n",
       "      <td>1.100025</td>\n",
       "      <td>1.101295</td>\n",
       "      <td>-1</td>\n",
       "      <td>-1.0</td>\n",
       "      <td>-1</td>\n",
       "    </tr>\n",
       "    <tr>\n",
       "      <td>2020-03-17 13:00:00</td>\n",
       "      <td>1.101295</td>\n",
       "      <td>1.101800</td>\n",
       "      <td>1.097305</td>\n",
       "      <td>1.098870</td>\n",
       "      <td>-1</td>\n",
       "      <td>-1.0</td>\n",
       "      <td>-1</td>\n",
       "    </tr>\n",
       "    <tr>\n",
       "      <td>2020-03-17 14:00:00</td>\n",
       "      <td>1.098870</td>\n",
       "      <td>1.101095</td>\n",
       "      <td>1.097660</td>\n",
       "      <td>1.099495</td>\n",
       "      <td>-1</td>\n",
       "      <td>-1.0</td>\n",
       "      <td>-1</td>\n",
       "    </tr>\n",
       "    <tr>\n",
       "      <td>2020-03-17 15:00:00</td>\n",
       "      <td>1.099495</td>\n",
       "      <td>1.101515</td>\n",
       "      <td>1.095500</td>\n",
       "      <td>1.097090</td>\n",
       "      <td>-1</td>\n",
       "      <td>-1.0</td>\n",
       "      <td>-1</td>\n",
       "    </tr>\n",
       "    <tr>\n",
       "      <td>2020-03-17 16:00:00</td>\n",
       "      <td>1.097090</td>\n",
       "      <td>1.099215</td>\n",
       "      <td>1.095815</td>\n",
       "      <td>1.097130</td>\n",
       "      <td>-1</td>\n",
       "      <td>-1.0</td>\n",
       "      <td>-1</td>\n",
       "    </tr>\n",
       "    <tr>\n",
       "      <td>2020-03-17 17:00:00</td>\n",
       "      <td>1.097130</td>\n",
       "      <td>1.099935</td>\n",
       "      <td>1.096375</td>\n",
       "      <td>1.096650</td>\n",
       "      <td>-1</td>\n",
       "      <td>-1.0</td>\n",
       "      <td>-1</td>\n",
       "    </tr>\n",
       "    <tr>\n",
       "      <td>2020-03-17 18:00:00</td>\n",
       "      <td>1.096650</td>\n",
       "      <td>1.098945</td>\n",
       "      <td>1.095865</td>\n",
       "      <td>1.098855</td>\n",
       "      <td>-1</td>\n",
       "      <td>-1.0</td>\n",
       "      <td>-1</td>\n",
       "    </tr>\n",
       "    <tr>\n",
       "      <td>2020-03-17 19:00:00</td>\n",
       "      <td>1.098855</td>\n",
       "      <td>1.102090</td>\n",
       "      <td>1.098030</td>\n",
       "      <td>1.100045</td>\n",
       "      <td>-1</td>\n",
       "      <td>-1.0</td>\n",
       "      <td>-1</td>\n",
       "    </tr>\n",
       "    <tr>\n",
       "      <td>2020-03-17 20:00:00</td>\n",
       "      <td>1.100045</td>\n",
       "      <td>1.101260</td>\n",
       "      <td>1.098350</td>\n",
       "      <td>1.100175</td>\n",
       "      <td>-1</td>\n",
       "      <td>-1.0</td>\n",
       "      <td>-1</td>\n",
       "    </tr>\n",
       "    <tr>\n",
       "      <td>2020-03-17 21:00:00</td>\n",
       "      <td>1.100175</td>\n",
       "      <td>1.101110</td>\n",
       "      <td>1.098885</td>\n",
       "      <td>1.099795</td>\n",
       "      <td>-1</td>\n",
       "      <td>-1.0</td>\n",
       "      <td>-1</td>\n",
       "    </tr>\n",
       "  </tbody>\n",
       "</table>\n",
       "</div>"
      ],
      "text/plain": [
       "                         open      high       low     close  volume  average  \\\n",
       "date                                                                           \n",
       "2020-03-17 22:15:00  1.099650  1.101170  1.097225  1.100785      -1     -1.0   \n",
       "2020-03-17 23:00:00  1.100790  1.102320  1.100750  1.101570      -1     -1.0   \n",
       "2020-03-18 00:00:00  1.101570  1.102275  1.101100  1.101655      -1     -1.0   \n",
       "2020-03-18 01:00:00  1.101655  1.101720  1.099110  1.099255      -1     -1.0   \n",
       "2020-03-18 02:00:00  1.099255  1.100895  1.098505  1.100070      -1     -1.0   \n",
       "2020-03-18 03:00:00  1.100070  1.101965  1.099920  1.101115      -1     -1.0   \n",
       "2020-03-18 04:00:00  1.101115  1.102835  1.101085  1.102745      -1     -1.0   \n",
       "2020-03-18 05:00:00  1.102745  1.103325  1.102490  1.103075      -1     -1.0   \n",
       "2020-03-18 06:00:00  1.103075  1.104510  1.103060  1.103925      -1     -1.0   \n",
       "2020-03-18 07:00:00  1.103925  1.103945  1.100280  1.100355      -1     -1.0   \n",
       "2020-03-18 08:00:00  1.100355  1.101860  1.096635  1.096855      -1     -1.0   \n",
       "2020-03-18 09:00:00  1.096855  1.099350  1.095545  1.097265      -1     -1.0   \n",
       "2020-03-18 10:00:00  1.097265  1.101680  1.097165  1.099555      -1     -1.0   \n",
       "2020-03-18 11:00:00  1.099555  1.101795  1.099145  1.100025      -1     -1.0   \n",
       "2020-03-18 12:00:00  1.100025  1.100555  1.096825  1.097730      -1     -1.0   \n",
       "2020-03-18 13:00:00  1.097730  1.097940  1.096780  1.097230      -1     -1.0   \n",
       "2020-03-16 22:15:00  1.118000  1.118290  1.115940  1.118050      -1     -1.0   \n",
       "2020-03-16 23:00:00  1.118050  1.118100  1.116535  1.116815      -1     -1.0   \n",
       "2020-03-17 00:00:00  1.116815  1.117615  1.115830  1.116390      -1     -1.0   \n",
       "2020-03-17 01:00:00  1.116390  1.117265  1.115980  1.117140      -1     -1.0   \n",
       "2020-03-17 02:00:00  1.117140  1.117350  1.116025  1.116950      -1     -1.0   \n",
       "2020-03-17 03:00:00  1.116950  1.118935  1.116565  1.117405      -1     -1.0   \n",
       "2020-03-17 04:00:00  1.117405  1.118615  1.116875  1.117935      -1     -1.0   \n",
       "2020-03-17 05:00:00  1.117935  1.118560  1.117585  1.117930      -1     -1.0   \n",
       "2020-03-17 06:00:00  1.117930  1.118130  1.116820  1.116875      -1     -1.0   \n",
       "2020-03-17 07:00:00  1.116875  1.117445  1.115740  1.116055      -1     -1.0   \n",
       "2020-03-17 08:00:00  1.116055  1.116190  1.112915  1.113785      -1     -1.0   \n",
       "2020-03-17 09:00:00  1.113785  1.114550  1.111040  1.111105      -1     -1.0   \n",
       "2020-03-17 10:00:00  1.111105  1.111930  1.109255  1.109395      -1     -1.0   \n",
       "2020-03-17 11:00:00  1.109395  1.109500  1.102535  1.102825      -1     -1.0   \n",
       "2020-03-17 12:00:00  1.102825  1.103925  1.100025  1.101295      -1     -1.0   \n",
       "2020-03-17 13:00:00  1.101295  1.101800  1.097305  1.098870      -1     -1.0   \n",
       "2020-03-17 14:00:00  1.098870  1.101095  1.097660  1.099495      -1     -1.0   \n",
       "2020-03-17 15:00:00  1.099495  1.101515  1.095500  1.097090      -1     -1.0   \n",
       "2020-03-17 16:00:00  1.097090  1.099215  1.095815  1.097130      -1     -1.0   \n",
       "2020-03-17 17:00:00  1.097130  1.099935  1.096375  1.096650      -1     -1.0   \n",
       "2020-03-17 18:00:00  1.096650  1.098945  1.095865  1.098855      -1     -1.0   \n",
       "2020-03-17 19:00:00  1.098855  1.102090  1.098030  1.100045      -1     -1.0   \n",
       "2020-03-17 20:00:00  1.100045  1.101260  1.098350  1.100175      -1     -1.0   \n",
       "2020-03-17 21:00:00  1.100175  1.101110  1.098885  1.099795      -1     -1.0   \n",
       "\n",
       "                     barCount  \n",
       "date                           \n",
       "2020-03-17 22:15:00        -1  \n",
       "2020-03-17 23:00:00        -1  \n",
       "2020-03-18 00:00:00        -1  \n",
       "2020-03-18 01:00:00        -1  \n",
       "2020-03-18 02:00:00        -1  \n",
       "2020-03-18 03:00:00        -1  \n",
       "2020-03-18 04:00:00        -1  \n",
       "2020-03-18 05:00:00        -1  \n",
       "2020-03-18 06:00:00        -1  \n",
       "2020-03-18 07:00:00        -1  \n",
       "2020-03-18 08:00:00        -1  \n",
       "2020-03-18 09:00:00        -1  \n",
       "2020-03-18 10:00:00        -1  \n",
       "2020-03-18 11:00:00        -1  \n",
       "2020-03-18 12:00:00        -1  \n",
       "2020-03-18 13:00:00        -1  \n",
       "2020-03-16 22:15:00        -1  \n",
       "2020-03-16 23:00:00        -1  \n",
       "2020-03-17 00:00:00        -1  \n",
       "2020-03-17 01:00:00        -1  \n",
       "2020-03-17 02:00:00        -1  \n",
       "2020-03-17 03:00:00        -1  \n",
       "2020-03-17 04:00:00        -1  \n",
       "2020-03-17 05:00:00        -1  \n",
       "2020-03-17 06:00:00        -1  \n",
       "2020-03-17 07:00:00        -1  \n",
       "2020-03-17 08:00:00        -1  \n",
       "2020-03-17 09:00:00        -1  \n",
       "2020-03-17 10:00:00        -1  \n",
       "2020-03-17 11:00:00        -1  \n",
       "2020-03-17 12:00:00        -1  \n",
       "2020-03-17 13:00:00        -1  \n",
       "2020-03-17 14:00:00        -1  \n",
       "2020-03-17 15:00:00        -1  \n",
       "2020-03-17 16:00:00        -1  \n",
       "2020-03-17 17:00:00        -1  \n",
       "2020-03-17 18:00:00        -1  \n",
       "2020-03-17 19:00:00        -1  \n",
       "2020-03-17 20:00:00        -1  \n",
       "2020-03-17 21:00:00        -1  "
      ]
     },
     "execution_count": 40,
     "metadata": {},
     "output_type": "execute_result"
    }
   ],
   "source": [
    "d.head(50)"
   ]
  },
  {
   "cell_type": "code",
   "execution_count": 41,
   "metadata": {},
   "outputs": [],
   "source": [
    "lib.delete('edek')"
   ]
  },
  {
   "cell_type": "code",
   "execution_count": 37,
   "metadata": {},
   "outputs": [
    {
     "data": {
      "text/plain": [
       "['EUR.USD_CASH', 'NQ', 'NQH0_CONTFUT', 'NQH0_FUT', 'test']"
      ]
     },
     "execution_count": 37,
     "metadata": {},
     "output_type": "execute_result"
    }
   ],
   "source": [
    "lib.list_symbols()"
   ]
  },
  {
   "cell_type": "code",
   "execution_count": null,
   "metadata": {},
   "outputs": [],
   "source": [
    "data = pd.read_pickle('/home/tomek/ib_tools/notebooks/data/minute_NQ_cont_non_active_included.pickle')\n",
    "data"
   ]
  },
  {
   "cell_type": "code",
   "execution_count": null,
   "metadata": {},
   "outputs": [],
   "source": [
    "data1 = data.iloc[100000:-50000]\n",
    "data1"
   ]
  },
  {
   "cell_type": "code",
   "execution_count": null,
   "metadata": {},
   "outputs": [],
   "source": [
    "def symbol_maker(obj: Union[ContFuture, Future]) -> str:\n",
    "    return f'{obj.localSymbol}_{obj.secType}'"
   ]
  },
  {
   "cell_type": "code",
   "execution_count": null,
   "metadata": {},
   "outputs": [],
   "source": [
    "def writer(obj: Union[ContFuture, Future], data: pd.DataFrame) -> str:\n",
    "    return lib.write(symbol_maker(obj), data, metadata={**obj.nonDefaults(), **{'repr': repr(obj), 'secType': obj.secType}})"
   ]
  },
  {
   "cell_type": "code",
   "execution_count": null,
   "metadata": {},
   "outputs": [],
   "source": [
    "lib.write('test', data, metadata={'object': nq_pickle})"
   ]
  },
  {
   "cell_type": "code",
   "execution_count": null,
   "metadata": {},
   "outputs": [],
   "source": [
    "t = lib.read('test')"
   ]
  },
  {
   "cell_type": "code",
   "execution_count": null,
   "metadata": {},
   "outputs": [],
   "source": [
    "pickle.loads(t.metadata['object'])"
   ]
  },
  {
   "cell_type": "code",
   "execution_count": null,
   "metadata": {},
   "outputs": [],
   "source": [
    "writer(edek, bars)"
   ]
  },
  {
   "cell_type": "code",
   "execution_count": null,
   "metadata": {},
   "outputs": [],
   "source": [
    "lib.list_symbols()"
   ]
  },
  {
   "cell_type": "code",
   "execution_count": null,
   "metadata": {},
   "outputs": [],
   "source": [
    "writer(nq, data)"
   ]
  },
  {
   "cell_type": "code",
   "execution_count": null,
   "metadata": {},
   "outputs": [],
   "source": [
    "lib.list_symbols()"
   ]
  },
  {
   "cell_type": "code",
   "execution_count": null,
   "metadata": {},
   "outputs": [],
   "source": [
    "e = lib.read('EUR.USD_CASH')\n",
    "e.metadata"
   ]
  },
  {
   "cell_type": "code",
   "execution_count": null,
   "metadata": {},
   "outputs": [],
   "source": [
    "e.data"
   ]
  },
  {
   "cell_type": "code",
   "execution_count": null,
   "metadata": {},
   "outputs": [],
   "source": [
    "lib.read('EUR.USD_CASH', date_range=DateRange('20200301','20200310')).data"
   ]
  },
  {
   "cell_type": "code",
   "execution_count": null,
   "metadata": {},
   "outputs": [],
   "source": [
    "item = lib.read('NQ')"
   ]
  },
  {
   "cell_type": "code",
   "execution_count": null,
   "metadata": {},
   "outputs": [],
   "source": [
    "item.version"
   ]
  },
  {
   "cell_type": "code",
   "execution_count": null,
   "metadata": {},
   "outputs": [],
   "source": [
    "item_1 = lib.read(symbol_maker(nq_1))"
   ]
  },
  {
   "cell_type": "code",
   "execution_count": null,
   "metadata": {},
   "outputs": [],
   "source": [
    "item_1"
   ]
  },
  {
   "cell_type": "code",
   "execution_count": null,
   "metadata": {},
   "outputs": [],
   "source": [
    "item_1.version"
   ]
  },
  {
   "cell_type": "code",
   "execution_count": null,
   "metadata": {},
   "outputs": [],
   "source": [
    "item.metadata"
   ]
  },
  {
   "cell_type": "code",
   "execution_count": null,
   "metadata": {},
   "outputs": [],
   "source": [
    "lib.read_metadata('NQ').metadata"
   ]
  },
  {
   "cell_type": "code",
   "execution_count": null,
   "metadata": {},
   "outputs": [],
   "source": [
    "lib.list_symbols()"
   ]
  },
  {
   "cell_type": "code",
   "execution_count": null,
   "metadata": {},
   "outputs": [],
   "source": [
    "lib.append('NQ', data.iloc[-50000:])"
   ]
  },
  {
   "cell_type": "code",
   "execution_count": null,
   "metadata": {},
   "outputs": [],
   "source": [
    "lib.read('NQ')"
   ]
  },
  {
   "cell_type": "code",
   "execution_count": null,
   "metadata": {},
   "outputs": [],
   "source": [
    "lib.append('NQ', data.iloc[:100000])"
   ]
  },
  {
   "cell_type": "code",
   "execution_count": null,
   "metadata": {},
   "outputs": [],
   "source": [
    "lib.read('NQ')"
   ]
  },
  {
   "cell_type": "code",
   "execution_count": null,
   "metadata": {},
   "outputs": [],
   "source": [
    "nq_hourly = pd.read_pickle('/home/tomek/ib_tools/notebooks/data/hourly_NQ0919.pickle')"
   ]
  },
  {
   "cell_type": "code",
   "execution_count": null,
   "metadata": {},
   "outputs": [],
   "source": [
    "nq_hourly.head()"
   ]
  },
  {
   "cell_type": "code",
   "execution_count": null,
   "metadata": {},
   "outputs": [],
   "source": [
    "%%timeit\n",
    "lib.write('NQ_hour', nq_hourly[50:])"
   ]
  },
  {
   "cell_type": "code",
   "execution_count": null,
   "metadata": {},
   "outputs": [],
   "source": [
    "%%timeit\n",
    "lib.read('NQ_hour')"
   ]
  },
  {
   "cell_type": "code",
   "execution_count": null,
   "metadata": {},
   "outputs": [],
   "source": [
    "%%timeit\n",
    "lib.write('NQ_hour_2', nq_hourly[50:], chunk_size='M')"
   ]
  },
  {
   "cell_type": "code",
   "execution_count": null,
   "metadata": {},
   "outputs": [],
   "source": [
    "%%timeit\n",
    "lib.read('NQ_hour_2')"
   ]
  },
  {
   "cell_type": "code",
   "execution_count": null,
   "metadata": {},
   "outputs": [],
   "source": [
    "lib.append('NQ_hour_2', nq_hourly[:50])"
   ]
  },
  {
   "cell_type": "code",
   "execution_count": null,
   "metadata": {},
   "outputs": [],
   "source": []
  },
  {
   "cell_type": "code",
   "execution_count": null,
   "metadata": {},
   "outputs": [],
   "source": [
    "lib.append('NQ_hour', nq_hourly[:50])"
   ]
  },
  {
   "cell_type": "code",
   "execution_count": null,
   "metadata": {},
   "outputs": [],
   "source": [
    "lib.read('NQ_hour')"
   ]
  },
  {
   "cell_type": "code",
   "execution_count": null,
   "metadata": {},
   "outputs": [],
   "source": [
    "lib.get_info('NQ')"
   ]
  },
  {
   "cell_type": "code",
   "execution_count": null,
   "metadata": {},
   "outputs": [],
   "source": [
    "lib.list_symbols()"
   ]
  },
  {
   "cell_type": "code",
   "execution_count": null,
   "metadata": {},
   "outputs": [],
   "source": []
  }
 ],
 "metadata": {
  "kernelspec": {
   "display_name": "Python 3",
   "language": "python",
   "name": "python3"
  },
  "language_info": {
   "codemirror_mode": {
    "name": "ipython",
    "version": 3
   },
   "file_extension": ".py",
   "mimetype": "text/x-python",
   "name": "python",
   "nbconvert_exporter": "python",
   "pygments_lexer": "ipython3",
   "version": "3.7.3"
  }
 },
 "nbformat": 4,
 "nbformat_minor": 2
}
