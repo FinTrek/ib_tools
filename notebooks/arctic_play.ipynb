{
 "cells": [
  {
   "cell_type": "code",
   "execution_count": 1,
   "metadata": {},
   "outputs": [
    {
     "name": "stderr",
     "output_type": "stream",
     "text": [
      "/home/tomek/.virtualenvs/ib/lib/python3.8/site-packages/arctic/_util.py:6: FutureWarning: pandas.util.testing is deprecated. Use the functions in the public API at pandas.testing instead.\n",
      "  from pandas.util.testing import assert_frame_equal\n",
      "/home/tomek/.virtualenvs/ib/lib/python3.8/site-packages/arctic/store/_pandas_ndarray_store.py:6: FutureWarning: The Panel class is removed from pandas. Accessing it from the top-level namespace will also be removed in the next version\n",
      "  from pandas import DataFrame, Series, Panel\n"
     ]
    }
   ],
   "source": [
    "from arctic import Arctic, CHUNK_STORE\n",
    "from arctic.exceptions import NoDataFoundException\n",
    "from arctic.date import DateRange\n",
    "import pandas as pd\n",
    "from ib_insync import IB, ContFuture, util, Future, Forex, Contract\n",
    "from typing import Union\n",
    "import pickle\n",
    "from datetime import datetime, timedelta"
   ]
  },
  {
   "cell_type": "code",
   "execution_count": 2,
   "metadata": {},
   "outputs": [
    {
     "data": {
      "text/plain": [
       "<IB connected to 127.0.0.1:4002 clientId=8>"
      ]
     },
     "execution_count": 2,
     "metadata": {},
     "output_type": "execute_result"
    }
   ],
   "source": [
    "util.startLoop()\n",
    "ib = IB()\n",
    "ib.connect(port=4002, clientId=8)"
   ]
  },
  {
   "cell_type": "code",
   "execution_count": 3,
   "metadata": {},
   "outputs": [
    {
     "data": {
      "text/plain": [
       "True"
      ]
     },
     "execution_count": 3,
     "metadata": {},
     "output_type": "execute_result"
    }
   ],
   "source": [
    "ib.isConnected()"
   ]
  },
  {
   "cell_type": "code",
   "execution_count": 4,
   "metadata": {},
   "outputs": [],
   "source": [
    "store = Arctic('localhost')"
   ]
  },
  {
   "cell_type": "code",
   "execution_count": 5,
   "metadata": {},
   "outputs": [
    {
     "data": {
      "text/plain": [
       "['test_log', 'TRADES_30_secs']"
      ]
     },
     "execution_count": 5,
     "metadata": {},
     "output_type": "execute_result"
    },
    {
     "name": "stderr",
     "output_type": "stream",
     "text": [
      "Peer closed connection\n"
     ]
    }
   ],
   "source": [
    "store.list_libraries()"
   ]
  },
  {
   "cell_type": "code",
   "execution_count": 6,
   "metadata": {},
   "outputs": [
    {
     "name": "stderr",
     "output_type": "stream",
     "text": [
      "WARNING:arctic.store.version_store:Library created, but couldn't enable sharding: no such command: 'enablesharding', full error: {'ok': 0.0, 'errmsg': \"no such command: 'enablesharding'\", 'code': 59, 'codeName': 'CommandNotFound'}. This is OK if you're not 'admin'\n"
     ]
    }
   ],
   "source": [
    "store.initialize_library('TRADES_1_min')\n",
    "lib = store['TRADES_1_min']"
   ]
  },
  {
   "cell_type": "code",
   "execution_count": 7,
   "metadata": {},
   "outputs": [
    {
     "data": {
      "text/plain": [
       "arctic.store.version_store.VersionStore"
      ]
     },
     "execution_count": 7,
     "metadata": {},
     "output_type": "execute_result"
    }
   ],
   "source": [
    "type(lib)"
   ]
  },
  {
   "cell_type": "code",
   "execution_count": 8,
   "metadata": {},
   "outputs": [
    {
     "data": {
      "text/plain": [
       "['CLK0_CONTFUT',\n",
       " 'ESM0_CONTFUT',\n",
       " 'GCJ0_CONTFUT',\n",
       " 'GCM0_CONTFUT',\n",
       " 'NQM0_CONTFUT',\n",
       " 'edek']"
      ]
     },
     "execution_count": 8,
     "metadata": {},
     "output_type": "execute_result"
    }
   ],
   "source": [
    "lib.list_symbols()"
   ]
  },
  {
   "cell_type": "code",
   "execution_count": 9,
   "metadata": {},
   "outputs": [
    {
     "data": {
      "text/plain": [
       "VersionedItem(symbol=NQM0_CONTFUT,library=arctic.TRADES_1_min,data=<class 'pandas.core.frame.DataFrame'>,version=185,metadata={'secType': 'CONTFUT', 'conId': 357283192, 'symbol': 'NQ', 'lastTradeDateOrContractMonth': '20200619', 'multiplier': '20', 'exchange': 'GLOBEX', 'currency': 'USD', 'localSymbol': 'NQM0', 'tradingClass': 'NQ', 'repr': \"ContFuture(conId=357283192, symbol='NQ', lastTradeDateOrContractMonth='20200619', multiplier='20', exchange='GLOBEX', currency='USD', localSymbol='NQM0', tradingClass='NQ')\", 'object': None},host=localhost)"
      ]
     },
     "execution_count": 9,
     "metadata": {},
     "output_type": "execute_result"
    }
   ],
   "source": [
    "lib.read('NQM0_CONTFUT')"
   ]
  },
  {
   "cell_type": "code",
   "execution_count": 10,
   "metadata": {},
   "outputs": [
    {
     "data": {
      "text/html": [
       "<div>\n",
       "<style scoped>\n",
       "    .dataframe tbody tr th:only-of-type {\n",
       "        vertical-align: middle;\n",
       "    }\n",
       "\n",
       "    .dataframe tbody tr th {\n",
       "        vertical-align: top;\n",
       "    }\n",
       "\n",
       "    .dataframe thead th {\n",
       "        text-align: right;\n",
       "    }\n",
       "</style>\n",
       "<table border=\"1\" class=\"dataframe\">\n",
       "  <thead>\n",
       "    <tr style=\"text-align: right;\">\n",
       "      <th></th>\n",
       "      <th>open</th>\n",
       "      <th>high</th>\n",
       "      <th>low</th>\n",
       "      <th>close</th>\n",
       "      <th>volume</th>\n",
       "      <th>average</th>\n",
       "      <th>barCount</th>\n",
       "    </tr>\n",
       "    <tr>\n",
       "      <th>date</th>\n",
       "      <th></th>\n",
       "      <th></th>\n",
       "      <th></th>\n",
       "      <th></th>\n",
       "      <th></th>\n",
       "      <th></th>\n",
       "      <th></th>\n",
       "    </tr>\n",
       "  </thead>\n",
       "  <tbody>\n",
       "    <tr>\n",
       "      <th>2017-06-16 14:55:00</th>\n",
       "      <td>2430.00</td>\n",
       "      <td>2430.00</td>\n",
       "      <td>2430.00</td>\n",
       "      <td>2430.00</td>\n",
       "      <td>1</td>\n",
       "      <td>2430.000</td>\n",
       "      <td>1</td>\n",
       "    </tr>\n",
       "    <tr>\n",
       "      <th>2017-06-16 14:56:00</th>\n",
       "      <td>2430.00</td>\n",
       "      <td>2430.00</td>\n",
       "      <td>2430.00</td>\n",
       "      <td>2430.00</td>\n",
       "      <td>0</td>\n",
       "      <td>2430.000</td>\n",
       "      <td>0</td>\n",
       "    </tr>\n",
       "    <tr>\n",
       "      <th>2017-06-16 14:57:00</th>\n",
       "      <td>2430.00</td>\n",
       "      <td>2430.00</td>\n",
       "      <td>2430.00</td>\n",
       "      <td>2430.00</td>\n",
       "      <td>0</td>\n",
       "      <td>2430.000</td>\n",
       "      <td>0</td>\n",
       "    </tr>\n",
       "    <tr>\n",
       "      <th>2017-06-16 14:58:00</th>\n",
       "      <td>2430.00</td>\n",
       "      <td>2430.00</td>\n",
       "      <td>2430.00</td>\n",
       "      <td>2430.00</td>\n",
       "      <td>0</td>\n",
       "      <td>2430.000</td>\n",
       "      <td>0</td>\n",
       "    </tr>\n",
       "    <tr>\n",
       "      <th>2017-06-16 14:59:00</th>\n",
       "      <td>2430.00</td>\n",
       "      <td>2430.00</td>\n",
       "      <td>2430.00</td>\n",
       "      <td>2430.00</td>\n",
       "      <td>0</td>\n",
       "      <td>2430.000</td>\n",
       "      <td>0</td>\n",
       "    </tr>\n",
       "    <tr>\n",
       "      <th>...</th>\n",
       "      <td>...</td>\n",
       "      <td>...</td>\n",
       "      <td>...</td>\n",
       "      <td>...</td>\n",
       "      <td>...</td>\n",
       "      <td>...</td>\n",
       "      <td>...</td>\n",
       "    </tr>\n",
       "    <tr>\n",
       "      <th>2020-04-08 08:27:00</th>\n",
       "      <td>2630.00</td>\n",
       "      <td>2634.25</td>\n",
       "      <td>2630.00</td>\n",
       "      <td>2631.75</td>\n",
       "      <td>596</td>\n",
       "      <td>2632.575</td>\n",
       "      <td>277</td>\n",
       "    </tr>\n",
       "    <tr>\n",
       "      <th>2020-04-08 08:28:00</th>\n",
       "      <td>2631.50</td>\n",
       "      <td>2634.50</td>\n",
       "      <td>2630.50</td>\n",
       "      <td>2634.50</td>\n",
       "      <td>669</td>\n",
       "      <td>2632.550</td>\n",
       "      <td>296</td>\n",
       "    </tr>\n",
       "    <tr>\n",
       "      <th>2020-04-08 08:29:00</th>\n",
       "      <td>2634.25</td>\n",
       "      <td>2635.25</td>\n",
       "      <td>2631.00</td>\n",
       "      <td>2632.75</td>\n",
       "      <td>776</td>\n",
       "      <td>2633.450</td>\n",
       "      <td>329</td>\n",
       "    </tr>\n",
       "    <tr>\n",
       "      <th>2020-04-08 08:30:00</th>\n",
       "      <td>2632.75</td>\n",
       "      <td>2635.50</td>\n",
       "      <td>2631.25</td>\n",
       "      <td>2633.50</td>\n",
       "      <td>616</td>\n",
       "      <td>2633.125</td>\n",
       "      <td>269</td>\n",
       "    </tr>\n",
       "    <tr>\n",
       "      <th>2020-04-08 08:31:00</th>\n",
       "      <td>2633.50</td>\n",
       "      <td>2641.25</td>\n",
       "      <td>2633.50</td>\n",
       "      <td>2640.75</td>\n",
       "      <td>1142</td>\n",
       "      <td>2637.950</td>\n",
       "      <td>449</td>\n",
       "    </tr>\n",
       "  </tbody>\n",
       "</table>\n",
       "<p>481861 rows × 7 columns</p>\n",
       "</div>"
      ],
      "text/plain": [
       "                        open     high      low    close  volume   average  \\\n",
       "date                                                                        \n",
       "2017-06-16 14:55:00  2430.00  2430.00  2430.00  2430.00       1  2430.000   \n",
       "2017-06-16 14:56:00  2430.00  2430.00  2430.00  2430.00       0  2430.000   \n",
       "2017-06-16 14:57:00  2430.00  2430.00  2430.00  2430.00       0  2430.000   \n",
       "2017-06-16 14:58:00  2430.00  2430.00  2430.00  2430.00       0  2430.000   \n",
       "2017-06-16 14:59:00  2430.00  2430.00  2430.00  2430.00       0  2430.000   \n",
       "...                      ...      ...      ...      ...     ...       ...   \n",
       "2020-04-08 08:27:00  2630.00  2634.25  2630.00  2631.75     596  2632.575   \n",
       "2020-04-08 08:28:00  2631.50  2634.50  2630.50  2634.50     669  2632.550   \n",
       "2020-04-08 08:29:00  2634.25  2635.25  2631.00  2632.75     776  2633.450   \n",
       "2020-04-08 08:30:00  2632.75  2635.50  2631.25  2633.50     616  2633.125   \n",
       "2020-04-08 08:31:00  2633.50  2641.25  2633.50  2640.75    1142  2637.950   \n",
       "\n",
       "                     barCount  \n",
       "date                           \n",
       "2017-06-16 14:55:00         1  \n",
       "2017-06-16 14:56:00         0  \n",
       "2017-06-16 14:57:00         0  \n",
       "2017-06-16 14:58:00         0  \n",
       "2017-06-16 14:59:00         0  \n",
       "...                       ...  \n",
       "2020-04-08 08:27:00       277  \n",
       "2020-04-08 08:28:00       296  \n",
       "2020-04-08 08:29:00       329  \n",
       "2020-04-08 08:30:00       269  \n",
       "2020-04-08 08:31:00       449  \n",
       "\n",
       "[481861 rows x 7 columns]"
      ]
     },
     "execution_count": 10,
     "metadata": {},
     "output_type": "execute_result"
    }
   ],
   "source": [
    "lib.read('ESM0_CONTFUT').data"
   ]
  },
  {
   "cell_type": "code",
   "execution_count": null,
   "metadata": {},
   "outputs": [],
   "source": [
    "lib.list_versions('NQM0_CONTFUT')"
   ]
  },
  {
   "cell_type": "code",
   "execution_count": null,
   "metadata": {},
   "outputs": [],
   "source": [
    "bars"
   ]
  },
  {
   "cell_type": "code",
   "execution_count": null,
   "metadata": {},
   "outputs": [],
   "source": [
    "d = pd.DataFrame()"
   ]
  },
  {
   "cell_type": "code",
   "execution_count": null,
   "metadata": {},
   "outputs": [],
   "source": [
    "d.append(bars)"
   ]
  },
  {
   "cell_type": "code",
   "execution_count": null,
   "metadata": {},
   "outputs": [],
   "source": [
    "d"
   ]
  },
  {
   "cell_type": "code",
   "execution_count": null,
   "metadata": {},
   "outputs": [],
   "source": [
    "t = lib.read('test')"
   ]
  },
  {
   "cell_type": "code",
   "execution_count": null,
   "metadata": {},
   "outputs": [],
   "source": [
    "lib.list_symbols()"
   ]
  },
  {
   "cell_type": "code",
   "execution_count": null,
   "metadata": {},
   "outputs": [],
   "source": [
    "edek = Forex('EURUSD',)\n",
    "ib.qualifyContracts(edek)"
   ]
  },
  {
   "cell_type": "code",
   "execution_count": null,
   "metadata": {},
   "outputs": [],
   "source": [
    "bars = util.df(ib.reqHistoricalData(\n",
    "        edek,\n",
    "        endDateTime='',\n",
    "        durationStr='5 D',\n",
    "        barSizeSetting='1 hour',\n",
    "        whatToShow='MIDPOINT',\n",
    "        useRTH=True,\n",
    "        formatDate=1)).set_index('date')"
   ]
  },
  {
   "cell_type": "code",
   "execution_count": null,
   "metadata": {},
   "outputs": [],
   "source": [
    "bars"
   ]
  },
  {
   "cell_type": "code",
   "execution_count": null,
   "metadata": {},
   "outputs": [],
   "source": [
    "def hist(days_at_a_time):\n",
    "    dt = ''\n",
    "    barsList = []\n",
    "    i = 10/days_at_a_time\n",
    "    #i=1\n",
    "    while i>0:\n",
    "        bars = ib.reqHistoricalData(\n",
    "            nq,\n",
    "            endDateTime=dt,\n",
    "            durationStr=str(days_at_a_time) + ' D',\n",
    "            barSizeSetting='1 min',\n",
    "            whatToShow='TRADES',\n",
    "            useRTH=False,\n",
    "            formatDate=1)\n",
    "        #lib.append('edek', bars)\n",
    "        if not bars:\n",
    "            break\n",
    "            dt -= timedelta(days=1)\n",
    "            print(f'new dt: {dt}')\n",
    "            continue\n",
    "        barsList.append(bars)\n",
    "        dt = bars[0].date\n",
    "        print(dt)\n",
    "        i -= 1\n",
    "    allBars = [b for bars in reversed(barsList) for b in bars]\n",
    "    df = util.df(allBars)\n",
    "    return df"
   ]
  },
  {
   "cell_type": "code",
   "execution_count": null,
   "metadata": {},
   "outputs": [],
   "source": [
    "ib"
   ]
  },
  {
   "cell_type": "code",
   "execution_count": null,
   "metadata": {},
   "outputs": [],
   "source": [
    "ib.isConnected()"
   ]
  },
  {
   "cell_type": "code",
   "execution_count": null,
   "metadata": {
    "scrolled": false
   },
   "outputs": [],
   "source": [
    "#%%timeit\n",
    "hist(1)"
   ]
  },
  {
   "cell_type": "code",
   "execution_count": null,
   "metadata": {},
   "outputs": [],
   "source": [
    "bars = ib.reqHistoricalData(\n",
    "            nq,\n",
    "            endDateTime= '20200316 14:30:00',\n",
    "            durationStr='1 D',\n",
    "            barSizeSetting='1 min',\n",
    "            whatToShow='TRADES',\n",
    "            useRTH=False,\n",
    "            formatDate=1)"
   ]
  },
  {
   "cell_type": "code",
   "execution_count": null,
   "metadata": {},
   "outputs": [],
   "source": [
    "bars"
   ]
  },
  {
   "cell_type": "code",
   "execution_count": null,
   "metadata": {},
   "outputs": [],
   "source": [
    "lib.write('edek', bars)"
   ]
  },
  {
   "cell_type": "code",
   "execution_count": null,
   "metadata": {},
   "outputs": [],
   "source": [
    "d=lib.read('edek')"
   ]
  },
  {
   "cell_type": "code",
   "execution_count": null,
   "metadata": {},
   "outputs": [],
   "source": [
    "d"
   ]
  },
  {
   "cell_type": "code",
   "execution_count": null,
   "metadata": {},
   "outputs": [],
   "source": [
    "d.head(50)"
   ]
  },
  {
   "cell_type": "code",
   "execution_count": null,
   "metadata": {},
   "outputs": [],
   "source": [
    "lib.delete('edek')"
   ]
  },
  {
   "cell_type": "code",
   "execution_count": null,
   "metadata": {},
   "outputs": [],
   "source": [
    "lib.list_symbols()"
   ]
  },
  {
   "cell_type": "code",
   "execution_count": null,
   "metadata": {},
   "outputs": [],
   "source": [
    "data = pd.read_pickle('/home/tomek/ib_tools/notebooks/data/minute_NQ_cont_non_active_included.pickle')\n",
    "data"
   ]
  },
  {
   "cell_type": "code",
   "execution_count": null,
   "metadata": {},
   "outputs": [],
   "source": [
    "data1 = data.iloc[100000:-50000]\n",
    "data1"
   ]
  },
  {
   "cell_type": "code",
   "execution_count": null,
   "metadata": {},
   "outputs": [],
   "source": [
    "def symbol_maker(obj: Union[ContFuture, Future]) -> str:\n",
    "    return f'{obj.localSymbol}_{obj.secType}'"
   ]
  },
  {
   "cell_type": "code",
   "execution_count": null,
   "metadata": {},
   "outputs": [],
   "source": [
    "def writer(obj: Union[ContFuture, Future], data: pd.DataFrame) -> str:\n",
    "    return lib.write(symbol_maker(obj), data, metadata={**obj.nonDefaults(), **{'repr': repr(obj), 'secType': obj.secType}})"
   ]
  },
  {
   "cell_type": "code",
   "execution_count": null,
   "metadata": {},
   "outputs": [],
   "source": [
    "lib.write('test', data, metadata={'object': nq_pickle})"
   ]
  },
  {
   "cell_type": "code",
   "execution_count": null,
   "metadata": {},
   "outputs": [],
   "source": [
    "t = lib.read('test')"
   ]
  },
  {
   "cell_type": "code",
   "execution_count": null,
   "metadata": {},
   "outputs": [],
   "source": [
    "pickle.loads(t.metadata['object'])"
   ]
  },
  {
   "cell_type": "code",
   "execution_count": null,
   "metadata": {},
   "outputs": [],
   "source": [
    "writer(edek, bars)"
   ]
  },
  {
   "cell_type": "code",
   "execution_count": null,
   "metadata": {},
   "outputs": [],
   "source": [
    "lib.list_symbols()"
   ]
  },
  {
   "cell_type": "code",
   "execution_count": null,
   "metadata": {},
   "outputs": [],
   "source": [
    "writer(nq, data)"
   ]
  },
  {
   "cell_type": "code",
   "execution_count": null,
   "metadata": {},
   "outputs": [],
   "source": [
    "lib.list_symbols()"
   ]
  },
  {
   "cell_type": "code",
   "execution_count": null,
   "metadata": {},
   "outputs": [],
   "source": [
    "e = lib.read('EUR.USD_CASH')\n",
    "e.metadata"
   ]
  },
  {
   "cell_type": "code",
   "execution_count": null,
   "metadata": {},
   "outputs": [],
   "source": [
    "e.data"
   ]
  },
  {
   "cell_type": "code",
   "execution_count": null,
   "metadata": {},
   "outputs": [],
   "source": [
    "lib.read('EUR.USD_CASH', date_range=DateRange('20200301','20200310')).data"
   ]
  },
  {
   "cell_type": "code",
   "execution_count": null,
   "metadata": {},
   "outputs": [],
   "source": [
    "item = lib.read('NQ')"
   ]
  },
  {
   "cell_type": "code",
   "execution_count": null,
   "metadata": {},
   "outputs": [],
   "source": [
    "item.version"
   ]
  },
  {
   "cell_type": "code",
   "execution_count": null,
   "metadata": {},
   "outputs": [],
   "source": [
    "item_1 = lib.read(symbol_maker(nq_1))"
   ]
  },
  {
   "cell_type": "code",
   "execution_count": null,
   "metadata": {},
   "outputs": [],
   "source": [
    "item_1"
   ]
  },
  {
   "cell_type": "code",
   "execution_count": null,
   "metadata": {},
   "outputs": [],
   "source": [
    "item_1.version"
   ]
  },
  {
   "cell_type": "code",
   "execution_count": null,
   "metadata": {},
   "outputs": [],
   "source": [
    "item.metadata"
   ]
  },
  {
   "cell_type": "code",
   "execution_count": null,
   "metadata": {},
   "outputs": [],
   "source": [
    "lib.read_metadata('NQ').metadata"
   ]
  },
  {
   "cell_type": "code",
   "execution_count": null,
   "metadata": {},
   "outputs": [],
   "source": [
    "lib.list_symbols()"
   ]
  },
  {
   "cell_type": "code",
   "execution_count": null,
   "metadata": {},
   "outputs": [],
   "source": [
    "lib.append('NQ', data.iloc[-50000:])"
   ]
  },
  {
   "cell_type": "code",
   "execution_count": null,
   "metadata": {},
   "outputs": [],
   "source": [
    "lib.read('NQ')"
   ]
  },
  {
   "cell_type": "code",
   "execution_count": null,
   "metadata": {},
   "outputs": [],
   "source": [
    "lib.append('NQ', data.iloc[:100000])"
   ]
  },
  {
   "cell_type": "code",
   "execution_count": null,
   "metadata": {},
   "outputs": [],
   "source": [
    "lib.read('NQ')"
   ]
  },
  {
   "cell_type": "code",
   "execution_count": null,
   "metadata": {},
   "outputs": [],
   "source": [
    "nq_hourly = pd.read_pickle('/home/tomek/ib_tools/notebooks/data/hourly_NQ0919.pickle')"
   ]
  },
  {
   "cell_type": "code",
   "execution_count": null,
   "metadata": {},
   "outputs": [],
   "source": [
    "nq_hourly.head()"
   ]
  },
  {
   "cell_type": "code",
   "execution_count": null,
   "metadata": {},
   "outputs": [],
   "source": [
    "%%timeit\n",
    "lib.write('NQ_hour', nq_hourly[50:])"
   ]
  },
  {
   "cell_type": "code",
   "execution_count": null,
   "metadata": {},
   "outputs": [],
   "source": [
    "%%timeit\n",
    "lib.read('NQ_hour')"
   ]
  },
  {
   "cell_type": "code",
   "execution_count": null,
   "metadata": {},
   "outputs": [],
   "source": [
    "%%timeit\n",
    "lib.write('NQ_hour_2', nq_hourly[50:], chunk_size='M')"
   ]
  },
  {
   "cell_type": "code",
   "execution_count": null,
   "metadata": {},
   "outputs": [],
   "source": [
    "%%timeit\n",
    "lib.read('NQ_hour_2')"
   ]
  },
  {
   "cell_type": "code",
   "execution_count": null,
   "metadata": {},
   "outputs": [],
   "source": [
    "lib.append('NQ_hour_2', nq_hourly[:50])"
   ]
  },
  {
   "cell_type": "code",
   "execution_count": null,
   "metadata": {},
   "outputs": [],
   "source": []
  },
  {
   "cell_type": "code",
   "execution_count": null,
   "metadata": {},
   "outputs": [],
   "source": [
    "lib.append('NQ_hour', nq_hourly[:50])"
   ]
  },
  {
   "cell_type": "code",
   "execution_count": null,
   "metadata": {},
   "outputs": [],
   "source": [
    "lib.read('NQ_hour')"
   ]
  },
  {
   "cell_type": "code",
   "execution_count": null,
   "metadata": {},
   "outputs": [],
   "source": [
    "lib.get_info('NQ')"
   ]
  },
  {
   "cell_type": "code",
   "execution_count": null,
   "metadata": {},
   "outputs": [],
   "source": [
    "lib.list_symbols()"
   ]
  },
  {
   "cell_type": "code",
   "execution_count": null,
   "metadata": {},
   "outputs": [],
   "source": []
  }
 ],
 "metadata": {
  "kernelspec": {
   "display_name": "Python 3",
   "language": "python",
   "name": "python3"
  },
  "language_info": {
   "codemirror_mode": {
    "name": "ipython",
    "version": 3
   },
   "file_extension": ".py",
   "mimetype": "text/x-python",
   "name": "python",
   "nbconvert_exporter": "python",
   "pygments_lexer": "ipython3",
   "version": "3.8.2"
  }
 },
 "nbformat": 4,
 "nbformat_minor": 2
}
