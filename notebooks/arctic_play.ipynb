{
 "cells": [
  {
   "cell_type": "code",
   "execution_count": 238,
   "metadata": {},
   "outputs": [],
   "source": [
    "from arctic import Arctic, CHUNK_STORE\n",
    "from arctic.date import DateRange\n",
    "import pandas as pd\n",
    "from ib_insync import IB, ContFuture, util, Future, Forex, Contract\n",
    "from typing import Union\n",
    "import pickle"
   ]
  },
  {
   "cell_type": "code",
   "execution_count": 73,
   "metadata": {},
   "outputs": [
    {
     "data": {
      "text/plain": [
       "<IB connected to 127.0.0.1:4002 clientId=6>"
      ]
     },
     "execution_count": 73,
     "metadata": {},
     "output_type": "execute_result"
    }
   ],
   "source": [
    "util.startLoop()\n",
    "ib = IB()\n",
    "ib.connect(port=4002, clientId=6)"
   ]
  },
  {
   "cell_type": "code",
   "execution_count": 80,
   "metadata": {},
   "outputs": [],
   "source": [
    "nq = ContFuture('NQ', 'globex')"
   ]
  },
  {
   "cell_type": "code",
   "execution_count": 81,
   "metadata": {},
   "outputs": [
    {
     "data": {
      "text/plain": [
       "[ContFuture(conId=346577750, symbol='NQ', lastTradeDateOrContractMonth='20200320', multiplier='20', exchange='GLOBEX', currency='USD', localSymbol='NQH0', tradingClass='NQ')]"
      ]
     },
     "execution_count": 81,
     "metadata": {},
     "output_type": "execute_result"
    }
   ],
   "source": [
    "ib.qualifyContracts(nq)"
   ]
  },
  {
   "cell_type": "code",
   "execution_count": 82,
   "metadata": {},
   "outputs": [
    {
     "data": {
      "text/plain": [
       "ContFuture(conId=346577750, symbol='NQ', lastTradeDateOrContractMonth='20200320', multiplier='20', exchange='GLOBEX', currency='USD', localSymbol='NQH0', tradingClass='NQ')"
      ]
     },
     "execution_count": 82,
     "metadata": {},
     "output_type": "execute_result"
    }
   ],
   "source": [
    "nq"
   ]
  },
  {
   "cell_type": "code",
   "execution_count": 90,
   "metadata": {},
   "outputs": [
    {
     "data": {
      "text/plain": [
       "{'secType': 'CONTFUT',\n",
       " 'conId': 346577750,\n",
       " 'symbol': 'NQ',\n",
       " 'lastTradeDateOrContractMonth': '20200320',\n",
       " 'strike': 0.0,\n",
       " 'right': '',\n",
       " 'multiplier': '20',\n",
       " 'exchange': 'GLOBEX',\n",
       " 'primaryExchange': '',\n",
       " 'currency': 'USD',\n",
       " 'localSymbol': 'NQH0',\n",
       " 'tradingClass': 'NQ',\n",
       " 'includeExpired': False,\n",
       " 'secIdType': '',\n",
       " 'secId': '',\n",
       " 'comboLegsDescrip': '',\n",
       " 'comboLegs': None,\n",
       " 'deltaNeutralContract': None}"
      ]
     },
     "execution_count": 90,
     "metadata": {},
     "output_type": "execute_result"
    }
   ],
   "source": [
    "nq.dict()"
   ]
  },
  {
   "cell_type": "code",
   "execution_count": 91,
   "metadata": {},
   "outputs": [
    {
     "data": {
      "text/plain": [
       "{'secType': 'CONTFUT',\n",
       " 'conId': 346577750,\n",
       " 'symbol': 'NQ',\n",
       " 'lastTradeDateOrContractMonth': '20200320',\n",
       " 'multiplier': '20',\n",
       " 'exchange': 'GLOBEX',\n",
       " 'currency': 'USD',\n",
       " 'localSymbol': 'NQH0',\n",
       " 'tradingClass': 'NQ'}"
      ]
     },
     "execution_count": 91,
     "metadata": {},
     "output_type": "execute_result"
    }
   ],
   "source": [
    "nq.nonDefaults()"
   ]
  },
  {
   "cell_type": "code",
   "execution_count": 200,
   "metadata": {},
   "outputs": [
    {
     "ename": "AttributeError",
     "evalue": "'IB' object has no attribute 'getCommissionBySymbol'",
     "output_type": "error",
     "traceback": [
      "\u001b[0;31m---------------------------------------------------------------------------\u001b[0m",
      "\u001b[0;31mAttributeError\u001b[0m                            Traceback (most recent call last)",
      "\u001b[0;32m<ipython-input-200-4f8124a9e2c9>\u001b[0m in \u001b[0;36m<module>\u001b[0;34m\u001b[0m\n\u001b[0;32m----> 1\u001b[0;31m \u001b[0mib\u001b[0m\u001b[0;34m.\u001b[0m\u001b[0mgetCommissionBySymbol\u001b[0m\u001b[0;34m(\u001b[0m\u001b[0mnq\u001b[0m\u001b[0;34m)\u001b[0m\u001b[0;34m\u001b[0m\u001b[0;34m\u001b[0m\u001b[0m\n\u001b[0m",
      "\u001b[0;31mAttributeError\u001b[0m: 'IB' object has no attribute 'getCommissionBySymbol'"
     ]
    }
   ],
   "source": [
    "ib.getCommissionBySymbol(nq)"
   ]
  },
  {
   "cell_type": "code",
   "execution_count": 47,
   "metadata": {},
   "outputs": [],
   "source": [
    "store = Arctic('localhost')"
   ]
  },
  {
   "cell_type": "code",
   "execution_count": 215,
   "metadata": {},
   "outputs": [
    {
     "data": {
      "text/plain": [
       "['DB_PREFIX',\n",
       " 'METADATA_COLL',\n",
       " 'METADATA_DOC_ID',\n",
       " '_Arctic__conn',\n",
       " '_MAX_CONNS',\n",
       " '__class__',\n",
       " '__delattr__',\n",
       " '__dict__',\n",
       " '__dir__',\n",
       " '__doc__',\n",
       " '__eq__',\n",
       " '__format__',\n",
       " '__ge__',\n",
       " '__getattribute__',\n",
       " '__getitem__',\n",
       " '__getstate__',\n",
       " '__gt__',\n",
       " '__hash__',\n",
       " '__init__',\n",
       " '__init_subclass__',\n",
       " '__le__',\n",
       " '__lt__',\n",
       " '__module__',\n",
       " '__ne__',\n",
       " '__new__',\n",
       " '__reduce__',\n",
       " '__reduce_ex__',\n",
       " '__repr__',\n",
       " '__setattr__',\n",
       " '__setstate__',\n",
       " '__sizeof__',\n",
       " '__str__',\n",
       " '__subclasshook__',\n",
       " '__weakref__',\n",
       " '_adminDB',\n",
       " '_allow_secondary',\n",
       " '_application_name',\n",
       " '_cache',\n",
       " '_conn',\n",
       " '_connect_timeout',\n",
       " '_given_instance',\n",
       " '_library_cache',\n",
       " '_list_libraries',\n",
       " '_list_libraries_cached',\n",
       " '_lock',\n",
       " '_pid',\n",
       " '_pymongo_kwargs',\n",
       " '_sanitize_lib_name',\n",
       " '_server_selection_timeout',\n",
       " '_socket_timeout',\n",
       " 'check_quota',\n",
       " 'delete_library',\n",
       " 'get_library',\n",
       " 'get_library_type',\n",
       " 'get_quota',\n",
       " 'initialize_library',\n",
       " 'is_caching_enabled',\n",
       " 'library_exists',\n",
       " 'list_libraries',\n",
       " 'mongo_host',\n",
       " 'reload_cache',\n",
       " 'rename_library',\n",
       " 'reset',\n",
       " 'set_quota']"
      ]
     },
     "execution_count": 215,
     "metadata": {},
     "output_type": "execute_result"
    }
   ],
   "source": [
    "dir(store)"
   ]
  },
  {
   "cell_type": "code",
   "execution_count": 79,
   "metadata": {},
   "outputs": [
    {
     "data": {
      "text/plain": [
       "['ib.history', 'history']"
      ]
     },
     "execution_count": 79,
     "metadata": {},
     "output_type": "execute_result"
    }
   ],
   "source": [
    "store.list_libraries()"
   ]
  },
  {
   "cell_type": "code",
   "execution_count": 216,
   "metadata": {},
   "outputs": [],
   "source": [
    "store.delete_library('ib.history')"
   ]
  },
  {
   "cell_type": "code",
   "execution_count": 217,
   "metadata": {},
   "outputs": [
    {
     "data": {
      "text/plain": [
       "['history']"
      ]
     },
     "execution_count": 217,
     "metadata": {},
     "output_type": "execute_result"
    }
   ],
   "source": [
    "store.list_libraries()"
   ]
  },
  {
   "cell_type": "code",
   "execution_count": 185,
   "metadata": {},
   "outputs": [
    {
     "data": {
      "text/plain": [
       "[Forex('EURUSD', conId=12087792, exchange='IDEALPRO', localSymbol='EUR.USD', tradingClass='EUR.USD')]"
      ]
     },
     "execution_count": 185,
     "metadata": {},
     "output_type": "execute_result"
    }
   ],
   "source": [
    "edek = Forex('EURUSD',)\n",
    "ib.qualifyContracts(edek)"
   ]
  },
  {
   "cell_type": "code",
   "execution_count": 186,
   "metadata": {},
   "outputs": [],
   "source": [
    "bars = util.df(ib.reqHistoricalData(\n",
    "        edek,\n",
    "        endDateTime='',\n",
    "        durationStr='5 D',\n",
    "        barSizeSetting='1 hour',\n",
    "        whatToShow='MIDPOINT',\n",
    "        useRTH=True,\n",
    "        formatDate=1)).set_index('date')"
   ]
  },
  {
   "cell_type": "code",
   "execution_count": 187,
   "metadata": {},
   "outputs": [
    {
     "data": {
      "text/html": [
       "<div>\n",
       "<style scoped>\n",
       "    .dataframe tbody tr th:only-of-type {\n",
       "        vertical-align: middle;\n",
       "    }\n",
       "\n",
       "    .dataframe tbody tr th {\n",
       "        vertical-align: top;\n",
       "    }\n",
       "\n",
       "    .dataframe thead th {\n",
       "        text-align: right;\n",
       "    }\n",
       "</style>\n",
       "<table border=\"1\" class=\"dataframe\">\n",
       "  <thead>\n",
       "    <tr style=\"text-align: right;\">\n",
       "      <th></th>\n",
       "      <th>open</th>\n",
       "      <th>high</th>\n",
       "      <th>low</th>\n",
       "      <th>close</th>\n",
       "      <th>volume</th>\n",
       "      <th>average</th>\n",
       "      <th>barCount</th>\n",
       "    </tr>\n",
       "    <tr>\n",
       "      <th>date</th>\n",
       "      <th></th>\n",
       "      <th></th>\n",
       "      <th></th>\n",
       "      <th></th>\n",
       "      <th></th>\n",
       "      <th></th>\n",
       "      <th></th>\n",
       "    </tr>\n",
       "  </thead>\n",
       "  <tbody>\n",
       "    <tr>\n",
       "      <td>2020-03-08 22:15:00</td>\n",
       "      <td>1.134375</td>\n",
       "      <td>1.135705</td>\n",
       "      <td>1.133600</td>\n",
       "      <td>1.134955</td>\n",
       "      <td>-1</td>\n",
       "      <td>-1.0</td>\n",
       "      <td>-1</td>\n",
       "    </tr>\n",
       "    <tr>\n",
       "      <td>2020-03-08 23:00:00</td>\n",
       "      <td>1.134955</td>\n",
       "      <td>1.139475</td>\n",
       "      <td>1.134005</td>\n",
       "      <td>1.138705</td>\n",
       "      <td>-1</td>\n",
       "      <td>-1.0</td>\n",
       "      <td>-1</td>\n",
       "    </tr>\n",
       "    <tr>\n",
       "      <td>2020-03-09 00:00:00</td>\n",
       "      <td>1.138705</td>\n",
       "      <td>1.139675</td>\n",
       "      <td>1.136680</td>\n",
       "      <td>1.138785</td>\n",
       "      <td>-1</td>\n",
       "      <td>-1.0</td>\n",
       "      <td>-1</td>\n",
       "    </tr>\n",
       "    <tr>\n",
       "      <td>2020-03-09 01:00:00</td>\n",
       "      <td>1.138785</td>\n",
       "      <td>1.138795</td>\n",
       "      <td>1.135905</td>\n",
       "      <td>1.135980</td>\n",
       "      <td>-1</td>\n",
       "      <td>-1.0</td>\n",
       "      <td>-1</td>\n",
       "    </tr>\n",
       "    <tr>\n",
       "      <td>2020-03-09 02:00:00</td>\n",
       "      <td>1.135980</td>\n",
       "      <td>1.149565</td>\n",
       "      <td>1.135610</td>\n",
       "      <td>1.142845</td>\n",
       "      <td>-1</td>\n",
       "      <td>-1.0</td>\n",
       "      <td>-1</td>\n",
       "    </tr>\n",
       "    <tr>\n",
       "      <td>...</td>\n",
       "      <td>...</td>\n",
       "      <td>...</td>\n",
       "      <td>...</td>\n",
       "      <td>...</td>\n",
       "      <td>...</td>\n",
       "      <td>...</td>\n",
       "      <td>...</td>\n",
       "    </tr>\n",
       "    <tr>\n",
       "      <td>2020-03-13 11:00:00</td>\n",
       "      <td>1.116520</td>\n",
       "      <td>1.117340</td>\n",
       "      <td>1.115305</td>\n",
       "      <td>1.115915</td>\n",
       "      <td>-1</td>\n",
       "      <td>-1.0</td>\n",
       "      <td>-1</td>\n",
       "    </tr>\n",
       "    <tr>\n",
       "      <td>2020-03-13 12:00:00</td>\n",
       "      <td>1.115915</td>\n",
       "      <td>1.117550</td>\n",
       "      <td>1.113965</td>\n",
       "      <td>1.115510</td>\n",
       "      <td>-1</td>\n",
       "      <td>-1.0</td>\n",
       "      <td>-1</td>\n",
       "    </tr>\n",
       "    <tr>\n",
       "      <td>2020-03-13 13:00:00</td>\n",
       "      <td>1.115510</td>\n",
       "      <td>1.118640</td>\n",
       "      <td>1.110920</td>\n",
       "      <td>1.111030</td>\n",
       "      <td>-1</td>\n",
       "      <td>-1.0</td>\n",
       "      <td>-1</td>\n",
       "    </tr>\n",
       "    <tr>\n",
       "      <td>2020-03-13 14:00:00</td>\n",
       "      <td>1.111030</td>\n",
       "      <td>1.112755</td>\n",
       "      <td>1.110340</td>\n",
       "      <td>1.112440</td>\n",
       "      <td>-1</td>\n",
       "      <td>-1.0</td>\n",
       "      <td>-1</td>\n",
       "    </tr>\n",
       "    <tr>\n",
       "      <td>2020-03-13 15:00:00</td>\n",
       "      <td>1.112440</td>\n",
       "      <td>1.113365</td>\n",
       "      <td>1.110285</td>\n",
       "      <td>1.110590</td>\n",
       "      <td>-1</td>\n",
       "      <td>-1.0</td>\n",
       "      <td>-1</td>\n",
       "    </tr>\n",
       "  </tbody>\n",
       "</table>\n",
       "<p>114 rows × 7 columns</p>\n",
       "</div>"
      ],
      "text/plain": [
       "                         open      high       low     close  volume  average  \\\n",
       "date                                                                           \n",
       "2020-03-08 22:15:00  1.134375  1.135705  1.133600  1.134955      -1     -1.0   \n",
       "2020-03-08 23:00:00  1.134955  1.139475  1.134005  1.138705      -1     -1.0   \n",
       "2020-03-09 00:00:00  1.138705  1.139675  1.136680  1.138785      -1     -1.0   \n",
       "2020-03-09 01:00:00  1.138785  1.138795  1.135905  1.135980      -1     -1.0   \n",
       "2020-03-09 02:00:00  1.135980  1.149565  1.135610  1.142845      -1     -1.0   \n",
       "...                       ...       ...       ...       ...     ...      ...   \n",
       "2020-03-13 11:00:00  1.116520  1.117340  1.115305  1.115915      -1     -1.0   \n",
       "2020-03-13 12:00:00  1.115915  1.117550  1.113965  1.115510      -1     -1.0   \n",
       "2020-03-13 13:00:00  1.115510  1.118640  1.110920  1.111030      -1     -1.0   \n",
       "2020-03-13 14:00:00  1.111030  1.112755  1.110340  1.112440      -1     -1.0   \n",
       "2020-03-13 15:00:00  1.112440  1.113365  1.110285  1.110590      -1     -1.0   \n",
       "\n",
       "                     barCount  \n",
       "date                           \n",
       "2020-03-08 22:15:00        -1  \n",
       "2020-03-08 23:00:00        -1  \n",
       "2020-03-09 00:00:00        -1  \n",
       "2020-03-09 01:00:00        -1  \n",
       "2020-03-09 02:00:00        -1  \n",
       "...                       ...  \n",
       "2020-03-13 11:00:00        -1  \n",
       "2020-03-13 12:00:00        -1  \n",
       "2020-03-13 13:00:00        -1  \n",
       "2020-03-13 14:00:00        -1  \n",
       "2020-03-13 15:00:00        -1  \n",
       "\n",
       "[114 rows x 7 columns]"
      ]
     },
     "execution_count": 187,
     "metadata": {},
     "output_type": "execute_result"
    }
   ],
   "source": [
    "bars"
   ]
  },
  {
   "cell_type": "code",
   "execution_count": null,
   "metadata": {},
   "outputs": [],
   "source": []
  },
  {
   "cell_type": "code",
   "execution_count": 50,
   "metadata": {},
   "outputs": [
    {
     "name": "stderr",
     "output_type": "stream",
     "text": [
      "WARNING:arctic.store.version_store:Library created, but couldn't enable sharding: no such command: 'enablesharding'. This is OK if you're not 'admin'\n"
     ]
    }
   ],
   "source": [
    "store.initialize_library('history')\n",
    "lib = store['history']"
   ]
  },
  {
   "cell_type": "code",
   "execution_count": 51,
   "metadata": {},
   "outputs": [
    {
     "data": {
      "text/html": [
       "<div>\n",
       "<style scoped>\n",
       "    .dataframe tbody tr th:only-of-type {\n",
       "        vertical-align: middle;\n",
       "    }\n",
       "\n",
       "    .dataframe tbody tr th {\n",
       "        vertical-align: top;\n",
       "    }\n",
       "\n",
       "    .dataframe thead th {\n",
       "        text-align: right;\n",
       "    }\n",
       "</style>\n",
       "<table border=\"1\" class=\"dataframe\">\n",
       "  <thead>\n",
       "    <tr style=\"text-align: right;\">\n",
       "      <th></th>\n",
       "      <th>open</th>\n",
       "      <th>high</th>\n",
       "      <th>low</th>\n",
       "      <th>close</th>\n",
       "      <th>volume</th>\n",
       "      <th>average</th>\n",
       "      <th>barCount</th>\n",
       "    </tr>\n",
       "    <tr>\n",
       "      <th>date</th>\n",
       "      <th></th>\n",
       "      <th></th>\n",
       "      <th></th>\n",
       "      <th></th>\n",
       "      <th></th>\n",
       "      <th></th>\n",
       "      <th></th>\n",
       "    </tr>\n",
       "  </thead>\n",
       "  <tbody>\n",
       "    <tr>\n",
       "      <td>2016-12-01 07:26:00</td>\n",
       "      <td>4818.00</td>\n",
       "      <td>4818.00</td>\n",
       "      <td>4818.00</td>\n",
       "      <td>4818.00</td>\n",
       "      <td>5</td>\n",
       "      <td>4818.000</td>\n",
       "      <td>4</td>\n",
       "    </tr>\n",
       "    <tr>\n",
       "      <td>2016-12-01 07:27:00</td>\n",
       "      <td>4818.00</td>\n",
       "      <td>4818.00</td>\n",
       "      <td>4818.00</td>\n",
       "      <td>4818.00</td>\n",
       "      <td>0</td>\n",
       "      <td>4818.000</td>\n",
       "      <td>0</td>\n",
       "    </tr>\n",
       "    <tr>\n",
       "      <td>2016-12-01 07:28:00</td>\n",
       "      <td>4818.00</td>\n",
       "      <td>4818.00</td>\n",
       "      <td>4818.00</td>\n",
       "      <td>4818.00</td>\n",
       "      <td>0</td>\n",
       "      <td>4818.000</td>\n",
       "      <td>0</td>\n",
       "    </tr>\n",
       "    <tr>\n",
       "      <td>2016-12-01 07:29:00</td>\n",
       "      <td>4818.00</td>\n",
       "      <td>4818.00</td>\n",
       "      <td>4818.00</td>\n",
       "      <td>4818.00</td>\n",
       "      <td>0</td>\n",
       "      <td>4818.000</td>\n",
       "      <td>0</td>\n",
       "    </tr>\n",
       "    <tr>\n",
       "      <td>2016-12-01 07:30:00</td>\n",
       "      <td>4818.00</td>\n",
       "      <td>4818.00</td>\n",
       "      <td>4818.00</td>\n",
       "      <td>4818.00</td>\n",
       "      <td>0</td>\n",
       "      <td>4818.000</td>\n",
       "      <td>0</td>\n",
       "    </tr>\n",
       "    <tr>\n",
       "      <td>...</td>\n",
       "      <td>...</td>\n",
       "      <td>...</td>\n",
       "      <td>...</td>\n",
       "      <td>...</td>\n",
       "      <td>...</td>\n",
       "      <td>...</td>\n",
       "      <td>...</td>\n",
       "    </tr>\n",
       "    <tr>\n",
       "      <td>2019-09-04 18:27:00</td>\n",
       "      <td>7695.50</td>\n",
       "      <td>7696.00</td>\n",
       "      <td>7694.75</td>\n",
       "      <td>7695.00</td>\n",
       "      <td>369</td>\n",
       "      <td>7695.475</td>\n",
       "      <td>178</td>\n",
       "    </tr>\n",
       "    <tr>\n",
       "      <td>2019-09-04 18:28:00</td>\n",
       "      <td>7695.00</td>\n",
       "      <td>7695.50</td>\n",
       "      <td>7694.75</td>\n",
       "      <td>7695.00</td>\n",
       "      <td>173</td>\n",
       "      <td>7695.025</td>\n",
       "      <td>72</td>\n",
       "    </tr>\n",
       "    <tr>\n",
       "      <td>2019-09-04 18:29:00</td>\n",
       "      <td>7695.00</td>\n",
       "      <td>7695.75</td>\n",
       "      <td>7694.50</td>\n",
       "      <td>7695.00</td>\n",
       "      <td>195</td>\n",
       "      <td>7695.125</td>\n",
       "      <td>87</td>\n",
       "    </tr>\n",
       "    <tr>\n",
       "      <td>2019-09-04 18:30:00</td>\n",
       "      <td>7695.00</td>\n",
       "      <td>7698.00</td>\n",
       "      <td>7694.25</td>\n",
       "      <td>7697.50</td>\n",
       "      <td>531</td>\n",
       "      <td>7696.675</td>\n",
       "      <td>248</td>\n",
       "    </tr>\n",
       "    <tr>\n",
       "      <td>2019-09-04 18:31:00</td>\n",
       "      <td>7697.75</td>\n",
       "      <td>7697.75</td>\n",
       "      <td>7697.00</td>\n",
       "      <td>7697.25</td>\n",
       "      <td>72</td>\n",
       "      <td>7697.375</td>\n",
       "      <td>41</td>\n",
       "    </tr>\n",
       "  </tbody>\n",
       "</table>\n",
       "<p>887853 rows × 7 columns</p>\n",
       "</div>"
      ],
      "text/plain": [
       "                        open     high      low    close  volume   average  \\\n",
       "date                                                                        \n",
       "2016-12-01 07:26:00  4818.00  4818.00  4818.00  4818.00       5  4818.000   \n",
       "2016-12-01 07:27:00  4818.00  4818.00  4818.00  4818.00       0  4818.000   \n",
       "2016-12-01 07:28:00  4818.00  4818.00  4818.00  4818.00       0  4818.000   \n",
       "2016-12-01 07:29:00  4818.00  4818.00  4818.00  4818.00       0  4818.000   \n",
       "2016-12-01 07:30:00  4818.00  4818.00  4818.00  4818.00       0  4818.000   \n",
       "...                      ...      ...      ...      ...     ...       ...   \n",
       "2019-09-04 18:27:00  7695.50  7696.00  7694.75  7695.00     369  7695.475   \n",
       "2019-09-04 18:28:00  7695.00  7695.50  7694.75  7695.00     173  7695.025   \n",
       "2019-09-04 18:29:00  7695.00  7695.75  7694.50  7695.00     195  7695.125   \n",
       "2019-09-04 18:30:00  7695.00  7698.00  7694.25  7697.50     531  7696.675   \n",
       "2019-09-04 18:31:00  7697.75  7697.75  7697.00  7697.25      72  7697.375   \n",
       "\n",
       "                     barCount  \n",
       "date                           \n",
       "2016-12-01 07:26:00         4  \n",
       "2016-12-01 07:27:00         0  \n",
       "2016-12-01 07:28:00         0  \n",
       "2016-12-01 07:29:00         0  \n",
       "2016-12-01 07:30:00         0  \n",
       "...                       ...  \n",
       "2019-09-04 18:27:00       178  \n",
       "2019-09-04 18:28:00        72  \n",
       "2019-09-04 18:29:00        87  \n",
       "2019-09-04 18:30:00       248  \n",
       "2019-09-04 18:31:00        41  \n",
       "\n",
       "[887853 rows x 7 columns]"
      ]
     },
     "execution_count": 51,
     "metadata": {},
     "output_type": "execute_result"
    }
   ],
   "source": [
    "data = pd.read_pickle('/home/tomek/ib_tools/notebooks/data/minute_NQ_cont_non_active_included.pickle')\n",
    "data"
   ]
  },
  {
   "cell_type": "code",
   "execution_count": 52,
   "metadata": {},
   "outputs": [
    {
     "data": {
      "text/html": [
       "<div>\n",
       "<style scoped>\n",
       "    .dataframe tbody tr th:only-of-type {\n",
       "        vertical-align: middle;\n",
       "    }\n",
       "\n",
       "    .dataframe tbody tr th {\n",
       "        vertical-align: top;\n",
       "    }\n",
       "\n",
       "    .dataframe thead th {\n",
       "        text-align: right;\n",
       "    }\n",
       "</style>\n",
       "<table border=\"1\" class=\"dataframe\">\n",
       "  <thead>\n",
       "    <tr style=\"text-align: right;\">\n",
       "      <th></th>\n",
       "      <th>open</th>\n",
       "      <th>high</th>\n",
       "      <th>low</th>\n",
       "      <th>close</th>\n",
       "      <th>volume</th>\n",
       "      <th>average</th>\n",
       "      <th>barCount</th>\n",
       "    </tr>\n",
       "    <tr>\n",
       "      <th>date</th>\n",
       "      <th></th>\n",
       "      <th></th>\n",
       "      <th></th>\n",
       "      <th></th>\n",
       "      <th></th>\n",
       "      <th></th>\n",
       "      <th></th>\n",
       "    </tr>\n",
       "  </thead>\n",
       "  <tbody>\n",
       "    <tr>\n",
       "      <td>2017-06-06 01:14:00</td>\n",
       "      <td>5888.75</td>\n",
       "      <td>5888.75</td>\n",
       "      <td>5888.75</td>\n",
       "      <td>5888.75</td>\n",
       "      <td>1</td>\n",
       "      <td>5888.75</td>\n",
       "      <td>1</td>\n",
       "    </tr>\n",
       "    <tr>\n",
       "      <td>2017-06-06 01:15:00</td>\n",
       "      <td>5888.75</td>\n",
       "      <td>5888.75</td>\n",
       "      <td>5888.75</td>\n",
       "      <td>5888.75</td>\n",
       "      <td>0</td>\n",
       "      <td>5888.75</td>\n",
       "      <td>0</td>\n",
       "    </tr>\n",
       "    <tr>\n",
       "      <td>2017-06-06 01:16:00</td>\n",
       "      <td>5888.75</td>\n",
       "      <td>5888.75</td>\n",
       "      <td>5888.75</td>\n",
       "      <td>5888.75</td>\n",
       "      <td>0</td>\n",
       "      <td>5888.75</td>\n",
       "      <td>0</td>\n",
       "    </tr>\n",
       "    <tr>\n",
       "      <td>2017-06-06 01:17:00</td>\n",
       "      <td>5888.75</td>\n",
       "      <td>5888.75</td>\n",
       "      <td>5888.75</td>\n",
       "      <td>5888.75</td>\n",
       "      <td>0</td>\n",
       "      <td>5888.75</td>\n",
       "      <td>0</td>\n",
       "    </tr>\n",
       "    <tr>\n",
       "      <td>2017-06-06 01:18:00</td>\n",
       "      <td>5888.75</td>\n",
       "      <td>5888.75</td>\n",
       "      <td>5888.75</td>\n",
       "      <td>5888.75</td>\n",
       "      <td>0</td>\n",
       "      <td>5888.75</td>\n",
       "      <td>0</td>\n",
       "    </tr>\n",
       "    <tr>\n",
       "      <td>...</td>\n",
       "      <td>...</td>\n",
       "      <td>...</td>\n",
       "      <td>...</td>\n",
       "      <td>...</td>\n",
       "      <td>...</td>\n",
       "      <td>...</td>\n",
       "      <td>...</td>\n",
       "    </tr>\n",
       "    <tr>\n",
       "      <td>2019-07-16 00:22:00</td>\n",
       "      <td>7982.75</td>\n",
       "      <td>7983.00</td>\n",
       "      <td>7982.50</td>\n",
       "      <td>7982.75</td>\n",
       "      <td>11</td>\n",
       "      <td>7982.85</td>\n",
       "      <td>5</td>\n",
       "    </tr>\n",
       "    <tr>\n",
       "      <td>2019-07-16 00:23:00</td>\n",
       "      <td>7982.50</td>\n",
       "      <td>7983.00</td>\n",
       "      <td>7982.50</td>\n",
       "      <td>7983.00</td>\n",
       "      <td>9</td>\n",
       "      <td>7982.80</td>\n",
       "      <td>6</td>\n",
       "    </tr>\n",
       "    <tr>\n",
       "      <td>2019-07-16 00:24:00</td>\n",
       "      <td>7983.00</td>\n",
       "      <td>7983.00</td>\n",
       "      <td>7983.00</td>\n",
       "      <td>7983.00</td>\n",
       "      <td>3</td>\n",
       "      <td>7983.00</td>\n",
       "      <td>2</td>\n",
       "    </tr>\n",
       "    <tr>\n",
       "      <td>2019-07-16 00:25:00</td>\n",
       "      <td>7982.75</td>\n",
       "      <td>7983.50</td>\n",
       "      <td>7982.75</td>\n",
       "      <td>7983.50</td>\n",
       "      <td>14</td>\n",
       "      <td>7983.35</td>\n",
       "      <td>13</td>\n",
       "    </tr>\n",
       "    <tr>\n",
       "      <td>2019-07-16 00:26:00</td>\n",
       "      <td>7983.25</td>\n",
       "      <td>7983.25</td>\n",
       "      <td>7983.25</td>\n",
       "      <td>7983.25</td>\n",
       "      <td>7</td>\n",
       "      <td>7983.25</td>\n",
       "      <td>3</td>\n",
       "    </tr>\n",
       "  </tbody>\n",
       "</table>\n",
       "<p>737853 rows × 7 columns</p>\n",
       "</div>"
      ],
      "text/plain": [
       "                        open     high      low    close  volume  average  \\\n",
       "date                                                                       \n",
       "2017-06-06 01:14:00  5888.75  5888.75  5888.75  5888.75       1  5888.75   \n",
       "2017-06-06 01:15:00  5888.75  5888.75  5888.75  5888.75       0  5888.75   \n",
       "2017-06-06 01:16:00  5888.75  5888.75  5888.75  5888.75       0  5888.75   \n",
       "2017-06-06 01:17:00  5888.75  5888.75  5888.75  5888.75       0  5888.75   \n",
       "2017-06-06 01:18:00  5888.75  5888.75  5888.75  5888.75       0  5888.75   \n",
       "...                      ...      ...      ...      ...     ...      ...   \n",
       "2019-07-16 00:22:00  7982.75  7983.00  7982.50  7982.75      11  7982.85   \n",
       "2019-07-16 00:23:00  7982.50  7983.00  7982.50  7983.00       9  7982.80   \n",
       "2019-07-16 00:24:00  7983.00  7983.00  7983.00  7983.00       3  7983.00   \n",
       "2019-07-16 00:25:00  7982.75  7983.50  7982.75  7983.50      14  7983.35   \n",
       "2019-07-16 00:26:00  7983.25  7983.25  7983.25  7983.25       7  7983.25   \n",
       "\n",
       "                     barCount  \n",
       "date                           \n",
       "2017-06-06 01:14:00         1  \n",
       "2017-06-06 01:15:00         0  \n",
       "2017-06-06 01:16:00         0  \n",
       "2017-06-06 01:17:00         0  \n",
       "2017-06-06 01:18:00         0  \n",
       "...                       ...  \n",
       "2019-07-16 00:22:00         5  \n",
       "2019-07-16 00:23:00         6  \n",
       "2019-07-16 00:24:00         2  \n",
       "2019-07-16 00:25:00        13  \n",
       "2019-07-16 00:26:00         3  \n",
       "\n",
       "[737853 rows x 7 columns]"
      ]
     },
     "execution_count": 52,
     "metadata": {},
     "output_type": "execute_result"
    }
   ],
   "source": [
    "data1 = data.iloc[100000:-50000]\n",
    "data1"
   ]
  },
  {
   "cell_type": "code",
   "execution_count": 119,
   "metadata": {},
   "outputs": [],
   "source": [
    "meta = nq.nonDefaults()\n",
    "meta.update({'repr': repr(nq)})"
   ]
  },
  {
   "cell_type": "code",
   "execution_count": 131,
   "metadata": {},
   "outputs": [
    {
     "data": {
      "text/plain": [
       "{'secType': 'CONTFUT',\n",
       " 'conId': 346577750,\n",
       " 'symbol': 'NQ',\n",
       " 'lastTradeDateOrContractMonth': '20200320',\n",
       " 'strike': 0.0,\n",
       " 'right': '',\n",
       " 'multiplier': '20',\n",
       " 'exchange': 'GLOBEX',\n",
       " 'primaryExchange': '',\n",
       " 'currency': 'USD',\n",
       " 'localSymbol': 'NQH0',\n",
       " 'tradingClass': 'NQ',\n",
       " 'includeExpired': False,\n",
       " 'secIdType': '',\n",
       " 'secId': '',\n",
       " 'comboLegsDescrip': '',\n",
       " 'comboLegs': None,\n",
       " 'deltaNeutralContract': None}"
      ]
     },
     "execution_count": 131,
     "metadata": {},
     "output_type": "execute_result"
    }
   ],
   "source": [
    "nq.dict()"
   ]
  },
  {
   "cell_type": "code",
   "execution_count": 239,
   "metadata": {},
   "outputs": [
    {
     "data": {
      "text/plain": [
       "ib_insync.contract.ContFuture"
      ]
     },
     "execution_count": 239,
     "metadata": {},
     "output_type": "execute_result"
    }
   ],
   "source": [
    "type(nq)"
   ]
  },
  {
   "cell_type": "code",
   "execution_count": 242,
   "metadata": {},
   "outputs": [
    {
     "data": {
      "text/plain": [
       "False"
      ]
     },
     "execution_count": 242,
     "metadata": {},
     "output_type": "execute_result"
    }
   ],
   "source": [
    "isinstance(nq, Forex)"
   ]
  },
  {
   "cell_type": "code",
   "execution_count": 134,
   "metadata": {},
   "outputs": [
    {
     "data": {
      "text/plain": [
       "Future(conId=346577750, symbol='NQ', lastTradeDateOrContractMonth='20200320', multiplier='20', exchange='GLOBEX', currency='USD', localSymbol='NQH0', tradingClass='NQ')"
      ]
     },
     "execution_count": 134,
     "metadata": {},
     "output_type": "execute_result"
    }
   ],
   "source": [
    "nq_1 = Future(conId=nq.conId)\n",
    "ib.qualifyContracts(nq_1)\n",
    "nq_1"
   ]
  },
  {
   "cell_type": "code",
   "execution_count": 139,
   "metadata": {},
   "outputs": [
    {
     "data": {
      "text/plain": [
       "'FUT'"
      ]
     },
     "execution_count": 139,
     "metadata": {},
     "output_type": "execute_result"
    }
   ],
   "source": [
    "nq_1.secType"
   ]
  },
  {
   "cell_type": "code",
   "execution_count": 229,
   "metadata": {},
   "outputs": [
    {
     "data": {
      "text/plain": [
       "{'contract': Contract(secType='CONTFUT', conId=346577750, symbol='NQ', lastTradeDateOrContractMonth='20200320', multiplier='20', exchange='GLOBEX', currency='USD', localSymbol='NQH0', tradingClass='NQ'),\n",
       " 'marketName': 'NQ',\n",
       " 'minTick': 0.25,\n",
       " 'orderTypes': 'ACTIVETIM,AD,ADJUST,ALERT,ALGO,ALLOC,AVGCOST,BASKET,BENCHPX,COND,CONDORDER,DAY,DEACT,DEACTDIS,DEACTEOD,GAT,GTC,GTD,GTT,HID,ICE,IOC,LIT,LMT,LTH,MIT,MKT,MTL,NGCOMB,NONALGO,OCA,PEGBENCH,SCALE,SCALERST,SNAPMID,SNAPMKT,SNAPREL,STP,STPLMT,TRAIL,TRAILLIT,TRAILLMT,TRAILMIT,WHATIF',\n",
       " 'validExchanges': 'GLOBEX,QBALGO',\n",
       " 'priceMagnifier': 1,\n",
       " 'underConId': 11004958,\n",
       " 'longName': 'E-mini NASDAQ 100 Futures',\n",
       " 'contractMonth': '202003',\n",
       " 'timeZoneId': 'CST (Central Standard Time)',\n",
       " 'tradingHours': '20200312:1700-20200313:1515;20200313:1530-20200313:1600;20200314:CLOSED;20200315:1700-20200316:1515;20200316:1530-20200316:1600;20200316:1700-20200317:1515;20200317:1530-20200317:1600;20200317:1700-20200318:1515;20200318:1530-20200318:1600;20200318:1700-20200319:1515;20200319:1530-20200319:1600;20200319:1700-20200320:0830;20200321:CLOSED;20200322:CLOSED',\n",
       " 'liquidHours': '20200313:0830-20200313:1515;20200313:1530-20200313:1600;20200314:CLOSED;20200315:CLOSED;20200316:0830-20200316:1515;20200316:1530-20200316:1600;20200317:0830-20200317:1515;20200317:1530-20200317:1600;20200318:0830-20200318:1515;20200318:1530-20200318:1600;20200319:0830-20200319:1515;20200319:1530-20200319:1600;20200320:CLOSED;20200321:CLOSED;20200322:CLOSED',\n",
       " 'mdSizeMultiplier': 1,\n",
       " 'aggGroup': 2147483647,\n",
       " 'underSymbol': 'NQ',\n",
       " 'underSecType': 'IND',\n",
       " 'marketRuleIds': '67,67',\n",
       " 'realExpirationDate': '20200320',\n",
       " 'lastTradeTime': '08:30'}"
      ]
     },
     "execution_count": 229,
     "metadata": {},
     "output_type": "execute_result"
    }
   ],
   "source": [
    "ib.reqContractDetails(nq)[0].nonDefaults()"
   ]
  },
  {
   "cell_type": "code",
   "execution_count": 203,
   "metadata": {},
   "outputs": [],
   "source": [
    "nq_pickle = pickle.dumps(nq)"
   ]
  },
  {
   "cell_type": "code",
   "execution_count": 204,
   "metadata": {},
   "outputs": [
    {
     "data": {
      "text/plain": [
       "b'\\x80\\x03cib_insync.contract\\nContFuture\\nq\\x00)\\x81q\\x01N}q\\x02(X\\x07\\x00\\x00\\x00secTypeq\\x03X\\x07\\x00\\x00\\x00CONTFUTq\\x04X\\x05\\x00\\x00\\x00conIdq\\x05JV[\\xa8\\x14X\\x06\\x00\\x00\\x00symbolq\\x06X\\x02\\x00\\x00\\x00NQq\\x07X\\x1c\\x00\\x00\\x00lastTradeDateOrContractMonthq\\x08X\\x08\\x00\\x00\\x0020200320q\\tX\\x06\\x00\\x00\\x00strikeq\\nG\\x00\\x00\\x00\\x00\\x00\\x00\\x00\\x00X\\x05\\x00\\x00\\x00rightq\\x0bX\\x00\\x00\\x00\\x00q\\x0cX\\n\\x00\\x00\\x00multiplierq\\rX\\x02\\x00\\x00\\x0020q\\x0eX\\x08\\x00\\x00\\x00exchangeq\\x0fX\\x06\\x00\\x00\\x00GLOBEXq\\x10X\\x0f\\x00\\x00\\x00primaryExchangeq\\x11h\\x0cX\\x08\\x00\\x00\\x00currencyq\\x12X\\x03\\x00\\x00\\x00USDq\\x13X\\x0b\\x00\\x00\\x00localSymbolq\\x14X\\x04\\x00\\x00\\x00NQH0q\\x15X\\x0c\\x00\\x00\\x00tradingClassq\\x16X\\x02\\x00\\x00\\x00NQq\\x17X\\x0e\\x00\\x00\\x00includeExpiredq\\x18\\x89X\\t\\x00\\x00\\x00secIdTypeq\\x19h\\x0cX\\x05\\x00\\x00\\x00secIdq\\x1ah\\x0cX\\x10\\x00\\x00\\x00comboLegsDescripq\\x1bh\\x0cX\\t\\x00\\x00\\x00comboLegsq\\x1cNX\\x14\\x00\\x00\\x00deltaNeutralContractq\\x1dNu\\x86q\\x1eb.'"
      ]
     },
     "execution_count": 204,
     "metadata": {},
     "output_type": "execute_result"
    }
   ],
   "source": [
    "nq_pickle"
   ]
  },
  {
   "cell_type": "code",
   "execution_count": 136,
   "metadata": {},
   "outputs": [],
   "source": [
    "def symbol_maker(obj: Union[ContFuture, Future]) -> str:\n",
    "    return f'{obj.localSymbol}_{obj.secType}'"
   ]
  },
  {
   "cell_type": "code",
   "execution_count": 192,
   "metadata": {},
   "outputs": [],
   "source": [
    "def writer(obj: Union[ContFuture, Future], data: pd.DataFrame) -> str:\n",
    "    return lib.write(symbol_maker(obj), data, metadata={**obj.nonDefaults(), **{'repr': repr(obj), 'secType': obj.secType}})"
   ]
  },
  {
   "cell_type": "code",
   "execution_count": 206,
   "metadata": {},
   "outputs": [
    {
     "data": {
      "text/plain": [
       "VersionedItem(symbol=test,library=arctic.history,data=<class 'NoneType'>,version=2,metadata={'object': b'\\x80\\x03cib_insync.contract\\nContFuture\\nq\\x00)\\x81q\\x01N}q\\x02(X\\x07\\x00\\x00\\x00secTypeq\\x03X\\x07\\x00\\x00\\x00CONTFUTq\\x04X\\x05\\x00\\x00\\x00conIdq\\x05JV[\\xa8\\x14X\\x06\\x00\\x00\\x00symbolq\\x06X\\x02\\x00\\x00\\x00NQq\\x07X\\x1c\\x00\\x00\\x00lastTradeDateOrContractMonthq\\x08X\\x08\\x00\\x00\\x0020200320q\\tX\\x06\\x00\\x00\\x00strikeq\\nG\\x00\\x00\\x00\\x00\\x00\\x00\\x00\\x00X\\x05\\x00\\x00\\x00rightq\\x0bX\\x00\\x00\\x00\\x00q\\x0cX\\n\\x00\\x00\\x00multiplierq\\rX\\x02\\x00\\x00\\x0020q\\x0eX\\x08\\x00\\x00\\x00exchangeq\\x0fX\\x06\\x00\\x00\\x00GLOBEXq\\x10X\\x0f\\x00\\x00\\x00primaryExchangeq\\x11h\\x0cX\\x08\\x00\\x00\\x00currencyq\\x12X\\x03\\x00\\x00\\x00USDq\\x13X\\x0b\\x00\\x00\\x00localSymbolq\\x14X\\x04\\x00\\x00\\x00NQH0q\\x15X\\x0c\\x00\\x00\\x00tradingClassq\\x16X\\x02\\x00\\x00\\x00NQq\\x17X\\x0e\\x00\\x00\\x00includeExpiredq\\x18\\x89X\\t\\x00\\x00\\x00secIdTypeq\\x19h\\x0cX\\x05\\x00\\x00\\x00secIdq\\x1ah\\x0cX\\x10\\x00\\x00\\x00comboLegsDescripq\\x1bh\\x0cX\\t\\x00\\x00\\x00comboLegsq\\x1cNX\\x14\\x00\\x00\\x00deltaNeutralContractq\\x1dNu\\x86q\\x1eb.'},host=localhost)"
      ]
     },
     "execution_count": 206,
     "metadata": {},
     "output_type": "execute_result"
    }
   ],
   "source": [
    "lib.write('test', data, metadata={'object': nq_pickle})"
   ]
  },
  {
   "cell_type": "code",
   "execution_count": 207,
   "metadata": {},
   "outputs": [],
   "source": [
    "t = lib.read('test')"
   ]
  },
  {
   "cell_type": "code",
   "execution_count": 214,
   "metadata": {},
   "outputs": [
    {
     "data": {
      "text/plain": [
       "ContFuture(conId=346577750, symbol='NQ', lastTradeDateOrContractMonth='20200320', multiplier='20', exchange='GLOBEX', currency='USD', localSymbol='NQH0', tradingClass='NQ')"
      ]
     },
     "execution_count": 214,
     "metadata": {},
     "output_type": "execute_result"
    }
   ],
   "source": [
    "pickle.loads(t.metadata['object'])"
   ]
  },
  {
   "cell_type": "code",
   "execution_count": 243,
   "metadata": {},
   "outputs": [
    {
     "data": {
      "text/plain": [
       "arctic.store.versioned_item.VersionedItem"
      ]
     },
     "execution_count": 243,
     "metadata": {},
     "output_type": "execute_result"
    },
    {
     "name": "stderr",
     "output_type": "stream",
     "text": [
      "ERROR:ib_insync.client:Peer closed connection\n",
      "ERROR:ib_insync.client:Peer closed connection\n"
     ]
    }
   ],
   "source": [
    "type(writer(nq_1, data1))"
   ]
  },
  {
   "cell_type": "code",
   "execution_count": 194,
   "metadata": {},
   "outputs": [
    {
     "data": {
      "text/plain": [
       "VersionedItem(symbol=EUR.USD_CASH,library=arctic.history,data=<class 'NoneType'>,version=1,metadata={'secType': 'CASH', 'conId': 12087792, 'symbol': 'EUR', 'exchange': 'IDEALPRO', 'currency': 'USD', 'localSymbol': 'EUR.USD', 'tradingClass': 'EUR.USD', 'repr': \"Forex('EURUSD', conId=12087792, exchange='IDEALPRO', localSymbol='EUR.USD', tradingClass='EUR.USD')\"},host=localhost)"
      ]
     },
     "execution_count": 194,
     "metadata": {},
     "output_type": "execute_result"
    }
   ],
   "source": [
    "writer(edek, bars)"
   ]
  },
  {
   "cell_type": "code",
   "execution_count": 195,
   "metadata": {},
   "outputs": [
    {
     "data": {
      "text/plain": [
       "['EUR.USD_CASH', 'NQ', 'NQH0_FUT']"
      ]
     },
     "execution_count": 195,
     "metadata": {},
     "output_type": "execute_result"
    }
   ],
   "source": [
    "lib.list_symbols()"
   ]
  },
  {
   "cell_type": "code",
   "execution_count": 196,
   "metadata": {},
   "outputs": [
    {
     "data": {
      "text/plain": [
       "VersionedItem(symbol=NQH0_CONTFUT,library=arctic.history,data=<class 'NoneType'>,version=1,metadata={'secType': 'CONTFUT', 'conId': 346577750, 'symbol': 'NQ', 'lastTradeDateOrContractMonth': '20200320', 'multiplier': '20', 'exchange': 'GLOBEX', 'currency': 'USD', 'localSymbol': 'NQH0', 'tradingClass': 'NQ', 'repr': \"ContFuture(conId=346577750, symbol='NQ', lastTradeDateOrContractMonth='20200320', multiplier='20', exchange='GLOBEX', currency='USD', localSymbol='NQH0', tradingClass='NQ')\"},host=localhost)"
      ]
     },
     "execution_count": 196,
     "metadata": {},
     "output_type": "execute_result"
    }
   ],
   "source": [
    "writer(nq, data)"
   ]
  },
  {
   "cell_type": "code",
   "execution_count": 197,
   "metadata": {},
   "outputs": [
    {
     "data": {
      "text/plain": [
       "['EUR.USD_CASH', 'NQ', 'NQH0_CONTFUT', 'NQH0_FUT']"
      ]
     },
     "execution_count": 197,
     "metadata": {},
     "output_type": "execute_result"
    }
   ],
   "source": [
    "lib.list_symbols()"
   ]
  },
  {
   "cell_type": "code",
   "execution_count": 199,
   "metadata": {},
   "outputs": [
    {
     "data": {
      "text/plain": [
       "{'secType': 'CASH',\n",
       " 'conId': 12087792,\n",
       " 'symbol': 'EUR',\n",
       " 'exchange': 'IDEALPRO',\n",
       " 'currency': 'USD',\n",
       " 'localSymbol': 'EUR.USD',\n",
       " 'tradingClass': 'EUR.USD',\n",
       " 'repr': \"Forex('EURUSD', conId=12087792, exchange='IDEALPRO', localSymbol='EUR.USD', tradingClass='EUR.USD')\"}"
      ]
     },
     "execution_count": 199,
     "metadata": {},
     "output_type": "execute_result"
    }
   ],
   "source": [
    "e = lib.read('EUR.USD_CASH')\n",
    "e.metadata"
   ]
  },
  {
   "cell_type": "code",
   "execution_count": 235,
   "metadata": {},
   "outputs": [
    {
     "data": {
      "text/html": [
       "<div>\n",
       "<style scoped>\n",
       "    .dataframe tbody tr th:only-of-type {\n",
       "        vertical-align: middle;\n",
       "    }\n",
       "\n",
       "    .dataframe tbody tr th {\n",
       "        vertical-align: top;\n",
       "    }\n",
       "\n",
       "    .dataframe thead th {\n",
       "        text-align: right;\n",
       "    }\n",
       "</style>\n",
       "<table border=\"1\" class=\"dataframe\">\n",
       "  <thead>\n",
       "    <tr style=\"text-align: right;\">\n",
       "      <th></th>\n",
       "      <th>open</th>\n",
       "      <th>high</th>\n",
       "      <th>low</th>\n",
       "      <th>close</th>\n",
       "      <th>volume</th>\n",
       "      <th>average</th>\n",
       "      <th>barCount</th>\n",
       "    </tr>\n",
       "    <tr>\n",
       "      <th>date</th>\n",
       "      <th></th>\n",
       "      <th></th>\n",
       "      <th></th>\n",
       "      <th></th>\n",
       "      <th></th>\n",
       "      <th></th>\n",
       "      <th></th>\n",
       "    </tr>\n",
       "  </thead>\n",
       "  <tbody>\n",
       "    <tr>\n",
       "      <td>2020-03-08 22:15:00</td>\n",
       "      <td>1.134375</td>\n",
       "      <td>1.135705</td>\n",
       "      <td>1.133600</td>\n",
       "      <td>1.134955</td>\n",
       "      <td>-1</td>\n",
       "      <td>-1.0</td>\n",
       "      <td>-1</td>\n",
       "    </tr>\n",
       "    <tr>\n",
       "      <td>2020-03-08 23:00:00</td>\n",
       "      <td>1.134955</td>\n",
       "      <td>1.139475</td>\n",
       "      <td>1.134005</td>\n",
       "      <td>1.138705</td>\n",
       "      <td>-1</td>\n",
       "      <td>-1.0</td>\n",
       "      <td>-1</td>\n",
       "    </tr>\n",
       "    <tr>\n",
       "      <td>2020-03-09 00:00:00</td>\n",
       "      <td>1.138705</td>\n",
       "      <td>1.139675</td>\n",
       "      <td>1.136680</td>\n",
       "      <td>1.138785</td>\n",
       "      <td>-1</td>\n",
       "      <td>-1.0</td>\n",
       "      <td>-1</td>\n",
       "    </tr>\n",
       "    <tr>\n",
       "      <td>2020-03-09 01:00:00</td>\n",
       "      <td>1.138785</td>\n",
       "      <td>1.138795</td>\n",
       "      <td>1.135905</td>\n",
       "      <td>1.135980</td>\n",
       "      <td>-1</td>\n",
       "      <td>-1.0</td>\n",
       "      <td>-1</td>\n",
       "    </tr>\n",
       "    <tr>\n",
       "      <td>2020-03-09 02:00:00</td>\n",
       "      <td>1.135980</td>\n",
       "      <td>1.149565</td>\n",
       "      <td>1.135610</td>\n",
       "      <td>1.142845</td>\n",
       "      <td>-1</td>\n",
       "      <td>-1.0</td>\n",
       "      <td>-1</td>\n",
       "    </tr>\n",
       "    <tr>\n",
       "      <td>...</td>\n",
       "      <td>...</td>\n",
       "      <td>...</td>\n",
       "      <td>...</td>\n",
       "      <td>...</td>\n",
       "      <td>...</td>\n",
       "      <td>...</td>\n",
       "      <td>...</td>\n",
       "    </tr>\n",
       "    <tr>\n",
       "      <td>2020-03-13 11:00:00</td>\n",
       "      <td>1.116520</td>\n",
       "      <td>1.117340</td>\n",
       "      <td>1.115305</td>\n",
       "      <td>1.115915</td>\n",
       "      <td>-1</td>\n",
       "      <td>-1.0</td>\n",
       "      <td>-1</td>\n",
       "    </tr>\n",
       "    <tr>\n",
       "      <td>2020-03-13 12:00:00</td>\n",
       "      <td>1.115915</td>\n",
       "      <td>1.117550</td>\n",
       "      <td>1.113965</td>\n",
       "      <td>1.115510</td>\n",
       "      <td>-1</td>\n",
       "      <td>-1.0</td>\n",
       "      <td>-1</td>\n",
       "    </tr>\n",
       "    <tr>\n",
       "      <td>2020-03-13 13:00:00</td>\n",
       "      <td>1.115510</td>\n",
       "      <td>1.118640</td>\n",
       "      <td>1.110920</td>\n",
       "      <td>1.111030</td>\n",
       "      <td>-1</td>\n",
       "      <td>-1.0</td>\n",
       "      <td>-1</td>\n",
       "    </tr>\n",
       "    <tr>\n",
       "      <td>2020-03-13 14:00:00</td>\n",
       "      <td>1.111030</td>\n",
       "      <td>1.112755</td>\n",
       "      <td>1.110340</td>\n",
       "      <td>1.112440</td>\n",
       "      <td>-1</td>\n",
       "      <td>-1.0</td>\n",
       "      <td>-1</td>\n",
       "    </tr>\n",
       "    <tr>\n",
       "      <td>2020-03-13 15:00:00</td>\n",
       "      <td>1.112440</td>\n",
       "      <td>1.113365</td>\n",
       "      <td>1.110285</td>\n",
       "      <td>1.110590</td>\n",
       "      <td>-1</td>\n",
       "      <td>-1.0</td>\n",
       "      <td>-1</td>\n",
       "    </tr>\n",
       "  </tbody>\n",
       "</table>\n",
       "<p>114 rows × 7 columns</p>\n",
       "</div>"
      ],
      "text/plain": [
       "                         open      high       low     close  volume  average  \\\n",
       "date                                                                           \n",
       "2020-03-08 22:15:00  1.134375  1.135705  1.133600  1.134955      -1     -1.0   \n",
       "2020-03-08 23:00:00  1.134955  1.139475  1.134005  1.138705      -1     -1.0   \n",
       "2020-03-09 00:00:00  1.138705  1.139675  1.136680  1.138785      -1     -1.0   \n",
       "2020-03-09 01:00:00  1.138785  1.138795  1.135905  1.135980      -1     -1.0   \n",
       "2020-03-09 02:00:00  1.135980  1.149565  1.135610  1.142845      -1     -1.0   \n",
       "...                       ...       ...       ...       ...     ...      ...   \n",
       "2020-03-13 11:00:00  1.116520  1.117340  1.115305  1.115915      -1     -1.0   \n",
       "2020-03-13 12:00:00  1.115915  1.117550  1.113965  1.115510      -1     -1.0   \n",
       "2020-03-13 13:00:00  1.115510  1.118640  1.110920  1.111030      -1     -1.0   \n",
       "2020-03-13 14:00:00  1.111030  1.112755  1.110340  1.112440      -1     -1.0   \n",
       "2020-03-13 15:00:00  1.112440  1.113365  1.110285  1.110590      -1     -1.0   \n",
       "\n",
       "                     barCount  \n",
       "date                           \n",
       "2020-03-08 22:15:00        -1  \n",
       "2020-03-08 23:00:00        -1  \n",
       "2020-03-09 00:00:00        -1  \n",
       "2020-03-09 01:00:00        -1  \n",
       "2020-03-09 02:00:00        -1  \n",
       "...                       ...  \n",
       "2020-03-13 11:00:00        -1  \n",
       "2020-03-13 12:00:00        -1  \n",
       "2020-03-13 13:00:00        -1  \n",
       "2020-03-13 14:00:00        -1  \n",
       "2020-03-13 15:00:00        -1  \n",
       "\n",
       "[114 rows x 7 columns]"
      ]
     },
     "execution_count": 235,
     "metadata": {},
     "output_type": "execute_result"
    }
   ],
   "source": [
    "e.data"
   ]
  },
  {
   "cell_type": "code",
   "execution_count": 236,
   "metadata": {},
   "outputs": [
    {
     "data": {
      "text/html": [
       "<div>\n",
       "<style scoped>\n",
       "    .dataframe tbody tr th:only-of-type {\n",
       "        vertical-align: middle;\n",
       "    }\n",
       "\n",
       "    .dataframe tbody tr th {\n",
       "        vertical-align: top;\n",
       "    }\n",
       "\n",
       "    .dataframe thead th {\n",
       "        text-align: right;\n",
       "    }\n",
       "</style>\n",
       "<table border=\"1\" class=\"dataframe\">\n",
       "  <thead>\n",
       "    <tr style=\"text-align: right;\">\n",
       "      <th></th>\n",
       "      <th>open</th>\n",
       "      <th>high</th>\n",
       "      <th>low</th>\n",
       "      <th>close</th>\n",
       "      <th>volume</th>\n",
       "      <th>average</th>\n",
       "      <th>barCount</th>\n",
       "    </tr>\n",
       "    <tr>\n",
       "      <th>date</th>\n",
       "      <th></th>\n",
       "      <th></th>\n",
       "      <th></th>\n",
       "      <th></th>\n",
       "      <th></th>\n",
       "      <th></th>\n",
       "      <th></th>\n",
       "    </tr>\n",
       "  </thead>\n",
       "  <tbody>\n",
       "    <tr>\n",
       "      <td>2020-03-08 22:15:00</td>\n",
       "      <td>1.134375</td>\n",
       "      <td>1.135705</td>\n",
       "      <td>1.133600</td>\n",
       "      <td>1.134955</td>\n",
       "      <td>-1</td>\n",
       "      <td>-1.0</td>\n",
       "      <td>-1</td>\n",
       "    </tr>\n",
       "    <tr>\n",
       "      <td>2020-03-08 23:00:00</td>\n",
       "      <td>1.134955</td>\n",
       "      <td>1.139475</td>\n",
       "      <td>1.134005</td>\n",
       "      <td>1.138705</td>\n",
       "      <td>-1</td>\n",
       "      <td>-1.0</td>\n",
       "      <td>-1</td>\n",
       "    </tr>\n",
       "    <tr>\n",
       "      <td>2020-03-09 00:00:00</td>\n",
       "      <td>1.138705</td>\n",
       "      <td>1.139675</td>\n",
       "      <td>1.136680</td>\n",
       "      <td>1.138785</td>\n",
       "      <td>-1</td>\n",
       "      <td>-1.0</td>\n",
       "      <td>-1</td>\n",
       "    </tr>\n",
       "    <tr>\n",
       "      <td>2020-03-09 01:00:00</td>\n",
       "      <td>1.138785</td>\n",
       "      <td>1.138795</td>\n",
       "      <td>1.135905</td>\n",
       "      <td>1.135980</td>\n",
       "      <td>-1</td>\n",
       "      <td>-1.0</td>\n",
       "      <td>-1</td>\n",
       "    </tr>\n",
       "    <tr>\n",
       "      <td>2020-03-09 02:00:00</td>\n",
       "      <td>1.135980</td>\n",
       "      <td>1.149565</td>\n",
       "      <td>1.135610</td>\n",
       "      <td>1.142845</td>\n",
       "      <td>-1</td>\n",
       "      <td>-1.0</td>\n",
       "      <td>-1</td>\n",
       "    </tr>\n",
       "    <tr>\n",
       "      <td>2020-03-09 03:00:00</td>\n",
       "      <td>1.142845</td>\n",
       "      <td>1.146125</td>\n",
       "      <td>1.138660</td>\n",
       "      <td>1.139810</td>\n",
       "      <td>-1</td>\n",
       "      <td>-1.0</td>\n",
       "      <td>-1</td>\n",
       "    </tr>\n",
       "    <tr>\n",
       "      <td>2020-03-09 04:00:00</td>\n",
       "      <td>1.139810</td>\n",
       "      <td>1.142740</td>\n",
       "      <td>1.137140</td>\n",
       "      <td>1.141655</td>\n",
       "      <td>-1</td>\n",
       "      <td>-1.0</td>\n",
       "      <td>-1</td>\n",
       "    </tr>\n",
       "    <tr>\n",
       "      <td>2020-03-09 05:00:00</td>\n",
       "      <td>1.141655</td>\n",
       "      <td>1.142360</td>\n",
       "      <td>1.139755</td>\n",
       "      <td>1.140175</td>\n",
       "      <td>-1</td>\n",
       "      <td>-1.0</td>\n",
       "      <td>-1</td>\n",
       "    </tr>\n",
       "    <tr>\n",
       "      <td>2020-03-09 06:00:00</td>\n",
       "      <td>1.140175</td>\n",
       "      <td>1.142545</td>\n",
       "      <td>1.138110</td>\n",
       "      <td>1.138195</td>\n",
       "      <td>-1</td>\n",
       "      <td>-1.0</td>\n",
       "      <td>-1</td>\n",
       "    </tr>\n",
       "    <tr>\n",
       "      <td>2020-03-09 07:00:00</td>\n",
       "      <td>1.138195</td>\n",
       "      <td>1.140945</td>\n",
       "      <td>1.138155</td>\n",
       "      <td>1.140000</td>\n",
       "      <td>-1</td>\n",
       "      <td>-1.0</td>\n",
       "      <td>-1</td>\n",
       "    </tr>\n",
       "    <tr>\n",
       "      <td>2020-03-09 08:00:00</td>\n",
       "      <td>1.140000</td>\n",
       "      <td>1.147600</td>\n",
       "      <td>1.140000</td>\n",
       "      <td>1.143860</td>\n",
       "      <td>-1</td>\n",
       "      <td>-1.0</td>\n",
       "      <td>-1</td>\n",
       "    </tr>\n",
       "    <tr>\n",
       "      <td>2020-03-09 09:00:00</td>\n",
       "      <td>1.143860</td>\n",
       "      <td>1.144030</td>\n",
       "      <td>1.139020</td>\n",
       "      <td>1.140245</td>\n",
       "      <td>-1</td>\n",
       "      <td>-1.0</td>\n",
       "      <td>-1</td>\n",
       "    </tr>\n",
       "    <tr>\n",
       "      <td>2020-03-09 10:00:00</td>\n",
       "      <td>1.140245</td>\n",
       "      <td>1.140665</td>\n",
       "      <td>1.136550</td>\n",
       "      <td>1.139135</td>\n",
       "      <td>-1</td>\n",
       "      <td>-1.0</td>\n",
       "      <td>-1</td>\n",
       "    </tr>\n",
       "    <tr>\n",
       "      <td>2020-03-09 11:00:00</td>\n",
       "      <td>1.139135</td>\n",
       "      <td>1.143910</td>\n",
       "      <td>1.139000</td>\n",
       "      <td>1.142415</td>\n",
       "      <td>-1</td>\n",
       "      <td>-1.0</td>\n",
       "      <td>-1</td>\n",
       "    </tr>\n",
       "    <tr>\n",
       "      <td>2020-03-09 12:00:00</td>\n",
       "      <td>1.142415</td>\n",
       "      <td>1.142975</td>\n",
       "      <td>1.140910</td>\n",
       "      <td>1.142515</td>\n",
       "      <td>-1</td>\n",
       "      <td>-1.0</td>\n",
       "      <td>-1</td>\n",
       "    </tr>\n",
       "    <tr>\n",
       "      <td>2020-03-09 13:00:00</td>\n",
       "      <td>1.142515</td>\n",
       "      <td>1.143880</td>\n",
       "      <td>1.140300</td>\n",
       "      <td>1.143570</td>\n",
       "      <td>-1</td>\n",
       "      <td>-1.0</td>\n",
       "      <td>-1</td>\n",
       "    </tr>\n",
       "    <tr>\n",
       "      <td>2020-03-09 14:00:00</td>\n",
       "      <td>1.143570</td>\n",
       "      <td>1.148460</td>\n",
       "      <td>1.137580</td>\n",
       "      <td>1.140115</td>\n",
       "      <td>-1</td>\n",
       "      <td>-1.0</td>\n",
       "      <td>-1</td>\n",
       "    </tr>\n",
       "    <tr>\n",
       "      <td>2020-03-09 15:00:00</td>\n",
       "      <td>1.140115</td>\n",
       "      <td>1.144715</td>\n",
       "      <td>1.139995</td>\n",
       "      <td>1.143450</td>\n",
       "      <td>-1</td>\n",
       "      <td>-1.0</td>\n",
       "      <td>-1</td>\n",
       "    </tr>\n",
       "    <tr>\n",
       "      <td>2020-03-09 16:00:00</td>\n",
       "      <td>1.143450</td>\n",
       "      <td>1.144675</td>\n",
       "      <td>1.141195</td>\n",
       "      <td>1.141980</td>\n",
       "      <td>-1</td>\n",
       "      <td>-1.0</td>\n",
       "      <td>-1</td>\n",
       "    </tr>\n",
       "    <tr>\n",
       "      <td>2020-03-09 17:00:00</td>\n",
       "      <td>1.141980</td>\n",
       "      <td>1.147360</td>\n",
       "      <td>1.141405</td>\n",
       "      <td>1.147075</td>\n",
       "      <td>-1</td>\n",
       "      <td>-1.0</td>\n",
       "      <td>-1</td>\n",
       "    </tr>\n",
       "    <tr>\n",
       "      <td>2020-03-09 18:00:00</td>\n",
       "      <td>1.147075</td>\n",
       "      <td>1.147915</td>\n",
       "      <td>1.144325</td>\n",
       "      <td>1.146285</td>\n",
       "      <td>-1</td>\n",
       "      <td>-1.0</td>\n",
       "      <td>-1</td>\n",
       "    </tr>\n",
       "    <tr>\n",
       "      <td>2020-03-09 19:00:00</td>\n",
       "      <td>1.146285</td>\n",
       "      <td>1.147310</td>\n",
       "      <td>1.142740</td>\n",
       "      <td>1.146135</td>\n",
       "      <td>-1</td>\n",
       "      <td>-1.0</td>\n",
       "      <td>-1</td>\n",
       "    </tr>\n",
       "    <tr>\n",
       "      <td>2020-03-09 20:00:00</td>\n",
       "      <td>1.146135</td>\n",
       "      <td>1.146665</td>\n",
       "      <td>1.143560</td>\n",
       "      <td>1.145250</td>\n",
       "      <td>-1</td>\n",
       "      <td>-1.0</td>\n",
       "      <td>-1</td>\n",
       "    </tr>\n",
       "    <tr>\n",
       "      <td>2020-03-09 21:00:00</td>\n",
       "      <td>1.145250</td>\n",
       "      <td>1.146615</td>\n",
       "      <td>1.143350</td>\n",
       "      <td>1.144380</td>\n",
       "      <td>-1</td>\n",
       "      <td>-1.0</td>\n",
       "      <td>-1</td>\n",
       "    </tr>\n",
       "    <tr>\n",
       "      <td>2020-03-09 22:15:00</td>\n",
       "      <td>1.143850</td>\n",
       "      <td>1.145700</td>\n",
       "      <td>1.143485</td>\n",
       "      <td>1.144550</td>\n",
       "      <td>-1</td>\n",
       "      <td>-1.0</td>\n",
       "      <td>-1</td>\n",
       "    </tr>\n",
       "    <tr>\n",
       "      <td>2020-03-09 23:00:00</td>\n",
       "      <td>1.144550</td>\n",
       "      <td>1.145840</td>\n",
       "      <td>1.143435</td>\n",
       "      <td>1.143895</td>\n",
       "      <td>-1</td>\n",
       "      <td>-1.0</td>\n",
       "      <td>-1</td>\n",
       "    </tr>\n",
       "    <tr>\n",
       "      <td>2020-03-10 00:00:00</td>\n",
       "      <td>1.143895</td>\n",
       "      <td>1.143950</td>\n",
       "      <td>1.139485</td>\n",
       "      <td>1.139920</td>\n",
       "      <td>-1</td>\n",
       "      <td>-1.0</td>\n",
       "      <td>-1</td>\n",
       "    </tr>\n",
       "  </tbody>\n",
       "</table>\n",
       "</div>"
      ],
      "text/plain": [
       "                         open      high       low     close  volume  average  \\\n",
       "date                                                                           \n",
       "2020-03-08 22:15:00  1.134375  1.135705  1.133600  1.134955      -1     -1.0   \n",
       "2020-03-08 23:00:00  1.134955  1.139475  1.134005  1.138705      -1     -1.0   \n",
       "2020-03-09 00:00:00  1.138705  1.139675  1.136680  1.138785      -1     -1.0   \n",
       "2020-03-09 01:00:00  1.138785  1.138795  1.135905  1.135980      -1     -1.0   \n",
       "2020-03-09 02:00:00  1.135980  1.149565  1.135610  1.142845      -1     -1.0   \n",
       "2020-03-09 03:00:00  1.142845  1.146125  1.138660  1.139810      -1     -1.0   \n",
       "2020-03-09 04:00:00  1.139810  1.142740  1.137140  1.141655      -1     -1.0   \n",
       "2020-03-09 05:00:00  1.141655  1.142360  1.139755  1.140175      -1     -1.0   \n",
       "2020-03-09 06:00:00  1.140175  1.142545  1.138110  1.138195      -1     -1.0   \n",
       "2020-03-09 07:00:00  1.138195  1.140945  1.138155  1.140000      -1     -1.0   \n",
       "2020-03-09 08:00:00  1.140000  1.147600  1.140000  1.143860      -1     -1.0   \n",
       "2020-03-09 09:00:00  1.143860  1.144030  1.139020  1.140245      -1     -1.0   \n",
       "2020-03-09 10:00:00  1.140245  1.140665  1.136550  1.139135      -1     -1.0   \n",
       "2020-03-09 11:00:00  1.139135  1.143910  1.139000  1.142415      -1     -1.0   \n",
       "2020-03-09 12:00:00  1.142415  1.142975  1.140910  1.142515      -1     -1.0   \n",
       "2020-03-09 13:00:00  1.142515  1.143880  1.140300  1.143570      -1     -1.0   \n",
       "2020-03-09 14:00:00  1.143570  1.148460  1.137580  1.140115      -1     -1.0   \n",
       "2020-03-09 15:00:00  1.140115  1.144715  1.139995  1.143450      -1     -1.0   \n",
       "2020-03-09 16:00:00  1.143450  1.144675  1.141195  1.141980      -1     -1.0   \n",
       "2020-03-09 17:00:00  1.141980  1.147360  1.141405  1.147075      -1     -1.0   \n",
       "2020-03-09 18:00:00  1.147075  1.147915  1.144325  1.146285      -1     -1.0   \n",
       "2020-03-09 19:00:00  1.146285  1.147310  1.142740  1.146135      -1     -1.0   \n",
       "2020-03-09 20:00:00  1.146135  1.146665  1.143560  1.145250      -1     -1.0   \n",
       "2020-03-09 21:00:00  1.145250  1.146615  1.143350  1.144380      -1     -1.0   \n",
       "2020-03-09 22:15:00  1.143850  1.145700  1.143485  1.144550      -1     -1.0   \n",
       "2020-03-09 23:00:00  1.144550  1.145840  1.143435  1.143895      -1     -1.0   \n",
       "2020-03-10 00:00:00  1.143895  1.143950  1.139485  1.139920      -1     -1.0   \n",
       "\n",
       "                     barCount  \n",
       "date                           \n",
       "2020-03-08 22:15:00        -1  \n",
       "2020-03-08 23:00:00        -1  \n",
       "2020-03-09 00:00:00        -1  \n",
       "2020-03-09 01:00:00        -1  \n",
       "2020-03-09 02:00:00        -1  \n",
       "2020-03-09 03:00:00        -1  \n",
       "2020-03-09 04:00:00        -1  \n",
       "2020-03-09 05:00:00        -1  \n",
       "2020-03-09 06:00:00        -1  \n",
       "2020-03-09 07:00:00        -1  \n",
       "2020-03-09 08:00:00        -1  \n",
       "2020-03-09 09:00:00        -1  \n",
       "2020-03-09 10:00:00        -1  \n",
       "2020-03-09 11:00:00        -1  \n",
       "2020-03-09 12:00:00        -1  \n",
       "2020-03-09 13:00:00        -1  \n",
       "2020-03-09 14:00:00        -1  \n",
       "2020-03-09 15:00:00        -1  \n",
       "2020-03-09 16:00:00        -1  \n",
       "2020-03-09 17:00:00        -1  \n",
       "2020-03-09 18:00:00        -1  \n",
       "2020-03-09 19:00:00        -1  \n",
       "2020-03-09 20:00:00        -1  \n",
       "2020-03-09 21:00:00        -1  \n",
       "2020-03-09 22:15:00        -1  \n",
       "2020-03-09 23:00:00        -1  \n",
       "2020-03-10 00:00:00        -1  "
      ]
     },
     "execution_count": 236,
     "metadata": {},
     "output_type": "execute_result"
    }
   ],
   "source": [
    "lib.read('EUR.USD_CASH', date_range=DateRange('20200301','20200310')).data"
   ]
  },
  {
   "cell_type": "code",
   "execution_count": 147,
   "metadata": {},
   "outputs": [],
   "source": [
    "item = lib.read('NQ')"
   ]
  },
  {
   "cell_type": "code",
   "execution_count": 151,
   "metadata": {},
   "outputs": [
    {
     "data": {
      "text/plain": [
       "12"
      ]
     },
     "execution_count": 151,
     "metadata": {},
     "output_type": "execute_result"
    }
   ],
   "source": [
    "item.version"
   ]
  },
  {
   "cell_type": "code",
   "execution_count": 152,
   "metadata": {},
   "outputs": [],
   "source": [
    "item_1 = lib.read(symbol_maker(nq_1))"
   ]
  },
  {
   "cell_type": "code",
   "execution_count": 153,
   "metadata": {},
   "outputs": [
    {
     "data": {
      "text/plain": [
       "VersionedItem(symbol=NQH0_FUT,library=arctic.history,data=<class 'pandas.core.frame.DataFrame'>,version=1,metadata={'secType': 'FUT', 'conId': 346577750, 'symbol': 'NQ', 'lastTradeDateOrContractMonth': '20200320', 'multiplier': '20', 'exchange': 'GLOBEX', 'currency': 'USD', 'localSymbol': 'NQH0', 'tradingClass': 'NQ', 'repr': \"Future(conId=346577750, symbol='NQ', lastTradeDateOrContractMonth='20200320', multiplier='20', exchange='GLOBEX', currency='USD', localSymbol='NQH0', tradingClass='NQ')\"},host=localhost)"
      ]
     },
     "execution_count": 153,
     "metadata": {},
     "output_type": "execute_result"
    }
   ],
   "source": [
    "item_1"
   ]
  },
  {
   "cell_type": "code",
   "execution_count": 154,
   "metadata": {},
   "outputs": [
    {
     "data": {
      "text/plain": [
       "1"
      ]
     },
     "execution_count": 154,
     "metadata": {},
     "output_type": "execute_result"
    }
   ],
   "source": [
    "item_1.version"
   ]
  },
  {
   "cell_type": "code",
   "execution_count": 148,
   "metadata": {},
   "outputs": [
    {
     "data": {
      "text/plain": [
       "{'secType': 'CONTFUT',\n",
       " 'conId': 346577750,\n",
       " 'symbol': 'NQ',\n",
       " 'lastTradeDateOrContractMonth': '20200320',\n",
       " 'multiplier': '20',\n",
       " 'exchange': 'GLOBEX',\n",
       " 'currency': 'USD',\n",
       " 'localSymbol': 'NQH0',\n",
       " 'tradingClass': 'NQ',\n",
       " 'repr': \"ContFuture(conId=346577750, symbol='NQ', lastTradeDateOrContractMonth='20200320', multiplier='20', exchange='GLOBEX', currency='USD', localSymbol='NQH0', tradingClass='NQ')\"}"
      ]
     },
     "execution_count": 148,
     "metadata": {},
     "output_type": "execute_result"
    }
   ],
   "source": [
    "item.metadata"
   ]
  },
  {
   "cell_type": "code",
   "execution_count": 149,
   "metadata": {},
   "outputs": [
    {
     "data": {
      "text/plain": [
       "{'secType': 'CONTFUT',\n",
       " 'conId': 346577750,\n",
       " 'symbol': 'NQ',\n",
       " 'lastTradeDateOrContractMonth': '20200320',\n",
       " 'multiplier': '20',\n",
       " 'exchange': 'GLOBEX',\n",
       " 'currency': 'USD',\n",
       " 'localSymbol': 'NQH0',\n",
       " 'tradingClass': 'NQ',\n",
       " 'repr': \"ContFuture(conId=346577750, symbol='NQ', lastTradeDateOrContractMonth='20200320', multiplier='20', exchange='GLOBEX', currency='USD', localSymbol='NQH0', tradingClass='NQ')\"}"
      ]
     },
     "execution_count": 149,
     "metadata": {},
     "output_type": "execute_result"
    }
   ],
   "source": [
    "lib.read_metadata('NQ').metadata"
   ]
  },
  {
   "cell_type": "code",
   "execution_count": 57,
   "metadata": {},
   "outputs": [
    {
     "data": {
      "text/plain": [
       "['NQ']"
      ]
     },
     "execution_count": 57,
     "metadata": {},
     "output_type": "execute_result"
    }
   ],
   "source": [
    "lib.list_symbols()"
   ]
  },
  {
   "cell_type": "code",
   "execution_count": 58,
   "metadata": {},
   "outputs": [
    {
     "data": {
      "text/plain": [
       "VersionedItem(symbol=NQ,library=arctic.history,data=<class 'NoneType'>,version=2,metadata={'source': 'history', 'type': 'continuous'},host=localhost)"
      ]
     },
     "execution_count": 58,
     "metadata": {},
     "output_type": "execute_result"
    }
   ],
   "source": [
    "lib.append('NQ', data.iloc[-50000:])"
   ]
  },
  {
   "cell_type": "code",
   "execution_count": 59,
   "metadata": {},
   "outputs": [
    {
     "data": {
      "text/plain": [
       "VersionedItem(symbol=NQ,library=arctic.history,data=<class 'pandas.core.frame.DataFrame'>,version=2,metadata={'source': 'history', 'type': 'continuous'},host=localhost)"
      ]
     },
     "execution_count": 59,
     "metadata": {},
     "output_type": "execute_result"
    }
   ],
   "source": [
    "lib.read('NQ')"
   ]
  },
  {
   "cell_type": "code",
   "execution_count": 61,
   "metadata": {},
   "outputs": [
    {
     "data": {
      "text/plain": [
       "VersionedItem(symbol=NQ,library=arctic.history,data=<class 'NoneType'>,version=3,metadata={'source': 'history', 'type': 'continuous'},host=localhost)"
      ]
     },
     "execution_count": 61,
     "metadata": {},
     "output_type": "execute_result"
    }
   ],
   "source": [
    "lib.append('NQ', data.iloc[:100000])"
   ]
  },
  {
   "cell_type": "code",
   "execution_count": 62,
   "metadata": {},
   "outputs": [
    {
     "data": {
      "text/plain": [
       "VersionedItem(symbol=NQ,library=arctic.history,data=<class 'pandas.core.frame.DataFrame'>,version=3,metadata={'source': 'history', 'type': 'continuous'},host=localhost)"
      ]
     },
     "execution_count": 62,
     "metadata": {},
     "output_type": "execute_result"
    }
   ],
   "source": [
    "lib.read('NQ')"
   ]
  },
  {
   "cell_type": "code",
   "execution_count": 26,
   "metadata": {},
   "outputs": [],
   "source": [
    "nq_hourly = pd.read_pickle('/home/tomek/ib_tools/notebooks/data/hourly_NQ0919.pickle')"
   ]
  },
  {
   "cell_type": "code",
   "execution_count": 27,
   "metadata": {},
   "outputs": [
    {
     "data": {
      "text/html": [
       "<div>\n",
       "<style scoped>\n",
       "    .dataframe tbody tr th:only-of-type {\n",
       "        vertical-align: middle;\n",
       "    }\n",
       "\n",
       "    .dataframe tbody tr th {\n",
       "        vertical-align: top;\n",
       "    }\n",
       "\n",
       "    .dataframe thead th {\n",
       "        text-align: right;\n",
       "    }\n",
       "</style>\n",
       "<table border=\"1\" class=\"dataframe\">\n",
       "  <thead>\n",
       "    <tr style=\"text-align: right;\">\n",
       "      <th></th>\n",
       "      <th>open</th>\n",
       "      <th>high</th>\n",
       "      <th>low</th>\n",
       "      <th>close</th>\n",
       "      <th>volume</th>\n",
       "      <th>average</th>\n",
       "      <th>barCount</th>\n",
       "    </tr>\n",
       "    <tr>\n",
       "      <th>date</th>\n",
       "      <th></th>\n",
       "      <th></th>\n",
       "      <th></th>\n",
       "      <th></th>\n",
       "      <th></th>\n",
       "      <th></th>\n",
       "      <th></th>\n",
       "    </tr>\n",
       "  </thead>\n",
       "  <tbody>\n",
       "    <tr>\n",
       "      <td>2018-07-16 15:30:00</td>\n",
       "      <td>7509.25</td>\n",
       "      <td>7509.25</td>\n",
       "      <td>7509.25</td>\n",
       "      <td>7509.25</td>\n",
       "      <td>0</td>\n",
       "      <td>7509.25</td>\n",
       "      <td>0</td>\n",
       "    </tr>\n",
       "    <tr>\n",
       "      <td>2018-07-16 16:00:00</td>\n",
       "      <td>7509.25</td>\n",
       "      <td>7509.25</td>\n",
       "      <td>7509.25</td>\n",
       "      <td>7509.25</td>\n",
       "      <td>0</td>\n",
       "      <td>7509.25</td>\n",
       "      <td>0</td>\n",
       "    </tr>\n",
       "    <tr>\n",
       "      <td>2018-07-16 17:00:00</td>\n",
       "      <td>7509.25</td>\n",
       "      <td>7509.25</td>\n",
       "      <td>7509.25</td>\n",
       "      <td>7509.25</td>\n",
       "      <td>0</td>\n",
       "      <td>7509.25</td>\n",
       "      <td>0</td>\n",
       "    </tr>\n",
       "    <tr>\n",
       "      <td>2018-07-16 18:00:00</td>\n",
       "      <td>7509.25</td>\n",
       "      <td>7509.25</td>\n",
       "      <td>7509.25</td>\n",
       "      <td>7509.25</td>\n",
       "      <td>0</td>\n",
       "      <td>7509.25</td>\n",
       "      <td>0</td>\n",
       "    </tr>\n",
       "    <tr>\n",
       "      <td>2018-07-16 19:00:00</td>\n",
       "      <td>7509.25</td>\n",
       "      <td>7509.25</td>\n",
       "      <td>7509.25</td>\n",
       "      <td>7509.25</td>\n",
       "      <td>0</td>\n",
       "      <td>7509.25</td>\n",
       "      <td>0</td>\n",
       "    </tr>\n",
       "  </tbody>\n",
       "</table>\n",
       "</div>"
      ],
      "text/plain": [
       "                        open     high      low    close  volume  average  \\\n",
       "date                                                                       \n",
       "2018-07-16 15:30:00  7509.25  7509.25  7509.25  7509.25       0  7509.25   \n",
       "2018-07-16 16:00:00  7509.25  7509.25  7509.25  7509.25       0  7509.25   \n",
       "2018-07-16 17:00:00  7509.25  7509.25  7509.25  7509.25       0  7509.25   \n",
       "2018-07-16 18:00:00  7509.25  7509.25  7509.25  7509.25       0  7509.25   \n",
       "2018-07-16 19:00:00  7509.25  7509.25  7509.25  7509.25       0  7509.25   \n",
       "\n",
       "                     barCount  \n",
       "date                           \n",
       "2018-07-16 15:30:00         0  \n",
       "2018-07-16 16:00:00         0  \n",
       "2018-07-16 17:00:00         0  \n",
       "2018-07-16 18:00:00         0  \n",
       "2018-07-16 19:00:00         0  "
      ]
     },
     "execution_count": 27,
     "metadata": {},
     "output_type": "execute_result"
    }
   ],
   "source": [
    "nq_hourly.head()"
   ]
  },
  {
   "cell_type": "code",
   "execution_count": 28,
   "metadata": {},
   "outputs": [
    {
     "name": "stdout",
     "output_type": "stream",
     "text": [
      "220 ms ± 3.58 ms per loop (mean ± std. dev. of 7 runs, 1 loop each)\n"
     ]
    }
   ],
   "source": [
    "%%timeit\n",
    "lib.write('NQ_hour', nq_hourly[50:])"
   ]
  },
  {
   "cell_type": "code",
   "execution_count": 29,
   "metadata": {},
   "outputs": [
    {
     "name": "stdout",
     "output_type": "stream",
     "text": [
      "355 ms ± 3.63 ms per loop (mean ± std. dev. of 7 runs, 1 loop each)\n"
     ]
    }
   ],
   "source": [
    "%%timeit\n",
    "lib.read('NQ_hour')"
   ]
  },
  {
   "cell_type": "code",
   "execution_count": 30,
   "metadata": {},
   "outputs": [
    {
     "name": "stdout",
     "output_type": "stream",
     "text": [
      "17.5 ms ± 90.6 µs per loop (mean ± std. dev. of 7 runs, 100 loops each)\n"
     ]
    }
   ],
   "source": [
    "%%timeit\n",
    "lib.write('NQ_hour_2', nq_hourly[50:], chunk_size='M')"
   ]
  },
  {
   "cell_type": "code",
   "execution_count": 31,
   "metadata": {},
   "outputs": [
    {
     "name": "stdout",
     "output_type": "stream",
     "text": [
      "26.9 ms ± 299 µs per loop (mean ± std. dev. of 7 runs, 10 loops each)\n"
     ]
    }
   ],
   "source": [
    "%%timeit\n",
    "lib.read('NQ_hour_2')"
   ]
  },
  {
   "cell_type": "code",
   "execution_count": 32,
   "metadata": {},
   "outputs": [],
   "source": [
    "lib.append('NQ_hour_2', nq_hourly[:50])"
   ]
  },
  {
   "cell_type": "code",
   "execution_count": null,
   "metadata": {},
   "outputs": [],
   "source": []
  },
  {
   "cell_type": "code",
   "execution_count": 33,
   "metadata": {},
   "outputs": [],
   "source": [
    "lib.append('NQ_hour', nq_hourly[:50])"
   ]
  },
  {
   "cell_type": "code",
   "execution_count": 34,
   "metadata": {},
   "outputs": [
    {
     "data": {
      "text/html": [
       "<div>\n",
       "<style scoped>\n",
       "    .dataframe tbody tr th:only-of-type {\n",
       "        vertical-align: middle;\n",
       "    }\n",
       "\n",
       "    .dataframe tbody tr th {\n",
       "        vertical-align: top;\n",
       "    }\n",
       "\n",
       "    .dataframe thead th {\n",
       "        text-align: right;\n",
       "    }\n",
       "</style>\n",
       "<table border=\"1\" class=\"dataframe\">\n",
       "  <thead>\n",
       "    <tr style=\"text-align: right;\">\n",
       "      <th></th>\n",
       "      <th>open</th>\n",
       "      <th>high</th>\n",
       "      <th>low</th>\n",
       "      <th>close</th>\n",
       "      <th>volume</th>\n",
       "      <th>average</th>\n",
       "      <th>barCount</th>\n",
       "    </tr>\n",
       "    <tr>\n",
       "      <th>date</th>\n",
       "      <th></th>\n",
       "      <th></th>\n",
       "      <th></th>\n",
       "      <th></th>\n",
       "      <th></th>\n",
       "      <th></th>\n",
       "      <th></th>\n",
       "    </tr>\n",
       "  </thead>\n",
       "  <tbody>\n",
       "    <tr>\n",
       "      <td>2018-07-16 15:30:00</td>\n",
       "      <td>7509.25</td>\n",
       "      <td>7509.25</td>\n",
       "      <td>7509.25</td>\n",
       "      <td>7509.25</td>\n",
       "      <td>0</td>\n",
       "      <td>7509.250</td>\n",
       "      <td>0</td>\n",
       "    </tr>\n",
       "    <tr>\n",
       "      <td>2018-07-16 16:00:00</td>\n",
       "      <td>7509.25</td>\n",
       "      <td>7509.25</td>\n",
       "      <td>7509.25</td>\n",
       "      <td>7509.25</td>\n",
       "      <td>0</td>\n",
       "      <td>7509.250</td>\n",
       "      <td>0</td>\n",
       "    </tr>\n",
       "    <tr>\n",
       "      <td>2018-07-16 17:00:00</td>\n",
       "      <td>7509.25</td>\n",
       "      <td>7509.25</td>\n",
       "      <td>7509.25</td>\n",
       "      <td>7509.25</td>\n",
       "      <td>0</td>\n",
       "      <td>7509.250</td>\n",
       "      <td>0</td>\n",
       "    </tr>\n",
       "    <tr>\n",
       "      <td>2018-07-16 18:00:00</td>\n",
       "      <td>7509.25</td>\n",
       "      <td>7509.25</td>\n",
       "      <td>7509.25</td>\n",
       "      <td>7509.25</td>\n",
       "      <td>0</td>\n",
       "      <td>7509.250</td>\n",
       "      <td>0</td>\n",
       "    </tr>\n",
       "    <tr>\n",
       "      <td>2018-07-16 19:00:00</td>\n",
       "      <td>7509.25</td>\n",
       "      <td>7509.25</td>\n",
       "      <td>7509.25</td>\n",
       "      <td>7509.25</td>\n",
       "      <td>0</td>\n",
       "      <td>7509.250</td>\n",
       "      <td>0</td>\n",
       "    </tr>\n",
       "    <tr>\n",
       "      <td>...</td>\n",
       "      <td>...</td>\n",
       "      <td>...</td>\n",
       "      <td>...</td>\n",
       "      <td>...</td>\n",
       "      <td>...</td>\n",
       "      <td>...</td>\n",
       "      <td>...</td>\n",
       "    </tr>\n",
       "    <tr>\n",
       "      <td>2019-08-02 20:00:00</td>\n",
       "      <td>7661.25</td>\n",
       "      <td>7695.00</td>\n",
       "      <td>7652.75</td>\n",
       "      <td>7681.50</td>\n",
       "      <td>56300</td>\n",
       "      <td>7679.375</td>\n",
       "      <td>31642</td>\n",
       "    </tr>\n",
       "    <tr>\n",
       "      <td>2019-08-02 21:00:00</td>\n",
       "      <td>7681.75</td>\n",
       "      <td>7725.25</td>\n",
       "      <td>7665.75</td>\n",
       "      <td>7701.50</td>\n",
       "      <td>93099</td>\n",
       "      <td>7696.900</td>\n",
       "      <td>48215</td>\n",
       "    </tr>\n",
       "    <tr>\n",
       "      <td>2019-08-02 22:00:00</td>\n",
       "      <td>7701.50</td>\n",
       "      <td>7709.00</td>\n",
       "      <td>7691.25</td>\n",
       "      <td>7702.00</td>\n",
       "      <td>9766</td>\n",
       "      <td>7700.125</td>\n",
       "      <td>4636</td>\n",
       "    </tr>\n",
       "    <tr>\n",
       "      <td>2019-08-02 22:30:00</td>\n",
       "      <td>7702.00</td>\n",
       "      <td>7709.75</td>\n",
       "      <td>7699.25</td>\n",
       "      <td>7708.00</td>\n",
       "      <td>1581</td>\n",
       "      <td>7705.450</td>\n",
       "      <td>839</td>\n",
       "    </tr>\n",
       "    <tr>\n",
       "      <td>2019-08-05 15:30:00</td>\n",
       "      <td>7539.25</td>\n",
       "      <td>7540.75</td>\n",
       "      <td>7481.50</td>\n",
       "      <td>7492.75</td>\n",
       "      <td>73711</td>\n",
       "      <td>7510.575</td>\n",
       "      <td>43014</td>\n",
       "    </tr>\n",
       "  </tbody>\n",
       "</table>\n",
       "<p>1300 rows × 7 columns</p>\n",
       "</div>"
      ],
      "text/plain": [
       "                        open     high      low    close  volume   average  \\\n",
       "date                                                                        \n",
       "2018-07-16 15:30:00  7509.25  7509.25  7509.25  7509.25       0  7509.250   \n",
       "2018-07-16 16:00:00  7509.25  7509.25  7509.25  7509.25       0  7509.250   \n",
       "2018-07-16 17:00:00  7509.25  7509.25  7509.25  7509.25       0  7509.250   \n",
       "2018-07-16 18:00:00  7509.25  7509.25  7509.25  7509.25       0  7509.250   \n",
       "2018-07-16 19:00:00  7509.25  7509.25  7509.25  7509.25       0  7509.250   \n",
       "...                      ...      ...      ...      ...     ...       ...   \n",
       "2019-08-02 20:00:00  7661.25  7695.00  7652.75  7681.50   56300  7679.375   \n",
       "2019-08-02 21:00:00  7681.75  7725.25  7665.75  7701.50   93099  7696.900   \n",
       "2019-08-02 22:00:00  7701.50  7709.00  7691.25  7702.00    9766  7700.125   \n",
       "2019-08-02 22:30:00  7702.00  7709.75  7699.25  7708.00    1581  7705.450   \n",
       "2019-08-05 15:30:00  7539.25  7540.75  7481.50  7492.75   73711  7510.575   \n",
       "\n",
       "                     barCount  \n",
       "date                           \n",
       "2018-07-16 15:30:00         0  \n",
       "2018-07-16 16:00:00         0  \n",
       "2018-07-16 17:00:00         0  \n",
       "2018-07-16 18:00:00         0  \n",
       "2018-07-16 19:00:00         0  \n",
       "...                       ...  \n",
       "2019-08-02 20:00:00     31642  \n",
       "2019-08-02 21:00:00     48215  \n",
       "2019-08-02 22:00:00      4636  \n",
       "2019-08-02 22:30:00       839  \n",
       "2019-08-05 15:30:00     43014  \n",
       "\n",
       "[1300 rows x 7 columns]"
      ]
     },
     "execution_count": 34,
     "metadata": {},
     "output_type": "execute_result"
    }
   ],
   "source": [
    "lib.read('NQ_hour')"
   ]
  },
  {
   "cell_type": "code",
   "execution_count": 237,
   "metadata": {},
   "outputs": [
    {
     "data": {
      "text/plain": [
       "{'size': 47222592,\n",
       " 'segment_count': 23,\n",
       " 'dtype': [('date', '<M8[ns]'),\n",
       "  ('open', '<f8'),\n",
       "  ('high', '<f8'),\n",
       "  ('low', '<f8'),\n",
       "  ('close', '<f8'),\n",
       "  ('volume', '<i8'),\n",
       "  ('average', '<f8'),\n",
       "  ('barCount', '<i8')],\n",
       " 'type': 'pandasdf',\n",
       " 'handler': 'PandasDataFrameStore',\n",
       " 'rows': 737853,\n",
       " 'col_names': {'index': ['date'],\n",
       "  'columns': ['open',\n",
       "   'high',\n",
       "   'low',\n",
       "   'close',\n",
       "   'volume',\n",
       "   'average',\n",
       "   'barCount']}}"
      ]
     },
     "execution_count": 237,
     "metadata": {},
     "output_type": "execute_result"
    }
   ],
   "source": [
    "lib.get_info('NQ')"
   ]
  },
  {
   "cell_type": "code",
   "execution_count": 64,
   "metadata": {},
   "outputs": [
    {
     "data": {
      "text/plain": [
       "['NQ']"
      ]
     },
     "execution_count": 64,
     "metadata": {},
     "output_type": "execute_result"
    }
   ],
   "source": [
    "lib.list_symbols()"
   ]
  },
  {
   "cell_type": "code",
   "execution_count": null,
   "metadata": {},
   "outputs": [],
   "source": []
  }
 ],
 "metadata": {
  "kernelspec": {
   "display_name": "Python 3",
   "language": "python",
   "name": "python3"
  },
  "language_info": {
   "codemirror_mode": {
    "name": "ipython",
    "version": 3
   },
   "file_extension": ".py",
   "mimetype": "text/x-python",
   "name": "python",
   "nbconvert_exporter": "python",
   "pygments_lexer": "ipython3",
   "version": "3.7.3"
  }
 },
 "nbformat": 4,
 "nbformat_minor": 2
}
