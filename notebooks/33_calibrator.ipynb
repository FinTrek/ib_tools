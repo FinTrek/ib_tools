{
 "cells": [
  {
   "cell_type": "code",
   "execution_count": 1,
   "metadata": {},
   "outputs": [],
   "source": [
    "import warnings\n",
    "warnings.filterwarnings('ignore')\n",
    "import pandas as pd\n",
    "import numpy as np\n",
    "from grouper import group_by_volume, group_by_time\n",
    "from pyfolio.timeseries import perf_stats\n",
    "from utils import chart_price, plot, perf, v_backtester, c_backtester, perf_var, summary\n",
    "import sys\n",
    "sys.path.append('/home/tomek/ib_tools')\n",
    "import matplotlib.pyplot as plt\n",
    "%matplotlib inline\n",
    "from tester import run, simulate, calibrate, calibrate_multiple"
   ]
  },
  {
   "cell_type": "code",
   "execution_count": 2,
   "metadata": {},
   "outputs": [],
   "source": [
    "def ema(data, periods, smooth, vol):\n",
    "    data = data.copy()\n",
    "    data['ema_fast'] = data.close.ewm(span=periods).mean()\n",
    "    data['ema_slow'] = data.close.ewm(span=periods*3).mean()\n",
    "    data['ema_diff'] = data.ema_fast - data.ema_slow\n",
    "    data['ema_diff_norm'] = data.ema_diff / vol \n",
    "    #data.ema_diff.ewm(span=vol_lookback).std()\n",
    "    #data['ema_diff_norm'] = data.ema_diff / data.ema_diff.rolling(periods).std()\n",
    "    #data[f'ema_{periods}'] = data['ema_diff_norm'].ewm(span=smooth).mean()\n",
    "    data[f'ema_{periods}'] = data['ema_diff_norm']\n",
    "    return data[f'ema_{periods}']"
   ]
  },
  {
   "cell_type": "code",
   "execution_count": 3,
   "metadata": {},
   "outputs": [],
   "source": [
    "def reducer(x):\n",
    "    if x < -2.7:\n",
    "        return max(-(np.log(np.abs(x) -2.7) - .5), 0)\n",
    "    elif x > 2.7:\n",
    "        return min((np.log(np.abs(x) -2.7) - .5), 0)\n",
    "    else:\n",
    "        return - x**3"
   ]
  },
  {
   "cell_type": "code",
   "execution_count": 4,
   "metadata": {},
   "outputs": [],
   "source": [
    "def bolli(data, periods, smooth, vol):\n",
    "    data = data.copy()\n",
    "    data['mid'] = data.close.ewm(span=periods).mean()\n",
    "    data['distance'] = data.mid - data.close\n",
    "    data['std'] = data.close.ewm(span=periods).std()\n",
    "    data['distance_scaled'] = data.distance / data['std']\n",
    "    data[f'bolli_{periods}'] = data['distance_scaled']\n",
    "    return data[f'bolli_{periods}']"
   ]
  },
  {
   "cell_type": "code",
   "execution_count": 5,
   "metadata": {},
   "outputs": [],
   "source": [
    "def bolli_reduced(data, periods, smooth, vol):\n",
    "    data = data.copy()\n",
    "    #data[f'bolli_reduced_{periods}'] = smooth(bolli(data, periods, smooth, vol).apply(reducer), periods/3)\n",
    "    data[f'bolli_reduced_{periods}'] = bolli(data, periods, smooth, vol).apply(reducer)\n",
    "    return data[f'bolli_reduced_{periods}']"
   ]
  },
  {
   "cell_type": "code",
   "execution_count": 6,
   "metadata": {},
   "outputs": [],
   "source": [
    "def breakout(data, periods, smooth, vol):\n",
    "    up  = (data.close >= data.close.rolling(periods).max()) * 1\n",
    "    down = (data.close <= data.close.rolling(periods).min()) * 1\n",
    "    return (up - down).ewm(span=max((int(periods/3), 1))).mean().rename(f'break_{periods}', inplace=True)"
   ]
  },
  {
   "cell_type": "code",
   "execution_count": 7,
   "metadata": {},
   "outputs": [],
   "source": [
    "def carver(data, periods, smooth, vol):\n",
    "    data = data.copy()\n",
    "    data['max'] = data.close.rolling(periods).max()\n",
    "    data['min'] = data.close.rolling(periods).min()\n",
    "    data['mid'] = data[['min', 'max']].mean(axis=1)\n",
    "    data['breakout'] = data['close'] - data['mid']\n",
    "    data['breakout_norm'] = data['breakout'] / (data['max'] - data['min'])\n",
    "    data[f'carver_{periods}'] = smooth(data['breakout_norm'], periods/3)\n",
    "    return data[f'carver_{periods}']"
   ]
  },
  {
   "cell_type": "code",
   "execution_count": 8,
   "metadata": {},
   "outputs": [],
   "source": [
    "def roc(data, periods, smooth, vol):\n",
    "    data = data.copy()\n",
    "    data['roc'] = data.close.pct_change(periods) * 1000\n",
    "    #data['std'] = data['roc'].ewm(span=200).std()\n",
    "    #data['roc_normalized'] = data['roc'] / data['std']\n",
    "    data['roc_normalized'] = data['roc'] / vol\n",
    "    #data[f'roc_{periods}'] = smooth(data['roc_normalized'], periods/3)\n",
    "    data[f'roc_{periods}'] = data['roc_normalized']\n",
    "    return data[f'roc_{periods}']"
   ]
  },
  {
   "cell_type": "code",
   "execution_count": 9,
   "metadata": {
    "scrolled": false
   },
   "outputs": [],
   "source": [
    "data = calibrate_multiple('ES', roc)"
   ]
  },
  {
   "cell_type": "code",
   "execution_count": 13,
   "metadata": {},
   "outputs": [
    {
     "data": {
      "text/plain": [
       "(               NQ        ES        GC        CL\n",
       " roc_5    0.176056  0.172632  0.181185  0.177014\n",
       " roc_10   0.152383  0.151518  0.160209  0.152213\n",
       " roc_20   0.161225  0.165106  0.147569  0.149765\n",
       " roc_40   0.172758  0.158756  0.166146  0.157358\n",
       " roc_80   0.169972  0.180685  0.156992  0.182411\n",
       " roc_160  0.167605  0.171303  0.187898  0.181240,\n",
       "                 NQ         ES        GC        CL\n",
       " roc_5    48.660678  16.802580  7.344630  0.331112\n",
       " roc_10   39.648234  14.943605  5.358343  0.227391\n",
       " roc_20   30.965184   9.439575  3.567845  0.160122\n",
       " roc_40   21.901081   9.157381  2.999457  0.148428\n",
       " roc_80   18.721242   6.585801  2.629839  0.108833\n",
       " roc_160   7.285728   2.965453  2.053643  0.063916,\n",
       " NQ    1.389199\n",
       " ES    1.409544\n",
       " GC    1.402660\n",
       " CL    1.307953\n",
       " dtype: float64)"
      ]
     },
     "execution_count": 13,
     "metadata": {},
     "output_type": "execute_result"
    }
   ],
   "source": [
    "weights = pd.DataFrame()\n",
    "adjustments = pd.DataFrame()\n",
    "multipliers = pd.Series()\n",
    "for symbol in ['NQ', 'ES', 'GC', 'CL']:\n",
    "    w,a,m = calibrate_multiple(symbol, roc)\n",
    "    weights[symbol] = w\n",
    "    adjustments[symbol] = a\n",
    "    multipliers[symbol] = m\n",
    "weights, adjustments, multipliers"
   ]
  },
  {
   "cell_type": "code",
   "execution_count": 14,
   "metadata": {},
   "outputs": [
    {
     "data": {
      "text/plain": [
       "0.16666666666666666"
      ]
     },
     "execution_count": 14,
     "metadata": {},
     "output_type": "execute_result"
    }
   ],
   "source": [
    "1/6"
   ]
  },
  {
   "cell_type": "code",
   "execution_count": 16,
   "metadata": {},
   "outputs": [],
   "source": [
    "from tester import get_data, get_candles, get_avg_vol, get_vol"
   ]
  },
  {
   "cell_type": "code",
   "execution_count": 17,
   "metadata": {},
   "outputs": [],
   "source": [
    "data = get_data('ES', '20180901', '20191231')"
   ]
  },
  {
   "cell_type": "code",
   "execution_count": 18,
   "metadata": {},
   "outputs": [
    {
     "data": {
      "text/html": [
       "<div>\n",
       "<style scoped>\n",
       "    .dataframe tbody tr th:only-of-type {\n",
       "        vertical-align: middle;\n",
       "    }\n",
       "\n",
       "    .dataframe tbody tr th {\n",
       "        vertical-align: top;\n",
       "    }\n",
       "\n",
       "    .dataframe thead th {\n",
       "        text-align: right;\n",
       "    }\n",
       "</style>\n",
       "<table border=\"1\" class=\"dataframe\">\n",
       "  <thead>\n",
       "    <tr style=\"text-align: right;\">\n",
       "      <th></th>\n",
       "      <th>open</th>\n",
       "      <th>high</th>\n",
       "      <th>low</th>\n",
       "      <th>close</th>\n",
       "      <th>volume</th>\n",
       "      <th>average</th>\n",
       "      <th>barCount</th>\n",
       "    </tr>\n",
       "    <tr>\n",
       "      <th>date</th>\n",
       "      <th></th>\n",
       "      <th></th>\n",
       "      <th></th>\n",
       "      <th></th>\n",
       "      <th></th>\n",
       "      <th></th>\n",
       "      <th></th>\n",
       "    </tr>\n",
       "  </thead>\n",
       "  <tbody>\n",
       "    <tr>\n",
       "      <td>2018-09-03 00:00:00</td>\n",
       "      <td>2906.50</td>\n",
       "      <td>2907.00</td>\n",
       "      <td>2905.75</td>\n",
       "      <td>2905.75</td>\n",
       "      <td>949</td>\n",
       "      <td>2906.375</td>\n",
       "      <td>161</td>\n",
       "    </tr>\n",
       "    <tr>\n",
       "      <td>2018-09-03 00:01:00</td>\n",
       "      <td>2905.75</td>\n",
       "      <td>2906.25</td>\n",
       "      <td>2905.75</td>\n",
       "      <td>2905.75</td>\n",
       "      <td>329</td>\n",
       "      <td>2906.125</td>\n",
       "      <td>80</td>\n",
       "    </tr>\n",
       "    <tr>\n",
       "      <td>2018-09-03 00:02:00</td>\n",
       "      <td>2905.75</td>\n",
       "      <td>2906.00</td>\n",
       "      <td>2905.75</td>\n",
       "      <td>2906.00</td>\n",
       "      <td>53</td>\n",
       "      <td>2905.900</td>\n",
       "      <td>19</td>\n",
       "    </tr>\n",
       "    <tr>\n",
       "      <td>2018-09-03 00:03:00</td>\n",
       "      <td>2906.25</td>\n",
       "      <td>2906.75</td>\n",
       "      <td>2906.25</td>\n",
       "      <td>2906.75</td>\n",
       "      <td>145</td>\n",
       "      <td>2906.450</td>\n",
       "      <td>49</td>\n",
       "    </tr>\n",
       "    <tr>\n",
       "      <td>2018-09-03 00:04:00</td>\n",
       "      <td>2906.50</td>\n",
       "      <td>2906.75</td>\n",
       "      <td>2906.00</td>\n",
       "      <td>2906.00</td>\n",
       "      <td>135</td>\n",
       "      <td>2906.300</td>\n",
       "      <td>46</td>\n",
       "    </tr>\n",
       "    <tr>\n",
       "      <td>...</td>\n",
       "      <td>...</td>\n",
       "      <td>...</td>\n",
       "      <td>...</td>\n",
       "      <td>...</td>\n",
       "      <td>...</td>\n",
       "      <td>...</td>\n",
       "      <td>...</td>\n",
       "    </tr>\n",
       "    <tr>\n",
       "      <td>2019-09-05 08:51:00</td>\n",
       "      <td>2957.50</td>\n",
       "      <td>2957.75</td>\n",
       "      <td>2957.50</td>\n",
       "      <td>2957.50</td>\n",
       "      <td>361</td>\n",
       "      <td>2957.525</td>\n",
       "      <td>70</td>\n",
       "    </tr>\n",
       "    <tr>\n",
       "      <td>2019-09-05 08:52:00</td>\n",
       "      <td>2957.50</td>\n",
       "      <td>2958.00</td>\n",
       "      <td>2957.00</td>\n",
       "      <td>2957.25</td>\n",
       "      <td>517</td>\n",
       "      <td>2957.575</td>\n",
       "      <td>112</td>\n",
       "    </tr>\n",
       "    <tr>\n",
       "      <td>2019-09-05 08:53:00</td>\n",
       "      <td>2957.50</td>\n",
       "      <td>2957.75</td>\n",
       "      <td>2957.25</td>\n",
       "      <td>2957.50</td>\n",
       "      <td>267</td>\n",
       "      <td>2957.400</td>\n",
       "      <td>85</td>\n",
       "    </tr>\n",
       "    <tr>\n",
       "      <td>2019-09-05 08:54:00</td>\n",
       "      <td>2957.50</td>\n",
       "      <td>2958.25</td>\n",
       "      <td>2957.00</td>\n",
       "      <td>2958.25</td>\n",
       "      <td>226</td>\n",
       "      <td>2957.550</td>\n",
       "      <td>62</td>\n",
       "    </tr>\n",
       "    <tr>\n",
       "      <td>2019-09-05 08:55:00</td>\n",
       "      <td>2958.25</td>\n",
       "      <td>2958.25</td>\n",
       "      <td>2957.75</td>\n",
       "      <td>2958.00</td>\n",
       "      <td>176</td>\n",
       "      <td>2957.925</td>\n",
       "      <td>34</td>\n",
       "    </tr>\n",
       "  </tbody>\n",
       "</table>\n",
       "<p>352790 rows × 7 columns</p>\n",
       "</div>"
      ],
      "text/plain": [
       "                        open     high      low    close  volume   average  \\\n",
       "date                                                                        \n",
       "2018-09-03 00:00:00  2906.50  2907.00  2905.75  2905.75     949  2906.375   \n",
       "2018-09-03 00:01:00  2905.75  2906.25  2905.75  2905.75     329  2906.125   \n",
       "2018-09-03 00:02:00  2905.75  2906.00  2905.75  2906.00      53  2905.900   \n",
       "2018-09-03 00:03:00  2906.25  2906.75  2906.25  2906.75     145  2906.450   \n",
       "2018-09-03 00:04:00  2906.50  2906.75  2906.00  2906.00     135  2906.300   \n",
       "...                      ...      ...      ...      ...     ...       ...   \n",
       "2019-09-05 08:51:00  2957.50  2957.75  2957.50  2957.50     361  2957.525   \n",
       "2019-09-05 08:52:00  2957.50  2958.00  2957.00  2957.25     517  2957.575   \n",
       "2019-09-05 08:53:00  2957.50  2957.75  2957.25  2957.50     267  2957.400   \n",
       "2019-09-05 08:54:00  2957.50  2958.25  2957.00  2958.25     226  2957.550   \n",
       "2019-09-05 08:55:00  2958.25  2958.25  2957.75  2958.00     176  2957.925   \n",
       "\n",
       "                     barCount  \n",
       "date                           \n",
       "2018-09-03 00:00:00       161  \n",
       "2018-09-03 00:01:00        80  \n",
       "2018-09-03 00:02:00        19  \n",
       "2018-09-03 00:03:00        49  \n",
       "2018-09-03 00:04:00        46  \n",
       "...                       ...  \n",
       "2019-09-05 08:51:00        70  \n",
       "2019-09-05 08:52:00       112  \n",
       "2019-09-05 08:53:00        85  \n",
       "2019-09-05 08:54:00        62  \n",
       "2019-09-05 08:55:00        34  \n",
       "\n",
       "[352790 rows x 7 columns]"
      ]
     },
     "execution_count": 18,
     "metadata": {},
     "output_type": "execute_result"
    }
   ],
   "source": [
    "data"
   ]
  },
  {
   "cell_type": "code",
   "execution_count": 22,
   "metadata": {},
   "outputs": [],
   "source": [
    "months = [g for n, g in data.groupby(pd.Grouper(freq='M'))]"
   ]
  },
  {
   "cell_type": "code",
   "execution_count": null,
   "metadata": {},
   "outputs": [],
   "source": [
    "months"
   ]
  },
  {
   "cell_type": "code",
   "execution_count": null,
   "metadata": {},
   "outputs": [],
   "source": [
    "months[9]"
   ]
  },
  {
   "cell_type": "code",
   "execution_count": 19,
   "metadata": {},
   "outputs": [],
   "source": [
    "candles = get_candles(data, get_avg_vol(data, 120)).set_index('date')"
   ]
  },
  {
   "cell_type": "code",
   "execution_count": 20,
   "metadata": {},
   "outputs": [
    {
     "data": {
      "text/html": [
       "<div>\n",
       "<style scoped>\n",
       "    .dataframe tbody tr th:only-of-type {\n",
       "        vertical-align: middle;\n",
       "    }\n",
       "\n",
       "    .dataframe tbody tr th {\n",
       "        vertical-align: top;\n",
       "    }\n",
       "\n",
       "    .dataframe thead th {\n",
       "        text-align: right;\n",
       "    }\n",
       "</style>\n",
       "<table border=\"1\" class=\"dataframe\">\n",
       "  <thead>\n",
       "    <tr style=\"text-align: right;\">\n",
       "      <th></th>\n",
       "      <th>open</th>\n",
       "      <th>high</th>\n",
       "      <th>low</th>\n",
       "      <th>close</th>\n",
       "      <th>barCount</th>\n",
       "      <th>volume</th>\n",
       "    </tr>\n",
       "    <tr>\n",
       "      <th>date</th>\n",
       "      <th></th>\n",
       "      <th></th>\n",
       "      <th></th>\n",
       "      <th></th>\n",
       "      <th></th>\n",
       "      <th></th>\n",
       "    </tr>\n",
       "  </thead>\n",
       "  <tbody>\n",
       "    <tr>\n",
       "      <td>2018-09-04 02:31:00</td>\n",
       "      <td>2906.50</td>\n",
       "      <td>2912.50</td>\n",
       "      <td>2902.50</td>\n",
       "      <td>2904.50</td>\n",
       "      <td>34605</td>\n",
       "      <td>134452</td>\n",
       "    </tr>\n",
       "    <tr>\n",
       "      <td>2018-09-04 13:31:00</td>\n",
       "      <td>2904.50</td>\n",
       "      <td>2912.00</td>\n",
       "      <td>2894.75</td>\n",
       "      <td>2896.00</td>\n",
       "      <td>28532</td>\n",
       "      <td>134107</td>\n",
       "    </tr>\n",
       "    <tr>\n",
       "      <td>2018-09-04 15:34:00</td>\n",
       "      <td>2896.00</td>\n",
       "      <td>2898.50</td>\n",
       "      <td>2891.75</td>\n",
       "      <td>2896.00</td>\n",
       "      <td>16732</td>\n",
       "      <td>130583</td>\n",
       "    </tr>\n",
       "    <tr>\n",
       "      <td>2018-09-04 15:50:00</td>\n",
       "      <td>2896.00</td>\n",
       "      <td>2896.25</td>\n",
       "      <td>2886.25</td>\n",
       "      <td>2886.50</td>\n",
       "      <td>19416</td>\n",
       "      <td>144627</td>\n",
       "    </tr>\n",
       "    <tr>\n",
       "      <td>2018-09-04 16:18:00</td>\n",
       "      <td>2886.75</td>\n",
       "      <td>2898.25</td>\n",
       "      <td>2886.50</td>\n",
       "      <td>2896.50</td>\n",
       "      <td>17426</td>\n",
       "      <td>139397</td>\n",
       "    </tr>\n",
       "    <tr>\n",
       "      <td>...</td>\n",
       "      <td>...</td>\n",
       "      <td>...</td>\n",
       "      <td>...</td>\n",
       "      <td>...</td>\n",
       "      <td>...</td>\n",
       "      <td>...</td>\n",
       "    </tr>\n",
       "    <tr>\n",
       "      <td>2019-09-04 19:03:00</td>\n",
       "      <td>2928.00</td>\n",
       "      <td>2934.50</td>\n",
       "      <td>2927.75</td>\n",
       "      <td>2933.75</td>\n",
       "      <td>22662</td>\n",
       "      <td>136899</td>\n",
       "    </tr>\n",
       "    <tr>\n",
       "      <td>2019-09-04 21:07:00</td>\n",
       "      <td>2934.00</td>\n",
       "      <td>2935.50</td>\n",
       "      <td>2929.00</td>\n",
       "      <td>2935.00</td>\n",
       "      <td>20499</td>\n",
       "      <td>134818</td>\n",
       "    </tr>\n",
       "    <tr>\n",
       "      <td>2019-09-04 21:58:00</td>\n",
       "      <td>2935.00</td>\n",
       "      <td>2939.00</td>\n",
       "      <td>2934.50</td>\n",
       "      <td>2937.75</td>\n",
       "      <td>15157</td>\n",
       "      <td>123074</td>\n",
       "    </tr>\n",
       "    <tr>\n",
       "      <td>2019-09-05 03:43:00</td>\n",
       "      <td>2937.50</td>\n",
       "      <td>2962.50</td>\n",
       "      <td>2936.50</td>\n",
       "      <td>2958.75</td>\n",
       "      <td>30892</td>\n",
       "      <td>174642</td>\n",
       "    </tr>\n",
       "    <tr>\n",
       "      <td>2019-09-05 08:55:00</td>\n",
       "      <td>2958.75</td>\n",
       "      <td>2971.75</td>\n",
       "      <td>2957.00</td>\n",
       "      <td>2958.00</td>\n",
       "      <td>27956</td>\n",
       "      <td>118243</td>\n",
       "    </tr>\n",
       "  </tbody>\n",
       "</table>\n",
       "<p>2871 rows × 6 columns</p>\n",
       "</div>"
      ],
      "text/plain": [
       "                        open     high      low    close  barCount  volume\n",
       "date                                                                     \n",
       "2018-09-04 02:31:00  2906.50  2912.50  2902.50  2904.50     34605  134452\n",
       "2018-09-04 13:31:00  2904.50  2912.00  2894.75  2896.00     28532  134107\n",
       "2018-09-04 15:34:00  2896.00  2898.50  2891.75  2896.00     16732  130583\n",
       "2018-09-04 15:50:00  2896.00  2896.25  2886.25  2886.50     19416  144627\n",
       "2018-09-04 16:18:00  2886.75  2898.25  2886.50  2896.50     17426  139397\n",
       "...                      ...      ...      ...      ...       ...     ...\n",
       "2019-09-04 19:03:00  2928.00  2934.50  2927.75  2933.75     22662  136899\n",
       "2019-09-04 21:07:00  2934.00  2935.50  2929.00  2935.00     20499  134818\n",
       "2019-09-04 21:58:00  2935.00  2939.00  2934.50  2937.75     15157  123074\n",
       "2019-09-05 03:43:00  2937.50  2962.50  2936.50  2958.75     30892  174642\n",
       "2019-09-05 08:55:00  2958.75  2971.75  2957.00  2958.00     27956  118243\n",
       "\n",
       "[2871 rows x 6 columns]"
      ]
     },
     "execution_count": 20,
     "metadata": {},
     "output_type": "execute_result"
    }
   ],
   "source": [
    "candles"
   ]
  },
  {
   "cell_type": "code",
   "execution_count": 23,
   "metadata": {},
   "outputs": [],
   "source": [
    "start = months[0].index[0]\n",
    "end = months[0].index[-1]"
   ]
  },
  {
   "cell_type": "code",
   "execution_count": 24,
   "metadata": {},
   "outputs": [
    {
     "data": {
      "text/plain": [
       "(Timestamp('2018-09-03 00:00:00'), Timestamp('2018-09-28 22:59:00'))"
      ]
     },
     "execution_count": 24,
     "metadata": {},
     "output_type": "execute_result"
    }
   ],
   "source": [
    "start, end"
   ]
  },
  {
   "cell_type": "code",
   "execution_count": 25,
   "metadata": {},
   "outputs": [],
   "source": [
    "period = candles.loc[start:end]"
   ]
  },
  {
   "cell_type": "code",
   "execution_count": 26,
   "metadata": {},
   "outputs": [
    {
     "data": {
      "text/html": [
       "<div>\n",
       "<style scoped>\n",
       "    .dataframe tbody tr th:only-of-type {\n",
       "        vertical-align: middle;\n",
       "    }\n",
       "\n",
       "    .dataframe tbody tr th {\n",
       "        vertical-align: top;\n",
       "    }\n",
       "\n",
       "    .dataframe thead th {\n",
       "        text-align: right;\n",
       "    }\n",
       "</style>\n",
       "<table border=\"1\" class=\"dataframe\">\n",
       "  <thead>\n",
       "    <tr style=\"text-align: right;\">\n",
       "      <th></th>\n",
       "      <th>open</th>\n",
       "      <th>high</th>\n",
       "      <th>low</th>\n",
       "      <th>close</th>\n",
       "      <th>barCount</th>\n",
       "      <th>volume</th>\n",
       "    </tr>\n",
       "    <tr>\n",
       "      <th>date</th>\n",
       "      <th></th>\n",
       "      <th></th>\n",
       "      <th></th>\n",
       "      <th></th>\n",
       "      <th></th>\n",
       "      <th></th>\n",
       "    </tr>\n",
       "  </thead>\n",
       "  <tbody>\n",
       "    <tr>\n",
       "      <td>2018-09-04 02:31:00</td>\n",
       "      <td>2906.50</td>\n",
       "      <td>2912.50</td>\n",
       "      <td>2902.50</td>\n",
       "      <td>2904.50</td>\n",
       "      <td>34605</td>\n",
       "      <td>134452</td>\n",
       "    </tr>\n",
       "    <tr>\n",
       "      <td>2018-09-04 13:31:00</td>\n",
       "      <td>2904.50</td>\n",
       "      <td>2912.00</td>\n",
       "      <td>2894.75</td>\n",
       "      <td>2896.00</td>\n",
       "      <td>28532</td>\n",
       "      <td>134107</td>\n",
       "    </tr>\n",
       "    <tr>\n",
       "      <td>2018-09-04 15:34:00</td>\n",
       "      <td>2896.00</td>\n",
       "      <td>2898.50</td>\n",
       "      <td>2891.75</td>\n",
       "      <td>2896.00</td>\n",
       "      <td>16732</td>\n",
       "      <td>130583</td>\n",
       "    </tr>\n",
       "    <tr>\n",
       "      <td>2018-09-04 15:50:00</td>\n",
       "      <td>2896.00</td>\n",
       "      <td>2896.25</td>\n",
       "      <td>2886.25</td>\n",
       "      <td>2886.50</td>\n",
       "      <td>19416</td>\n",
       "      <td>144627</td>\n",
       "    </tr>\n",
       "    <tr>\n",
       "      <td>2018-09-04 16:18:00</td>\n",
       "      <td>2886.75</td>\n",
       "      <td>2898.25</td>\n",
       "      <td>2886.50</td>\n",
       "      <td>2896.50</td>\n",
       "      <td>17426</td>\n",
       "      <td>139397</td>\n",
       "    </tr>\n",
       "    <tr>\n",
       "      <td>...</td>\n",
       "      <td>...</td>\n",
       "      <td>...</td>\n",
       "      <td>...</td>\n",
       "      <td>...</td>\n",
       "      <td>...</td>\n",
       "      <td>...</td>\n",
       "    </tr>\n",
       "    <tr>\n",
       "      <td>2018-09-28 17:59:00</td>\n",
       "      <td>2921.50</td>\n",
       "      <td>2925.50</td>\n",
       "      <td>2921.25</td>\n",
       "      <td>2921.75</td>\n",
       "      <td>16542</td>\n",
       "      <td>138491</td>\n",
       "    </tr>\n",
       "    <tr>\n",
       "      <td>2018-09-28 19:42:00</td>\n",
       "      <td>2921.50</td>\n",
       "      <td>2923.75</td>\n",
       "      <td>2915.50</td>\n",
       "      <td>2922.75</td>\n",
       "      <td>16539</td>\n",
       "      <td>135231</td>\n",
       "    </tr>\n",
       "    <tr>\n",
       "      <td>2018-09-28 21:11:00</td>\n",
       "      <td>2922.75</td>\n",
       "      <td>2924.00</td>\n",
       "      <td>2917.50</td>\n",
       "      <td>2918.25</td>\n",
       "      <td>15378</td>\n",
       "      <td>133601</td>\n",
       "    </tr>\n",
       "    <tr>\n",
       "      <td>2018-09-28 21:43:00</td>\n",
       "      <td>2918.50</td>\n",
       "      <td>2921.00</td>\n",
       "      <td>2916.25</td>\n",
       "      <td>2917.50</td>\n",
       "      <td>11073</td>\n",
       "      <td>134270</td>\n",
       "    </tr>\n",
       "    <tr>\n",
       "      <td>2018-09-28 21:58:00</td>\n",
       "      <td>2917.50</td>\n",
       "      <td>2920.50</td>\n",
       "      <td>2916.00</td>\n",
       "      <td>2917.50</td>\n",
       "      <td>9356</td>\n",
       "      <td>133073</td>\n",
       "    </tr>\n",
       "  </tbody>\n",
       "</table>\n",
       "<p>165 rows × 6 columns</p>\n",
       "</div>"
      ],
      "text/plain": [
       "                        open     high      low    close  barCount  volume\n",
       "date                                                                     \n",
       "2018-09-04 02:31:00  2906.50  2912.50  2902.50  2904.50     34605  134452\n",
       "2018-09-04 13:31:00  2904.50  2912.00  2894.75  2896.00     28532  134107\n",
       "2018-09-04 15:34:00  2896.00  2898.50  2891.75  2896.00     16732  130583\n",
       "2018-09-04 15:50:00  2896.00  2896.25  2886.25  2886.50     19416  144627\n",
       "2018-09-04 16:18:00  2886.75  2898.25  2886.50  2896.50     17426  139397\n",
       "...                      ...      ...      ...      ...       ...     ...\n",
       "2018-09-28 17:59:00  2921.50  2925.50  2921.25  2921.75     16542  138491\n",
       "2018-09-28 19:42:00  2921.50  2923.75  2915.50  2922.75     16539  135231\n",
       "2018-09-28 21:11:00  2922.75  2924.00  2917.50  2918.25     15378  133601\n",
       "2018-09-28 21:43:00  2918.50  2921.00  2916.25  2917.50     11073  134270\n",
       "2018-09-28 21:58:00  2917.50  2920.50  2916.00  2917.50      9356  133073\n",
       "\n",
       "[165 rows x 6 columns]"
      ]
     },
     "execution_count": 26,
     "metadata": {},
     "output_type": "execute_result"
    }
   ],
   "source": [
    "period"
   ]
  },
  {
   "cell_type": "code",
   "execution_count": 35,
   "metadata": {},
   "outputs": [
    {
     "data": {
      "text/plain": [
       "19"
      ]
     },
     "execution_count": 35,
     "metadata": {},
     "output_type": "execute_result"
    }
   ],
   "source": [
    "len(period.resample('D').last().dropna())"
   ]
  },
  {
   "cell_type": "code",
   "execution_count": 36,
   "metadata": {},
   "outputs": [
    {
     "data": {
      "text/plain": [
       "8.68421052631579"
      ]
     },
     "execution_count": 36,
     "metadata": {},
     "output_type": "execute_result"
    }
   ],
   "source": [
    "165/19"
   ]
  },
  {
   "cell_type": "code",
   "execution_count": 27,
   "metadata": {},
   "outputs": [],
   "source": [
    "vols = get_vol(candles, 200)"
   ]
  },
  {
   "cell_type": "code",
   "execution_count": 32,
   "metadata": {},
   "outputs": [
    {
     "data": {
      "text/plain": [
       "date\n",
       "2018-09-27 16:07:00         NaN\n",
       "2018-09-27 16:58:00         NaN\n",
       "2018-09-27 18:17:00         NaN\n",
       "2018-09-27 20:06:00         NaN\n",
       "2018-09-27 21:12:00         NaN\n",
       "2018-09-27 21:58:00         NaN\n",
       "2018-09-28 09:56:00         NaN\n",
       "2018-09-28 14:51:00         NaN\n",
       "2018-09-28 15:57:00         NaN\n",
       "2018-09-28 16:46:00         NaN\n",
       "2018-09-28 17:59:00         NaN\n",
       "2018-09-28 19:42:00         NaN\n",
       "2018-09-28 21:11:00         NaN\n",
       "2018-09-28 21:43:00         NaN\n",
       "2018-09-28 21:58:00         NaN\n",
       "2018-10-01 04:06:00         NaN\n",
       "2018-10-01 14:38:00         NaN\n",
       "2018-10-01 15:51:00         NaN\n",
       "2018-10-01 16:39:00         NaN\n",
       "2018-10-01 17:57:00         NaN\n",
       "2018-10-01 19:15:00         NaN\n",
       "2018-10-01 20:45:00         NaN\n",
       "2018-10-01 21:34:00         NaN\n",
       "2018-10-01 21:58:00         NaN\n",
       "2018-10-02 09:17:00         NaN\n",
       "2018-10-02 15:29:00         NaN\n",
       "2018-10-02 16:02:00         NaN\n",
       "2018-10-02 16:51:00         NaN\n",
       "2018-10-02 18:02:00         NaN\n",
       "2018-10-02 19:46:00         NaN\n",
       "2018-10-02 21:12:00    4.702400\n",
       "2018-10-02 21:53:00    4.680270\n",
       "2018-10-03 06:26:00    4.661348\n",
       "2018-10-03 15:33:00    4.717869\n",
       "2018-10-03 16:14:00    4.719154\n",
       "2018-10-03 17:04:00    4.735276\n",
       "2018-10-03 18:31:00    4.736727\n",
       "2018-10-03 20:16:00    4.710443\n",
       "2018-10-03 20:51:00    4.802659\n",
       "2018-10-03 21:27:00    4.789060\n",
       "2018-10-03 21:58:00    4.778141\n",
       "2018-10-04 07:37:00    4.875621\n",
       "2018-10-04 13:22:00    4.858497\n",
       "2018-10-04 15:36:00    4.830095\n",
       "2018-10-04 16:01:00    4.819454\n",
       "2018-10-04 16:22:00    4.813229\n",
       "2018-10-04 16:44:00    4.792194\n",
       "2018-10-04 17:24:00    4.783122\n",
       "2018-10-04 18:00:00    4.836220\n",
       "2018-10-04 18:28:00    4.825477\n",
       "Name: vol_price, dtype: float64"
      ]
     },
     "execution_count": 32,
     "metadata": {},
     "output_type": "execute_result"
    }
   ],
   "source": [
    "vols.iloc[150:].head(50)"
   ]
  },
  {
   "cell_type": "code",
   "execution_count": null,
   "metadata": {},
   "outputs": [],
   "source": [
    "r= roc(period, 160, None, vols)\n"
   ]
  },
  {
   "cell_type": "code",
   "execution_count": null,
   "metadata": {},
   "outputs": [],
   "source": [
    "r.iloc[50:].head(50)"
   ]
  },
  {
   "cell_type": "code",
   "execution_count": null,
   "metadata": {},
   "outputs": [],
   "source": [
    "r.dropna()"
   ]
  },
  {
   "cell_type": "code",
   "execution_count": null,
   "metadata": {},
   "outputs": [],
   "source": [
    "r.tail(50)"
   ]
  },
  {
   "cell_type": "code",
   "execution_count": null,
   "metadata": {},
   "outputs": [],
   "source": []
  },
  {
   "cell_type": "code",
   "execution_count": null,
   "metadata": {},
   "outputs": [],
   "source": [
    "data = period.copy()\n",
    "data['roc'] = data.close.pct_change(5) * 1000\n",
    "data.head(50)"
   ]
  },
  {
   "cell_type": "code",
   "execution_count": null,
   "metadata": {},
   "outputs": [],
   "source": [
    "data['vol'] = vols\n",
    "data['roc_normalized'] = data['roc'] / vols\n",
    "data"
   ]
  },
  {
   "cell_type": "code",
   "execution_count": null,
   "metadata": {},
   "outputs": [],
   "source": [
    "vols.head(50)"
   ]
  },
  {
   "cell_type": "code",
   "execution_count": null,
   "metadata": {},
   "outputs": [],
   "source": [
    "x = pd.Series({'a': 1, 'b': -2, 'c': 4, 'd': -7})\n",
    "x"
   ]
  },
  {
   "cell_type": "code",
   "execution_count": null,
   "metadata": {},
   "outputs": [],
   "source": [
    "x.apply(lambda x: max(x,0))"
   ]
  },
  {
   "cell_type": "code",
   "execution_count": null,
   "metadata": {},
   "outputs": [],
   "source": []
  }
 ],
 "metadata": {
  "kernelspec": {
   "display_name": "Python 3",
   "language": "python",
   "name": "python3"
  },
  "language_info": {
   "codemirror_mode": {
    "name": "ipython",
    "version": 3
   },
   "file_extension": ".py",
   "mimetype": "text/x-python",
   "name": "python",
   "nbconvert_exporter": "python",
   "pygments_lexer": "ipython3",
   "version": "3.7.3"
  }
 },
 "nbformat": 4,
 "nbformat_minor": 2
}
