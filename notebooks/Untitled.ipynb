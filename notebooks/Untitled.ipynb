{
 "cells": [
  {
   "cell_type": "code",
   "execution_count": 1,
   "metadata": {},
   "outputs": [],
   "source": [
    "import pandas as pd"
   ]
  },
  {
   "cell_type": "code",
   "execution_count": 2,
   "metadata": {},
   "outputs": [],
   "source": [
    "d = pd.read_pickle('../b_temp/commission.pickle')"
   ]
  },
  {
   "cell_type": "code",
   "execution_count": 3,
   "metadata": {},
   "outputs": [
    {
     "data": {
      "text/plain": [
       "{\"ContFuture(conId=334144585, symbol='NQ', lastTradeDateOrContractMonth='20191220', multiplier='20', exchange='GLOBEX', currency='USD', localSymbol='NQZ9', tradingClass='NQ')\": [],\n",
       " \"ContFuture(conId=334144679, symbol='ES', lastTradeDateOrContractMonth='20191220', multiplier='50', exchange='GLOBEX', currency='USD', localSymbol='ESZ9', tradingClass='ES')\": [],\n",
       " \"ContFuture(conId=141194655, symbol='GC', lastTradeDateOrContractMonth='20191227', multiplier='100', exchange='NYMEX', currency='USD', localSymbol='GCZ9', tradingClass='GC')\": [],\n",
       " \"ContFuture(conId=81093789, symbol='CL', lastTradeDateOrContractMonth='20191120', multiplier='1000', exchange='NYMEX', currency='USD', localSymbol='CLZ9', tradingClass='CL')\": []}"
      ]
     },
     "execution_count": 3,
     "metadata": {},
     "output_type": "execute_result"
    }
   ],
   "source": [
    "d"
   ]
  },
  {
   "cell_type": "code",
   "execution_count": 9,
   "metadata": {},
   "outputs": [],
   "source": [
    "from ib_insync import IB\n",
    "from ib_insync.contract import ContFuture\n",
    "from ib_insync.order import MarketOrder\n",
    "from ib_insync import util"
   ]
  },
  {
   "cell_type": "code",
   "execution_count": 10,
   "metadata": {},
   "outputs": [],
   "source": [
    "ib = IB()"
   ]
  },
  {
   "cell_type": "code",
   "execution_count": 11,
   "metadata": {},
   "outputs": [],
   "source": [
    "util.startLoop()"
   ]
  },
  {
   "cell_type": "code",
   "execution_count": 13,
   "metadata": {},
   "outputs": [
    {
     "data": {
      "text/plain": [
       "<IB connected to 127.0.0.1:4002 clientId=9>"
      ]
     },
     "execution_count": 13,
     "metadata": {},
     "output_type": "execute_result"
    }
   ],
   "source": [
    "ib.connect(port=4002, clientId=9)"
   ]
  },
  {
   "cell_type": "code",
   "execution_count": 14,
   "metadata": {},
   "outputs": [],
   "source": [
    "order = MarketOrder('BUY', 1)"
   ]
  },
  {
   "cell_type": "code",
   "execution_count": 24,
   "metadata": {},
   "outputs": [],
   "source": [
    "contracts = [('nq', 'globex'), ('es', 'globex'), ('ym', 'ecbot'), ('cl', 'nymex'), ('gc', 'nymex'), ('nkd', 'globex'), ('ge', 'globex'), ('zf', 'ecbot')]"
   ]
  },
  {
   "cell_type": "code",
   "execution_count": 25,
   "metadata": {},
   "outputs": [],
   "source": [
    "contracts = [ContFuture(*contract) for contract in contracts]"
   ]
  },
  {
   "cell_type": "code",
   "execution_count": 26,
   "metadata": {},
   "outputs": [
    {
     "data": {
      "text/plain": [
       "[ContFuture(conId=346577750, symbol='NQ', lastTradeDateOrContractMonth='20200320', multiplier='20', exchange='GLOBEX', currency='USD', localSymbol='NQH0', tradingClass='NQ'),\n",
       " ContFuture(conId=346577697, symbol='ES', lastTradeDateOrContractMonth='20200320', multiplier='50', exchange='GLOBEX', currency='USD', localSymbol='ESH0', tradingClass='ES'),\n",
       " ContFuture(conId=357283167, symbol='YM', lastTradeDateOrContractMonth='20200320', multiplier='5', exchange='ECBOT', currency='USD', localSymbol='YM   MAR 20', tradingClass='YM'),\n",
       " ContFuture(conId=174230627, symbol='CL', lastTradeDateOrContractMonth='20200220', multiplier='1000', exchange='NYMEX', currency='USD', localSymbol='CLH0', tradingClass='CL'),\n",
       " ContFuture(conId=319684499, symbol='GC', lastTradeDateOrContractMonth='20200428', multiplier='100', exchange='NYMEX', currency='USD', localSymbol='GCJ0', tradingClass='GC'),\n",
       " ContFuture(conId=353749275, symbol='NKD', lastTradeDateOrContractMonth='20200312', multiplier='5', exchange='GLOBEX', currency='USD', localSymbol='NKDH0', tradingClass='NKD'),\n",
       " ContFuture(conId=73735865, symbol='GE', lastTradeDateOrContractMonth='20200316', multiplier='2500', exchange='GLOBEX', currency='USD', localSymbol='GEH0', tradingClass='GE'),\n",
       " ContFuture(conId=373227043, symbol='ZF', lastTradeDateOrContractMonth='20200331', multiplier='1000', exchange='ECBOT', currency='USD', localSymbol='ZF   MAR 20', tradingClass='ZF')]"
      ]
     },
     "execution_count": 26,
     "metadata": {},
     "output_type": "execute_result"
    }
   ],
   "source": [
    "ib.qualifyContracts(*contracts)"
   ]
  },
  {
   "cell_type": "code",
   "execution_count": 27,
   "metadata": {},
   "outputs": [
    {
     "data": {
      "text/plain": [
       "[ContFuture(conId=346577750, symbol='NQ', lastTradeDateOrContractMonth='20200320', multiplier='20', exchange='GLOBEX', currency='USD', localSymbol='NQH0', tradingClass='NQ'),\n",
       " ContFuture(conId=346577697, symbol='ES', lastTradeDateOrContractMonth='20200320', multiplier='50', exchange='GLOBEX', currency='USD', localSymbol='ESH0', tradingClass='ES'),\n",
       " ContFuture(conId=357283167, symbol='YM', lastTradeDateOrContractMonth='20200320', multiplier='5', exchange='ECBOT', currency='USD', localSymbol='YM   MAR 20', tradingClass='YM'),\n",
       " ContFuture(conId=174230627, symbol='CL', lastTradeDateOrContractMonth='20200220', multiplier='1000', exchange='NYMEX', currency='USD', localSymbol='CLH0', tradingClass='CL'),\n",
       " ContFuture(conId=319684499, symbol='GC', lastTradeDateOrContractMonth='20200428', multiplier='100', exchange='NYMEX', currency='USD', localSymbol='GCJ0', tradingClass='GC'),\n",
       " ContFuture(conId=353749275, symbol='NKD', lastTradeDateOrContractMonth='20200312', multiplier='5', exchange='GLOBEX', currency='USD', localSymbol='NKDH0', tradingClass='NKD'),\n",
       " ContFuture(conId=73735865, symbol='GE', lastTradeDateOrContractMonth='20200316', multiplier='2500', exchange='GLOBEX', currency='USD', localSymbol='GEH0', tradingClass='GE'),\n",
       " ContFuture(conId=373227043, symbol='ZF', lastTradeDateOrContractMonth='20200331', multiplier='1000', exchange='ECBOT', currency='USD', localSymbol='ZF   MAR 20', tradingClass='ZF')]"
      ]
     },
     "execution_count": 27,
     "metadata": {},
     "output_type": "execute_result"
    }
   ],
   "source": [
    "contracts"
   ]
  },
  {
   "cell_type": "code",
   "execution_count": 28,
   "metadata": {},
   "outputs": [],
   "source": [
    "commissions = {contract.symbol: ib.whatIfOrder(contract, order) for contract in contracts}"
   ]
  },
  {
   "cell_type": "code",
   "execution_count": 29,
   "metadata": {},
   "outputs": [
    {
     "data": {
      "text/plain": [
       "{'NQ': OrderState(status='PreSubmitted', initMarginBefore='0.0', maintMarginBefore='0.0', equityWithLoanBefore='98464.08', initMarginChange='9375.0', maintMarginChange='7500.0', equityWithLoanChange='-2.1000000000058208', initMarginAfter='9375.0', maintMarginAfter='7500.0', equityWithLoanAfter='98461.98', commission=2.1, commissionCurrency='USD'),\n",
       " 'ES': OrderState(status='PreSubmitted', initMarginBefore='0.0', maintMarginBefore='0.0', equityWithLoanBefore='98464.08', initMarginChange='10075.0', maintMarginChange='8060.0', equityWithLoanChange='-2.1000000000058208', initMarginAfter='10075.0', maintMarginAfter='8060.0', equityWithLoanAfter='98461.98', commission=2.1, commissionCurrency='USD'),\n",
       " 'YM': OrderState(status='PreSubmitted', initMarginBefore='0.0', maintMarginBefore='0.0', equityWithLoanBefore='98464.08', initMarginChange='8803.96', maintMarginChange='7043.17', equityWithLoanChange='-2.1000000000058208', initMarginAfter='8803.96', maintMarginAfter='7043.17', equityWithLoanAfter='98461.98', commission=2.1, commissionCurrency='USD'),\n",
       " 'CL': OrderState(status='PreSubmitted', initMarginBefore='0.0', maintMarginBefore='0.0', equityWithLoanBefore='98464.08', initMarginChange='5250.0', maintMarginChange='3500.0', equityWithLoanChange='-2.3699999999953434', initMarginAfter='5250.0', maintMarginAfter='3500.0', equityWithLoanAfter='98461.71', commission=2.37, commissionCurrency='USD'),\n",
       " 'GC': OrderState(status='PreSubmitted', initMarginBefore='0.0', maintMarginBefore='0.0', equityWithLoanBefore='98464.08', initMarginChange='6250.0', maintMarginChange='5000.0', equityWithLoanChange='-4.669999999998254', initMarginAfter='6250.0', maintMarginAfter='5000.0', equityWithLoanAfter='98459.41', commission=2.42, commissionCurrency='USD'),\n",
       " 'NKD': OrderState(status='PreSubmitted', initMarginBefore='0.0', maintMarginBefore='0.0', equityWithLoanBefore='98464.08', initMarginChange='8523.75', maintMarginChange='6819.0', equityWithLoanChange='-4.0200000000040745', initMarginAfter='8523.75', maintMarginAfter='6819.0', equityWithLoanAfter='98460.06', commission=3.02, commissionCurrency='USD'),\n",
       " 'GE': OrderState(status='PreSubmitted', initMarginBefore='0.0', maintMarginBefore='0.0', equityWithLoanBefore='98464.08', initMarginChange='375.0', maintMarginChange='300.0', equityWithLoanChange='-4.710000000006403', initMarginAfter='375.0', maintMarginAfter='300.0', equityWithLoanAfter='98459.37', commission=2.12, commissionCurrency='USD'),\n",
       " 'ZF': OrderState(status='PreSubmitted', initMarginBefore='0.0', maintMarginBefore='0.0', equityWithLoanBefore='98464.08', initMarginChange='1007.5', maintMarginChange='806.0', equityWithLoanChange='-3.529999999998836', initMarginAfter='1007.5', maintMarginAfter='806.0', equityWithLoanAfter='98460.55', commission=1.52, commissionCurrency='USD')}"
      ]
     },
     "execution_count": 29,
     "metadata": {},
     "output_type": "execute_result"
    }
   ],
   "source": [
    "commissions"
   ]
  },
  {
   "cell_type": "code",
   "execution_count": 30,
   "metadata": {},
   "outputs": [],
   "source": [
    "import pickle"
   ]
  },
  {
   "cell_type": "code",
   "execution_count": 31,
   "metadata": {},
   "outputs": [
    {
     "name": "stderr",
     "output_type": "stream",
     "text": [
      "Peer closed connection\n",
      "Peer closed connection\n",
      "Future exception was never retrieved\n",
      "future: <Future finished exception=ConnectionError('Socket disconnect')>\n",
      "ConnectionError: Socket disconnect\n",
      "Future exception was never retrieved\n",
      "future: <Future finished exception=ConnectionError('Socket disconnect')>\n",
      "ConnectionError: Socket disconnect\n"
     ]
    }
   ],
   "source": [
    "with open('../b_temp/commissions_by_symbol.pickle', 'wb') as f:\n",
    "    pickle.dump(commissions, f)"
   ]
  },
  {
   "cell_type": "code",
   "execution_count": null,
   "metadata": {},
   "outputs": [],
   "source": []
  }
 ],
 "metadata": {
  "kernelspec": {
   "display_name": "Python 3",
   "language": "python",
   "name": "python3"
  },
  "language_info": {
   "codemirror_mode": {
    "name": "ipython",
    "version": 3
   },
   "file_extension": ".py",
   "mimetype": "text/x-python",
   "name": "python",
   "nbconvert_exporter": "python",
   "pygments_lexer": "ipython3",
   "version": "3.7.3"
  }
 },
 "nbformat": 4,
 "nbformat_minor": 2
}
