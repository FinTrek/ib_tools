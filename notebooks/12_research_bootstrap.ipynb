{
 "cells": [
  {
   "cell_type": "code",
   "execution_count": 1,
   "metadata": {},
   "outputs": [],
   "source": [
    "import warnings\n",
    "warnings.filterwarnings('ignore')\n",
    "import pandas as pd\n",
    "import numpy as np\n",
    "from grouper import group_by_volume, group_by_time\n",
    "from pyfolio.timeseries import perf_stats\n",
    "from functools import partial\n",
    "from utils import chart_price, plot, v_backtester, c_backtester, perf, perf_var, breakout_strategy, bootstrap, m_proc\n",
    "import sys\n",
    "sys.path.append('/home/tomek/ib_tools')\n",
    "from indicators import get_ATR, get_signals\n",
    "import matplotlib.pyplot as plt\n",
    "from typing import NamedTuple\n",
    "from collections import namedtuple\n",
    "%matplotlib inline"
   ]
  },
  {
   "cell_type": "code",
   "execution_count": 2,
   "metadata": {},
   "outputs": [],
   "source": [
    "from datastore_pytables import Store"
   ]
  },
  {
   "cell_type": "code",
   "execution_count": 3,
   "metadata": {},
   "outputs": [
    {
     "data": {
      "text/plain": [
       "['/cont/min/CL_20191120_NYMEX_USD',\n",
       " '/cont/min/ES_20191220_GLOBEX_USD',\n",
       " '/cont/min/GC_20191227_NYMEX_USD',\n",
       " '/cont/min/GE_20191216_GLOBEX_USD',\n",
       " '/cont/min/NKD_20191212_GLOBEX_USD',\n",
       " '/cont/min/NQ_20191220_GLOBEX_USD',\n",
       " '/cont/min/YM_20191220_ECBOT_USD',\n",
       " '/cont/min/ZB_20191219_ECBOT_USD',\n",
       " '/cont/min/ZF_20191231_ECBOT_USD',\n",
       " '/cont/min/ZN_20191219_ECBOT_USD']"
      ]
     },
     "execution_count": 3,
     "metadata": {},
     "output_type": "execute_result"
    }
   ],
   "source": [
    "store = Store()\n",
    "store.keys()"
   ]
  },
  {
   "cell_type": "code",
   "execution_count": 4,
   "metadata": {},
   "outputs": [],
   "source": [
    "contract = store.read('/cont/min/CL_20191120_NYMEX_USD').sort_index()"
   ]
  },
  {
   "cell_type": "code",
   "execution_count": 5,
   "metadata": {
    "scrolled": false
   },
   "outputs": [],
   "source": [
    "table = bootstrap(contract,\n",
    "          start = '20180101', \n",
    "          end = '20181231',\n",
    "          paths=100)"
   ]
  },
  {
   "cell_type": "code",
   "execution_count": 6,
   "metadata": {},
   "outputs": [],
   "source": [
    "func = partial(breakout_strategy, \n",
    "                  time_int = 45,\n",
    "                  periods = [5, 10, 20, 40, 80, 160],\n",
    "                  ema_fast = 30,\n",
    "                  ema_slow = 120,\n",
    "                  atr_periods = 180,\n",
    "                  sl_atr = 1,\n",
    "                  take_profit=0\n",
    "                  )"
   ]
  },
  {
   "cell_type": "code",
   "execution_count": 7,
   "metadata": {},
   "outputs": [],
   "source": [
    "results = m_proc(table, func)"
   ]
  },
  {
   "cell_type": "code",
   "execution_count": 8,
   "metadata": {},
   "outputs": [],
   "source": [
    "res = pd.DataFrame([perf(i, output=False).stats for i in results])"
   ]
  },
  {
   "cell_type": "code",
   "execution_count": 9,
   "metadata": {},
   "outputs": [
    {
     "data": {
      "text/plain": [
       "95"
      ]
     },
     "execution_count": 9,
     "metadata": {},
     "output_type": "execute_result"
    }
   ],
   "source": [
    "res[res['Annual return'] > 0]['Annual return'].count()"
   ]
  },
  {
   "cell_type": "code",
   "execution_count": 10,
   "metadata": {},
   "outputs": [
    {
     "data": {
      "text/html": [
       "<div>\n",
       "<style scoped>\n",
       "    .dataframe tbody tr th:only-of-type {\n",
       "        vertical-align: middle;\n",
       "    }\n",
       "\n",
       "    .dataframe tbody tr th {\n",
       "        vertical-align: top;\n",
       "    }\n",
       "\n",
       "    .dataframe thead th {\n",
       "        text-align: right;\n",
       "    }\n",
       "</style>\n",
       "<table border=\"1\" class=\"dataframe\">\n",
       "  <thead>\n",
       "    <tr style=\"text-align: right;\">\n",
       "      <th></th>\n",
       "      <th>Annual return</th>\n",
       "      <th>Cumulative returns</th>\n",
       "      <th>Annual volatility</th>\n",
       "      <th>Sharpe ratio</th>\n",
       "      <th>Calmar ratio</th>\n",
       "      <th>Stability</th>\n",
       "      <th>Max drawdown</th>\n",
       "      <th>Omega ratio</th>\n",
       "      <th>Sortino ratio</th>\n",
       "      <th>Skew</th>\n",
       "      <th>...</th>\n",
       "      <th>Avg gain/loss ratio</th>\n",
       "      <th>Position EV</th>\n",
       "      <th>Positions per day</th>\n",
       "      <th>Days per position</th>\n",
       "      <th>Actual avg. duration</th>\n",
       "      <th>Days</th>\n",
       "      <th>Positions</th>\n",
       "      <th>Trades</th>\n",
       "      <th>Monthly EV</th>\n",
       "      <th>Annual EV</th>\n",
       "    </tr>\n",
       "  </thead>\n",
       "  <tbody>\n",
       "    <tr>\n",
       "      <td>92</td>\n",
       "      <td>-0.128196</td>\n",
       "      <td>-0.090874</td>\n",
       "      <td>0.157899</td>\n",
       "      <td>-0.791223</td>\n",
       "      <td>-0.981213</td>\n",
       "      <td>0.040933</td>\n",
       "      <td>-0.130650</td>\n",
       "      <td>0.845683</td>\n",
       "      <td>-1.364169</td>\n",
       "      <td>2.306477</td>\n",
       "      <td>...</td>\n",
       "      <td>1.783156</td>\n",
       "      <td>-0.022444</td>\n",
       "      <td>1.360000</td>\n",
       "      <td>0.735294</td>\n",
       "      <td>05:38:00</td>\n",
       "      <td>175</td>\n",
       "      <td>238</td>\n",
       "      <td>476</td>\n",
       "      <td>-0.641008</td>\n",
       "      <td>-7.692096</td>\n",
       "    </tr>\n",
       "    <tr>\n",
       "      <td>73</td>\n",
       "      <td>-0.058295</td>\n",
       "      <td>-0.040395</td>\n",
       "      <td>0.236223</td>\n",
       "      <td>-0.137692</td>\n",
       "      <td>-0.224248</td>\n",
       "      <td>0.129686</td>\n",
       "      <td>-0.259957</td>\n",
       "      <td>0.971948</td>\n",
       "      <td>-0.215290</td>\n",
       "      <td>0.854599</td>\n",
       "      <td>...</td>\n",
       "      <td>1.430799</td>\n",
       "      <td>-0.010507</td>\n",
       "      <td>1.289017</td>\n",
       "      <td>0.775785</td>\n",
       "      <td>05:59:00</td>\n",
       "      <td>173</td>\n",
       "      <td>223</td>\n",
       "      <td>446</td>\n",
       "      <td>-0.284423</td>\n",
       "      <td>-3.413073</td>\n",
       "    </tr>\n",
       "    <tr>\n",
       "      <td>61</td>\n",
       "      <td>-0.053962</td>\n",
       "      <td>-0.037154</td>\n",
       "      <td>0.183999</td>\n",
       "      <td>-0.209990</td>\n",
       "      <td>-0.426697</td>\n",
       "      <td>0.473670</td>\n",
       "      <td>-0.126464</td>\n",
       "      <td>0.957793</td>\n",
       "      <td>-0.311672</td>\n",
       "      <td>0.096678</td>\n",
       "      <td>...</td>\n",
       "      <td>1.469957</td>\n",
       "      <td>-0.010217</td>\n",
       "      <td>1.284884</td>\n",
       "      <td>0.778281</td>\n",
       "      <td>06:02:00</td>\n",
       "      <td>172</td>\n",
       "      <td>221</td>\n",
       "      <td>442</td>\n",
       "      <td>-0.275682</td>\n",
       "      <td>-3.308188</td>\n",
       "    </tr>\n",
       "    <tr>\n",
       "      <td>40</td>\n",
       "      <td>-0.037911</td>\n",
       "      <td>-0.026184</td>\n",
       "      <td>0.155538</td>\n",
       "      <td>-0.171844</td>\n",
       "      <td>-0.392853</td>\n",
       "      <td>0.054501</td>\n",
       "      <td>-0.096502</td>\n",
       "      <td>0.965713</td>\n",
       "      <td>-0.283626</td>\n",
       "      <td>1.466196</td>\n",
       "      <td>...</td>\n",
       "      <td>1.610047</td>\n",
       "      <td>-0.006802</td>\n",
       "      <td>1.265896</td>\n",
       "      <td>0.789954</td>\n",
       "      <td>06:15:00</td>\n",
       "      <td>173</td>\n",
       "      <td>219</td>\n",
       "      <td>437</td>\n",
       "      <td>-0.180810</td>\n",
       "      <td>-2.169725</td>\n",
       "    </tr>\n",
       "    <tr>\n",
       "      <td>17</td>\n",
       "      <td>-0.025465</td>\n",
       "      <td>-0.017552</td>\n",
       "      <td>0.175998</td>\n",
       "      <td>-0.059800</td>\n",
       "      <td>-0.159734</td>\n",
       "      <td>0.557599</td>\n",
       "      <td>-0.159421</td>\n",
       "      <td>0.988949</td>\n",
       "      <td>-0.098954</td>\n",
       "      <td>1.195741</td>\n",
       "      <td>...</td>\n",
       "      <td>1.956251</td>\n",
       "      <td>-0.004327</td>\n",
       "      <td>1.352601</td>\n",
       "      <td>0.739316</td>\n",
       "      <td>06:01:00</td>\n",
       "      <td>173</td>\n",
       "      <td>234</td>\n",
       "      <td>467</td>\n",
       "      <td>-0.122918</td>\n",
       "      <td>-1.475021</td>\n",
       "    </tr>\n",
       "    <tr>\n",
       "      <td>...</td>\n",
       "      <td>...</td>\n",
       "      <td>...</td>\n",
       "      <td>...</td>\n",
       "      <td>...</td>\n",
       "      <td>...</td>\n",
       "      <td>...</td>\n",
       "      <td>...</td>\n",
       "      <td>...</td>\n",
       "      <td>...</td>\n",
       "      <td>...</td>\n",
       "      <td>...</td>\n",
       "      <td>...</td>\n",
       "      <td>...</td>\n",
       "      <td>...</td>\n",
       "      <td>...</td>\n",
       "      <td>...</td>\n",
       "      <td>...</td>\n",
       "      <td>...</td>\n",
       "      <td>...</td>\n",
       "      <td>...</td>\n",
       "      <td>...</td>\n",
       "    </tr>\n",
       "    <tr>\n",
       "      <td>55</td>\n",
       "      <td>0.650512</td>\n",
       "      <td>0.407775</td>\n",
       "      <td>0.125778</td>\n",
       "      <td>4.049690</td>\n",
       "      <td>29.771379</td>\n",
       "      <td>0.935525</td>\n",
       "      <td>-0.021850</td>\n",
       "      <td>2.320556</td>\n",
       "      <td>10.070853</td>\n",
       "      <td>1.785687</td>\n",
       "      <td>...</td>\n",
       "      <td>2.151096</td>\n",
       "      <td>0.108864</td>\n",
       "      <td>1.279070</td>\n",
       "      <td>0.781818</td>\n",
       "      <td>06:35:00</td>\n",
       "      <td>172</td>\n",
       "      <td>220</td>\n",
       "      <td>439</td>\n",
       "      <td>2.924144</td>\n",
       "      <td>35.089733</td>\n",
       "    </tr>\n",
       "    <tr>\n",
       "      <td>52</td>\n",
       "      <td>0.698645</td>\n",
       "      <td>0.438690</td>\n",
       "      <td>0.145530</td>\n",
       "      <td>3.715915</td>\n",
       "      <td>17.448863</td>\n",
       "      <td>0.874918</td>\n",
       "      <td>-0.040040</td>\n",
       "      <td>2.232957</td>\n",
       "      <td>9.453538</td>\n",
       "      <td>1.866997</td>\n",
       "      <td>...</td>\n",
       "      <td>2.193761</td>\n",
       "      <td>0.100728</td>\n",
       "      <td>1.300578</td>\n",
       "      <td>0.768889</td>\n",
       "      <td>05:55:00</td>\n",
       "      <td>173</td>\n",
       "      <td>225</td>\n",
       "      <td>450</td>\n",
       "      <td>2.751086</td>\n",
       "      <td>33.013027</td>\n",
       "    </tr>\n",
       "    <tr>\n",
       "      <td>7</td>\n",
       "      <td>0.750311</td>\n",
       "      <td>0.471856</td>\n",
       "      <td>0.165213</td>\n",
       "      <td>3.473143</td>\n",
       "      <td>13.772412</td>\n",
       "      <td>0.944334</td>\n",
       "      <td>-0.054479</td>\n",
       "      <td>2.244479</td>\n",
       "      <td>7.921641</td>\n",
       "      <td>1.636537</td>\n",
       "      <td>...</td>\n",
       "      <td>2.335902</td>\n",
       "      <td>0.125204</td>\n",
       "      <td>1.224138</td>\n",
       "      <td>0.816901</td>\n",
       "      <td>06:40:00</td>\n",
       "      <td>174</td>\n",
       "      <td>213</td>\n",
       "      <td>426</td>\n",
       "      <td>3.218610</td>\n",
       "      <td>38.623323</td>\n",
       "    </tr>\n",
       "    <tr>\n",
       "      <td>82</td>\n",
       "      <td>0.807326</td>\n",
       "      <td>0.497744</td>\n",
       "      <td>0.136958</td>\n",
       "      <td>4.394101</td>\n",
       "      <td>15.004662</td>\n",
       "      <td>0.965733</td>\n",
       "      <td>-0.053805</td>\n",
       "      <td>2.306646</td>\n",
       "      <td>9.437806</td>\n",
       "      <td>0.709290</td>\n",
       "      <td>...</td>\n",
       "      <td>2.245588</td>\n",
       "      <td>0.139570</td>\n",
       "      <td>1.209302</td>\n",
       "      <td>0.826923</td>\n",
       "      <td>07:22:00</td>\n",
       "      <td>172</td>\n",
       "      <td>208</td>\n",
       "      <td>416</td>\n",
       "      <td>3.544429</td>\n",
       "      <td>42.533143</td>\n",
       "    </tr>\n",
       "    <tr>\n",
       "      <td>93</td>\n",
       "      <td>0.810351</td>\n",
       "      <td>0.499454</td>\n",
       "      <td>0.132598</td>\n",
       "      <td>4.546766</td>\n",
       "      <td>17.178515</td>\n",
       "      <td>0.956842</td>\n",
       "      <td>-0.047172</td>\n",
       "      <td>2.347940</td>\n",
       "      <td>10.380478</td>\n",
       "      <td>1.005775</td>\n",
       "      <td>...</td>\n",
       "      <td>1.892662</td>\n",
       "      <td>0.140584</td>\n",
       "      <td>1.255814</td>\n",
       "      <td>0.796296</td>\n",
       "      <td>07:18:00</td>\n",
       "      <td>172</td>\n",
       "      <td>216</td>\n",
       "      <td>432</td>\n",
       "      <td>3.707482</td>\n",
       "      <td>44.489779</td>\n",
       "    </tr>\n",
       "  </tbody>\n",
       "</table>\n",
       "<p>100 rows × 26 columns</p>\n",
       "</div>"
      ],
      "text/plain": [
       "    Annual return  Cumulative returns  Annual volatility  Sharpe ratio  \\\n",
       "92      -0.128196           -0.090874           0.157899     -0.791223   \n",
       "73      -0.058295           -0.040395           0.236223     -0.137692   \n",
       "61      -0.053962           -0.037154           0.183999     -0.209990   \n",
       "40      -0.037911           -0.026184           0.155538     -0.171844   \n",
       "17      -0.025465           -0.017552           0.175998     -0.059800   \n",
       "..            ...                 ...                ...           ...   \n",
       "55       0.650512            0.407775           0.125778      4.049690   \n",
       "52       0.698645            0.438690           0.145530      3.715915   \n",
       "7        0.750311            0.471856           0.165213      3.473143   \n",
       "82       0.807326            0.497744           0.136958      4.394101   \n",
       "93       0.810351            0.499454           0.132598      4.546766   \n",
       "\n",
       "    Calmar ratio  Stability  Max drawdown  Omega ratio  Sortino ratio  \\\n",
       "92     -0.981213   0.040933     -0.130650     0.845683      -1.364169   \n",
       "73     -0.224248   0.129686     -0.259957     0.971948      -0.215290   \n",
       "61     -0.426697   0.473670     -0.126464     0.957793      -0.311672   \n",
       "40     -0.392853   0.054501     -0.096502     0.965713      -0.283626   \n",
       "17     -0.159734   0.557599     -0.159421     0.988949      -0.098954   \n",
       "..           ...        ...           ...          ...            ...   \n",
       "55     29.771379   0.935525     -0.021850     2.320556      10.070853   \n",
       "52     17.448863   0.874918     -0.040040     2.232957       9.453538   \n",
       "7      13.772412   0.944334     -0.054479     2.244479       7.921641   \n",
       "82     15.004662   0.965733     -0.053805     2.306646       9.437806   \n",
       "93     17.178515   0.956842     -0.047172     2.347940      10.380478   \n",
       "\n",
       "        Skew  ...  Avg gain/loss ratio  Position EV  Positions per day  \\\n",
       "92  2.306477  ...             1.783156    -0.022444           1.360000   \n",
       "73  0.854599  ...             1.430799    -0.010507           1.289017   \n",
       "61  0.096678  ...             1.469957    -0.010217           1.284884   \n",
       "40  1.466196  ...             1.610047    -0.006802           1.265896   \n",
       "17  1.195741  ...             1.956251    -0.004327           1.352601   \n",
       "..       ...  ...                  ...          ...                ...   \n",
       "55  1.785687  ...             2.151096     0.108864           1.279070   \n",
       "52  1.866997  ...             2.193761     0.100728           1.300578   \n",
       "7   1.636537  ...             2.335902     0.125204           1.224138   \n",
       "82  0.709290  ...             2.245588     0.139570           1.209302   \n",
       "93  1.005775  ...             1.892662     0.140584           1.255814   \n",
       "\n",
       "    Days per position  Actual avg. duration  Days  Positions  Trades  \\\n",
       "92           0.735294              05:38:00   175        238     476   \n",
       "73           0.775785              05:59:00   173        223     446   \n",
       "61           0.778281              06:02:00   172        221     442   \n",
       "40           0.789954              06:15:00   173        219     437   \n",
       "17           0.739316              06:01:00   173        234     467   \n",
       "..                ...                   ...   ...        ...     ...   \n",
       "55           0.781818              06:35:00   172        220     439   \n",
       "52           0.768889              05:55:00   173        225     450   \n",
       "7            0.816901              06:40:00   174        213     426   \n",
       "82           0.826923              07:22:00   172        208     416   \n",
       "93           0.796296              07:18:00   172        216     432   \n",
       "\n",
       "    Monthly EV  Annual EV  \n",
       "92   -0.641008  -7.692096  \n",
       "73   -0.284423  -3.413073  \n",
       "61   -0.275682  -3.308188  \n",
       "40   -0.180810  -2.169725  \n",
       "17   -0.122918  -1.475021  \n",
       "..         ...        ...  \n",
       "55    2.924144  35.089733  \n",
       "52    2.751086  33.013027  \n",
       "7     3.218610  38.623323  \n",
       "82    3.544429  42.533143  \n",
       "93    3.707482  44.489779  \n",
       "\n",
       "[100 rows x 26 columns]"
      ]
     },
     "execution_count": 10,
     "metadata": {},
     "output_type": "execute_result"
    }
   ],
   "source": [
    "res.sort_values('Annual return')"
   ]
  },
  {
   "cell_type": "code",
   "execution_count": 11,
   "metadata": {},
   "outputs": [
    {
     "data": {
      "text/plain": [
       "1.8521310629752508"
      ]
     },
     "execution_count": 11,
     "metadata": {},
     "output_type": "execute_result"
    }
   ],
   "source": [
    "res['Sharpe ratio'].median()"
   ]
  },
  {
   "cell_type": "code",
   "execution_count": 12,
   "metadata": {},
   "outputs": [
    {
     "data": {
      "text/plain": [
       "1.8348124642948207"
      ]
     },
     "execution_count": 12,
     "metadata": {},
     "output_type": "execute_result"
    }
   ],
   "source": [
    "res['Sharpe ratio'].mean()"
   ]
  },
  {
   "cell_type": "code",
   "execution_count": 13,
   "metadata": {},
   "outputs": [
    {
     "data": {
      "text/plain": [
       "70"
      ]
     },
     "execution_count": 13,
     "metadata": {},
     "output_type": "execute_result"
    }
   ],
   "source": [
    "res[res['Annual return'] >=.2]['Annual return'].count()"
   ]
  },
  {
   "cell_type": "code",
   "execution_count": 14,
   "metadata": {},
   "outputs": [
    {
     "data": {
      "text/plain": [
       "0.05473856372411143"
      ]
     },
     "execution_count": 14,
     "metadata": {},
     "output_type": "execute_result"
    }
   ],
   "source": [
    "res['Position EV'].median()"
   ]
  },
  {
   "cell_type": "code",
   "execution_count": 15,
   "metadata": {},
   "outputs": [
    {
     "data": {
      "text/plain": [
       "0.05316687299861702"
      ]
     },
     "execution_count": 15,
     "metadata": {},
     "output_type": "execute_result"
    }
   ],
   "source": [
    "res['Position EV'].mean()"
   ]
  },
  {
   "cell_type": "code",
   "execution_count": 16,
   "metadata": {},
   "outputs": [
    {
     "data": {
      "text/plain": [
       "100"
      ]
     },
     "execution_count": 16,
     "metadata": {},
     "output_type": "execute_result"
    }
   ],
   "source": [
    "(res[res['Position EV'] < 2])['Annual return'].count()"
   ]
  },
  {
   "cell_type": "code",
   "execution_count": 17,
   "metadata": {},
   "outputs": [
    {
     "data": {
      "text/plain": [
       "100"
      ]
     },
     "execution_count": 17,
     "metadata": {},
     "output_type": "execute_result"
    }
   ],
   "source": [
    "(res[res['Position EV'] < 5])['Annual return'].count()"
   ]
  },
  {
   "cell_type": "code",
   "execution_count": 18,
   "metadata": {},
   "outputs": [
    {
     "data": {
      "text/plain": [
       "1.5211752776048901"
      ]
     },
     "execution_count": 18,
     "metadata": {},
     "output_type": "execute_result"
    }
   ],
   "source": [
    "res['Monthly EV'].median()"
   ]
  },
  {
   "cell_type": "code",
   "execution_count": 19,
   "metadata": {},
   "outputs": [
    {
     "data": {
      "text/plain": [
       "1.455786026167657"
      ]
     },
     "execution_count": 19,
     "metadata": {},
     "output_type": "execute_result"
    }
   ],
   "source": [
    "res['Monthly EV'].mean()"
   ]
  },
  {
   "cell_type": "code",
   "execution_count": null,
   "metadata": {},
   "outputs": [],
   "source": []
  }
 ],
 "metadata": {
  "kernelspec": {
   "display_name": "Python 3",
   "language": "python",
   "name": "python3"
  },
  "language_info": {
   "codemirror_mode": {
    "name": "ipython",
    "version": 3
   },
   "file_extension": ".py",
   "mimetype": "text/x-python",
   "name": "python",
   "nbconvert_exporter": "python",
   "pygments_lexer": "ipython3",
   "version": "3.7.3"
  }
 },
 "nbformat": 4,
 "nbformat_minor": 2
}
