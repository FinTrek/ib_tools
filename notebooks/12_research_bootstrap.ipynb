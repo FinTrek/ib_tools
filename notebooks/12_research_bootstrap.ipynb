{
 "cells": [
  {
   "cell_type": "code",
   "execution_count": 1,
   "metadata": {},
   "outputs": [],
   "source": [
    "import warnings\n",
    "warnings.filterwarnings('ignore')\n",
    "import pandas as pd\n",
    "import numpy as np\n",
    "from grouper import group_by_volume, group_by_time\n",
    "from pyfolio.timeseries import perf_stats\n",
    "from functools import partial\n",
    "from utils import chart_price, plot, v_backtester, c_backtester, perf, perf_var, breakout_strategy, bootstrap, m_proc\n",
    "import sys\n",
    "sys.path.append('/home/tomek/ib_tools')\n",
    "from indicators import get_ATR, get_signals\n",
    "import matplotlib.pyplot as plt\n",
    "from typing import NamedTuple\n",
    "from collections import namedtuple\n",
    "%matplotlib inline"
   ]
  },
  {
   "cell_type": "code",
   "execution_count": 2,
   "metadata": {},
   "outputs": [],
   "source": [
    "from datastore_pytables import Store"
   ]
  },
  {
   "cell_type": "code",
   "execution_count": 3,
   "metadata": {},
   "outputs": [
    {
     "data": {
      "text/plain": [
       "['/cont/min/CL_20191120_NYMEX_USD',\n",
       " '/cont/min/ES_20191220_GLOBEX_USD',\n",
       " '/cont/min/GC_20191227_NYMEX_USD',\n",
       " '/cont/min/GE_20191216_GLOBEX_USD',\n",
       " '/cont/min/NKD_20191212_GLOBEX_USD',\n",
       " '/cont/min/NQ_20191220_GLOBEX_USD',\n",
       " '/cont/min/YM_20191220_ECBOT_USD',\n",
       " '/cont/min/ZB_20191219_ECBOT_USD',\n",
       " '/cont/min/ZF_20191231_ECBOT_USD',\n",
       " '/cont/min/ZN_20191219_ECBOT_USD']"
      ]
     },
     "execution_count": 3,
     "metadata": {},
     "output_type": "execute_result"
    }
   ],
   "source": [
    "store = Store()\n",
    "store.keys()"
   ]
  },
  {
   "cell_type": "code",
   "execution_count": 4,
   "metadata": {},
   "outputs": [],
   "source": [
    "contract = store.read('/cont/min/CL_20191120_NYMEX_USD').sort_index()"
   ]
  },
  {
   "cell_type": "code",
   "execution_count": 5,
   "metadata": {
    "scrolled": false
   },
   "outputs": [],
   "source": [
    "table = bootstrap(contract,\n",
    "          start = '20180101', \n",
    "          end = '20181231',\n",
    "          paths=100)"
   ]
  },
  {
   "cell_type": "code",
   "execution_count": 6,
   "metadata": {},
   "outputs": [],
   "source": [
    "func = partial(breakout_strategy, \n",
    "                  time_int = 45,\n",
    "                  periods = [5, 10, 20, 40, 80, 160],\n",
    "                  ema_fast = 30,\n",
    "                  ema_slow = 120,\n",
    "                  atr_periods = 180,\n",
    "                  sl_atr = 3,\n",
    "                  take_profit=0\n",
    "                  )"
   ]
  },
  {
   "cell_type": "code",
   "execution_count": 7,
   "metadata": {},
   "outputs": [],
   "source": [
    "results = m_proc(table, func)"
   ]
  },
  {
   "cell_type": "code",
   "execution_count": 8,
   "metadata": {},
   "outputs": [],
   "source": [
    "res = pd.DataFrame([perf(i, output=False).stats for i in results])"
   ]
  },
  {
   "cell_type": "code",
   "execution_count": 9,
   "metadata": {},
   "outputs": [
    {
     "data": {
      "text/plain": [
       "79"
      ]
     },
     "execution_count": 9,
     "metadata": {},
     "output_type": "execute_result"
    }
   ],
   "source": [
    "res[res['Annual return'] > 0]['Annual return'].count()"
   ]
  },
  {
   "cell_type": "code",
   "execution_count": 10,
   "metadata": {},
   "outputs": [
    {
     "data": {
      "text/html": [
       "<div>\n",
       "<style scoped>\n",
       "    .dataframe tbody tr th:only-of-type {\n",
       "        vertical-align: middle;\n",
       "    }\n",
       "\n",
       "    .dataframe tbody tr th {\n",
       "        vertical-align: top;\n",
       "    }\n",
       "\n",
       "    .dataframe thead th {\n",
       "        text-align: right;\n",
       "    }\n",
       "</style>\n",
       "<table border=\"1\" class=\"dataframe\">\n",
       "  <thead>\n",
       "    <tr style=\"text-align: right;\">\n",
       "      <th></th>\n",
       "      <th>Annual return</th>\n",
       "      <th>Cumulative returns</th>\n",
       "      <th>Annual volatility</th>\n",
       "      <th>Sharpe ratio</th>\n",
       "      <th>Calmar ratio</th>\n",
       "      <th>Stability</th>\n",
       "      <th>Max drawdown</th>\n",
       "      <th>Omega ratio</th>\n",
       "      <th>Sortino ratio</th>\n",
       "      <th>Skew</th>\n",
       "      <th>...</th>\n",
       "      <th>Avg gain/loss ratio</th>\n",
       "      <th>Position EV</th>\n",
       "      <th>Positions per day</th>\n",
       "      <th>Days per position</th>\n",
       "      <th>Actual avg. duration</th>\n",
       "      <th>Days</th>\n",
       "      <th>Positions</th>\n",
       "      <th>Trades</th>\n",
       "      <th>Monthly EV</th>\n",
       "      <th>Annual EV</th>\n",
       "    </tr>\n",
       "  </thead>\n",
       "  <tbody>\n",
       "    <tr>\n",
       "      <td>27</td>\n",
       "      <td>-0.466511</td>\n",
       "      <td>-0.350365</td>\n",
       "      <td>0.453822</td>\n",
       "      <td>-1.160398</td>\n",
       "      <td>-0.873142</td>\n",
       "      <td>0.800025</td>\n",
       "      <td>-0.534290</td>\n",
       "      <td>0.808294</td>\n",
       "      <td>-1.754611</td>\n",
       "      <td>0.952520</td>\n",
       "      <td>...</td>\n",
       "      <td>1.983487</td>\n",
       "      <td>-0.168554</td>\n",
       "      <td>0.728324</td>\n",
       "      <td>1.373016</td>\n",
       "      <td>0 days 22:55:00</td>\n",
       "      <td>173</td>\n",
       "      <td>126</td>\n",
       "      <td>252</td>\n",
       "      <td>-2.578006</td>\n",
       "      <td>-30.936067</td>\n",
       "    </tr>\n",
       "    <tr>\n",
       "      <td>84</td>\n",
       "      <td>-0.330504</td>\n",
       "      <td>-0.239558</td>\n",
       "      <td>0.254941</td>\n",
       "      <td>-1.446472</td>\n",
       "      <td>-0.873618</td>\n",
       "      <td>0.849942</td>\n",
       "      <td>-0.378317</td>\n",
       "      <td>0.772607</td>\n",
       "      <td>-2.047217</td>\n",
       "      <td>0.666374</td>\n",
       "      <td>...</td>\n",
       "      <td>1.486656</td>\n",
       "      <td>-0.116708</td>\n",
       "      <td>0.726744</td>\n",
       "      <td>1.376000</td>\n",
       "      <td>0 days 23:09:00</td>\n",
       "      <td>172</td>\n",
       "      <td>125</td>\n",
       "      <td>249</td>\n",
       "      <td>-1.781147</td>\n",
       "      <td>-21.373764</td>\n",
       "    </tr>\n",
       "    <tr>\n",
       "      <td>29</td>\n",
       "      <td>-0.329715</td>\n",
       "      <td>-0.238947</td>\n",
       "      <td>0.273554</td>\n",
       "      <td>-1.325904</td>\n",
       "      <td>-1.081668</td>\n",
       "      <td>0.880276</td>\n",
       "      <td>-0.304821</td>\n",
       "      <td>0.789570</td>\n",
       "      <td>-1.900676</td>\n",
       "      <td>0.579474</td>\n",
       "      <td>...</td>\n",
       "      <td>1.210941</td>\n",
       "      <td>-0.113001</td>\n",
       "      <td>0.732558</td>\n",
       "      <td>1.365079</td>\n",
       "      <td>1 days 00:10:00</td>\n",
       "      <td>172</td>\n",
       "      <td>126</td>\n",
       "      <td>252</td>\n",
       "      <td>-1.738382</td>\n",
       "      <td>-20.860588</td>\n",
       "    </tr>\n",
       "    <tr>\n",
       "      <td>2</td>\n",
       "      <td>-0.272803</td>\n",
       "      <td>-0.194397</td>\n",
       "      <td>0.223887</td>\n",
       "      <td>-1.311652</td>\n",
       "      <td>-1.241597</td>\n",
       "      <td>0.025792</td>\n",
       "      <td>-0.219720</td>\n",
       "      <td>0.798971</td>\n",
       "      <td>-1.993206</td>\n",
       "      <td>1.120141</td>\n",
       "      <td>...</td>\n",
       "      <td>1.975701</td>\n",
       "      <td>-0.096698</td>\n",
       "      <td>0.707602</td>\n",
       "      <td>1.413223</td>\n",
       "      <td>0 days 23:45:00</td>\n",
       "      <td>171</td>\n",
       "      <td>121</td>\n",
       "      <td>242</td>\n",
       "      <td>-1.436894</td>\n",
       "      <td>-17.242732</td>\n",
       "    </tr>\n",
       "    <tr>\n",
       "      <td>81</td>\n",
       "      <td>-0.254055</td>\n",
       "      <td>-0.181314</td>\n",
       "      <td>0.219856</td>\n",
       "      <td>-1.225049</td>\n",
       "      <td>-1.095450</td>\n",
       "      <td>0.693724</td>\n",
       "      <td>-0.231919</td>\n",
       "      <td>0.785619</td>\n",
       "      <td>-2.009468</td>\n",
       "      <td>2.184753</td>\n",
       "      <td>...</td>\n",
       "      <td>1.671103</td>\n",
       "      <td>-0.093097</td>\n",
       "      <td>0.709302</td>\n",
       "      <td>1.409836</td>\n",
       "      <td>0 days 23:35:00</td>\n",
       "      <td>172</td>\n",
       "      <td>122</td>\n",
       "      <td>244</td>\n",
       "      <td>-1.386713</td>\n",
       "      <td>-16.640551</td>\n",
       "    </tr>\n",
       "    <tr>\n",
       "      <td>...</td>\n",
       "      <td>...</td>\n",
       "      <td>...</td>\n",
       "      <td>...</td>\n",
       "      <td>...</td>\n",
       "      <td>...</td>\n",
       "      <td>...</td>\n",
       "      <td>...</td>\n",
       "      <td>...</td>\n",
       "      <td>...</td>\n",
       "      <td>...</td>\n",
       "      <td>...</td>\n",
       "      <td>...</td>\n",
       "      <td>...</td>\n",
       "      <td>...</td>\n",
       "      <td>...</td>\n",
       "      <td>...</td>\n",
       "      <td>...</td>\n",
       "      <td>...</td>\n",
       "      <td>...</td>\n",
       "      <td>...</td>\n",
       "      <td>...</td>\n",
       "    </tr>\n",
       "    <tr>\n",
       "      <td>56</td>\n",
       "      <td>0.774418</td>\n",
       "      <td>0.479076</td>\n",
       "      <td>0.194155</td>\n",
       "      <td>3.052398</td>\n",
       "      <td>8.743455</td>\n",
       "      <td>0.860284</td>\n",
       "      <td>-0.088571</td>\n",
       "      <td>1.774601</td>\n",
       "      <td>6.560771</td>\n",
       "      <td>1.248051</td>\n",
       "      <td>...</td>\n",
       "      <td>2.674486</td>\n",
       "      <td>0.286614</td>\n",
       "      <td>0.598837</td>\n",
       "      <td>1.669903</td>\n",
       "      <td>1 days 05:48:00</td>\n",
       "      <td>172</td>\n",
       "      <td>103</td>\n",
       "      <td>205</td>\n",
       "      <td>3.604340</td>\n",
       "      <td>43.252075</td>\n",
       "    </tr>\n",
       "    <tr>\n",
       "      <td>14</td>\n",
       "      <td>0.794133</td>\n",
       "      <td>0.490273</td>\n",
       "      <td>0.177318</td>\n",
       "      <td>3.387426</td>\n",
       "      <td>11.773028</td>\n",
       "      <td>0.882910</td>\n",
       "      <td>-0.067454</td>\n",
       "      <td>1.925028</td>\n",
       "      <td>7.577172</td>\n",
       "      <td>1.250427</td>\n",
       "      <td>...</td>\n",
       "      <td>2.067292</td>\n",
       "      <td>0.283885</td>\n",
       "      <td>0.616279</td>\n",
       "      <td>1.622642</td>\n",
       "      <td>1 days 04:58:00</td>\n",
       "      <td>172</td>\n",
       "      <td>106</td>\n",
       "      <td>211</td>\n",
       "      <td>3.673996</td>\n",
       "      <td>44.087949</td>\n",
       "    </tr>\n",
       "    <tr>\n",
       "      <td>36</td>\n",
       "      <td>0.794643</td>\n",
       "      <td>0.490562</td>\n",
       "      <td>0.242639</td>\n",
       "      <td>2.531798</td>\n",
       "      <td>9.426845</td>\n",
       "      <td>0.867851</td>\n",
       "      <td>-0.084296</td>\n",
       "      <td>1.632458</td>\n",
       "      <td>5.338108</td>\n",
       "      <td>1.294614</td>\n",
       "      <td>...</td>\n",
       "      <td>2.415486</td>\n",
       "      <td>0.277420</td>\n",
       "      <td>0.593023</td>\n",
       "      <td>1.686275</td>\n",
       "      <td>1 days 07:06:00</td>\n",
       "      <td>172</td>\n",
       "      <td>102</td>\n",
       "      <td>204</td>\n",
       "      <td>3.454847</td>\n",
       "      <td>41.458166</td>\n",
       "    </tr>\n",
       "    <tr>\n",
       "      <td>83</td>\n",
       "      <td>0.800791</td>\n",
       "      <td>0.497537</td>\n",
       "      <td>0.192886</td>\n",
       "      <td>3.147659</td>\n",
       "      <td>8.888846</td>\n",
       "      <td>0.911741</td>\n",
       "      <td>-0.090089</td>\n",
       "      <td>1.889628</td>\n",
       "      <td>7.071066</td>\n",
       "      <td>1.574671</td>\n",
       "      <td>...</td>\n",
       "      <td>2.292662</td>\n",
       "      <td>0.276900</td>\n",
       "      <td>0.583815</td>\n",
       "      <td>1.712871</td>\n",
       "      <td>1 days 07:18:00</td>\n",
       "      <td>173</td>\n",
       "      <td>101</td>\n",
       "      <td>202</td>\n",
       "      <td>3.394823</td>\n",
       "      <td>40.737871</td>\n",
       "    </tr>\n",
       "    <tr>\n",
       "      <td>51</td>\n",
       "      <td>1.101441</td>\n",
       "      <td>0.669900</td>\n",
       "      <td>0.193906</td>\n",
       "      <td>3.930146</td>\n",
       "      <td>22.005430</td>\n",
       "      <td>0.811594</td>\n",
       "      <td>-0.050053</td>\n",
       "      <td>2.269986</td>\n",
       "      <td>10.714742</td>\n",
       "      <td>1.881200</td>\n",
       "      <td>...</td>\n",
       "      <td>2.960172</td>\n",
       "      <td>0.380530</td>\n",
       "      <td>0.597701</td>\n",
       "      <td>1.673077</td>\n",
       "      <td>1 days 04:19:00</td>\n",
       "      <td>174</td>\n",
       "      <td>104</td>\n",
       "      <td>207</td>\n",
       "      <td>4.776305</td>\n",
       "      <td>57.315657</td>\n",
       "    </tr>\n",
       "  </tbody>\n",
       "</table>\n",
       "<p>100 rows × 26 columns</p>\n",
       "</div>"
      ],
      "text/plain": [
       "    Annual return  Cumulative returns  Annual volatility  Sharpe ratio  \\\n",
       "27      -0.466511           -0.350365           0.453822     -1.160398   \n",
       "84      -0.330504           -0.239558           0.254941     -1.446472   \n",
       "29      -0.329715           -0.238947           0.273554     -1.325904   \n",
       "2       -0.272803           -0.194397           0.223887     -1.311652   \n",
       "81      -0.254055           -0.181314           0.219856     -1.225049   \n",
       "..            ...                 ...                ...           ...   \n",
       "56       0.774418            0.479076           0.194155      3.052398   \n",
       "14       0.794133            0.490273           0.177318      3.387426   \n",
       "36       0.794643            0.490562           0.242639      2.531798   \n",
       "83       0.800791            0.497537           0.192886      3.147659   \n",
       "51       1.101441            0.669900           0.193906      3.930146   \n",
       "\n",
       "    Calmar ratio  Stability  Max drawdown  Omega ratio  Sortino ratio  \\\n",
       "27     -0.873142   0.800025     -0.534290     0.808294      -1.754611   \n",
       "84     -0.873618   0.849942     -0.378317     0.772607      -2.047217   \n",
       "29     -1.081668   0.880276     -0.304821     0.789570      -1.900676   \n",
       "2      -1.241597   0.025792     -0.219720     0.798971      -1.993206   \n",
       "81     -1.095450   0.693724     -0.231919     0.785619      -2.009468   \n",
       "..           ...        ...           ...          ...            ...   \n",
       "56      8.743455   0.860284     -0.088571     1.774601       6.560771   \n",
       "14     11.773028   0.882910     -0.067454     1.925028       7.577172   \n",
       "36      9.426845   0.867851     -0.084296     1.632458       5.338108   \n",
       "83      8.888846   0.911741     -0.090089     1.889628       7.071066   \n",
       "51     22.005430   0.811594     -0.050053     2.269986      10.714742   \n",
       "\n",
       "        Skew  ...  Avg gain/loss ratio  Position EV  Positions per day  \\\n",
       "27  0.952520  ...             1.983487    -0.168554           0.728324   \n",
       "84  0.666374  ...             1.486656    -0.116708           0.726744   \n",
       "29  0.579474  ...             1.210941    -0.113001           0.732558   \n",
       "2   1.120141  ...             1.975701    -0.096698           0.707602   \n",
       "81  2.184753  ...             1.671103    -0.093097           0.709302   \n",
       "..       ...  ...                  ...          ...                ...   \n",
       "56  1.248051  ...             2.674486     0.286614           0.598837   \n",
       "14  1.250427  ...             2.067292     0.283885           0.616279   \n",
       "36  1.294614  ...             2.415486     0.277420           0.593023   \n",
       "83  1.574671  ...             2.292662     0.276900           0.583815   \n",
       "51  1.881200  ...             2.960172     0.380530           0.597701   \n",
       "\n",
       "    Days per position  Actual avg. duration  Days  Positions  Trades  \\\n",
       "27           1.373016       0 days 22:55:00   173        126     252   \n",
       "84           1.376000       0 days 23:09:00   172        125     249   \n",
       "29           1.365079       1 days 00:10:00   172        126     252   \n",
       "2            1.413223       0 days 23:45:00   171        121     242   \n",
       "81           1.409836       0 days 23:35:00   172        122     244   \n",
       "..                ...                   ...   ...        ...     ...   \n",
       "56           1.669903       1 days 05:48:00   172        103     205   \n",
       "14           1.622642       1 days 04:58:00   172        106     211   \n",
       "36           1.686275       1 days 07:06:00   172        102     204   \n",
       "83           1.712871       1 days 07:18:00   173        101     202   \n",
       "51           1.673077       1 days 04:19:00   174        104     207   \n",
       "\n",
       "    Monthly EV  Annual EV  \n",
       "27   -2.578006 -30.936067  \n",
       "84   -1.781147 -21.373764  \n",
       "29   -1.738382 -20.860588  \n",
       "2    -1.436894 -17.242732  \n",
       "81   -1.386713 -16.640551  \n",
       "..         ...        ...  \n",
       "56    3.604340  43.252075  \n",
       "14    3.673996  44.087949  \n",
       "36    3.454847  41.458166  \n",
       "83    3.394823  40.737871  \n",
       "51    4.776305  57.315657  \n",
       "\n",
       "[100 rows x 26 columns]"
      ]
     },
     "execution_count": 10,
     "metadata": {},
     "output_type": "execute_result"
    }
   ],
   "source": [
    "res.sort_values('Annual return')"
   ]
  },
  {
   "cell_type": "code",
   "execution_count": 11,
   "metadata": {},
   "outputs": [
    {
     "data": {
      "text/plain": [
       "1.0820878364216704"
      ]
     },
     "execution_count": 11,
     "metadata": {},
     "output_type": "execute_result"
    }
   ],
   "source": [
    "res['Sharpe ratio'].median()"
   ]
  },
  {
   "cell_type": "code",
   "execution_count": 12,
   "metadata": {},
   "outputs": [
    {
     "data": {
      "text/plain": [
       "1.0350027430526523"
      ]
     },
     "execution_count": 12,
     "metadata": {},
     "output_type": "execute_result"
    }
   ],
   "source": [
    "res['Sharpe ratio'].mean()"
   ]
  },
  {
   "cell_type": "code",
   "execution_count": 13,
   "metadata": {},
   "outputs": [
    {
     "data": {
      "text/plain": [
       "52"
      ]
     },
     "execution_count": 13,
     "metadata": {},
     "output_type": "execute_result"
    }
   ],
   "source": [
    "res[res['Annual return'] >=.2]['Annual return'].count()"
   ]
  },
  {
   "cell_type": "code",
   "execution_count": 14,
   "metadata": {},
   "outputs": [
    {
     "data": {
      "text/plain": [
       "0.07867549875957108"
      ]
     },
     "execution_count": 14,
     "metadata": {},
     "output_type": "execute_result"
    }
   ],
   "source": [
    "res['Position EV'].median()"
   ]
  },
  {
   "cell_type": "code",
   "execution_count": 15,
   "metadata": {},
   "outputs": [
    {
     "data": {
      "text/plain": [
       "0.08389023310003733"
      ]
     },
     "execution_count": 15,
     "metadata": {},
     "output_type": "execute_result"
    }
   ],
   "source": [
    "res['Position EV'].mean()"
   ]
  },
  {
   "cell_type": "code",
   "execution_count": 16,
   "metadata": {},
   "outputs": [
    {
     "data": {
      "text/plain": [
       "100"
      ]
     },
     "execution_count": 16,
     "metadata": {},
     "output_type": "execute_result"
    }
   ],
   "source": [
    "(res[res['Position EV'] < 2])['Annual return'].count()"
   ]
  },
  {
   "cell_type": "code",
   "execution_count": 17,
   "metadata": {},
   "outputs": [
    {
     "data": {
      "text/plain": [
       "100"
      ]
     },
     "execution_count": 17,
     "metadata": {},
     "output_type": "execute_result"
    }
   ],
   "source": [
    "(res[res['Position EV'] < 5])['Annual return'].count()"
   ]
  },
  {
   "cell_type": "code",
   "execution_count": 18,
   "metadata": {},
   "outputs": [
    {
     "data": {
      "text/plain": [
       "1.082550344589817"
      ]
     },
     "execution_count": 18,
     "metadata": {},
     "output_type": "execute_result"
    }
   ],
   "source": [
    "res['Monthly EV'].median()"
   ]
  },
  {
   "cell_type": "code",
   "execution_count": 19,
   "metadata": {},
   "outputs": [
    {
     "data": {
      "text/plain": [
       "1.0772958766343255"
      ]
     },
     "execution_count": 19,
     "metadata": {},
     "output_type": "execute_result"
    }
   ],
   "source": [
    "res['Monthly EV'].mean()"
   ]
  },
  {
   "cell_type": "code",
   "execution_count": null,
   "metadata": {},
   "outputs": [],
   "source": []
  }
 ],
 "metadata": {
  "kernelspec": {
   "display_name": "Python 3",
   "language": "python",
   "name": "python3"
  },
  "language_info": {
   "codemirror_mode": {
    "name": "ipython",
    "version": 3
   },
   "file_extension": ".py",
   "mimetype": "text/x-python",
   "name": "python",
   "nbconvert_exporter": "python",
   "pygments_lexer": "ipython3",
   "version": "3.7.3"
  }
 },
 "nbformat": 4,
 "nbformat_minor": 2
}
