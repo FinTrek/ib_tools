{
 "cells": [
  {
   "cell_type": "code",
   "execution_count": 1,
   "metadata": {},
   "outputs": [],
   "source": [
    "import warnings\n",
    "warnings.filterwarnings('ignore')\n",
    "import pandas as pd\n",
    "import numpy as np\n",
    "from grouper import group_by_volume, group_by_time\n",
    "from pyfolio.timeseries import perf_stats\n",
    "from functools import partial\n",
    "from utils import chart_price, plot, v_backtester, c_backtester, perf, perf_var, breakout_strategy, bootstrap, m_proc\n",
    "import sys\n",
    "sys.path.append('/home/tomek/ib_tools')\n",
    "from indicators import get_ATR, get_signals\n",
    "import matplotlib.pyplot as plt\n",
    "from typing import NamedTuple\n",
    "from collections import namedtuple\n",
    "%matplotlib inline"
   ]
  },
  {
   "cell_type": "code",
   "execution_count": 2,
   "metadata": {},
   "outputs": [],
   "source": [
    "from datastore_pytables import Store"
   ]
  },
  {
   "cell_type": "code",
   "execution_count": 3,
   "metadata": {},
   "outputs": [
    {
     "data": {
      "text/plain": [
       "['/cont/min/CL_20191120_NYMEX_USD',\n",
       " '/cont/min/ES_20191220_GLOBEX_USD',\n",
       " '/cont/min/GC_20191227_NYMEX_USD',\n",
       " '/cont/min/GE_20191216_GLOBEX_USD',\n",
       " '/cont/min/NKD_20191212_GLOBEX_USD',\n",
       " '/cont/min/NQ_20191220_GLOBEX_USD',\n",
       " '/cont/min/YM_20191220_ECBOT_USD',\n",
       " '/cont/min/ZB_20191219_ECBOT_USD',\n",
       " '/cont/min/ZF_20191231_ECBOT_USD',\n",
       " '/cont/min/ZN_20191219_ECBOT_USD']"
      ]
     },
     "execution_count": 3,
     "metadata": {},
     "output_type": "execute_result"
    }
   ],
   "source": [
    "store = Store()\n",
    "store.keys()"
   ]
  },
  {
   "cell_type": "code",
   "execution_count": 4,
   "metadata": {},
   "outputs": [],
   "source": [
    "contract = store.read('/cont/min/CL_20191120_NYMEX_USD').sort_index()"
   ]
  },
  {
   "cell_type": "code",
   "execution_count": 5,
   "metadata": {
    "scrolled": false
   },
   "outputs": [],
   "source": [
    "table = bootstrap(contract,\n",
    "          start = '20190101', \n",
    "          end = '20191231',\n",
    "          paths=100)"
   ]
  },
  {
   "cell_type": "code",
   "execution_count": 6,
   "metadata": {},
   "outputs": [],
   "source": [
    "func = partial(breakout_strategy, \n",
    "                  time_int = 30,\n",
    "                  periods = [5, 10, 20, 40, 80, 160],\n",
    "                  ema_fast = 5,\n",
    "                  ema_slow = 120,\n",
    "                  atr_periods = 180,\n",
    "                  sl_atr = 1,\n",
    "                  take_profit=0\n",
    "                  )"
   ]
  },
  {
   "cell_type": "code",
   "execution_count": 7,
   "metadata": {},
   "outputs": [],
   "source": [
    "results = m_proc(table, func)"
   ]
  },
  {
   "cell_type": "code",
   "execution_count": 8,
   "metadata": {},
   "outputs": [],
   "source": [
    "res = pd.DataFrame([perf(i, output=False).stats for i in results])"
   ]
  },
  {
   "cell_type": "code",
   "execution_count": 9,
   "metadata": {},
   "outputs": [
    {
     "data": {
      "text/plain": [
       "91"
      ]
     },
     "execution_count": 9,
     "metadata": {},
     "output_type": "execute_result"
    }
   ],
   "source": [
    "res[res['Annual return'] > 0]['Annual return'].count()"
   ]
  },
  {
   "cell_type": "code",
   "execution_count": 10,
   "metadata": {},
   "outputs": [
    {
     "data": {
      "text/html": [
       "<div>\n",
       "<style scoped>\n",
       "    .dataframe tbody tr th:only-of-type {\n",
       "        vertical-align: middle;\n",
       "    }\n",
       "\n",
       "    .dataframe tbody tr th {\n",
       "        vertical-align: top;\n",
       "    }\n",
       "\n",
       "    .dataframe thead th {\n",
       "        text-align: right;\n",
       "    }\n",
       "</style>\n",
       "<table border=\"1\" class=\"dataframe\">\n",
       "  <thead>\n",
       "    <tr style=\"text-align: right;\">\n",
       "      <th></th>\n",
       "      <th>Annual return</th>\n",
       "      <th>Cumulative returns</th>\n",
       "      <th>Annual volatility</th>\n",
       "      <th>Sharpe ratio</th>\n",
       "      <th>Calmar ratio</th>\n",
       "      <th>Stability</th>\n",
       "      <th>Max drawdown</th>\n",
       "      <th>Omega ratio</th>\n",
       "      <th>Sortino ratio</th>\n",
       "      <th>Skew</th>\n",
       "      <th>...</th>\n",
       "      <th>Avg gain/loss ratio</th>\n",
       "      <th>Position EV</th>\n",
       "      <th>Positions per day</th>\n",
       "      <th>Days per position</th>\n",
       "      <th>Actual avg. duration</th>\n",
       "      <th>Days</th>\n",
       "      <th>Positions</th>\n",
       "      <th>Trades</th>\n",
       "      <th>Monthly EV</th>\n",
       "      <th>Annual EV</th>\n",
       "    </tr>\n",
       "  </thead>\n",
       "  <tbody>\n",
       "    <tr>\n",
       "      <td>21</td>\n",
       "      <td>-0.317578</td>\n",
       "      <td>-0.199802</td>\n",
       "      <td>0.306537</td>\n",
       "      <td>-1.092987</td>\n",
       "      <td>-1.079470</td>\n",
       "      <td>0.362164</td>\n",
       "      <td>-0.294198</td>\n",
       "      <td>0.827929</td>\n",
       "      <td>-1.481087</td>\n",
       "      <td>-0.031684</td>\n",
       "      <td>...</td>\n",
       "      <td>1.591834</td>\n",
       "      <td>-0.025292</td>\n",
       "      <td>2.564626</td>\n",
       "      <td>0.389920</td>\n",
       "      <td>03:54:00</td>\n",
       "      <td>147</td>\n",
       "      <td>377</td>\n",
       "      <td>754</td>\n",
       "      <td>-1.362141</td>\n",
       "      <td>-16.345694</td>\n",
       "    </tr>\n",
       "    <tr>\n",
       "      <td>31</td>\n",
       "      <td>-0.229452</td>\n",
       "      <td>-0.141052</td>\n",
       "      <td>0.303614</td>\n",
       "      <td>-0.706583</td>\n",
       "      <td>-0.639649</td>\n",
       "      <td>0.164936</td>\n",
       "      <td>-0.358715</td>\n",
       "      <td>0.877925</td>\n",
       "      <td>-0.975035</td>\n",
       "      <td>-0.190948</td>\n",
       "      <td>...</td>\n",
       "      <td>1.620932</td>\n",
       "      <td>-0.017876</td>\n",
       "      <td>2.523810</td>\n",
       "      <td>0.396226</td>\n",
       "      <td>04:00:00</td>\n",
       "      <td>147</td>\n",
       "      <td>371</td>\n",
       "      <td>742</td>\n",
       "      <td>-0.947443</td>\n",
       "      <td>-11.369313</td>\n",
       "    </tr>\n",
       "    <tr>\n",
       "      <td>58</td>\n",
       "      <td>-0.179835</td>\n",
       "      <td>-0.109209</td>\n",
       "      <td>0.303592</td>\n",
       "      <td>-0.500720</td>\n",
       "      <td>-0.884026</td>\n",
       "      <td>0.254100</td>\n",
       "      <td>-0.203427</td>\n",
       "      <td>0.915114</td>\n",
       "      <td>-0.684701</td>\n",
       "      <td>-0.519646</td>\n",
       "      <td>...</td>\n",
       "      <td>1.678399</td>\n",
       "      <td>-0.014358</td>\n",
       "      <td>2.387755</td>\n",
       "      <td>0.418803</td>\n",
       "      <td>03:47:00</td>\n",
       "      <td>147</td>\n",
       "      <td>351</td>\n",
       "      <td>702</td>\n",
       "      <td>-0.719964</td>\n",
       "      <td>-8.639572</td>\n",
       "    </tr>\n",
       "    <tr>\n",
       "      <td>78</td>\n",
       "      <td>-0.170346</td>\n",
       "      <td>-0.103212</td>\n",
       "      <td>0.280697</td>\n",
       "      <td>-0.527344</td>\n",
       "      <td>-0.748138</td>\n",
       "      <td>0.228284</td>\n",
       "      <td>-0.227694</td>\n",
       "      <td>0.912375</td>\n",
       "      <td>-0.813850</td>\n",
       "      <td>1.176899</td>\n",
       "      <td>...</td>\n",
       "      <td>1.504481</td>\n",
       "      <td>-0.013290</td>\n",
       "      <td>2.421769</td>\n",
       "      <td>0.412921</td>\n",
       "      <td>03:46:00</td>\n",
       "      <td>147</td>\n",
       "      <td>356</td>\n",
       "      <td>711</td>\n",
       "      <td>-0.675911</td>\n",
       "      <td>-8.110936</td>\n",
       "    </tr>\n",
       "    <tr>\n",
       "      <td>7</td>\n",
       "      <td>-0.117234</td>\n",
       "      <td>-0.070157</td>\n",
       "      <td>0.207924</td>\n",
       "      <td>-0.496417</td>\n",
       "      <td>-0.509715</td>\n",
       "      <td>0.229945</td>\n",
       "      <td>-0.230000</td>\n",
       "      <td>0.914634</td>\n",
       "      <td>-0.718575</td>\n",
       "      <td>0.214992</td>\n",
       "      <td>...</td>\n",
       "      <td>1.522058</td>\n",
       "      <td>-0.009110</td>\n",
       "      <td>2.380952</td>\n",
       "      <td>0.420000</td>\n",
       "      <td>03:40:00</td>\n",
       "      <td>147</td>\n",
       "      <td>350</td>\n",
       "      <td>699</td>\n",
       "      <td>-0.455499</td>\n",
       "      <td>-5.465983</td>\n",
       "    </tr>\n",
       "    <tr>\n",
       "      <td>...</td>\n",
       "      <td>...</td>\n",
       "      <td>...</td>\n",
       "      <td>...</td>\n",
       "      <td>...</td>\n",
       "      <td>...</td>\n",
       "      <td>...</td>\n",
       "      <td>...</td>\n",
       "      <td>...</td>\n",
       "      <td>...</td>\n",
       "      <td>...</td>\n",
       "      <td>...</td>\n",
       "      <td>...</td>\n",
       "      <td>...</td>\n",
       "      <td>...</td>\n",
       "      <td>...</td>\n",
       "      <td>...</td>\n",
       "      <td>...</td>\n",
       "      <td>...</td>\n",
       "      <td>...</td>\n",
       "      <td>...</td>\n",
       "      <td>...</td>\n",
       "    </tr>\n",
       "    <tr>\n",
       "      <td>69</td>\n",
       "      <td>1.257305</td>\n",
       "      <td>0.602721</td>\n",
       "      <td>0.238530</td>\n",
       "      <td>3.533578</td>\n",
       "      <td>26.612976</td>\n",
       "      <td>0.905981</td>\n",
       "      <td>-0.047244</td>\n",
       "      <td>2.103389</td>\n",
       "      <td>9.249044</td>\n",
       "      <td>3.009381</td>\n",
       "      <td>...</td>\n",
       "      <td>1.947496</td>\n",
       "      <td>0.089505</td>\n",
       "      <td>2.191781</td>\n",
       "      <td>0.456250</td>\n",
       "      <td>04:02:00</td>\n",
       "      <td>146</td>\n",
       "      <td>320</td>\n",
       "      <td>640</td>\n",
       "      <td>4.119693</td>\n",
       "      <td>49.436320</td>\n",
       "    </tr>\n",
       "    <tr>\n",
       "      <td>77</td>\n",
       "      <td>1.352268</td>\n",
       "      <td>0.647027</td>\n",
       "      <td>0.248137</td>\n",
       "      <td>3.575477</td>\n",
       "      <td>17.622691</td>\n",
       "      <td>0.927027</td>\n",
       "      <td>-0.076734</td>\n",
       "      <td>1.912309</td>\n",
       "      <td>6.699655</td>\n",
       "      <td>0.341024</td>\n",
       "      <td>...</td>\n",
       "      <td>1.960276</td>\n",
       "      <td>0.086274</td>\n",
       "      <td>2.244898</td>\n",
       "      <td>0.445455</td>\n",
       "      <td>04:13:00</td>\n",
       "      <td>147</td>\n",
       "      <td>330</td>\n",
       "      <td>660</td>\n",
       "      <td>4.067215</td>\n",
       "      <td>48.806581</td>\n",
       "    </tr>\n",
       "    <tr>\n",
       "      <td>25</td>\n",
       "      <td>1.368132</td>\n",
       "      <td>0.653497</td>\n",
       "      <td>0.187890</td>\n",
       "      <td>4.688954</td>\n",
       "      <td>33.372716</td>\n",
       "      <td>0.944685</td>\n",
       "      <td>-0.040996</td>\n",
       "      <td>2.195664</td>\n",
       "      <td>9.593400</td>\n",
       "      <td>0.325865</td>\n",
       "      <td>...</td>\n",
       "      <td>1.975995</td>\n",
       "      <td>0.097026</td>\n",
       "      <td>2.115646</td>\n",
       "      <td>0.472669</td>\n",
       "      <td>04:02:00</td>\n",
       "      <td>147</td>\n",
       "      <td>311</td>\n",
       "      <td>622</td>\n",
       "      <td>4.310731</td>\n",
       "      <td>51.728772</td>\n",
       "    </tr>\n",
       "    <tr>\n",
       "      <td>2</td>\n",
       "      <td>1.550542</td>\n",
       "      <td>0.726642</td>\n",
       "      <td>0.298520</td>\n",
       "      <td>3.288977</td>\n",
       "      <td>16.408520</td>\n",
       "      <td>0.898129</td>\n",
       "      <td>-0.094496</td>\n",
       "      <td>1.761483</td>\n",
       "      <td>6.304298</td>\n",
       "      <td>0.602524</td>\n",
       "      <td>...</td>\n",
       "      <td>2.258751</td>\n",
       "      <td>0.093029</td>\n",
       "      <td>2.340136</td>\n",
       "      <td>0.427326</td>\n",
       "      <td>04:02:00</td>\n",
       "      <td>147</td>\n",
       "      <td>344</td>\n",
       "      <td>687</td>\n",
       "      <td>4.571729</td>\n",
       "      <td>54.860744</td>\n",
       "    </tr>\n",
       "    <tr>\n",
       "      <td>17</td>\n",
       "      <td>1.580908</td>\n",
       "      <td>0.738604</td>\n",
       "      <td>0.225200</td>\n",
       "      <td>4.328692</td>\n",
       "      <td>36.899836</td>\n",
       "      <td>0.965580</td>\n",
       "      <td>-0.042843</td>\n",
       "      <td>2.087023</td>\n",
       "      <td>10.232594</td>\n",
       "      <td>0.842907</td>\n",
       "      <td>...</td>\n",
       "      <td>2.256623</td>\n",
       "      <td>0.118503</td>\n",
       "      <td>2.095238</td>\n",
       "      <td>0.477273</td>\n",
       "      <td>04:27:00</td>\n",
       "      <td>147</td>\n",
       "      <td>308</td>\n",
       "      <td>616</td>\n",
       "      <td>5.214122</td>\n",
       "      <td>62.569468</td>\n",
       "    </tr>\n",
       "  </tbody>\n",
       "</table>\n",
       "<p>100 rows × 26 columns</p>\n",
       "</div>"
      ],
      "text/plain": [
       "    Annual return  Cumulative returns  Annual volatility  Sharpe ratio  \\\n",
       "21      -0.317578           -0.199802           0.306537     -1.092987   \n",
       "31      -0.229452           -0.141052           0.303614     -0.706583   \n",
       "58      -0.179835           -0.109209           0.303592     -0.500720   \n",
       "78      -0.170346           -0.103212           0.280697     -0.527344   \n",
       "7       -0.117234           -0.070157           0.207924     -0.496417   \n",
       "..            ...                 ...                ...           ...   \n",
       "69       1.257305            0.602721           0.238530      3.533578   \n",
       "77       1.352268            0.647027           0.248137      3.575477   \n",
       "25       1.368132            0.653497           0.187890      4.688954   \n",
       "2        1.550542            0.726642           0.298520      3.288977   \n",
       "17       1.580908            0.738604           0.225200      4.328692   \n",
       "\n",
       "    Calmar ratio  Stability  Max drawdown  Omega ratio  Sortino ratio  \\\n",
       "21     -1.079470   0.362164     -0.294198     0.827929      -1.481087   \n",
       "31     -0.639649   0.164936     -0.358715     0.877925      -0.975035   \n",
       "58     -0.884026   0.254100     -0.203427     0.915114      -0.684701   \n",
       "78     -0.748138   0.228284     -0.227694     0.912375      -0.813850   \n",
       "7      -0.509715   0.229945     -0.230000     0.914634      -0.718575   \n",
       "..           ...        ...           ...          ...            ...   \n",
       "69     26.612976   0.905981     -0.047244     2.103389       9.249044   \n",
       "77     17.622691   0.927027     -0.076734     1.912309       6.699655   \n",
       "25     33.372716   0.944685     -0.040996     2.195664       9.593400   \n",
       "2      16.408520   0.898129     -0.094496     1.761483       6.304298   \n",
       "17     36.899836   0.965580     -0.042843     2.087023      10.232594   \n",
       "\n",
       "        Skew  ...  Avg gain/loss ratio  Position EV  Positions per day  \\\n",
       "21 -0.031684  ...             1.591834    -0.025292           2.564626   \n",
       "31 -0.190948  ...             1.620932    -0.017876           2.523810   \n",
       "58 -0.519646  ...             1.678399    -0.014358           2.387755   \n",
       "78  1.176899  ...             1.504481    -0.013290           2.421769   \n",
       "7   0.214992  ...             1.522058    -0.009110           2.380952   \n",
       "..       ...  ...                  ...          ...                ...   \n",
       "69  3.009381  ...             1.947496     0.089505           2.191781   \n",
       "77  0.341024  ...             1.960276     0.086274           2.244898   \n",
       "25  0.325865  ...             1.975995     0.097026           2.115646   \n",
       "2   0.602524  ...             2.258751     0.093029           2.340136   \n",
       "17  0.842907  ...             2.256623     0.118503           2.095238   \n",
       "\n",
       "    Days per position  Actual avg. duration  Days  Positions  Trades  \\\n",
       "21           0.389920              03:54:00   147        377     754   \n",
       "31           0.396226              04:00:00   147        371     742   \n",
       "58           0.418803              03:47:00   147        351     702   \n",
       "78           0.412921              03:46:00   147        356     711   \n",
       "7            0.420000              03:40:00   147        350     699   \n",
       "..                ...                   ...   ...        ...     ...   \n",
       "69           0.456250              04:02:00   146        320     640   \n",
       "77           0.445455              04:13:00   147        330     660   \n",
       "25           0.472669              04:02:00   147        311     622   \n",
       "2            0.427326              04:02:00   147        344     687   \n",
       "17           0.477273              04:27:00   147        308     616   \n",
       "\n",
       "    Monthly EV  Annual EV  \n",
       "21   -1.362141 -16.345694  \n",
       "31   -0.947443 -11.369313  \n",
       "58   -0.719964  -8.639572  \n",
       "78   -0.675911  -8.110936  \n",
       "7    -0.455499  -5.465983  \n",
       "..         ...        ...  \n",
       "69    4.119693  49.436320  \n",
       "77    4.067215  48.806581  \n",
       "25    4.310731  51.728772  \n",
       "2     4.571729  54.860744  \n",
       "17    5.214122  62.569468  \n",
       "\n",
       "[100 rows x 26 columns]"
      ]
     },
     "execution_count": 10,
     "metadata": {},
     "output_type": "execute_result"
    }
   ],
   "source": [
    "res.sort_values('Annual return')"
   ]
  },
  {
   "cell_type": "code",
   "execution_count": 11,
   "metadata": {},
   "outputs": [
    {
     "data": {
      "text/plain": [
       "1.9756867672699063"
      ]
     },
     "execution_count": 11,
     "metadata": {},
     "output_type": "execute_result"
    }
   ],
   "source": [
    "res['Sharpe ratio'].median()"
   ]
  },
  {
   "cell_type": "code",
   "execution_count": 12,
   "metadata": {},
   "outputs": [
    {
     "data": {
      "text/plain": [
       "2.0229085340197583"
      ]
     },
     "execution_count": 12,
     "metadata": {},
     "output_type": "execute_result"
    }
   ],
   "source": [
    "res['Sharpe ratio'].mean()"
   ]
  },
  {
   "cell_type": "code",
   "execution_count": 13,
   "metadata": {},
   "outputs": [
    {
     "data": {
      "text/plain": [
       "83"
      ]
     },
     "execution_count": 13,
     "metadata": {},
     "output_type": "execute_result"
    }
   ],
   "source": [
    "res[res['Annual return'] >=.2]['Annual return'].count()"
   ]
  },
  {
   "cell_type": "code",
   "execution_count": 14,
   "metadata": {},
   "outputs": [
    {
     "data": {
      "text/plain": [
       "0.034531661598850835"
      ]
     },
     "execution_count": 14,
     "metadata": {},
     "output_type": "execute_result"
    }
   ],
   "source": [
    "res['Position EV'].median()"
   ]
  },
  {
   "cell_type": "code",
   "execution_count": 15,
   "metadata": {},
   "outputs": [
    {
     "data": {
      "text/plain": [
       "0.037282083700558036"
      ]
     },
     "execution_count": 15,
     "metadata": {},
     "output_type": "execute_result"
    }
   ],
   "source": [
    "res['Position EV'].mean()"
   ]
  },
  {
   "cell_type": "code",
   "execution_count": 16,
   "metadata": {},
   "outputs": [
    {
     "data": {
      "text/plain": [
       "100"
      ]
     },
     "execution_count": 16,
     "metadata": {},
     "output_type": "execute_result"
    }
   ],
   "source": [
    "(res[res['Position EV'] < 2])['Annual return'].count()"
   ]
  },
  {
   "cell_type": "code",
   "execution_count": 17,
   "metadata": {},
   "outputs": [
    {
     "data": {
      "text/plain": [
       "100"
      ]
     },
     "execution_count": 17,
     "metadata": {},
     "output_type": "execute_result"
    }
   ],
   "source": [
    "(res[res['Position EV'] < 5])['Annual return'].count()"
   ]
  },
  {
   "cell_type": "code",
   "execution_count": 18,
   "metadata": {},
   "outputs": [
    {
     "data": {
      "text/plain": [
       "1.6830609426359857"
      ]
     },
     "execution_count": 18,
     "metadata": {},
     "output_type": "execute_result"
    }
   ],
   "source": [
    "res['Monthly EV'].median()"
   ]
  },
  {
   "cell_type": "code",
   "execution_count": 19,
   "metadata": {},
   "outputs": [
    {
     "data": {
      "text/plain": [
       "1.7843978310325987"
      ]
     },
     "execution_count": 19,
     "metadata": {},
     "output_type": "execute_result"
    }
   ],
   "source": [
    "res['Monthly EV'].mean()"
   ]
  },
  {
   "cell_type": "code",
   "execution_count": null,
   "metadata": {},
   "outputs": [],
   "source": []
  }
 ],
 "metadata": {
  "kernelspec": {
   "display_name": "Python 3",
   "language": "python",
   "name": "python3"
  },
  "language_info": {
   "codemirror_mode": {
    "name": "ipython",
    "version": 3
   },
   "file_extension": ".py",
   "mimetype": "text/x-python",
   "name": "python",
   "nbconvert_exporter": "python",
   "pygments_lexer": "ipython3",
   "version": "3.7.3"
  }
 },
 "nbformat": 4,
 "nbformat_minor": 2
}
