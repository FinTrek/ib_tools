{
 "cells": [
  {
   "cell_type": "code",
   "execution_count": 1,
   "metadata": {},
   "outputs": [],
   "source": [
    "import warnings\n",
    "warnings.filterwarnings('ignore')\n",
    "import pandas as pd\n",
    "import numpy as np\n",
    "from grouper import group_by_volume, group_by_time\n",
    "from pyfolio.timeseries import perf_stats\n",
    "from functools import partial\n",
    "from utils import chart_price, plot, v_backtester, c_backtester, perf, perf_var, breakout_strategy, bootstrap, m_proc\n",
    "import sys\n",
    "sys.path.append('/home/tomek/ib_tools')\n",
    "from indicators import get_ATR, get_signals\n",
    "import matplotlib.pyplot as plt\n",
    "from typing import NamedTuple\n",
    "from collections import namedtuple\n",
    "%matplotlib inline"
   ]
  },
  {
   "cell_type": "code",
   "execution_count": 2,
   "metadata": {},
   "outputs": [],
   "source": [
    "from datastore_pytables import Store"
   ]
  },
  {
   "cell_type": "code",
   "execution_count": 3,
   "metadata": {},
   "outputs": [
    {
     "data": {
      "text/plain": [
       "['/cont/min/CL_20191120_NYMEX_USD',\n",
       " '/cont/min/ES_20191220_GLOBEX_USD',\n",
       " '/cont/min/GC_20191227_NYMEX_USD',\n",
       " '/cont/min/GE_20191216_GLOBEX_USD',\n",
       " '/cont/min/NKD_20191212_GLOBEX_USD',\n",
       " '/cont/min/NQ_20191220_GLOBEX_USD',\n",
       " '/cont/min/YM_20191220_ECBOT_USD',\n",
       " '/cont/min/ZB_20191219_ECBOT_USD',\n",
       " '/cont/min/ZF_20191231_ECBOT_USD',\n",
       " '/cont/min/ZN_20191219_ECBOT_USD']"
      ]
     },
     "execution_count": 3,
     "metadata": {},
     "output_type": "execute_result"
    }
   ],
   "source": [
    "store = Store()\n",
    "store.keys()"
   ]
  },
  {
   "cell_type": "code",
   "execution_count": 4,
   "metadata": {},
   "outputs": [],
   "source": [
    "contract = store.read('/cont/min/NQ_20191220_GLOBEX_USD').sort_index()"
   ]
  },
  {
   "cell_type": "code",
   "execution_count": 5,
   "metadata": {
    "scrolled": false
   },
   "outputs": [],
   "source": [
    "table = bootstrap(contract,\n",
    "          start = '20180201', \n",
    "          end = '20181231',\n",
    "          paths=100)"
   ]
  },
  {
   "cell_type": "code",
   "execution_count": 6,
   "metadata": {},
   "outputs": [],
   "source": [
    "func = partial(breakout_strategy, \n",
    "                  time_int = 30,\n",
    "                  periods = [5, 10, 20, 40, 80, 160,],\n",
    "                  ema_fast = 5,\n",
    "                  ema_slow = 120,\n",
    "                  atr_periods = 80,\n",
    "                  sl_atr = 1,\n",
    "                  )"
   ]
  },
  {
   "cell_type": "code",
   "execution_count": 7,
   "metadata": {},
   "outputs": [],
   "source": [
    "results = m_proc(table, func)"
   ]
  },
  {
   "cell_type": "code",
   "execution_count": 8,
   "metadata": {},
   "outputs": [],
   "source": [
    "res = pd.DataFrame([perf(i, output=False).stats for i in results])"
   ]
  },
  {
   "cell_type": "code",
   "execution_count": 9,
   "metadata": {},
   "outputs": [
    {
     "data": {
      "text/plain": [
       "97"
      ]
     },
     "execution_count": 9,
     "metadata": {},
     "output_type": "execute_result"
    }
   ],
   "source": [
    "res[res['Annual return'] > 0]['Annual return'].count()"
   ]
  },
  {
   "cell_type": "code",
   "execution_count": 10,
   "metadata": {},
   "outputs": [
    {
     "data": {
      "text/html": [
       "<div>\n",
       "<style scoped>\n",
       "    .dataframe tbody tr th:only-of-type {\n",
       "        vertical-align: middle;\n",
       "    }\n",
       "\n",
       "    .dataframe tbody tr th {\n",
       "        vertical-align: top;\n",
       "    }\n",
       "\n",
       "    .dataframe thead th {\n",
       "        text-align: right;\n",
       "    }\n",
       "</style>\n",
       "<table border=\"1\" class=\"dataframe\">\n",
       "  <thead>\n",
       "    <tr style=\"text-align: right;\">\n",
       "      <th></th>\n",
       "      <th>Annual return</th>\n",
       "      <th>Cumulative returns</th>\n",
       "      <th>Annual volatility</th>\n",
       "      <th>Sharpe ratio</th>\n",
       "      <th>Calmar ratio</th>\n",
       "      <th>Stability</th>\n",
       "      <th>Max drawdown</th>\n",
       "      <th>Omega ratio</th>\n",
       "      <th>Sortino ratio</th>\n",
       "      <th>Skew</th>\n",
       "      <th>...</th>\n",
       "      <th>Avg gain/loss ratio</th>\n",
       "      <th>Position EV</th>\n",
       "      <th>Positions per day</th>\n",
       "      <th>Days per position</th>\n",
       "      <th>Actual avg. duration</th>\n",
       "      <th>Days</th>\n",
       "      <th>Positions</th>\n",
       "      <th>Trades</th>\n",
       "      <th>Monthly EV</th>\n",
       "      <th>Annual EV</th>\n",
       "    </tr>\n",
       "  </thead>\n",
       "  <tbody>\n",
       "    <tr>\n",
       "      <td>94</td>\n",
       "      <td>-0.040554</td>\n",
       "      <td>-0.025462</td>\n",
       "      <td>0.170675</td>\n",
       "      <td>-0.158092</td>\n",
       "      <td>-0.338367</td>\n",
       "      <td>0.293131</td>\n",
       "      <td>-0.119851</td>\n",
       "      <td>0.967701</td>\n",
       "      <td>-0.243523</td>\n",
       "      <td>0.656012</td>\n",
       "      <td>...</td>\n",
       "      <td>1.745047</td>\n",
       "      <td>-0.452711</td>\n",
       "      <td>2.535032</td>\n",
       "      <td>0.394472</td>\n",
       "      <td>03:55:00</td>\n",
       "      <td>157</td>\n",
       "      <td>398</td>\n",
       "      <td>796</td>\n",
       "      <td>-24.100389</td>\n",
       "      <td>-289.204668</td>\n",
       "    </tr>\n",
       "    <tr>\n",
       "      <td>47</td>\n",
       "      <td>-0.021128</td>\n",
       "      <td>-0.013132</td>\n",
       "      <td>0.128202</td>\n",
       "      <td>-0.102957</td>\n",
       "      <td>-0.169332</td>\n",
       "      <td>0.362588</td>\n",
       "      <td>-0.124773</td>\n",
       "      <td>0.982334</td>\n",
       "      <td>-0.149102</td>\n",
       "      <td>0.279406</td>\n",
       "      <td>...</td>\n",
       "      <td>1.503035</td>\n",
       "      <td>-0.237906</td>\n",
       "      <td>2.416667</td>\n",
       "      <td>0.413793</td>\n",
       "      <td>04:20:00</td>\n",
       "      <td>156</td>\n",
       "      <td>377</td>\n",
       "      <td>754</td>\n",
       "      <td>-12.073746</td>\n",
       "      <td>-144.884950</td>\n",
       "    </tr>\n",
       "    <tr>\n",
       "      <td>1</td>\n",
       "      <td>-0.004132</td>\n",
       "      <td>-0.002609</td>\n",
       "      <td>0.126373</td>\n",
       "      <td>0.030090</td>\n",
       "      <td>-0.031417</td>\n",
       "      <td>0.062424</td>\n",
       "      <td>-0.131527</td>\n",
       "      <td>1.005822</td>\n",
       "      <td>0.043195</td>\n",
       "      <td>-0.161091</td>\n",
       "      <td>...</td>\n",
       "      <td>1.549594</td>\n",
       "      <td>-0.047585</td>\n",
       "      <td>2.459119</td>\n",
       "      <td>0.406650</td>\n",
       "      <td>04:36:00</td>\n",
       "      <td>159</td>\n",
       "      <td>391</td>\n",
       "      <td>782</td>\n",
       "      <td>-2.457341</td>\n",
       "      <td>-29.488097</td>\n",
       "    </tr>\n",
       "    <tr>\n",
       "      <td>69</td>\n",
       "      <td>0.020909</td>\n",
       "      <td>0.012975</td>\n",
       "      <td>0.127123</td>\n",
       "      <td>0.225816</td>\n",
       "      <td>0.286590</td>\n",
       "      <td>0.256651</td>\n",
       "      <td>-0.072956</td>\n",
       "      <td>1.040294</td>\n",
       "      <td>0.344049</td>\n",
       "      <td>0.383446</td>\n",
       "      <td>...</td>\n",
       "      <td>1.594493</td>\n",
       "      <td>0.229692</td>\n",
       "      <td>2.503185</td>\n",
       "      <td>0.399491</td>\n",
       "      <td>04:28:00</td>\n",
       "      <td>157</td>\n",
       "      <td>393</td>\n",
       "      <td>786</td>\n",
       "      <td>12.074200</td>\n",
       "      <td>144.890404</td>\n",
       "    </tr>\n",
       "    <tr>\n",
       "      <td>9</td>\n",
       "      <td>0.025080</td>\n",
       "      <td>0.015652</td>\n",
       "      <td>0.134020</td>\n",
       "      <td>0.251436</td>\n",
       "      <td>0.240007</td>\n",
       "      <td>0.391724</td>\n",
       "      <td>-0.104497</td>\n",
       "      <td>1.046875</td>\n",
       "      <td>0.372176</td>\n",
       "      <td>-0.025527</td>\n",
       "      <td>...</td>\n",
       "      <td>1.434635</td>\n",
       "      <td>0.267798</td>\n",
       "      <td>2.481013</td>\n",
       "      <td>0.403061</td>\n",
       "      <td>04:32:00</td>\n",
       "      <td>158</td>\n",
       "      <td>392</td>\n",
       "      <td>784</td>\n",
       "      <td>13.952624</td>\n",
       "      <td>167.431488</td>\n",
       "    </tr>\n",
       "    <tr>\n",
       "      <td>...</td>\n",
       "      <td>...</td>\n",
       "      <td>...</td>\n",
       "      <td>...</td>\n",
       "      <td>...</td>\n",
       "      <td>...</td>\n",
       "      <td>...</td>\n",
       "      <td>...</td>\n",
       "      <td>...</td>\n",
       "      <td>...</td>\n",
       "      <td>...</td>\n",
       "      <td>...</td>\n",
       "      <td>...</td>\n",
       "      <td>...</td>\n",
       "      <td>...</td>\n",
       "      <td>...</td>\n",
       "      <td>...</td>\n",
       "      <td>...</td>\n",
       "      <td>...</td>\n",
       "      <td>...</td>\n",
       "      <td>...</td>\n",
       "      <td>...</td>\n",
       "    </tr>\n",
       "    <tr>\n",
       "      <td>56</td>\n",
       "      <td>0.854610</td>\n",
       "      <td>0.465754</td>\n",
       "      <td>0.108577</td>\n",
       "      <td>5.749317</td>\n",
       "      <td>45.364290</td>\n",
       "      <td>0.945779</td>\n",
       "      <td>-0.018839</td>\n",
       "      <td>3.115760</td>\n",
       "      <td>15.179950</td>\n",
       "      <td>1.183507</td>\n",
       "      <td>...</td>\n",
       "      <td>1.987881</td>\n",
       "      <td>8.992806</td>\n",
       "      <td>2.185897</td>\n",
       "      <td>0.457478</td>\n",
       "      <td>04:48:00</td>\n",
       "      <td>156</td>\n",
       "      <td>341</td>\n",
       "      <td>682</td>\n",
       "      <td>412.804383</td>\n",
       "      <td>4953.652600</td>\n",
       "    </tr>\n",
       "    <tr>\n",
       "      <td>72</td>\n",
       "      <td>0.870599</td>\n",
       "      <td>0.473564</td>\n",
       "      <td>0.149485</td>\n",
       "      <td>4.267878</td>\n",
       "      <td>37.873393</td>\n",
       "      <td>0.976236</td>\n",
       "      <td>-0.022987</td>\n",
       "      <td>2.482968</td>\n",
       "      <td>12.133772</td>\n",
       "      <td>1.896055</td>\n",
       "      <td>...</td>\n",
       "      <td>2.384266</td>\n",
       "      <td>9.924072</td>\n",
       "      <td>2.211538</td>\n",
       "      <td>0.452174</td>\n",
       "      <td>05:05:00</td>\n",
       "      <td>156</td>\n",
       "      <td>345</td>\n",
       "      <td>690</td>\n",
       "      <td>460.896810</td>\n",
       "      <td>5530.761718</td>\n",
       "    </tr>\n",
       "    <tr>\n",
       "      <td>48</td>\n",
       "      <td>0.882218</td>\n",
       "      <td>0.475516</td>\n",
       "      <td>0.154422</td>\n",
       "      <td>4.176575</td>\n",
       "      <td>21.455688</td>\n",
       "      <td>0.931132</td>\n",
       "      <td>-0.041118</td>\n",
       "      <td>2.350681</td>\n",
       "      <td>9.877614</td>\n",
       "      <td>1.436880</td>\n",
       "      <td>...</td>\n",
       "      <td>2.173217</td>\n",
       "      <td>9.735391</td>\n",
       "      <td>2.277419</td>\n",
       "      <td>0.439093</td>\n",
       "      <td>05:04:00</td>\n",
       "      <td>155</td>\n",
       "      <td>353</td>\n",
       "      <td>706</td>\n",
       "      <td>465.602924</td>\n",
       "      <td>5587.235085</td>\n",
       "    </tr>\n",
       "    <tr>\n",
       "      <td>49</td>\n",
       "      <td>0.918462</td>\n",
       "      <td>0.504552</td>\n",
       "      <td>0.125253</td>\n",
       "      <td>5.269983</td>\n",
       "      <td>44.511025</td>\n",
       "      <td>0.985729</td>\n",
       "      <td>-0.020634</td>\n",
       "      <td>2.931671</td>\n",
       "      <td>14.294649</td>\n",
       "      <td>1.451019</td>\n",
       "      <td>...</td>\n",
       "      <td>2.166863</td>\n",
       "      <td>9.635466</td>\n",
       "      <td>2.272152</td>\n",
       "      <td>0.440111</td>\n",
       "      <td>04:37:00</td>\n",
       "      <td>158</td>\n",
       "      <td>359</td>\n",
       "      <td>717</td>\n",
       "      <td>459.758109</td>\n",
       "      <td>5517.097305</td>\n",
       "    </tr>\n",
       "    <tr>\n",
       "      <td>62</td>\n",
       "      <td>0.991594</td>\n",
       "      <td>0.540260</td>\n",
       "      <td>0.136568</td>\n",
       "      <td>5.118758</td>\n",
       "      <td>38.462941</td>\n",
       "      <td>0.965218</td>\n",
       "      <td>-0.025780</td>\n",
       "      <td>2.550305</td>\n",
       "      <td>11.395267</td>\n",
       "      <td>1.139379</td>\n",
       "      <td>...</td>\n",
       "      <td>2.353832</td>\n",
       "      <td>9.898507</td>\n",
       "      <td>2.341772</td>\n",
       "      <td>0.427027</td>\n",
       "      <td>05:16:00</td>\n",
       "      <td>158</td>\n",
       "      <td>370</td>\n",
       "      <td>740</td>\n",
       "      <td>486.781021</td>\n",
       "      <td>5841.372250</td>\n",
       "    </tr>\n",
       "  </tbody>\n",
       "</table>\n",
       "<p>100 rows × 26 columns</p>\n",
       "</div>"
      ],
      "text/plain": [
       "    Annual return  Cumulative returns  Annual volatility  Sharpe ratio  \\\n",
       "94      -0.040554           -0.025462           0.170675     -0.158092   \n",
       "47      -0.021128           -0.013132           0.128202     -0.102957   \n",
       "1       -0.004132           -0.002609           0.126373      0.030090   \n",
       "69       0.020909            0.012975           0.127123      0.225816   \n",
       "9        0.025080            0.015652           0.134020      0.251436   \n",
       "..            ...                 ...                ...           ...   \n",
       "56       0.854610            0.465754           0.108577      5.749317   \n",
       "72       0.870599            0.473564           0.149485      4.267878   \n",
       "48       0.882218            0.475516           0.154422      4.176575   \n",
       "49       0.918462            0.504552           0.125253      5.269983   \n",
       "62       0.991594            0.540260           0.136568      5.118758   \n",
       "\n",
       "    Calmar ratio  Stability  Max drawdown  Omega ratio  Sortino ratio  \\\n",
       "94     -0.338367   0.293131     -0.119851     0.967701      -0.243523   \n",
       "47     -0.169332   0.362588     -0.124773     0.982334      -0.149102   \n",
       "1      -0.031417   0.062424     -0.131527     1.005822       0.043195   \n",
       "69      0.286590   0.256651     -0.072956     1.040294       0.344049   \n",
       "9       0.240007   0.391724     -0.104497     1.046875       0.372176   \n",
       "..           ...        ...           ...          ...            ...   \n",
       "56     45.364290   0.945779     -0.018839     3.115760      15.179950   \n",
       "72     37.873393   0.976236     -0.022987     2.482968      12.133772   \n",
       "48     21.455688   0.931132     -0.041118     2.350681       9.877614   \n",
       "49     44.511025   0.985729     -0.020634     2.931671      14.294649   \n",
       "62     38.462941   0.965218     -0.025780     2.550305      11.395267   \n",
       "\n",
       "        Skew  ...  Avg gain/loss ratio  Position EV  Positions per day  \\\n",
       "94  0.656012  ...             1.745047    -0.452711           2.535032   \n",
       "47  0.279406  ...             1.503035    -0.237906           2.416667   \n",
       "1  -0.161091  ...             1.549594    -0.047585           2.459119   \n",
       "69  0.383446  ...             1.594493     0.229692           2.503185   \n",
       "9  -0.025527  ...             1.434635     0.267798           2.481013   \n",
       "..       ...  ...                  ...          ...                ...   \n",
       "56  1.183507  ...             1.987881     8.992806           2.185897   \n",
       "72  1.896055  ...             2.384266     9.924072           2.211538   \n",
       "48  1.436880  ...             2.173217     9.735391           2.277419   \n",
       "49  1.451019  ...             2.166863     9.635466           2.272152   \n",
       "62  1.139379  ...             2.353832     9.898507           2.341772   \n",
       "\n",
       "    Days per position  Actual avg. duration  Days  Positions  Trades  \\\n",
       "94           0.394472              03:55:00   157        398     796   \n",
       "47           0.413793              04:20:00   156        377     754   \n",
       "1            0.406650              04:36:00   159        391     782   \n",
       "69           0.399491              04:28:00   157        393     786   \n",
       "9            0.403061              04:32:00   158        392     784   \n",
       "..                ...                   ...   ...        ...     ...   \n",
       "56           0.457478              04:48:00   156        341     682   \n",
       "72           0.452174              05:05:00   156        345     690   \n",
       "48           0.439093              05:04:00   155        353     706   \n",
       "49           0.440111              04:37:00   158        359     717   \n",
       "62           0.427027              05:16:00   158        370     740   \n",
       "\n",
       "    Monthly EV    Annual EV  \n",
       "94  -24.100389  -289.204668  \n",
       "47  -12.073746  -144.884950  \n",
       "1    -2.457341   -29.488097  \n",
       "69   12.074200   144.890404  \n",
       "9    13.952624   167.431488  \n",
       "..         ...          ...  \n",
       "56  412.804383  4953.652600  \n",
       "72  460.896810  5530.761718  \n",
       "48  465.602924  5587.235085  \n",
       "49  459.758109  5517.097305  \n",
       "62  486.781021  5841.372250  \n",
       "\n",
       "[100 rows x 26 columns]"
      ]
     },
     "execution_count": 10,
     "metadata": {},
     "output_type": "execute_result"
    }
   ],
   "source": [
    "res.sort_values('Annual return')"
   ]
  },
  {
   "cell_type": "code",
   "execution_count": 11,
   "metadata": {},
   "outputs": [
    {
     "data": {
      "text/plain": [
       "2.696676253395944"
      ]
     },
     "execution_count": 11,
     "metadata": {},
     "output_type": "execute_result"
    }
   ],
   "source": [
    "res['Sharpe ratio'].median()"
   ]
  },
  {
   "cell_type": "code",
   "execution_count": 12,
   "metadata": {},
   "outputs": [
    {
     "data": {
      "text/plain": [
       "2.6887858538519827"
      ]
     },
     "execution_count": 12,
     "metadata": {},
     "output_type": "execute_result"
    }
   ],
   "source": [
    "res['Sharpe ratio'].mean()"
   ]
  },
  {
   "cell_type": "code",
   "execution_count": 13,
   "metadata": {},
   "outputs": [
    {
     "data": {
      "text/plain": [
       "86"
      ]
     },
     "execution_count": 13,
     "metadata": {},
     "output_type": "execute_result"
    }
   ],
   "source": [
    "res[res['Annual return'] >=.2]['Annual return'].count()"
   ]
  },
  {
   "cell_type": "code",
   "execution_count": 14,
   "metadata": {},
   "outputs": [
    {
     "data": {
      "text/plain": [
       "4.617069261358218"
      ]
     },
     "execution_count": 14,
     "metadata": {},
     "output_type": "execute_result"
    }
   ],
   "source": [
    "res['Position EV'].median()"
   ]
  },
  {
   "cell_type": "code",
   "execution_count": 15,
   "metadata": {},
   "outputs": [
    {
     "data": {
      "text/plain": [
       "13"
      ]
     },
     "execution_count": 15,
     "metadata": {},
     "output_type": "execute_result"
    }
   ],
   "source": [
    "(res[res['Position EV'] < 2])['Annual return'].count()"
   ]
  },
  {
   "cell_type": "code",
   "execution_count": 16,
   "metadata": {},
   "outputs": [
    {
     "data": {
      "text/plain": [
       "3"
      ]
     },
     "execution_count": 16,
     "metadata": {},
     "output_type": "execute_result"
    }
   ],
   "source": [
    "(res[res['Position EV'] < .2])['Annual return'].count()"
   ]
  },
  {
   "cell_type": "code",
   "execution_count": 17,
   "metadata": {},
   "outputs": [
    {
     "data": {
      "text/plain": [
       "236.40886838255508"
      ]
     },
     "execution_count": 17,
     "metadata": {},
     "output_type": "execute_result"
    }
   ],
   "source": [
    "res['Monthly EV'].median()"
   ]
  },
  {
   "cell_type": "code",
   "execution_count": null,
   "metadata": {},
   "outputs": [],
   "source": []
  }
 ],
 "metadata": {
  "kernelspec": {
   "display_name": "Python 3",
   "language": "python",
   "name": "python3"
  },
  "language_info": {
   "codemirror_mode": {
    "name": "ipython",
    "version": 3
   },
   "file_extension": ".py",
   "mimetype": "text/x-python",
   "name": "python",
   "nbconvert_exporter": "python",
   "pygments_lexer": "ipython3",
   "version": "3.7.3"
  }
 },
 "nbformat": 4,
 "nbformat_minor": 2
}
