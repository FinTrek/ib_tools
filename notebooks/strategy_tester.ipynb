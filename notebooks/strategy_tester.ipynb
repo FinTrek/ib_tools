{
 "cells": [
  {
   "cell_type": "code",
   "execution_count": 1,
   "metadata": {},
   "outputs": [
    {
     "name": "stderr",
     "output_type": "stream",
     "text": [
      "/home/tomek/ib_insync/.env/lib/python3.6/site-packages/pyfolio/pos.py:28: UserWarning: Module \"zipline.assets\" not found; mutltipliers will not be applied to position notionals.\n",
      "  ' to position notionals.'\n"
     ]
    }
   ],
   "source": [
    "import pandas as pd\n",
    "import numpy as np\n",
    "from grouper import group_by_volume, group_by_time\n",
    "from pyfolio.timeseries import perf_stats\n",
    "from functools import partial\n",
    "%matplotlib inline"
   ]
  },
  {
   "cell_type": "code",
   "execution_count": 2,
   "metadata": {},
   "outputs": [],
   "source": [
    "contract = pd.read_pickle('minute_NQ_cont_non_active_included.pickle')\n",
    "multiplier = 20"
   ]
  },
  {
   "cell_type": "code",
   "execution_count": 3,
   "metadata": {},
   "outputs": [],
   "source": [
    "periods = [10, 20, 40, 80, 160,] # 320] # number of periods for breakout rule\n",
    "ema_fast = 80 # number of periods for moving average filter\n",
    "sl_atr = 1 # stop loss in ATRs\n",
    "time_int = 30 # interval in minutes to be used to define volume candle"
   ]
  },
  {
   "cell_type": "code",
   "execution_count": 4,
   "metadata": {},
   "outputs": [
    {
     "data": {
      "text/plain": [
       "9039.909273460536"
      ]
     },
     "execution_count": 4,
     "metadata": {},
     "output_type": "execute_result"
    }
   ],
   "source": [
    "avg_vol = contract.loc['20170621':].volume.rolling(time_int).sum().mean()\n",
    "avg_vol"
   ]
  },
  {
   "cell_type": "code",
   "execution_count": 5,
   "metadata": {},
   "outputs": [],
   "source": [
    "#vol_candles = group_by_time(contract, time_int)\n",
    "vol_candles = group_by_volume(contract, avg_vol)\n",
    "data = pd.DataFrame(vol_candles.close)\n",
    "data['ema_fast'] = data.close.ewm(span=ema_fast).mean()"
   ]
  },
  {
   "cell_type": "code",
   "execution_count": 6,
   "metadata": {},
   "outputs": [],
   "source": [
    "def get_ATR(data, periods):\n",
    "    TR = pd.DataFrame({'A': (data['high'] - data['low']),\n",
    "                       'B': (data['high'] - data['close']).abs(),\n",
    "                       'C': (data['low'] - data['close']).abs()\n",
    "                      })\n",
    "    TR['TR'] = TR.max(axis=1)\n",
    "    TR['ATR'] = TR['TR'].rolling(periods).mean()\n",
    "    return TR.ATR"
   ]
  },
  {
   "cell_type": "code",
   "execution_count": 7,
   "metadata": {},
   "outputs": [],
   "source": [
    "def get_min_max(data, period):\n",
    "    return pd.DataFrame({\n",
    "        'max': (data - data.shift(1).rolling(period).max()) > 0,\n",
    "        'min': (data.shift(1).rolling(period).min() - data) > 0\n",
    "    })\n",
    "\n",
    "def majority_function(data):\n",
    "    return (0.5 + ((data.sum(axis=1) - 0.5) / data.count(axis=1))).round(0)\n",
    "\n",
    "def get_min_max_df(data, periods, func=get_min_max):\n",
    "    min_max_func = partial(func, data)\n",
    "    mins = pd.DataFrame()\n",
    "    maxs = pd.DataFrame()\n",
    "    for period in periods:\n",
    "        df = min_max_func(period)\n",
    "        mins[period] = df['min']\n",
    "        maxs[period] = df['max']\n",
    "    return {'min': mins,\n",
    "           'max': maxs}\n",
    "\n",
    "def get_signals(data, periods, func=get_min_max_df):\n",
    "    min_max = func(data, periods)\n",
    "    #return min_max['min']\n",
    "    \n",
    "    return pd.DataFrame({\n",
    "        'signal': majority_function(min_max['max']) - majority_function(min_max['min'])\n",
    "    })\n",
    "  "
   ]
  },
  {
   "cell_type": "code",
   "execution_count": 8,
   "metadata": {},
   "outputs": [],
   "source": [
    "signals = pd.DataFrame({\n",
    "    'close': data.close,\n",
    "    'signal': get_signals(data.close, periods)['signal']\n",
    "})"
   ]
  },
  {
   "cell_type": "code",
   "execution_count": 9,
   "metadata": {},
   "outputs": [],
   "source": [
    "signals['value'] = signals['close'] * signals['signal']\n",
    "signals['value'] = signals.value.map(lambda x: x if x != 0 else np.nan)\n",
    "signals['buy'] = signals['value'].map(lambda x: x if x > 0 else np.nan)\n",
    "signals['sell'] = signals['value'].map(lambda x: -x if x < 0 else np.nan)\n",
    "signals['cum_signal'] = signals.signal.expanding().apply(lambda x: x.sum().clip(min=-1, max=1), raw=False)"
   ]
  },
  {
   "cell_type": "code",
   "execution_count": 10,
   "metadata": {},
   "outputs": [],
   "source": [
    "signals['filter'] = np.sign(data.close - data.ema_fast)\n",
    "signals['atr'] = get_ATR(vol_candles, 80)"
   ]
  },
  {
   "cell_type": "code",
   "execution_count": 11,
   "metadata": {},
   "outputs": [],
   "source": [
    "number_of_trades = 0\n",
    "entry = 0\n",
    "for row in signals.itertuples():\n",
    "    if row.Index == 0:\n",
    "        continue\n",
    "    # if there's no position signal is to be filtered\n",
    "    if signals.loc[row.Index-1, 'cum_signal'] == 0 and row.filter * row.signal != 1:\n",
    "        signals.loc[row.Index, 'cum_signal'] = 0\n",
    "        continue\n",
    "    else:\n",
    "        signals.loc[row.Index, 'cum_signal'] = (signals.loc[row.Index-1, 'cum_signal'] + row.signal).clip(max=1, min=-1)\n",
    "        \n",
    "    # create stop loss\n",
    "    if signals.loc[row.Index, 'cum_signal'] - signals.loc[row.Index-1, 'cum_signal'] != 0:\n",
    "        sl = signals.loc[row.Index, 'close'] - signals.loc[row.Index, 'cum_signal'] * signals.loc[row.Index, 'atr'] * sl_atr\n",
    "        signals.loc[row.Index, 'sl'] = sl\n",
    "    if not signals.loc[row.Index, 'sl']:\n",
    "        signals.loc[row.Index, 'sl'] = signals.loc[row.Index-1, 'sl']\n",
    "        \n",
    "    # apply stop loss\n",
    "    if signals.loc[row.Index, 'cum_signal'] == 1 and signals.loc[row.Index, 'close'] < sl:\n",
    "        signals.loc[row.Index, 'cum_signal'] = 0\n",
    "    elif signals.loc[row.Index, 'cum_signal'] == -1 and signals.loc[row.Index, 'close'] > sl:\n",
    "        signals.loc[row.Index, 'cum_signal'] = 0\n",
    "        \n",
    "    # count trades\n",
    "    if signals.loc[row.Index, 'cum_signal'] != signals.loc[row.Index-1, 'cum_signal']:\n",
    "        number_of_trades += 1"
   ]
  },
  {
   "cell_type": "code",
   "execution_count": 12,
   "metadata": {},
   "outputs": [],
   "source": [
    "signals['value'] = signals['close'] * signals['cum_signal']\n",
    "signals['value'] = signals.value.map(lambda x: x if x != 0 else np.nan)\n",
    "signals['long'] = signals['value'].map(lambda x: x if x > 0 else np.nan)\n",
    "signals['short'] = signals['value'].map(lambda x: -x if x < 0 else np.nan)\n",
    "signals['long_pnl'] = signals.long.diff().fillna(0)\n",
    "signals['short_pnl'] = - signals.short.diff().fillna(0)"
   ]
  },
  {
   "cell_type": "code",
   "execution_count": 13,
   "metadata": {},
   "outputs": [
    {
     "data": {
      "text/plain": [
       "(12892.0, 10045.0, 22937.0)"
      ]
     },
     "execution_count": 13,
     "metadata": {},
     "output_type": "execute_result"
    }
   ],
   "source": [
    "long_pnl = signals.long_pnl.sum()\n",
    "short_pnl = signals.short_pnl.sum()\n",
    "pnl = long_pnl + short_pnl\n",
    "long_pnl, short_pnl, pnl"
   ]
  },
  {
   "cell_type": "code",
   "execution_count": 14,
   "metadata": {},
   "outputs": [
    {
     "data": {
      "text/plain": [
       "(9353, 7415, 0.5577886450381679)"
      ]
     },
     "execution_count": 14,
     "metadata": {},
     "output_type": "execute_result"
    }
   ],
   "source": [
    "signals['pnl'] = signals['long_pnl'] + signals['short_pnl']\n",
    "pnl_p = signals[signals['pnl']>0].pnl\n",
    "pnl_m = signals[signals['pnl']<0].pnl\n",
    "pnl_p.count(), pnl_m.count(), pnl_p.count()/(pnl_p.count()+pnl_m.count())"
   ]
  },
  {
   "cell_type": "code",
   "execution_count": 15,
   "metadata": {},
   "outputs": [
    {
     "data": {
      "text/plain": [
       "(77953.25, -55016.25, 1.416913184740872)"
      ]
     },
     "execution_count": 15,
     "metadata": {},
     "output_type": "execute_result"
    }
   ],
   "source": [
    "pnl_p.sum(), pnl_m.sum(), pnl_p.sum()/ pnl_m.abs().sum()"
   ]
  },
  {
   "cell_type": "code",
   "execution_count": 16,
   "metadata": {},
   "outputs": [],
   "source": [
    "signals['date'] = vol_candles['date']"
   ]
  },
  {
   "cell_type": "code",
   "execution_count": 17,
   "metadata": {},
   "outputs": [],
   "source": [
    "signals.set_index('date', inplace=True)"
   ]
  },
  {
   "cell_type": "code",
   "execution_count": 18,
   "metadata": {},
   "outputs": [
    {
     "data": {
      "text/html": [
       "<div>\n",
       "<style scoped>\n",
       "    .dataframe tbody tr th:only-of-type {\n",
       "        vertical-align: middle;\n",
       "    }\n",
       "\n",
       "    .dataframe tbody tr th {\n",
       "        vertical-align: top;\n",
       "    }\n",
       "\n",
       "    .dataframe thead th {\n",
       "        text-align: right;\n",
       "    }\n",
       "</style>\n",
       "<table border=\"1\" class=\"dataframe\">\n",
       "  <thead>\n",
       "    <tr style=\"text-align: right;\">\n",
       "      <th></th>\n",
       "      <th>close</th>\n",
       "      <th>pnl</th>\n",
       "    </tr>\n",
       "    <tr>\n",
       "      <th>date</th>\n",
       "      <th></th>\n",
       "      <th></th>\n",
       "    </tr>\n",
       "  </thead>\n",
       "  <tbody>\n",
       "    <tr>\n",
       "      <th>2019-08-31</th>\n",
       "      <td>NaN</td>\n",
       "      <td>0.00</td>\n",
       "    </tr>\n",
       "    <tr>\n",
       "      <th>2019-09-01</th>\n",
       "      <td>NaN</td>\n",
       "      <td>0.00</td>\n",
       "    </tr>\n",
       "    <tr>\n",
       "      <th>2019-09-02</th>\n",
       "      <td>7619.25</td>\n",
       "      <td>-23.25</td>\n",
       "    </tr>\n",
       "    <tr>\n",
       "      <th>2019-09-03</th>\n",
       "      <td>7614.50</td>\n",
       "      <td>-33.00</td>\n",
       "    </tr>\n",
       "    <tr>\n",
       "      <th>2019-09-04</th>\n",
       "      <td>7697.25</td>\n",
       "      <td>51.75</td>\n",
       "    </tr>\n",
       "  </tbody>\n",
       "</table>\n",
       "</div>"
      ],
      "text/plain": [
       "              close    pnl\n",
       "date                      \n",
       "2019-08-31      NaN   0.00\n",
       "2019-09-01      NaN   0.00\n",
       "2019-09-02  7619.25 -23.25\n",
       "2019-09-03  7614.50 -33.00\n",
       "2019-09-04  7697.25  51.75"
      ]
     },
     "execution_count": 18,
     "metadata": {},
     "output_type": "execute_result"
    }
   ],
   "source": [
    "daily = pd.DataFrame()\n",
    "daily['close'] = signals['close'].resample('D').last()\n",
    "daily['pnl'] = (signals['long_pnl'] + signals['short_pnl']).resample('D').sum()\n",
    "daily.tail()"
   ]
  },
  {
   "cell_type": "code",
   "execution_count": 19,
   "metadata": {},
   "outputs": [],
   "source": [
    "daily['dollars'] = 0\n",
    "daily.iloc[0,2] = 25000"
   ]
  },
  {
   "cell_type": "code",
   "execution_count": 20,
   "metadata": {},
   "outputs": [
    {
     "data": {
      "image/png": "[encoded data removed]",
      "text/plain": [
       "<Figure size 1440x360 with 1 Axes>"
      ]
     },
     "metadata": {
      "needs_background": "light"
     },
     "output_type": "display_data"
    }
   ],
   "source": [
    "daily['dollars'] = 25000 + daily.pnl.cumsum() * multiplier\n",
    "daily['return'] = daily.dollars.pct_change()\n",
    "daily.dollars.plot(figsize=(20,5), grid=True);"
   ]
  },
  {
   "cell_type": "code",
   "execution_count": 21,
   "metadata": {},
   "outputs": [
    {
     "data": {
      "text/plain": [
       "Annual return           1.445192\n",
       "Cumulative returns     18.349600\n",
       "Annual volatility       0.137137\n",
       "Sharpe ratio            6.605892\n",
       "Calmar ratio           71.674646\n",
       "Stability               0.959108\n",
       "Max drawdown           -0.020163\n",
       "Omega ratio             9.851014\n",
       "Sortino ratio          37.648188\n",
       "Skew                         NaN\n",
       "Kurtosis                     NaN\n",
       "Tail ratio              6.056287\n",
       "Daily value at risk    -0.013683\n",
       "dtype: float64"
      ]
     },
     "execution_count": 21,
     "metadata": {},
     "output_type": "execute_result"
    }
   ],
   "source": [
    "perf_stats(daily['return'])"
   ]
  },
  {
   "cell_type": "code",
   "execution_count": 22,
   "metadata": {},
   "outputs": [
    {
     "data": {
      "text/plain": [
       "2717"
      ]
     },
     "execution_count": 22,
     "metadata": {},
     "output_type": "execute_result"
    }
   ],
   "source": [
    "number_of_trades"
   ]
  },
  {
   "cell_type": "code",
   "execution_count": 23,
   "metadata": {},
   "outputs": [
    {
     "data": {
      "text/plain": [
       "19100.51"
      ]
     },
     "execution_count": 23,
     "metadata": {},
     "output_type": "execute_result"
    }
   ],
   "source": [
    "spread = .25 * multiplier\n",
    "commission = 1.18 + .85 \n",
    "cost_of_trades = number_of_trades * (spread + commission)\n",
    "cost_of_trades"
   ]
  },
  {
   "cell_type": "code",
   "execution_count": 24,
   "metadata": {},
   "outputs": [
    {
     "data": {
      "text/plain": [
       "834"
      ]
     },
     "execution_count": 24,
     "metadata": {},
     "output_type": "execute_result"
    }
   ],
   "source": [
    "days = (daily.index[-1] - daily.index[0]).days #pd.to_datetime('20190613')).days\n",
    "days"
   ]
  },
  {
   "cell_type": "code",
   "execution_count": 25,
   "metadata": {},
   "outputs": [
    {
     "data": {
      "text/plain": [
       "3.2577937649880098"
      ]
     },
     "execution_count": 25,
     "metadata": {},
     "output_type": "execute_result"
    }
   ],
   "source": [
    "trades_per_day = number_of_trades / days\n",
    "trades_per_day"
   ]
  },
  {
   "cell_type": "code",
   "execution_count": 26,
   "metadata": {},
   "outputs": [],
   "source": [
    "pnl_in_dollars = pnl*multiplier"
   ]
  },
  {
   "cell_type": "code",
   "execution_count": 27,
   "metadata": {},
   "outputs": [
    {
     "data": {
      "text/plain": [
       "0.04163689671709465"
      ]
     },
     "execution_count": 27,
     "metadata": {},
     "output_type": "execute_result"
    }
   ],
   "source": [
    "cost_of_trades / (pnl_in_dollars)"
   ]
  },
  {
   "cell_type": "code",
   "execution_count": 28,
   "metadata": {},
   "outputs": [
    {
     "data": {
      "text/plain": [
       "(0.9059140135179587, 0.13713728170712644)"
      ]
     },
     "execution_count": 28,
     "metadata": {},
     "output_type": "execute_result"
    }
   ],
   "source": [
    "mean = daily['return'].mean() * 252\n",
    "std = daily['return'].std() * (252**.5)\n",
    "mean, std"
   ]
  },
  {
   "cell_type": "code",
   "execution_count": 29,
   "metadata": {},
   "outputs": [
    {
     "data": {
      "text/plain": [
       "6.605891572596938"
      ]
     },
     "execution_count": 29,
     "metadata": {},
     "output_type": "execute_result"
    }
   ],
   "source": [
    "mean/std"
   ]
  },
  {
   "cell_type": "code",
   "execution_count": 30,
   "metadata": {},
   "outputs": [],
   "source": [
    "#daily.to_pickle('nq_return.pickle')"
   ]
  },
  {
   "cell_type": "code",
   "execution_count": null,
   "metadata": {},
   "outputs": [],
   "source": []
  }
 ],
 "metadata": {
  "kernelspec": {
   "display_name": "ib_insync",
   "language": "python",
   "name": "ib_insync"
  },
  "language_info": {
   "codemirror_mode": {
    "name": "ipython",
    "version": 3
   },
   "file_extension": ".py",
   "mimetype": "text/x-python",
   "name": "python",
   "nbconvert_exporter": "python",
   "pygments_lexer": "ipython3",
   "version": "3.6.8"
  }
 },
 "nbformat": 4,
 "nbformat_minor": 2
}
