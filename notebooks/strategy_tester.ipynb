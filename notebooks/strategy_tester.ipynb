{
 "cells": [
  {
   "cell_type": "code",
   "execution_count": 1,
   "metadata": {},
   "outputs": [
    {
     "name": "stderr",
     "output_type": "stream",
     "text": [
      "/home/tomek/.virtualenvs/ib/lib/python3.7/site-packages/pyfolio/pos.py:27: UserWarning: Module \"zipline.assets\" not found; mutltipliers will not be applied to position notionals.\n",
      "  'Module \"zipline.assets\" not found; mutltipliers will not be applied' +\n"
     ]
    }
   ],
   "source": [
    "import pandas as pd\n",
    "import numpy as np\n",
    "from grouper import group_by_volume, group_by_time\n",
    "from pyfolio.timeseries import perf_stats\n",
    "from functools import partial\n",
    "%matplotlib inline"
   ]
  },
  {
   "cell_type": "code",
   "execution_count": 2,
   "metadata": {},
   "outputs": [],
   "source": [
    "contract = pd.read_pickle('data/minute_ES_cont_non_active_included.pickle')\n",
    "multiplier = 50\n",
    "min_tick = 0.25"
   ]
  },
  {
   "cell_type": "code",
   "execution_count": 3,
   "metadata": {},
   "outputs": [],
   "source": [
    "#periods = [5, 10, 20]#, 40, 80] #, 160, 320] # 320] # number of periods for breakout rule\n",
    "periods = [10]\n",
    "ema_fast = 120 # number of periods for moving average filter\n",
    "sl_atr = 1 # stop loss in ATRs\n",
    "atr_periods = 80 # number of periods to calculate ATR on\n",
    "time_int = 60 # interval in minutes to be used to define volume candle"
   ]
  },
  {
   "cell_type": "code",
   "execution_count": 4,
   "metadata": {},
   "outputs": [
    {
     "data": {
      "text/plain": [
       "63604.29326641914"
      ]
     },
     "execution_count": 4,
     "metadata": {},
     "output_type": "execute_result"
    }
   ],
   "source": [
    "avg_vol = contract.loc['20190621':].volume.rolling(time_int).sum().mean()\n",
    "avg_vol"
   ]
  },
  {
   "cell_type": "code",
   "execution_count": 5,
   "metadata": {},
   "outputs": [],
   "source": [
    "#vol_candles = group_by_time(contract, time_int)\n",
    "vol_candles = group_by_volume(contract, avg_vol)\n",
    "data = pd.DataFrame(vol_candles.close)\n",
    "data['ema_fast'] = data.close.ewm(span=ema_fast).mean()"
   ]
  },
  {
   "cell_type": "code",
   "execution_count": 6,
   "metadata": {},
   "outputs": [],
   "source": [
    "def get_ATR(data, periods):\n",
    "    TR = pd.DataFrame({'A': (data['high'] - data['low']),\n",
    "                       'B': (data['high'] - data['close']).abs(),\n",
    "                       'C': (data['low'] - data['close']).abs()\n",
    "                      })\n",
    "    TR['TR'] = TR.max(axis=1)\n",
    "    TR['ATR'] = TR['TR'].rolling(periods).mean()\n",
    "    return TR.ATR"
   ]
  },
  {
   "cell_type": "code",
   "execution_count": 7,
   "metadata": {},
   "outputs": [],
   "source": [
    "def get_min_max(data, period):\n",
    "    return pd.DataFrame({\n",
    "        'max': (data - data.shift(1).rolling(period).max()) > 0,\n",
    "        'min': (data.shift(1).rolling(period).min() - data) > 0\n",
    "    })\n",
    "\n",
    "def majority_function(data):\n",
    "    return (0.5 + ((data.sum(axis=1) - 0.5) / data.count(axis=1))).apply(np.floor)\n",
    "\n",
    "def get_min_max_df(data, periods, func=get_min_max):\n",
    "    min_max_func = partial(func, data)\n",
    "    mins = pd.DataFrame()\n",
    "    maxs = pd.DataFrame()\n",
    "    for period in periods:\n",
    "        df = min_max_func(period)\n",
    "        mins[period] = df['min']\n",
    "        maxs[period] = df['max']\n",
    "    return {'min': mins,\n",
    "           'max': maxs}\n",
    "\n",
    "def get_signals(data, periods, func=get_min_max_df):\n",
    "    min_max = func(data, periods)\n",
    "    #return min_max['min']\n",
    "    \n",
    "    return pd.DataFrame({\n",
    "        'signal': majority_function(min_max['max']) - majority_function(min_max['min'])\n",
    "    })\n",
    "  "
   ]
  },
  {
   "cell_type": "code",
   "execution_count": 8,
   "metadata": {},
   "outputs": [],
   "source": [
    "signals = pd.DataFrame({\n",
    "    'close': data.close,\n",
    "    'signal': get_signals(data.close, periods)['signal']\n",
    "})"
   ]
  },
  {
   "cell_type": "code",
   "execution_count": 9,
   "metadata": {},
   "outputs": [],
   "source": [
    "signals['value'] = signals['close'] * signals['signal']\n",
    "signals['value'] = signals.value.map(lambda x: x if x != 0 else np.nan)\n",
    "signals['buy'] = signals['value'].map(lambda x: x if x > 0 else np.nan)\n",
    "signals['sell'] = signals['value'].map(lambda x: -x if x < 0 else np.nan)\n",
    "signals['cum_signal'] = signals.signal.expanding().apply(lambda x: x.sum().clip(min=-1, max=1), raw=False)"
   ]
  },
  {
   "cell_type": "code",
   "execution_count": 10,
   "metadata": {},
   "outputs": [],
   "source": [
    "signals['filter'] = np.sign(data.close - data.ema_fast)\n",
    "signals['atr'] = get_ATR(vol_candles, atr_periods)"
   ]
  },
  {
   "cell_type": "code",
   "execution_count": 11,
   "metadata": {},
   "outputs": [],
   "source": [
    "number_of_trades = 0\n",
    "entry = 0\n",
    "for row in signals.itertuples():\n",
    "    if row.Index == 0:\n",
    "        continue\n",
    "    # if there's no position signal is to be filtered\n",
    "    if signals.loc[row.Index-1, 'cum_signal'] == 0 and row.filter * row.signal != 1:\n",
    "        signals.loc[row.Index, 'cum_signal'] = 0\n",
    "        continue\n",
    "    else:\n",
    "        signals.loc[row.Index, 'cum_signal'] = (signals.loc[row.Index-1, 'cum_signal'] + row.signal).clip(max=1, min=-1)\n",
    "        \n",
    "    # create stop loss\n",
    "    if signals.loc[row.Index, 'cum_signal'] - signals.loc[row.Index-1, 'cum_signal'] != 0:\n",
    "        sl = signals.loc[row.Index, 'close'] - signals.loc[row.Index, 'cum_signal'] * signals.loc[row.Index, 'atr'] * sl_atr\n",
    "        signals.loc[row.Index, 'sl'] = sl\n",
    "    if not signals.loc[row.Index, 'sl']:\n",
    "        signals.loc[row.Index, 'sl'] = signals.loc[row.Index-1, 'sl']\n",
    "        \n",
    "    # apply stop loss\n",
    "    if signals.loc[row.Index, 'cum_signal'] == 1 and signals.loc[row.Index, 'close'] < sl:\n",
    "        signals.loc[row.Index, 'cum_signal'] = 0\n",
    "    elif signals.loc[row.Index, 'cum_signal'] == -1 and signals.loc[row.Index, 'close'] > sl:\n",
    "        signals.loc[row.Index, 'cum_signal'] = 0\n",
    "        \n",
    "    # count trades\n",
    "    if signals.loc[row.Index, 'cum_signal'] != signals.loc[row.Index-1, 'cum_signal']:\n",
    "        number_of_trades += 1"
   ]
  },
  {
   "cell_type": "code",
   "execution_count": 12,
   "metadata": {},
   "outputs": [],
   "source": [
    "signals['value'] = signals['close'] * signals['cum_signal']\n",
    "signals['value'] = signals.value.map(lambda x: x if x != 0 else np.nan)\n",
    "signals['long'] = signals['value'].map(lambda x: x if x > 0 else np.nan)\n",
    "signals['short'] = signals['value'].map(lambda x: -x if x < 0 else np.nan)\n",
    "signals['long_pnl'] = signals.long.diff().fillna(0)\n",
    "signals['short_pnl'] = - signals.short.diff().fillna(0)"
   ]
  },
  {
   "cell_type": "code",
   "execution_count": 13,
   "metadata": {},
   "outputs": [
    {
     "data": {
      "text/plain": [
       "(2541.75, 2004.5, 4546.25)"
      ]
     },
     "execution_count": 13,
     "metadata": {},
     "output_type": "execute_result"
    }
   ],
   "source": [
    "long_pnl = signals.long_pnl.sum()\n",
    "short_pnl = signals.short_pnl.sum()\n",
    "pnl = long_pnl + short_pnl\n",
    "long_pnl, short_pnl, pnl"
   ]
  },
  {
   "cell_type": "code",
   "execution_count": 14,
   "metadata": {},
   "outputs": [
    {
     "data": {
      "text/plain": [
       "(4186, 3192, 0.5673624288425048)"
      ]
     },
     "execution_count": 14,
     "metadata": {},
     "output_type": "execute_result"
    }
   ],
   "source": [
    "signals['pnl'] = signals['long_pnl'] + signals['short_pnl']\n",
    "pnl_p = signals[signals['pnl']>0].pnl\n",
    "pnl_m = signals[signals['pnl']<0].pnl\n",
    "pnl_p.count(), pnl_m.count(), pnl_p.count()/(pnl_p.count()+pnl_m.count())"
   ]
  },
  {
   "cell_type": "code",
   "execution_count": 15,
   "metadata": {},
   "outputs": [
    {
     "data": {
      "text/plain": [
       "(14823.5, -10277.25, 1.4423605536500523)"
      ]
     },
     "execution_count": 15,
     "metadata": {},
     "output_type": "execute_result"
    }
   ],
   "source": [
    "pnl_p.sum(), pnl_m.sum(), pnl_p.sum()/ pnl_m.abs().sum()"
   ]
  },
  {
   "cell_type": "code",
   "execution_count": 16,
   "metadata": {},
   "outputs": [
    {
     "data": {
      "text/plain": [
       "label\n",
       "3226   -50.00\n",
       "8671   -24.25\n",
       "8641   -24.00\n",
       "3228   -21.75\n",
       "8629   -21.25\n",
       "3202   -21.00\n",
       "3223   -18.75\n",
       "3201   -18.00\n",
       "8693   -17.75\n",
       "8600   -17.75\n",
       "3204   -17.75\n",
       "7787   -17.50\n",
       "8444   -17.50\n",
       "3332   -17.50\n",
       "8802   -17.00\n",
       "4121   -16.50\n",
       "8643   -16.50\n",
       "8363   -16.00\n",
       "3287   -16.00\n",
       "8503   -15.50\n",
       "Name: pnl, dtype: float64"
      ]
     },
     "execution_count": 16,
     "metadata": {},
     "output_type": "execute_result"
    }
   ],
   "source": [
    "pnl_m.sort_values().head(20)"
   ]
  },
  {
   "cell_type": "code",
   "execution_count": 17,
   "metadata": {},
   "outputs": [
    {
     "data": {
      "text/plain": [
       "label\n",
       "3222     44.00\n",
       "8138     36.50\n",
       "12452    29.50\n",
       "3225     24.00\n",
       "7607     23.75\n",
       "8697     23.50\n",
       "8506     23.50\n",
       "5679     23.00\n",
       "3221     22.50\n",
       "3199     22.00\n",
       "11512    21.25\n",
       "12075    20.50\n",
       "12623    19.75\n",
       "8425     19.50\n",
       "7005     19.00\n",
       "12198    19.00\n",
       "11098    18.25\n",
       "3208     18.25\n",
       "11884    18.25\n",
       "8704     18.00\n",
       "Name: pnl, dtype: float64"
      ]
     },
     "execution_count": 17,
     "metadata": {},
     "output_type": "execute_result"
    }
   ],
   "source": [
    "pnl_p.sort_values(ascending=False).head(20)"
   ]
  },
  {
   "cell_type": "code",
   "execution_count": 18,
   "metadata": {},
   "outputs": [],
   "source": [
    "signals['date'] = vol_candles['date']"
   ]
  },
  {
   "cell_type": "code",
   "execution_count": 19,
   "metadata": {},
   "outputs": [],
   "source": [
    "signals.set_index('date', inplace=True)"
   ]
  },
  {
   "cell_type": "code",
   "execution_count": 20,
   "metadata": {},
   "outputs": [
    {
     "data": {
      "text/html": [
       "<div>\n",
       "<style scoped>\n",
       "    .dataframe tbody tr th:only-of-type {\n",
       "        vertical-align: middle;\n",
       "    }\n",
       "\n",
       "    .dataframe tbody tr th {\n",
       "        vertical-align: top;\n",
       "    }\n",
       "\n",
       "    .dataframe thead th {\n",
       "        text-align: right;\n",
       "    }\n",
       "</style>\n",
       "<table border=\"1\" class=\"dataframe\">\n",
       "  <thead>\n",
       "    <tr style=\"text-align: right;\">\n",
       "      <th></th>\n",
       "      <th>close</th>\n",
       "      <th>pnl</th>\n",
       "    </tr>\n",
       "    <tr>\n",
       "      <th>date</th>\n",
       "      <th></th>\n",
       "      <th></th>\n",
       "    </tr>\n",
       "  </thead>\n",
       "  <tbody>\n",
       "    <tr>\n",
       "      <td>2019-09-01</td>\n",
       "      <td>NaN</td>\n",
       "      <td>0.00</td>\n",
       "    </tr>\n",
       "    <tr>\n",
       "      <td>2019-09-02</td>\n",
       "      <td>2897.75</td>\n",
       "      <td>0.00</td>\n",
       "    </tr>\n",
       "    <tr>\n",
       "      <td>2019-09-03</td>\n",
       "      <td>2907.00</td>\n",
       "      <td>-13.75</td>\n",
       "    </tr>\n",
       "    <tr>\n",
       "      <td>2019-09-04</td>\n",
       "      <td>2937.75</td>\n",
       "      <td>30.75</td>\n",
       "    </tr>\n",
       "    <tr>\n",
       "      <td>2019-09-05</td>\n",
       "      <td>2958.00</td>\n",
       "      <td>20.25</td>\n",
       "    </tr>\n",
       "  </tbody>\n",
       "</table>\n",
       "</div>"
      ],
      "text/plain": [
       "              close    pnl\n",
       "date                      \n",
       "2019-09-01      NaN   0.00\n",
       "2019-09-02  2897.75   0.00\n",
       "2019-09-03  2907.00 -13.75\n",
       "2019-09-04  2937.75  30.75\n",
       "2019-09-05  2958.00  20.25"
      ]
     },
     "execution_count": 20,
     "metadata": {},
     "output_type": "execute_result"
    }
   ],
   "source": [
    "daily = pd.DataFrame()\n",
    "daily['close'] = signals['close'].resample('D').last()\n",
    "daily['pnl'] = (signals['long_pnl'] + signals['short_pnl']).resample('D').sum()\n",
    "daily.tail()"
   ]
  },
  {
   "cell_type": "code",
   "execution_count": 21,
   "metadata": {},
   "outputs": [
    {
     "data": {
      "text/html": [
       "<div>\n",
       "<style scoped>\n",
       "    .dataframe tbody tr th:only-of-type {\n",
       "        vertical-align: middle;\n",
       "    }\n",
       "\n",
       "    .dataframe tbody tr th {\n",
       "        vertical-align: top;\n",
       "    }\n",
       "\n",
       "    .dataframe thead th {\n",
       "        text-align: right;\n",
       "    }\n",
       "</style>\n",
       "<table border=\"1\" class=\"dataframe\">\n",
       "  <thead>\n",
       "    <tr style=\"text-align: right;\">\n",
       "      <th></th>\n",
       "      <th>close</th>\n",
       "      <th>pnl</th>\n",
       "    </tr>\n",
       "    <tr>\n",
       "      <th>date</th>\n",
       "      <th></th>\n",
       "      <th></th>\n",
       "    </tr>\n",
       "  </thead>\n",
       "  <tbody>\n",
       "    <tr>\n",
       "      <td>2017-05-17</td>\n",
       "      <td>2375.5</td>\n",
       "      <td>0.0</td>\n",
       "    </tr>\n",
       "    <tr>\n",
       "      <td>2017-05-18</td>\n",
       "      <td>NaN</td>\n",
       "      <td>0.0</td>\n",
       "    </tr>\n",
       "    <tr>\n",
       "      <td>2017-05-19</td>\n",
       "      <td>NaN</td>\n",
       "      <td>0.0</td>\n",
       "    </tr>\n",
       "    <tr>\n",
       "      <td>2017-05-20</td>\n",
       "      <td>NaN</td>\n",
       "      <td>0.0</td>\n",
       "    </tr>\n",
       "    <tr>\n",
       "      <td>2017-05-21</td>\n",
       "      <td>NaN</td>\n",
       "      <td>0.0</td>\n",
       "    </tr>\n",
       "  </tbody>\n",
       "</table>\n",
       "</div>"
      ],
      "text/plain": [
       "             close  pnl\n",
       "date                   \n",
       "2017-05-17  2375.5  0.0\n",
       "2017-05-18     NaN  0.0\n",
       "2017-05-19     NaN  0.0\n",
       "2017-05-20     NaN  0.0\n",
       "2017-05-21     NaN  0.0"
      ]
     },
     "execution_count": 21,
     "metadata": {},
     "output_type": "execute_result"
    }
   ],
   "source": [
    "daily.head()"
   ]
  },
  {
   "cell_type": "code",
   "execution_count": 22,
   "metadata": {},
   "outputs": [],
   "source": [
    "daily['dollars'] = 0\n",
    "daily.iloc[0,2] = 15000"
   ]
  },
  {
   "cell_type": "code",
   "execution_count": 23,
   "metadata": {},
   "outputs": [
    {
     "data": {
      "image/png": "[encoded data removed]",
      "text/plain": [
       "<Figure size 1440x360 with 1 Axes>"
      ]
     },
     "metadata": {
      "needs_background": "light"
     },
     "output_type": "display_data"
    }
   ],
   "source": [
    "daily['dollars'] = 15000 + daily.pnl.cumsum() * multiplier\n",
    "daily['return'] = daily.dollars.pct_change()\n",
    "daily.dollars.plot(figsize=(20,5), grid=True);"
   ]
  },
  {
   "cell_type": "code",
   "execution_count": 24,
   "metadata": {},
   "outputs": [],
   "source": [
    "daily['absolute'] = daily['pnl'] * multiplier/10000"
   ]
  },
  {
   "cell_type": "code",
   "execution_count": 25,
   "metadata": {},
   "outputs": [
    {
     "data": {
      "text/plain": [
       "Annual return          6.522935e+02\n",
       "Cumulative returns     9.103199e+08\n",
       "Annual volatility      1.114786e+00\n",
       "Sharpe ratio           6.378865e+00\n",
       "Calmar ratio           4.702062e+03\n",
       "Stability              9.890276e-01\n",
       "Max drawdown          -1.387250e-01\n",
       "Omega ratio            5.911829e+00\n",
       "Sortino ratio          2.903859e+01\n",
       "Skew                   2.675499e+00\n",
       "Kurtosis               1.147489e+01\n",
       "Tail ratio             4.323102e+00\n",
       "Daily value at risk   -1.122313e-01\n",
       "dtype: float64"
      ]
     },
     "execution_count": 25,
     "metadata": {},
     "output_type": "execute_result"
    }
   ],
   "source": [
    "perf_stats(daily['absolute'].iloc[40:])"
   ]
  },
  {
   "cell_type": "code",
   "execution_count": 26,
   "metadata": {},
   "outputs": [
    {
     "data": {
      "text/plain": [
       "Annual return           1.348840\n",
       "Cumulative returns     14.144531\n",
       "Annual volatility       0.156449\n",
       "Sharpe ratio            5.543074\n",
       "Calmar ratio           40.650338\n",
       "Stability               0.922912\n",
       "Max drawdown           -0.033182\n",
       "Omega ratio             6.256787\n",
       "Sortino ratio          29.138766\n",
       "Skew                    4.554915\n",
       "Kurtosis               35.716023\n",
       "Tail ratio              5.676574\n",
       "Daily value at risk    -0.016269\n",
       "dtype: float64"
      ]
     },
     "execution_count": 26,
     "metadata": {},
     "output_type": "execute_result"
    }
   ],
   "source": [
    "perf_stats(daily['return'].iloc[40:])"
   ]
  },
  {
   "cell_type": "code",
   "execution_count": 27,
   "metadata": {},
   "outputs": [
    {
     "data": {
      "text/plain": [
       "1205"
      ]
     },
     "execution_count": 27,
     "metadata": {},
     "output_type": "execute_result"
    }
   ],
   "source": [
    "number_of_trades"
   ]
  },
  {
   "cell_type": "code",
   "execution_count": 28,
   "metadata": {},
   "outputs": [
    {
     "data": {
      "text/plain": [
       "17508.649999999998"
      ]
     },
     "execution_count": 28,
     "metadata": {},
     "output_type": "execute_result"
    }
   ],
   "source": [
    "spread = min_tick * multiplier\n",
    "commission = 1.18 + .85 \n",
    "cost_of_trades = number_of_trades * (spread + commission)\n",
    "cost_of_trades"
   ]
  },
  {
   "cell_type": "code",
   "execution_count": 29,
   "metadata": {},
   "outputs": [
    {
     "data": {
      "text/plain": [
       "841"
      ]
     },
     "execution_count": 29,
     "metadata": {},
     "output_type": "execute_result"
    }
   ],
   "source": [
    "days = (daily.index[-1] - daily.index[0]).days #pd.to_datetime('20190613')).days\n",
    "days"
   ]
  },
  {
   "cell_type": "code",
   "execution_count": 30,
   "metadata": {},
   "outputs": [
    {
     "data": {
      "text/plain": [
       "1.4328180737217597"
      ]
     },
     "execution_count": 30,
     "metadata": {},
     "output_type": "execute_result"
    }
   ],
   "source": [
    "trades_per_day = number_of_trades / days\n",
    "trades_per_day"
   ]
  },
  {
   "cell_type": "code",
   "execution_count": 31,
   "metadata": {},
   "outputs": [],
   "source": [
    "pnl_in_dollars = pnl*multiplier"
   ]
  },
  {
   "cell_type": "code",
   "execution_count": 32,
   "metadata": {},
   "outputs": [
    {
     "data": {
      "text/plain": [
       "0.07702458069837777"
      ]
     },
     "execution_count": 32,
     "metadata": {},
     "output_type": "execute_result"
    }
   ],
   "source": [
    "cost_of_trades / (pnl_in_dollars)"
   ]
  },
  {
   "cell_type": "code",
   "execution_count": 33,
   "metadata": {},
   "outputs": [
    {
     "data": {
      "text/plain": [
       "(0.847418639875824, 0.1599041856840068)"
      ]
     },
     "execution_count": 33,
     "metadata": {},
     "output_type": "execute_result"
    }
   ],
   "source": [
    "mean = daily['return'].mean() * 252\n",
    "std = daily['return'].std() * (252**.5)\n",
    "mean, std"
   ]
  },
  {
   "cell_type": "code",
   "execution_count": 34,
   "metadata": {},
   "outputs": [
    {
     "data": {
      "text/plain": [
       "5.2995400730187425"
      ]
     },
     "execution_count": 34,
     "metadata": {},
     "output_type": "execute_result"
    }
   ],
   "source": [
    "mean/std"
   ]
  },
  {
   "cell_type": "code",
   "execution_count": 35,
   "metadata": {},
   "outputs": [],
   "source": [
    "#daily.to_pickle('nq_return.pickle')"
   ]
  },
  {
   "cell_type": "code",
   "execution_count": null,
   "metadata": {},
   "outputs": [],
   "source": []
  }
 ],
 "metadata": {
  "kernelspec": {
   "display_name": "Python 3",
   "language": "python",
   "name": "python3"
  },
  "language_info": {
   "codemirror_mode": {
    "name": "ipython",
    "version": 3
   },
   "file_extension": ".py",
   "mimetype": "text/x-python",
   "name": "python",
   "nbconvert_exporter": "python",
   "pygments_lexer": "ipython3",
   "version": "3.7.3"
  }
 },
 "nbformat": 4,
 "nbformat_minor": 2
}
